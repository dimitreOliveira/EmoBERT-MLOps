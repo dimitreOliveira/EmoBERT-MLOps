{
  "cells": [
    {
      "cell_type": "code",
      "execution_count": 1,
      "metadata": {
        "colab": {
          "base_uri": "https://localhost:8080/"
        },
        "id": "N9h3CWfzsEFs",
        "outputId": "8948b0c0-bf8b-4ca9-aebe-c1bea91fffd4"
      },
      "outputs": [
        {
          "output_type": "stream",
          "name": "stdout",
          "text": [
            "Sun May 29 23:24:58 2022       \n",
            "+-----------------------------------------------------------------------------+\n",
            "| NVIDIA-SMI 460.32.03    Driver Version: 460.32.03    CUDA Version: 11.2     |\n",
            "|-------------------------------+----------------------+----------------------+\n",
            "| GPU  Name        Persistence-M| Bus-Id        Disp.A | Volatile Uncorr. ECC |\n",
            "| Fan  Temp  Perf  Pwr:Usage/Cap|         Memory-Usage | GPU-Util  Compute M. |\n",
            "|                               |                      |               MIG M. |\n",
            "|===============================+======================+======================|\n",
            "|   0  Tesla P100-PCIE...  Off  | 00000000:00:04.0 Off |                    0 |\n",
            "| N/A   36C    P0    26W / 250W |      0MiB / 16280MiB |      0%      Default |\n",
            "|                               |                      |                  N/A |\n",
            "+-------------------------------+----------------------+----------------------+\n",
            "                                                                               \n",
            "+-----------------------------------------------------------------------------+\n",
            "| Processes:                                                                  |\n",
            "|  GPU   GI   CI        PID   Type   Process name                  GPU Memory |\n",
            "|        ID   ID                                                   Usage      |\n",
            "|=============================================================================|\n",
            "|  No running processes found                                                 |\n",
            "+-----------------------------------------------------------------------------+\n"
          ]
        }
      ],
      "source": [
        "# Device specifications\n",
        "!nvidia-smi"
      ]
    },
    {
      "cell_type": "code",
      "source": [
        "!pip -q install transformers"
      ],
      "metadata": {
        "colab": {
          "base_uri": "https://localhost:8080/"
        },
        "id": "SIQglAqTEv8n",
        "outputId": "869e2325-0b17-4c88-fb80-96e84d7c3df3"
      },
      "execution_count": 2,
      "outputs": [
        {
          "output_type": "stream",
          "name": "stdout",
          "text": [
            "\u001b[K     |████████████████████████████████| 4.2 MB 4.1 MB/s \n",
            "\u001b[K     |████████████████████████████████| 596 kB 62.9 MB/s \n",
            "\u001b[K     |████████████████████████████████| 6.6 MB 72.7 MB/s \n",
            "\u001b[K     |████████████████████████████████| 86 kB 6.2 MB/s \n",
            "\u001b[?25h"
          ]
        }
      ]
    },
    {
      "cell_type": "code",
      "execution_count": 3,
      "metadata": {
        "id": "JeNvr6Aid3sO",
        "colab": {
          "base_uri": "https://localhost:8080/"
        },
        "outputId": "62ebf982-130c-4f0d-b7c1-562966980a0b"
      },
      "outputs": [
        {
          "output_type": "stream",
          "name": "stdout",
          "text": [
            "\u001b[K     |████████████████████████████████| 95 kB 2.9 MB/s \n",
            "\u001b[K     |████████████████████████████████| 103 kB 4.3 MB/s \n",
            "\u001b[K     |████████████████████████████████| 22.3 MB 1.6 MB/s \n",
            "\u001b[K     |████████████████████████████████| 5.6 MB 52.1 MB/s \n",
            "\u001b[K     |████████████████████████████████| 14.8 MB 58.2 MB/s \n",
            "\u001b[31mERROR: pip's dependency resolver does not currently take into account all the packages that are installed. This behaviour is the source of the following dependency conflicts.\n",
            "tensorflow 2.8.0+zzzcolab20220506162203 requires tf-estimator-nightly==2.8.0.dev2021122109, which is not installed.\n",
            "yellowbrick 1.4 requires scikit-learn>=1.0.0, but you have scikit-learn 0.24.2 which is incompatible.\n",
            "xarray-einstats 0.2.2 requires numpy>=1.21, but you have numpy 1.19.5 which is incompatible.\n",
            "tensorflow 2.8.0+zzzcolab20220506162203 requires numpy>=1.20, but you have numpy 1.19.5 which is incompatible.\n",
            "tensorflow 2.8.0+zzzcolab20220506162203 requires tensorboard<2.9,>=2.8, but you have tensorboard 2.6.0 which is incompatible.\n",
            "datascience 0.10.6 requires folium==0.2.1, but you have folium 0.8.3 which is incompatible.\n",
            "albumentations 0.1.12 requires imgaug<0.2.7,>=0.2.5, but you have imgaug 0.2.9 which is incompatible.\u001b[0m\n",
            "\u001b[?25h"
          ]
        }
      ],
      "source": [
        "!pip install -qq transformers\n",
        "!pip install -qq cleanlab\n",
        "!pip install -qq snorkel"
      ]
    },
    {
      "cell_type": "code",
      "execution_count": 4,
      "metadata": {
        "colab": {
          "base_uri": "https://localhost:8080/"
        },
        "id": "IHjUBht9gDNQ",
        "outputId": "292f8544-4def-4109-ada5-6cdf40d940b7"
      },
      "outputs": [
        {
          "output_type": "stream",
          "name": "stdout",
          "text": [
            "tf version: 2.8.0\n",
            "keras version: 2.8.0\n",
            "transformers version: 4.19.2\n",
            "cleanlab version: 2.0.0\n",
            "snorkel version: 0.9.8\n"
          ]
        }
      ],
      "source": [
        "import tensorflow, keras, transformers, cleanlab, snorkel\n",
        "print(f\"tf version: {tensorflow.__version__}\")\n",
        "print(f\"keras version: {keras.__version__}\")\n",
        "print(f\"transformers version: {transformers.__version__}\")\n",
        "print(f\"cleanlab version: {cleanlab.__version__}\")\n",
        "print(f\"snorkel version: {snorkel.__version__}\")"
      ]
    },
    {
      "cell_type": "markdown",
      "metadata": {
        "id": "Cg9-aczoVP8B"
      },
      "source": [
        "# Dependencies"
      ]
    },
    {
      "cell_type": "code",
      "execution_count": 6,
      "metadata": {
        "id": "rarBiaXaUzgH"
      },
      "outputs": [],
      "source": [
        "import glob\n",
        "import warnings\n",
        "import pandas as pd\n",
        "import seaborn as sns\n",
        "import matplotlib.pyplot as plt\n",
        "from wordcloud import WordCloud, STOPWORDS\n",
        "\n",
        "warnings.filterwarnings(\"ignore\")"
      ]
    },
    {
      "cell_type": "markdown",
      "metadata": {
        "id": "EVziw4t6Yy2K"
      },
      "source": [
        "# Download data"
      ]
    },
    {
      "cell_type": "code",
      "execution_count": 7,
      "metadata": {
        "colab": {
          "base_uri": "https://localhost:8080/"
        },
        "id": "umFhjy06Y0nb",
        "outputId": "4a38d75d-e9d0-44bb-98e8-3b2d198a4e0a"
      },
      "outputs": [
        {
          "output_type": "stream",
          "name": "stdout",
          "text": [
            "--2022-05-29 23:26:21--  https://storage.googleapis.com/gresearch/goemotions/data/full_dataset/goemotions_1.csv\n",
            "Resolving storage.googleapis.com (storage.googleapis.com)... 74.125.204.128, 64.233.187.128, 64.233.188.128, ...\n",
            "Connecting to storage.googleapis.com (storage.googleapis.com)|74.125.204.128|:443... connected.\n",
            "HTTP request sent, awaiting response... 200 OK\n",
            "Length: 14174600 (14M) [application/octet-stream]\n",
            "Saving to: ‘data/goemotions_1.csv’\n",
            "\n",
            "goemotions_1.csv    100%[===================>]  13.52M  28.2MB/s    in 0.5s    \n",
            "\n",
            "2022-05-29 23:26:23 (28.2 MB/s) - ‘data/goemotions_1.csv’ saved [14174600/14174600]\n",
            "\n"
          ]
        }
      ],
      "source": [
        "# I will use only one third of the dataset to make the experimentation faster\n",
        "!wget -P data/ https://storage.googleapis.com/gresearch/goemotions/data/full_dataset/goemotions_1.csv\n",
        "# !wget -P data/ https://storage.googleapis.com/gresearch/goemotions/data/full_dataset/goemotions_2.csv\n",
        "# !wget -P data/ https://storage.googleapis.com/gresearch/goemotions/data/full_dataset/goemotions_3.csv"
      ]
    },
    {
      "cell_type": "markdown",
      "metadata": {
        "id": "lmxNtDoWVUH2"
      },
      "source": [
        "# Load data"
      ]
    },
    {
      "cell_type": "code",
      "execution_count": 8,
      "metadata": {
        "colab": {
          "base_uri": "https://localhost:8080/",
          "height": 716
        },
        "id": "f91UvBmoVWN3",
        "outputId": "9c4ffe05-ea22-49ad-c775-35cb11ef7f1f"
      },
      "outputs": [
        {
          "output_type": "stream",
          "name": "stdout",
          "text": [
            "Number of samples: 70000\n",
            "Number of labels: 28\n"
          ]
        },
        {
          "output_type": "display_data",
          "data": {
            "text/plain": [
              "                                                text  admiration  amusement  \\\n",
              "0             I hate those days man... So triggering           0          0   \n",
              "1  \"Until I lost my penis in a tragic balloon kno...           0          0   \n",
              "2                                   All good brother           0          0   \n",
              "3   3 Hours of [NAME] pissing on the floor in public           0          0   \n",
              "4  I like it...but I still wish it was another ne...           0          0   \n",
              "\n",
              "   anger  annoyance  approval  caring  confusion  curiosity  desire  ...  \\\n",
              "0      0          0         0       0          0          0       0  ...   \n",
              "1      0          0         0       0          0          0       0  ...   \n",
              "2      0          0         0       0          0          0       0  ...   \n",
              "3      0          0         0       0          0          0       0  ...   \n",
              "4      0          0         0       0          0          0       0  ...   \n",
              "\n",
              "   love  nervousness  optimism  pride  realization  relief  remorse  sadness  \\\n",
              "0     0            0         0      0            0       0        0        0   \n",
              "1     0            0         0      0            0       0        0        0   \n",
              "2     0            0         0      0            0       0        0        0   \n",
              "3     0            0         0      0            0       0        0        0   \n",
              "4     0            0         0      0            0       0        0        0   \n",
              "\n",
              "   surprise  neutral  \n",
              "0         0        0  \n",
              "1         0        1  \n",
              "2         0        0  \n",
              "3         0        1  \n",
              "4         0        1  \n",
              "\n",
              "[5 rows x 29 columns]"
            ],
            "text/html": [
              "\n",
              "  <div id=\"df-30689b27-76fa-4acb-91b1-27246489dd1b\">\n",
              "    <div class=\"colab-df-container\">\n",
              "      <div>\n",
              "<style scoped>\n",
              "    .dataframe tbody tr th:only-of-type {\n",
              "        vertical-align: middle;\n",
              "    }\n",
              "\n",
              "    .dataframe tbody tr th {\n",
              "        vertical-align: top;\n",
              "    }\n",
              "\n",
              "    .dataframe thead th {\n",
              "        text-align: right;\n",
              "    }\n",
              "</style>\n",
              "<table border=\"1\" class=\"dataframe\">\n",
              "  <thead>\n",
              "    <tr style=\"text-align: right;\">\n",
              "      <th></th>\n",
              "      <th>text</th>\n",
              "      <th>admiration</th>\n",
              "      <th>amusement</th>\n",
              "      <th>anger</th>\n",
              "      <th>annoyance</th>\n",
              "      <th>approval</th>\n",
              "      <th>caring</th>\n",
              "      <th>confusion</th>\n",
              "      <th>curiosity</th>\n",
              "      <th>desire</th>\n",
              "      <th>...</th>\n",
              "      <th>love</th>\n",
              "      <th>nervousness</th>\n",
              "      <th>optimism</th>\n",
              "      <th>pride</th>\n",
              "      <th>realization</th>\n",
              "      <th>relief</th>\n",
              "      <th>remorse</th>\n",
              "      <th>sadness</th>\n",
              "      <th>surprise</th>\n",
              "      <th>neutral</th>\n",
              "    </tr>\n",
              "  </thead>\n",
              "  <tbody>\n",
              "    <tr>\n",
              "      <th>0</th>\n",
              "      <td>I hate those days man... So triggering</td>\n",
              "      <td>0</td>\n",
              "      <td>0</td>\n",
              "      <td>0</td>\n",
              "      <td>0</td>\n",
              "      <td>0</td>\n",
              "      <td>0</td>\n",
              "      <td>0</td>\n",
              "      <td>0</td>\n",
              "      <td>0</td>\n",
              "      <td>...</td>\n",
              "      <td>0</td>\n",
              "      <td>0</td>\n",
              "      <td>0</td>\n",
              "      <td>0</td>\n",
              "      <td>0</td>\n",
              "      <td>0</td>\n",
              "      <td>0</td>\n",
              "      <td>0</td>\n",
              "      <td>0</td>\n",
              "      <td>0</td>\n",
              "    </tr>\n",
              "    <tr>\n",
              "      <th>1</th>\n",
              "      <td>\"Until I lost my penis in a tragic balloon kno...</td>\n",
              "      <td>0</td>\n",
              "      <td>0</td>\n",
              "      <td>0</td>\n",
              "      <td>0</td>\n",
              "      <td>0</td>\n",
              "      <td>0</td>\n",
              "      <td>0</td>\n",
              "      <td>0</td>\n",
              "      <td>0</td>\n",
              "      <td>...</td>\n",
              "      <td>0</td>\n",
              "      <td>0</td>\n",
              "      <td>0</td>\n",
              "      <td>0</td>\n",
              "      <td>0</td>\n",
              "      <td>0</td>\n",
              "      <td>0</td>\n",
              "      <td>0</td>\n",
              "      <td>0</td>\n",
              "      <td>1</td>\n",
              "    </tr>\n",
              "    <tr>\n",
              "      <th>2</th>\n",
              "      <td>All good brother</td>\n",
              "      <td>0</td>\n",
              "      <td>0</td>\n",
              "      <td>0</td>\n",
              "      <td>0</td>\n",
              "      <td>0</td>\n",
              "      <td>0</td>\n",
              "      <td>0</td>\n",
              "      <td>0</td>\n",
              "      <td>0</td>\n",
              "      <td>...</td>\n",
              "      <td>0</td>\n",
              "      <td>0</td>\n",
              "      <td>0</td>\n",
              "      <td>0</td>\n",
              "      <td>0</td>\n",
              "      <td>0</td>\n",
              "      <td>0</td>\n",
              "      <td>0</td>\n",
              "      <td>0</td>\n",
              "      <td>0</td>\n",
              "    </tr>\n",
              "    <tr>\n",
              "      <th>3</th>\n",
              "      <td>3 Hours of [NAME] pissing on the floor in public</td>\n",
              "      <td>0</td>\n",
              "      <td>0</td>\n",
              "      <td>0</td>\n",
              "      <td>0</td>\n",
              "      <td>0</td>\n",
              "      <td>0</td>\n",
              "      <td>0</td>\n",
              "      <td>0</td>\n",
              "      <td>0</td>\n",
              "      <td>...</td>\n",
              "      <td>0</td>\n",
              "      <td>0</td>\n",
              "      <td>0</td>\n",
              "      <td>0</td>\n",
              "      <td>0</td>\n",
              "      <td>0</td>\n",
              "      <td>0</td>\n",
              "      <td>0</td>\n",
              "      <td>0</td>\n",
              "      <td>1</td>\n",
              "    </tr>\n",
              "    <tr>\n",
              "      <th>4</th>\n",
              "      <td>I like it...but I still wish it was another ne...</td>\n",
              "      <td>0</td>\n",
              "      <td>0</td>\n",
              "      <td>0</td>\n",
              "      <td>0</td>\n",
              "      <td>0</td>\n",
              "      <td>0</td>\n",
              "      <td>0</td>\n",
              "      <td>0</td>\n",
              "      <td>0</td>\n",
              "      <td>...</td>\n",
              "      <td>0</td>\n",
              "      <td>0</td>\n",
              "      <td>0</td>\n",
              "      <td>0</td>\n",
              "      <td>0</td>\n",
              "      <td>0</td>\n",
              "      <td>0</td>\n",
              "      <td>0</td>\n",
              "      <td>0</td>\n",
              "      <td>1</td>\n",
              "    </tr>\n",
              "  </tbody>\n",
              "</table>\n",
              "<p>5 rows × 29 columns</p>\n",
              "</div>\n",
              "      <button class=\"colab-df-convert\" onclick=\"convertToInteractive('df-30689b27-76fa-4acb-91b1-27246489dd1b')\"\n",
              "              title=\"Convert this dataframe to an interactive table.\"\n",
              "              style=\"display:none;\">\n",
              "        \n",
              "  <svg xmlns=\"http://www.w3.org/2000/svg\" height=\"24px\"viewBox=\"0 0 24 24\"\n",
              "       width=\"24px\">\n",
              "    <path d=\"M0 0h24v24H0V0z\" fill=\"none\"/>\n",
              "    <path d=\"M18.56 5.44l.94 2.06.94-2.06 2.06-.94-2.06-.94-.94-2.06-.94 2.06-2.06.94zm-11 1L8.5 8.5l.94-2.06 2.06-.94-2.06-.94L8.5 2.5l-.94 2.06-2.06.94zm10 10l.94 2.06.94-2.06 2.06-.94-2.06-.94-.94-2.06-.94 2.06-2.06.94z\"/><path d=\"M17.41 7.96l-1.37-1.37c-.4-.4-.92-.59-1.43-.59-.52 0-1.04.2-1.43.59L10.3 9.45l-7.72 7.72c-.78.78-.78 2.05 0 2.83L4 21.41c.39.39.9.59 1.41.59.51 0 1.02-.2 1.41-.59l7.78-7.78 2.81-2.81c.8-.78.8-2.07 0-2.86zM5.41 20L4 18.59l7.72-7.72 1.47 1.35L5.41 20z\"/>\n",
              "  </svg>\n",
              "      </button>\n",
              "      \n",
              "  <style>\n",
              "    .colab-df-container {\n",
              "      display:flex;\n",
              "      flex-wrap:wrap;\n",
              "      gap: 12px;\n",
              "    }\n",
              "\n",
              "    .colab-df-convert {\n",
              "      background-color: #E8F0FE;\n",
              "      border: none;\n",
              "      border-radius: 50%;\n",
              "      cursor: pointer;\n",
              "      display: none;\n",
              "      fill: #1967D2;\n",
              "      height: 32px;\n",
              "      padding: 0 0 0 0;\n",
              "      width: 32px;\n",
              "    }\n",
              "\n",
              "    .colab-df-convert:hover {\n",
              "      background-color: #E2EBFA;\n",
              "      box-shadow: 0px 1px 2px rgba(60, 64, 67, 0.3), 0px 1px 3px 1px rgba(60, 64, 67, 0.15);\n",
              "      fill: #174EA6;\n",
              "    }\n",
              "\n",
              "    [theme=dark] .colab-df-convert {\n",
              "      background-color: #3B4455;\n",
              "      fill: #D2E3FC;\n",
              "    }\n",
              "\n",
              "    [theme=dark] .colab-df-convert:hover {\n",
              "      background-color: #434B5C;\n",
              "      box-shadow: 0px 1px 3px 1px rgba(0, 0, 0, 0.15);\n",
              "      filter: drop-shadow(0px 1px 2px rgba(0, 0, 0, 0.3));\n",
              "      fill: #FFFFFF;\n",
              "    }\n",
              "  </style>\n",
              "\n",
              "      <script>\n",
              "        const buttonEl =\n",
              "          document.querySelector('#df-30689b27-76fa-4acb-91b1-27246489dd1b button.colab-df-convert');\n",
              "        buttonEl.style.display =\n",
              "          google.colab.kernel.accessAllowed ? 'block' : 'none';\n",
              "\n",
              "        async function convertToInteractive(key) {\n",
              "          const element = document.querySelector('#df-30689b27-76fa-4acb-91b1-27246489dd1b');\n",
              "          const dataTable =\n",
              "            await google.colab.kernel.invokeFunction('convertToInteractive',\n",
              "                                                     [key], {});\n",
              "          if (!dataTable) return;\n",
              "\n",
              "          const docLinkHtml = 'Like what you see? Visit the ' +\n",
              "            '<a target=\"_blank\" href=https://colab.research.google.com/notebooks/data_table.ipynb>data table notebook</a>'\n",
              "            + ' to learn more about interactive tables.';\n",
              "          element.innerHTML = '';\n",
              "          dataTable['output_type'] = 'display_data';\n",
              "          await google.colab.output.renderOutput(dataTable, element);\n",
              "          const docLink = document.createElement('div');\n",
              "          docLink.innerHTML = docLinkHtml;\n",
              "          element.appendChild(docLink);\n",
              "        }\n",
              "      </script>\n",
              "    </div>\n",
              "  </div>\n",
              "  "
            ]
          },
          "metadata": {}
        }
      ],
      "source": [
        "labels = ['admiration', 'amusement', 'anger', 'annoyance', 'approval', \n",
        "          'caring', 'confusion', 'curiosity', 'desire', 'disappointment', \n",
        "          'disapproval', 'disgust', 'embarrassment', 'excitement', 'fear', \n",
        "          'gratitude', 'grief', 'joy', 'love', 'nervousness', 'optimism', \n",
        "          'pride', 'realization', 'relief', 'remorse', 'sadness', 'surprise', \n",
        "          'neutral']\n",
        "labels_dict = {label:idx for idx, label in enumerate(labels)}\n",
        "\n",
        "path_list = glob.glob(\"data/goemotions_*.csv\", recursive=True)\n",
        "dfs = [pd.read_csv(path, usecols=(['text'] + labels)) for path in path_list]\n",
        "dataset = pd.concat(dfs)\n",
        "# Shuffle\n",
        "dataset = dataset.sample(frac=1).reset_index(drop=True)\n",
        "\n",
        "print(f\"Number of samples: {len(dataset)}\")\n",
        "print(f\"Number of labels: {len(labels)}\")\n",
        "display(dataset.head())"
      ]
    },
    {
      "cell_type": "markdown",
      "metadata": {
        "id": "ZlfZ71vyMkQK"
      },
      "source": [
        "# Preprocessing\n",
        "\n",
        "For now, the only preprocessing that we are going to do is lower casing all text and drop samples without text.\n",
        "\n",
        "We can apply our preprocessing steps to our text feature in the dataframe by wrapping all these processes under a function."
      ]
    },
    {
      "cell_type": "code",
      "execution_count": 9,
      "metadata": {
        "colab": {
          "base_uri": "https://localhost:8080/"
        },
        "id": "fOAkvndiz-3T",
        "outputId": "f22ebced-3c40-4098-966a-c92e0aa6aa7c"
      },
      "outputs": [
        {
          "output_type": "stream",
          "name": "stdout",
          "text": [
            "Number of samples: 70000\n"
          ]
        }
      ],
      "source": [
        "dataset.dropna(subset=[\"text\"], axis=0, inplace=True)\n",
        "print(f\"Number of samples: {len(dataset)}\")"
      ]
    },
    {
      "cell_type": "code",
      "execution_count": 10,
      "metadata": {
        "id": "6CEPLurdM-9V"
      },
      "outputs": [],
      "source": [
        "# Define preprocessing function\n",
        "def preprocess(text, lower=True):\n",
        "    if lower:\n",
        "        text = text.lower()\n",
        "    return text"
      ]
    },
    {
      "cell_type": "code",
      "execution_count": 11,
      "metadata": {
        "id": "xb70p7egMtIv"
      },
      "outputs": [],
      "source": [
        "# Apply to dataframe\n",
        "dataset.text = dataset.text.apply(preprocess, lower=True)"
      ]
    },
    {
      "cell_type": "markdown",
      "metadata": {
        "id": "3CdObwD7a4Hh"
      },
      "source": [
        "# Exploratory Data Analysis (EDA)"
      ]
    },
    {
      "cell_type": "markdown",
      "metadata": {
        "id": "asfromrVa7Ap"
      },
      "source": [
        "## Positive labels per text sample\n",
        "\n",
        "**Question:** How many positive labels do each sample have on average? This might give an idea if samples have too many signals or not (many labels for each sample)."
      ]
    },
    {
      "cell_type": "code",
      "execution_count": 12,
      "metadata": {
        "colab": {
          "base_uri": "https://localhost:8080/",
          "height": 380
        },
        "id": "fdYL7PLCehY4",
        "outputId": "caf8ff13-f4a3-4ce5-f8cb-c4eb6c6b30bc"
      },
      "outputs": [
        {
          "output_type": "display_data",
          "data": {
            "text/plain": [
              "<Figure size 1152x432 with 1 Axes>"
            ],
            "image/png": "[encoded data removed]"
          },
          "metadata": {
            "needs_background": "light"
          }
        }
      ],
      "source": [
        "dataset['n_labels'] = dataset[labels].sum(axis=1)\n",
        "\n",
        "plt.figure(figsize=(16, 6))\n",
        "sns.countplot(x=\"n_labels\", data=dataset)\n",
        "plt.show()"
      ]
    },
    {
      "cell_type": "markdown",
      "metadata": {
        "id": "dRuBKnYoa_D0"
      },
      "source": [
        "## Label distribution\n",
        "\n",
        "**Question:** How many samples do we have for each label? Which ones are more popular, and which ones might have too few samples?"
      ]
    },
    {
      "cell_type": "code",
      "execution_count": 13,
      "metadata": {
        "colab": {
          "base_uri": "https://localhost:8080/",
          "height": 665
        },
        "id": "iyqssJ2UehEb",
        "outputId": "dd58e201-1632-45bd-e68a-fb3b5437a481"
      },
      "outputs": [
        {
          "output_type": "display_data",
          "data": {
            "text/plain": [
              "<Figure size 1152x864 with 1 Axes>"
            ],
            "image/png": "[encoded data removed]"
          },
          "metadata": {
            "needs_background": "light"
          }
        }
      ],
      "source": [
        "label_count = dataset[labels].agg({x:'sum' for x in labels}).reset_index()\n",
        "label_count.columns = ['Label', 'Count']\n",
        "\n",
        "plt.figure(figsize=(16, 12))\n",
        "sns.barplot(x=\"Count\", y=\"Label\", data=label_count, palette=\"Blues_d\")\n",
        "plt.show()"
      ]
    },
    {
      "cell_type": "markdown",
      "metadata": {
        "id": "fI68kuCS3A6X"
      },
      "source": [
        "## Text length\n",
        "\n",
        "**Question:** How is distributed the size of our text samples? This could give us some insights if some samples might need to be truncated or if some of them are too small to have enough context."
      ]
    },
    {
      "cell_type": "code",
      "execution_count": 14,
      "metadata": {
        "colab": {
          "base_uri": "https://localhost:8080/",
          "height": 398
        },
        "id": "ds76BQIN3JpF",
        "outputId": "b5878d2c-7424-44b1-a995-9e6fe3a06485"
      },
      "outputs": [
        {
          "output_type": "display_data",
          "data": {
            "text/plain": [
              "<Figure size 1152x432 with 1 Axes>"
            ],
            "image/png": "[encoded data removed]"
          },
          "metadata": {
            "needs_background": "light"
          }
        }
      ],
      "source": [
        "dataset[\"text_len\"] = dataset[\"text\"].apply(lambda x : len(x))\n",
        "\n",
        "plt.figure(figsize=(16, 6))\n",
        "sns.histplot(dataset['text_len']).set_title('Text length')\n",
        "plt.show()"
      ]
    },
    {
      "cell_type": "markdown",
      "metadata": {
        "id": "RX4YQE5f3FZM"
      },
      "source": [
        "## Wordcloud\n",
        "\n",
        "**Question:**  Is there enough signal in the text that is related to the label?"
      ]
    },
    {
      "cell_type": "markdown",
      "metadata": {
        "id": "uTXz5XhhhOwR"
      },
      "source": [
        "### Wordcloud for \"gratitude\""
      ]
    },
    {
      "cell_type": "code",
      "execution_count": 15,
      "metadata": {
        "colab": {
          "base_uri": "https://localhost:8080/",
          "height": 303
        },
        "id": "rBvTFsdR3KOp",
        "outputId": "d0820bc7-748d-4aa4-816b-91724ed5b378"
      },
      "outputs": [
        {
          "output_type": "display_data",
          "data": {
            "text/plain": [
              "<Figure size 1080x360 with 1 Axes>"
            ],
            "image/png": "[encoded data removed]"
          },
          "metadata": {
            "needs_background": "light"
          }
        }
      ],
      "source": [
        "def display_word_cloud(df, label):\n",
        "    plt.figure(figsize=(15, 5))\n",
        "    subset = df[df[label] == 1]\n",
        "    text = subset.text.values\n",
        "    cloud = WordCloud(stopwords=STOPWORDS, background_color=\"black\", \n",
        "                      collocations=False, width=500, \n",
        "                      height=300).generate(\" \".join(text))\n",
        "    plt.axis(\"off\")\n",
        "    plt.imshow(cloud)\n",
        "\n",
        "display_word_cloud(dataset, label=\"gratitude\")"
      ]
    },
    {
      "cell_type": "markdown",
      "metadata": {
        "id": "p2CQ6qo7_fxs"
      },
      "source": [
        "### Wordcloud for \"sadness\""
      ]
    },
    {
      "cell_type": "code",
      "execution_count": 16,
      "metadata": {
        "colab": {
          "base_uri": "https://localhost:8080/",
          "height": 303
        },
        "id": "hYcSUgIG7xr5",
        "outputId": "7f69845b-b65d-4017-d7af-c6ad25b92188"
      },
      "outputs": [
        {
          "output_type": "display_data",
          "data": {
            "text/plain": [
              "<Figure size 1080x360 with 1 Axes>"
            ],
            "image/png": "[encoded data removed]"
          },
          "metadata": {
            "needs_background": "light"
          }
        }
      ],
      "source": [
        "display_word_cloud(dataset, label=\"sadness\")"
      ]
    },
    {
      "cell_type": "markdown",
      "metadata": {
        "id": "2nKlYZJL6qdt"
      },
      "source": [
        "# Splitting a Dataset for Multilabel Classification\n",
        "\n",
        "\n",
        "- Train (70%): 147857\n",
        "- Validation (15%): 31684\n",
        "- Test (15%): 31684"
      ]
    },
    {
      "cell_type": "code",
      "execution_count": 17,
      "metadata": {
        "id": "LdVT12czI2dK"
      },
      "outputs": [],
      "source": [
        "from sklearn.model_selection import train_test_split\n",
        "seed = 42"
      ]
    },
    {
      "cell_type": "code",
      "execution_count": 18,
      "metadata": {
        "id": "zsFzZ-uT6rdK"
      },
      "outputs": [],
      "source": [
        "X_train, X_test, y_train, y_test = train_test_split(dataset.text, dataset[labels], test_size=0.3, random_state=seed)\n",
        "X_test, X_valid, y_test, y_valid = train_test_split(X_test, y_test, test_size=0.5, random_state=seed)"
      ]
    },
    {
      "cell_type": "code",
      "execution_count": 19,
      "metadata": {
        "colab": {
          "base_uri": "https://localhost:8080/"
        },
        "id": "EdkFpZPoJrSp",
        "outputId": "76da63b7-c627-4f59-8542-fe62670d10bc"
      },
      "outputs": [
        {
          "output_type": "stream",
          "name": "stdout",
          "text": [
            "Train samples: 49000\n",
            "Validation samples: 10500\n",
            "Test samples: 10500\n"
          ]
        }
      ],
      "source": [
        "train_df = y_train.copy()\n",
        "train_df[\"text\"] = X_train\n",
        "print(f\"Train samples: {len(train_df)}\")\n",
        "\n",
        "valid_df = y_valid.copy()\n",
        "valid_df[\"text\"] = X_valid\n",
        "print(f\"Validation samples: {len(valid_df)}\")\n",
        "\n",
        "test_df = y_test.copy()\n",
        "test_df[\"text\"] = X_test\n",
        "print(f\"Test samples: {len(test_df)}\")"
      ]
    },
    {
      "cell_type": "code",
      "execution_count": 20,
      "metadata": {
        "id": "RIJOxdKrJrPL"
      },
      "outputs": [],
      "source": [
        "# Save dataset\n",
        "train_df.to_csv(\"data/train.csv\", index=False)\n",
        "test_df.to_csv(\"data/valid.csv\", index=False)\n",
        "train_df.to_csv(\"data/test.csv\", index=False)"
      ]
    },
    {
      "cell_type": "markdown",
      "metadata": {
        "id": "yv8TltVw61_x"
      },
      "source": [
        "## Data distribution"
      ]
    },
    {
      "cell_type": "markdown",
      "metadata": {
        "id": "U_vKoQGX64gu"
      },
      "source": [
        "### Complete dataset"
      ]
    },
    {
      "cell_type": "code",
      "execution_count": 21,
      "metadata": {
        "colab": {
          "base_uri": "https://localhost:8080/",
          "height": 737
        },
        "id": "TI93lFEm66nW",
        "outputId": "d96adb7d-7df3-4b10-b86c-d9d12e16d549"
      },
      "outputs": [
        {
          "output_type": "stream",
          "name": "stdout",
          "text": [
            "Number of samples: 70000\n"
          ]
        },
        {
          "output_type": "display_data",
          "data": {
            "text/plain": [
              "<Figure size 1152x288 with 1 Axes>"
            ],
            "image/png": "[encoded data removed]"
          },
          "metadata": {
            "needs_background": "light"
          }
        },
        {
          "output_type": "display_data",
          "data": {
            "text/plain": [
              "<Figure size 1152x576 with 1 Axes>"
            ],
            "image/png": "[encoded data removed]"
          },
          "metadata": {
            "needs_background": "light"
          }
        }
      ],
      "source": [
        "print(f\"Number of samples: {len(dataset)}\")\n",
        "\n",
        "dataset['n_labels'] = dataset[labels].sum(axis=1)\n",
        "plt.figure(figsize=(16, 4))\n",
        "sns.countplot(x=\"n_labels\", data=dataset)\n",
        "plt.show()\n",
        "\n",
        "label_count = dataset[labels].agg({x:'sum' for x in labels}).reset_index()\n",
        "label_count.columns = ['Label', 'Count']\n",
        "plt.figure(figsize=(16, 8))\n",
        "sns.barplot(x=\"Count\", y=\"Label\", data=label_count, palette=\"Blues_d\")\n",
        "plt.show()"
      ]
    },
    {
      "cell_type": "markdown",
      "metadata": {
        "id": "wjHsQ68X68XD"
      },
      "source": [
        "### Train dataset"
      ]
    },
    {
      "cell_type": "code",
      "execution_count": 22,
      "metadata": {
        "colab": {
          "base_uri": "https://localhost:8080/",
          "height": 737
        },
        "id": "XMQ_RcIm7A_O",
        "outputId": "27cb227f-74b4-4d83-da07-98af590c44e8"
      },
      "outputs": [
        {
          "output_type": "stream",
          "name": "stdout",
          "text": [
            "Number of samples: 49000\n"
          ]
        },
        {
          "output_type": "display_data",
          "data": {
            "text/plain": [
              "<Figure size 1152x288 with 1 Axes>"
            ],
            "image/png": "[encoded data removed]"
          },
          "metadata": {
            "needs_background": "light"
          }
        },
        {
          "output_type": "display_data",
          "data": {
            "text/plain": [
              "<Figure size 1152x576 with 1 Axes>"
            ],
            "image/png": "[encoded data removed]"
          },
          "metadata": {
            "needs_background": "light"
          }
        }
      ],
      "source": [
        "print(f\"Number of samples: {len(train_df)}\")\n",
        "\n",
        "train_df['n_labels'] = train_df[labels].sum(axis=1)\n",
        "plt.figure(figsize=(16, 4))\n",
        "sns.countplot(x=\"n_labels\", data=train_df)\n",
        "plt.show()\n",
        "\n",
        "train_label_count = train_df[labels].agg({x:'sum' for x in labels}).reset_index()\n",
        "train_label_count.columns = ['Label', 'Count']\n",
        "plt.figure(figsize=(16, 8))\n",
        "sns.barplot(x=\"Count\", y=\"Label\", data=train_label_count, palette=\"Blues_d\")\n",
        "plt.show()"
      ]
    },
    {
      "cell_type": "markdown",
      "metadata": {
        "id": "G8InoS7E7DBc"
      },
      "source": [
        "### Validation dataset"
      ]
    },
    {
      "cell_type": "code",
      "execution_count": 23,
      "metadata": {
        "colab": {
          "base_uri": "https://localhost:8080/",
          "height": 739
        },
        "id": "XSJffNqE7EjM",
        "outputId": "275724d4-1195-46fe-b725-ceb8a491cbf0"
      },
      "outputs": [
        {
          "output_type": "stream",
          "name": "stdout",
          "text": [
            "Number of samples: 10500\n"
          ]
        },
        {
          "output_type": "display_data",
          "data": {
            "text/plain": [
              "<Figure size 1152x288 with 1 Axes>"
            ],
            "image/png": "[encoded data removed]"
          },
          "metadata": {
            "needs_background": "light"
          }
        },
        {
          "output_type": "display_data",
          "data": {
            "text/plain": [
              "<Figure size 1152x576 with 1 Axes>"
            ],
            "image/png": "[encoded data removed]"
          },
          "metadata": {
            "needs_background": "light"
          }
        }
      ],
      "source": [
        "print(f\"Number of samples: {len(valid_df)}\")\n",
        "\n",
        "valid_df['n_labels'] = valid_df[labels].sum(axis=1)\n",
        "plt.figure(figsize=(16, 4))\n",
        "sns.countplot(x=\"n_labels\", data=valid_df)\n",
        "plt.show()\n",
        "\n",
        "valid_label_count = valid_df[labels].agg({x:'sum' for x in labels}).reset_index()\n",
        "valid_label_count.columns = ['Label', 'Count']\n",
        "plt.figure(figsize=(16, 8))\n",
        "sns.barplot(x=\"Count\", y=\"Label\", data=valid_label_count, palette=\"Blues_d\")\n",
        "plt.show()"
      ]
    },
    {
      "cell_type": "markdown",
      "metadata": {
        "id": "b2LhRBKN7GcW"
      },
      "source": [
        "### Test dataset"
      ]
    },
    {
      "cell_type": "code",
      "execution_count": 24,
      "metadata": {
        "colab": {
          "base_uri": "https://localhost:8080/",
          "height": 739
        },
        "id": "8IOuHdGP7Hw_",
        "outputId": "ee77f1d2-16e5-43c7-ee24-943e0de6a958"
      },
      "outputs": [
        {
          "output_type": "stream",
          "name": "stdout",
          "text": [
            "Number of samples: 10500\n"
          ]
        },
        {
          "output_type": "display_data",
          "data": {
            "text/plain": [
              "<Figure size 1152x288 with 1 Axes>"
            ],
            "image/png": "[encoded data removed]"
          },
          "metadata": {
            "needs_background": "light"
          }
        },
        {
          "output_type": "display_data",
          "data": {
            "text/plain": [
              "<Figure size 1152x576 with 1 Axes>"
            ],
            "image/png": "[encoded data removed]"
          },
          "metadata": {
            "needs_background": "light"
          }
        }
      ],
      "source": [
        "print(f\"Number of samples: {len(test_df)}\")\n",
        "\n",
        "test_df['n_labels'] = test_df[labels].sum(axis=1)\n",
        "plt.figure(figsize=(16, 4))\n",
        "sns.countplot(x=\"n_labels\", data=test_df)\n",
        "plt.show()\n",
        "\n",
        "test_label_count = test_df[labels].agg({x:'sum' for x in labels}).reset_index()\n",
        "test_label_count.columns = ['Label', 'Count']\n",
        "plt.figure(figsize=(16, 8))\n",
        "sns.barplot(x=\"Count\", y=\"Label\", data=test_label_count, palette=\"Blues_d\")\n",
        "plt.show()"
      ]
    },
    {
      "cell_type": "markdown",
      "metadata": {
        "id": "r8OFol07_iTc"
      },
      "source": [
        "# Modeling Baselines"
      ]
    },
    {
      "cell_type": "code",
      "execution_count": 25,
      "metadata": {
        "id": "BpAx-A6ZHoB2"
      },
      "outputs": [],
      "source": [
        "import random, os, json\n",
        "import numpy as np\n",
        "import tensorflow as tf\n",
        "from sklearn.metrics import precision_recall_fscore_support\n",
        "\n",
        "def set_seeds(seed=1234):\n",
        "    \"\"\"Set seeds for reproducibility.\"\"\"\n",
        "    random.seed(seed)\n",
        "    np.random.seed(seed)\n",
        "    tf.random.set_seed(seed)\n",
        "    os.environ['PYTHONHASHSEED'] = str(seed)\n",
        "    # os.environ['TF_DETERMINISTIC_OPS'] = '1'"
      ]
    },
    {
      "cell_type": "markdown",
      "metadata": {
        "id": "sNzKHGRU_j7t"
      },
      "source": [
        "## Random\n",
        "\n",
        "motivation: We want to know what random (chance) performance looks like. All of our subsequent baselines should perform better than this."
      ]
    },
    {
      "cell_type": "code",
      "execution_count": 26,
      "metadata": {
        "id": "0bPListO_jPw"
      },
      "outputs": [],
      "source": [
        "# Set seeds\n",
        "set_seeds(seed)"
      ]
    },
    {
      "cell_type": "code",
      "execution_count": 27,
      "metadata": {
        "colab": {
          "base_uri": "https://localhost:8080/"
        },
        "id": "wZMz4d_PQfYZ",
        "outputId": "696108f6-da4d-44b2-8d09-8a55db83bc38"
      },
      "outputs": [
        {
          "output_type": "stream",
          "name": "stdout",
          "text": [
            "(10500, 28)\n",
            "[[0 1 0 0 0 1 0 0 0 1 0 0 0 0 1 0 1 1 1 0 1 0 1 1 1 1 1 1]\n",
            " [1 1 0 0 1 1 1 0 1 0 0 0 0 0 1 1 1 1 1 0 1 1 0 1 0 1 0 1]\n",
            " [1 0 0 0 0 0 0 0 0 1 1 0 1 1 1 1 0 1 0 1 1 1 0 1 0 1 0 1]\n",
            " [0 0 1 0 1 1 1 1 1 1 1 1 1 1 1 0 0 1 1 1 1 1 1 1 1 0 1 0]\n",
            " [1 1 0 1 0 1 1 0 1 0 1 0 0 1 1 0 1 1 1 0 0 0 0 0 0 0 0 0]]\n"
          ]
        }
      ],
      "source": [
        "# Generate random predictions\n",
        "y_pred = np.random.randint(low=0, high=2, size=(len(test_df), len(labels)))\n",
        "print(y_pred.shape)\n",
        "print(y_pred[:5])"
      ]
    },
    {
      "cell_type": "markdown",
      "metadata": {
        "id": "elaKgZEcTPA9"
      },
      "source": [
        "### Evaluation"
      ]
    },
    {
      "cell_type": "code",
      "execution_count": 28,
      "metadata": {
        "colab": {
          "base_uri": "https://localhost:8080/"
        },
        "id": "eJ_W1IZsTMt2",
        "outputId": "184c1450-1bd2-49b9-ffce-f7f892a825b6"
      },
      "outputs": [
        {
          "output_type": "stream",
          "name": "stdout",
          "text": [
            "{\n",
            "  \"precision\": 0.0965521754796707,\n",
            "  \"recall\": 0.4975480344079106,\n",
            "  \"f1\": 0.14398090148353437\n",
            "}\n"
          ]
        }
      ],
      "source": [
        "metrics = precision_recall_fscore_support(y_test, y_pred, average=\"weighted\")\n",
        "performance = {\"precision\": metrics[0], \"recall\": metrics[1], \"f1\": metrics[2]}\n",
        "print(json.dumps(performance, indent=2))"
      ]
    },
    {
      "cell_type": "markdown",
      "metadata": {
        "id": "9RNBu0kLVWqs"
      },
      "source": [
        "We made the assumption that there is an equal probability for whether an input has an emotion or not, but this isn't true. Let's use the train split to figure out what the true probability is.\n",
        "\n"
      ]
    },
    {
      "cell_type": "code",
      "execution_count": 29,
      "metadata": {
        "colab": {
          "base_uri": "https://localhost:8080/"
        },
        "id": "mOtAViWUVg_B",
        "outputId": "deec20a0-8465-4ef2-9cb6-0a9cbbe400a6"
      },
      "outputs": [
        {
          "output_type": "stream",
          "name": "stdout",
          "text": [
            "0.04215816326530612\n"
          ]
        }
      ],
      "source": [
        "# Percentage of 1s (tag presence)\n",
        "tag_p = np.sum(np.sum(y_train)) / (len(y_train) * len(labels))\n",
        "print(tag_p)"
      ]
    },
    {
      "cell_type": "code",
      "execution_count": 30,
      "metadata": {
        "id": "4Q_0NQqXVmB0"
      },
      "outputs": [],
      "source": [
        "# Generate weighted random predictions\n",
        "y_pred = np.random.choice(\n",
        "    np.arange(0, 2), size=(len(y_test), len(labels)),\n",
        "    p=[1-tag_p, tag_p])"
      ]
    },
    {
      "cell_type": "code",
      "execution_count": 31,
      "metadata": {
        "colab": {
          "base_uri": "https://localhost:8080/"
        },
        "id": "qia5FYUaVqpT",
        "outputId": "885aa1a5-139d-4272-b205-0160250692fc"
      },
      "outputs": [
        {
          "output_type": "execute_result",
          "data": {
            "text/plain": [
              "0.04228231292517007"
            ]
          },
          "metadata": {},
          "execution_count": 31
        }
      ],
      "source": [
        "# Validate percentage\n",
        "np.sum(np.sum(y_pred)) / (len(y_pred) * len(labels))"
      ]
    },
    {
      "cell_type": "markdown",
      "metadata": {
        "id": "PuemfdwLVxA1"
      },
      "source": [
        "### Evaluation"
      ]
    },
    {
      "cell_type": "code",
      "execution_count": 32,
      "metadata": {
        "colab": {
          "base_uri": "https://localhost:8080/"
        },
        "id": "SQVjOpOVVxrl",
        "outputId": "1a17702c-567c-4659-d26f-6beb635f7394"
      },
      "outputs": [
        {
          "output_type": "stream",
          "name": "stdout",
          "text": [
            "{\n",
            "  \"precision\": 0.09680884482945866,\n",
            "  \"recall\": 0.0471098962939143,\n",
            "  \"f1\": 0.053603076609740063\n",
            "}\n"
          ]
        }
      ],
      "source": [
        "metrics = precision_recall_fscore_support(y_test, y_pred, average=\"weighted\")\n",
        "performance = {\"precision\": metrics[0], \"recall\": metrics[1], \"f1\": metrics[2]}\n",
        "print(json.dumps(performance, indent=2))"
      ]
    },
    {
      "cell_type": "markdown",
      "metadata": {
        "id": "naBdSf9AWh0y"
      },
      "source": [
        "**limitations:** we didn't use any of the signals from our inputs to affect our predictions, so nothing was learned.\n",
        "\n"
      ]
    },
    {
      "cell_type": "markdown",
      "metadata": {
        "id": "-dbIP1ZYDmV7"
      },
      "source": [
        "## Rule-based\n",
        "\n",
        "motivation: we want to use signals in our inputs (along with domain expertise and auxiliary data) to determine the labels."
      ]
    },
    {
      "cell_type": "markdown",
      "metadata": {
        "id": "XcSaFK92Iugq"
      },
      "source": [
        "### Top-K words\n",
        "\n",
        "Usually in texts, emotions are heavily correlated with the occurrences of a few words that gives drives the main emotion of that text, sometimes that words can be the emotions themselves, let's try to predict the labels looking if a piece of text contains words that are commonly found in other texts with the same emotions.\n",
        "\n",
        "**Domain knowledge**: This dataset has anonymized names, so instead of a person's name we have `[name]` instead, this adds no value to our predictions, so let's also remove this from the top-K words"
      ]
    },
    {
      "cell_type": "code",
      "execution_count": 33,
      "metadata": {
        "colab": {
          "base_uri": "https://localhost:8080/"
        },
        "id": "srK4TfK_OBCZ",
        "outputId": "442e6610-8cd5-482a-c4f1-f540e15f91f3"
      },
      "outputs": [
        {
          "output_type": "stream",
          "name": "stdout",
          "text": [
            "[nltk_data] Downloading package stopwords to /root/nltk_data...\n",
            "[nltk_data]   Unzipping corpora/stopwords.zip.\n"
          ]
        }
      ],
      "source": [
        "from pprint import pprint\n",
        "import nltk\n",
        "nltk.download('stopwords')\n",
        "from nltk.corpus import stopwords\n",
        "\n",
        "stop = stopwords.words('english')\n",
        "stop.append(\"[name]\")\n",
        "stop.append(\"[name].\")"
      ]
    },
    {
      "cell_type": "code",
      "execution_count": 34,
      "metadata": {
        "id": "bF3csKFqIxmG"
      },
      "outputs": [],
      "source": [
        "def get_top_k_words(dataset, k=15, label=\"love\"):\n",
        "    label_text = dataset[dataset[label] == 1].text\n",
        "    clean_text = label_text.apply(lambda x: ' '.join([word for word in x.split() if word not in (stop)]))\n",
        "    top_k_words = pd.Series(' '.join(clean_text).split()).value_counts().index[:k]\n",
        "    return list(top_k_words)"
      ]
    },
    {
      "cell_type": "code",
      "execution_count": 35,
      "metadata": {
        "colab": {
          "base_uri": "https://localhost:8080/"
        },
        "id": "oJhVVAifO-LN",
        "outputId": "7c1df331-5ec0-43fd-9a0d-56fdcb3ca265"
      },
      "outputs": [
        {
          "output_type": "stream",
          "name": "stdout",
          "text": [
            "['died', 'sorry', 'people', 'one', 'i’m', 'like', \"i'm\", 'guy', 'looks', 'probably', 'get', 'dead.', 'crying', 'got', 'last']\n"
          ]
        }
      ],
      "source": [
        "# Top-15 words for \"grief\"\n",
        "print(get_top_k_words(train_df, k=15, label=\"grief\"))"
      ]
    },
    {
      "cell_type": "code",
      "execution_count": 36,
      "metadata": {
        "colab": {
          "base_uri": "https://localhost:8080/"
        },
        "id": "lB96wqErdaRT",
        "outputId": "9d7a97cf-2539-4b64-ef88-3265b7b0f0a6"
      },
      "outputs": [
        {
          "output_type": "stream",
          "name": "stdout",
          "text": [
            "['love', 'like', 'would', 'it.', 'loved', 'really', 'favorite', 'one', \"i'm\", 'see', 'people', 'good', 'get', 'loves', 'much']\n"
          ]
        }
      ],
      "source": [
        "# Top-15 words for \"love\"\n",
        "print(get_top_k_words(train_df, k=15, label=\"love\"))"
      ]
    },
    {
      "cell_type": "code",
      "execution_count": 37,
      "metadata": {
        "id": "oZPJRVXbQi_w"
      },
      "outputs": [],
      "source": [
        "# Create a dict with top-K words for each label\n",
        "def get_top_words_dict(dataset, labels=labels, k=15):\n",
        "    return {label:get_top_k_words(train_df, k=k, label=label) for label in labels}"
      ]
    },
    {
      "cell_type": "code",
      "execution_count": 38,
      "metadata": {
        "colab": {
          "base_uri": "https://localhost:8080/"
        },
        "id": "KamIkhMaPT-v",
        "outputId": "3c80f1bf-4b4b-47dd-ebb6-391ca8bacbd5"
      },
      "outputs": [
        {
          "output_type": "stream",
          "name": "stdout",
          "text": [
            "{'admiration': ['good',\n",
            "                'like',\n",
            "                'great',\n",
            "                'love',\n",
            "                'one',\n",
            "                'really',\n",
            "                'pretty',\n",
            "                'best',\n",
            "                \"that's\",\n",
            "                'nice',\n",
            "                \"i'm\",\n",
            "                'amazing',\n",
            "                'looks',\n",
            "                'would',\n",
            "                'get'],\n",
            " 'amusement': ['lol',\n",
            "               'like',\n",
            "               'haha',\n",
            "               'lol.',\n",
            "               'funny',\n",
            "               'fun',\n",
            "               'good',\n",
            "               'lmao',\n",
            "               'would',\n",
            "               \"i'm\",\n",
            "               'people',\n",
            "               'really',\n",
            "               'love',\n",
            "               'get',\n",
            "               'think'],\n",
            " 'anger': ['fuck',\n",
            "           'hate',\n",
            "           'like',\n",
            "           'fucking',\n",
            "           'people',\n",
            "           'get',\n",
            "           'one',\n",
            "           'would',\n",
            "           \"i'm\",\n",
            "           'hell',\n",
            "           'really',\n",
            "           'know',\n",
            "           'stop',\n",
            "           'even',\n",
            "           'damn'],\n",
            " 'annoyance': ['like',\n",
            "               'people',\n",
            "               'get',\n",
            "               \"i'm\",\n",
            "               'even',\n",
            "               'really',\n",
            "               'would',\n",
            "               'one',\n",
            "               'fucking',\n",
            "               'know',\n",
            "               'think',\n",
            "               \"that's\",\n",
            "               'fuck',\n",
            "               'don’t',\n",
            "               'still'],\n",
            " 'approval': ['like',\n",
            "              'good',\n",
            "              'get',\n",
            "              \"i'm\",\n",
            "              'would',\n",
            "              'one',\n",
            "              'think',\n",
            "              'people',\n",
            "              \"that's\",\n",
            "              'really',\n",
            "              'see',\n",
            "              'love',\n",
            "              'it.',\n",
            "              'know',\n",
            "              'got'],\n",
            " 'caring': ['get',\n",
            "            'good',\n",
            "            'like',\n",
            "            'feel',\n",
            "            'hope',\n",
            "            'love',\n",
            "            'keep',\n",
            "            'people',\n",
            "            \"i'm\",\n",
            "            'you.',\n",
            "            'need',\n",
            "            'take',\n",
            "            'go',\n",
            "            'i’m',\n",
            "            'don’t'],\n",
            " 'confusion': ['like',\n",
            "               'know',\n",
            "               \"i'm\",\n",
            "               'think',\n",
            "               'sure',\n",
            "               'would',\n",
            "               'really',\n",
            "               'people',\n",
            "               'don’t',\n",
            "               'get',\n",
            "               'one',\n",
            "               'i’m',\n",
            "               'still',\n",
            "               'maybe',\n",
            "               'even'],\n",
            " 'curiosity': ['like',\n",
            "               'would',\n",
            "               \"i'm\",\n",
            "               'get',\n",
            "               'know',\n",
            "               'see',\n",
            "               'think',\n",
            "               'one',\n",
            "               'really',\n",
            "               'curious',\n",
            "               'people',\n",
            "               'love',\n",
            "               'oh',\n",
            "               'i’m',\n",
            "               \"that's\"],\n",
            " 'desire': ['wish',\n",
            "            'want',\n",
            "            'like',\n",
            "            'hope',\n",
            "            'would',\n",
            "            'could',\n",
            "            'get',\n",
            "            'see',\n",
            "            'need',\n",
            "            \"i'm\",\n",
            "            'really',\n",
            "            'good',\n",
            "            'make',\n",
            "            'love',\n",
            "            'wanted'],\n",
            " 'disappointment': ['like',\n",
            "                    \"i'm\",\n",
            "                    'get',\n",
            "                    'really',\n",
            "                    'bad',\n",
            "                    'would',\n",
            "                    'people',\n",
            "                    'never',\n",
            "                    'feel',\n",
            "                    'still',\n",
            "                    'one',\n",
            "                    'even',\n",
            "                    'it’s',\n",
            "                    'know',\n",
            "                    'got'],\n",
            " 'disapproval': ['like',\n",
            "                 'think',\n",
            "                 'people',\n",
            "                 'don’t',\n",
            "                 'get',\n",
            "                 \"i'm\",\n",
            "                 \"that's\",\n",
            "                 'would',\n",
            "                 \"can't\",\n",
            "                 'really',\n",
            "                 'even',\n",
            "                 'know',\n",
            "                 'bad',\n",
            "                 'one',\n",
            "                 'never'],\n",
            " 'disgust': ['like',\n",
            "             'people',\n",
            "             'weird',\n",
            "             'bad',\n",
            "             'worst',\n",
            "             'one',\n",
            "             'hate',\n",
            "             'even',\n",
            "             \"that's\",\n",
            "             'really',\n",
            "             \"i'm\",\n",
            "             'get',\n",
            "             'would',\n",
            "             'disgusting.',\n",
            "             'worse'],\n",
            " 'embarrassment': ['like',\n",
            "                   'bad',\n",
            "                   'shame',\n",
            "                   'weird',\n",
            "                   'get',\n",
            "                   'would',\n",
            "                   'oh',\n",
            "                   'i’m',\n",
            "                   'know',\n",
            "                   'it’s',\n",
            "                   'really',\n",
            "                   \"that's\",\n",
            "                   'feel',\n",
            "                   'sorry',\n",
            "                   \"i'm\"],\n",
            " 'excitement': ['happy',\n",
            "                'like',\n",
            "                \"i'm\",\n",
            "                'love',\n",
            "                'excited',\n",
            "                'would',\n",
            "                'see',\n",
            "                'i’m',\n",
            "                'new',\n",
            "                'get',\n",
            "                'really',\n",
            "                'one',\n",
            "                'good',\n",
            "                'got',\n",
            "                \"that's\"],\n",
            " 'fear': [\"i'm\",\n",
            "          'like',\n",
            "          'scared',\n",
            "          'afraid',\n",
            "          'terrible',\n",
            "          'get',\n",
            "          'would',\n",
            "          'really',\n",
            "          'i’m',\n",
            "          'think',\n",
            "          'scary',\n",
            "          'people',\n",
            "          'one',\n",
            "          'still',\n",
            "          'fear'],\n",
            " 'gratitude': ['thank',\n",
            "               'thanks',\n",
            "               'good',\n",
            "               'you.',\n",
            "               'thanks!',\n",
            "               \"i'm\",\n",
            "               'you!',\n",
            "               ':)',\n",
            "               'like',\n",
            "               'much',\n",
            "               'thanks.',\n",
            "               'really',\n",
            "               'glad',\n",
            "               'appreciate',\n",
            "               'i’m'],\n",
            " 'grief': ['died',\n",
            "           'sorry',\n",
            "           'people',\n",
            "           'one',\n",
            "           'i’m',\n",
            "           'like',\n",
            "           \"i'm\",\n",
            "           'guy',\n",
            "           'looks',\n",
            "           'probably',\n",
            "           'get',\n",
            "           'dead.',\n",
            "           'crying',\n",
            "           'got',\n",
            "           'last'],\n",
            " 'joy': ['happy',\n",
            "         'glad',\n",
            "         'like',\n",
            "         \"i'm\",\n",
            "         'love',\n",
            "         'good',\n",
            "         'i’m',\n",
            "         'enjoy',\n",
            "         'really',\n",
            "         'one',\n",
            "         'got',\n",
            "         'see',\n",
            "         'fun',\n",
            "         'made',\n",
            "         'would'],\n",
            " 'love': ['love',\n",
            "          'like',\n",
            "          'would',\n",
            "          'it.',\n",
            "          'loved',\n",
            "          'really',\n",
            "          'favorite',\n",
            "          'one',\n",
            "          \"i'm\",\n",
            "          'see',\n",
            "          'people',\n",
            "          'good',\n",
            "          'get',\n",
            "          'loves',\n",
            "          'much'],\n",
            " 'nervousness': [\"i'm\",\n",
            "                 'really',\n",
            "                 'worried',\n",
            "                 'get',\n",
            "                 'would',\n",
            "                 'people',\n",
            "                 'i’m',\n",
            "                 'like',\n",
            "                 \"that's\",\n",
            "                 'still',\n",
            "                 'never',\n",
            "                 'getting',\n",
            "                 'think',\n",
            "                 'feel',\n",
            "                 'even'],\n",
            " 'neutral': ['like',\n",
            "             'get',\n",
            "             'would',\n",
            "             'people',\n",
            "             'think',\n",
            "             'one',\n",
            "             'know',\n",
            "             \"i'm\",\n",
            "             'see',\n",
            "             'go',\n",
            "             'even',\n",
            "             'really',\n",
            "             \"that's\",\n",
            "             'still',\n",
            "             'it.'],\n",
            " 'optimism': ['hope',\n",
            "              'good',\n",
            "              'like',\n",
            "              'get',\n",
            "              'would',\n",
            "              \"i'm\",\n",
            "              'think',\n",
            "              'really',\n",
            "              'one',\n",
            "              'see',\n",
            "              'luck',\n",
            "              'better',\n",
            "              'wish',\n",
            "              'make',\n",
            "              'still'],\n",
            " 'pride': ['proud',\n",
            "           \"i'm\",\n",
            "           'i’m',\n",
            "           'good',\n",
            "           'glad',\n",
            "           'like',\n",
            "           'people',\n",
            "           'great',\n",
            "           'would',\n",
            "           ':)',\n",
            "           'get',\n",
            "           'make',\n",
            "           'really',\n",
            "           'still',\n",
            "           'even'],\n",
            " 'realization': ['like',\n",
            "                 'think',\n",
            "                 'know',\n",
            "                 'thought',\n",
            "                 'people',\n",
            "                 'one',\n",
            "                 'time',\n",
            "                 'get',\n",
            "                 \"i'm\",\n",
            "                 'would',\n",
            "                 'never',\n",
            "                 'oh',\n",
            "                 \"that's\",\n",
            "                 'even',\n",
            "                 'got'],\n",
            " 'relief': ['glad',\n",
            "            \"i'm\",\n",
            "            'i’m',\n",
            "            'feel',\n",
            "            'thank',\n",
            "            'like',\n",
            "            'good',\n",
            "            'one',\n",
            "            'least',\n",
            "            'got',\n",
            "            'get',\n",
            "            'better',\n",
            "            'oh',\n",
            "            'really',\n",
            "            'make'],\n",
            " 'remorse': ['sorry',\n",
            "             \"i'm\",\n",
            "             'i’m',\n",
            "             'sorry,',\n",
            "             'sorry.',\n",
            "             'like',\n",
            "             'you.',\n",
            "             'get',\n",
            "             'feel',\n",
            "             'regret',\n",
            "             'oh',\n",
            "             'hope',\n",
            "             'know',\n",
            "             'it’s',\n",
            "             'people'],\n",
            " 'sadness': ['sorry',\n",
            "             \"i'm\",\n",
            "             'sad',\n",
            "             'like',\n",
            "             'feel',\n",
            "             'bad',\n",
            "             'i’m',\n",
            "             'really',\n",
            "             'get',\n",
            "             'people',\n",
            "             'one',\n",
            "             'still',\n",
            "             'would',\n",
            "             'even',\n",
            "             'think'],\n",
            " 'surprise': ['oh',\n",
            "              'like',\n",
            "              'surprised',\n",
            "              \"i'm\",\n",
            "              'wow',\n",
            "              'wonder',\n",
            "              'never',\n",
            "              'know',\n",
            "              'even',\n",
            "              'get',\n",
            "              \"that's\",\n",
            "              'would',\n",
            "              'wow,',\n",
            "              'believe',\n",
            "              'really']}\n"
          ]
        }
      ],
      "source": [
        "top_words_dict = get_top_words_dict(train_df)\n",
        "pprint(top_words_dict)"
      ]
    },
    {
      "cell_type": "markdown",
      "metadata": {
        "id": "QpKboyuHRR9n"
      },
      "source": [
        "Some words are too common and appear in many different labels, let's remove those words that appear in at least 20% of the total labels."
      ]
    },
    {
      "cell_type": "code",
      "execution_count": 39,
      "metadata": {
        "colab": {
          "base_uri": "https://localhost:8080/"
        },
        "id": "v9Gqc9C7Rgm6",
        "outputId": "b9584cc4-681c-49a9-9887-a2851886a60a"
      },
      "outputs": [
        {
          "output_type": "stream",
          "name": "stdout",
          "text": [
            "Counter({'like': 28, \"i'm\": 28, 'get': 26, 'really': 24, 'would': 23, 'one': 19, 'people': 19, 'i’m': 14, 'good': 12, \"that's\": 12, 'think': 12, 'know': 12, 'even': 12, 'love': 9, 'still': 9, 'see': 8, 'got': 7, 'feel': 7, 'oh': 6, 'bad': 5, 'never': 5, 'don’t': 4, 'hope': 4, 'make': 4, 'sorry': 4, 'glad': 4, 'it.': 3, 'you.': 3, 'it’s': 3, 'great': 2, 'looks': 2, 'fun': 2, 'fuck': 2, 'hate': 2, 'fucking': 2, 'need': 2, 'go': 2, 'wish': 2, 'weird': 2, 'happy': 2, 'thank': 2, ':)': 2, 'much': 2, 'better': 2, 'pretty': 1, 'best': 1, 'nice': 1, 'amazing': 1, 'lol': 1, 'haha': 1, 'lol.': 1, 'funny': 1, 'lmao': 1, 'hell': 1, 'stop': 1, 'damn': 1, 'keep': 1, 'take': 1, 'sure': 1, 'maybe': 1, 'curious': 1, 'want': 1, 'could': 1, 'wanted': 1, \"can't\": 1, 'worst': 1, 'disgusting.': 1, 'worse': 1, 'shame': 1, 'excited': 1, 'new': 1, 'scared': 1, 'afraid': 1, 'terrible': 1, 'scary': 1, 'fear': 1, 'thanks': 1, 'thanks!': 1, 'you!': 1, 'thanks.': 1, 'appreciate': 1, 'died': 1, 'guy': 1, 'probably': 1, 'dead.': 1, 'crying': 1, 'last': 1, 'enjoy': 1, 'made': 1, 'loved': 1, 'favorite': 1, 'loves': 1, 'worried': 1, 'getting': 1, 'luck': 1, 'proud': 1, 'thought': 1, 'time': 1, 'least': 1, 'sorry,': 1, 'sorry.': 1, 'regret': 1, 'sad': 1, 'surprised': 1, 'wow': 1, 'wonder': 1, 'wow,': 1, 'believe': 1})\n"
          ]
        }
      ],
      "source": [
        "from collections import Counter\n",
        "\n",
        "label_words = []\n",
        "for words in top_words_dict.values():\n",
        "    label_words.extend(words)\n",
        "\n",
        "label_counts = Counter(label_words)\n",
        "print(label_counts)"
      ]
    },
    {
      "cell_type": "code",
      "execution_count": 40,
      "metadata": {
        "colab": {
          "base_uri": "https://localhost:8080/"
        },
        "id": "c5s9bV61SjBI",
        "outputId": "3900a64b-1270-4da5-a7d2-03eb54643002"
      },
      "outputs": [
        {
          "output_type": "stream",
          "name": "stdout",
          "text": [
            "['good', 'like', 'one', 'really', \"that's\", \"i'm\", 'would', 'get', 'people', 'think', 'know', 'even', 'i’m']\n"
          ]
        }
      ],
      "source": [
        "words_to_remove = []\n",
        "for word, cnt in label_counts.items():\n",
        "    if cnt >= (len(labels) * 0.4):\n",
        "      words_to_remove.append(word)\n",
        "print(words_to_remove)"
      ]
    },
    {
      "cell_type": "code",
      "execution_count": 41,
      "metadata": {
        "colab": {
          "base_uri": "https://localhost:8080/"
        },
        "id": "KDvoJoRQSJ2l",
        "outputId": "6d4c0547-9960-4cf3-840b-a0a45b2c3e28"
      },
      "outputs": [
        {
          "output_type": "stream",
          "name": "stdout",
          "text": [
            "{'admiration': ['great', 'love', 'pretty', 'best', 'nice', 'amazing', 'looks'],\n",
            " 'amusement': ['lol', 'haha', 'lol.', 'funny', 'fun', 'lmao', 'love'],\n",
            " 'anger': ['fuck', 'hate', 'fucking', 'hell', 'stop', 'damn'],\n",
            " 'annoyance': ['fucking', 'fuck', 'don’t', 'still'],\n",
            " 'approval': ['see', 'love', 'it.', 'got'],\n",
            " 'caring': ['feel',\n",
            "            'hope',\n",
            "            'love',\n",
            "            'keep',\n",
            "            'you.',\n",
            "            'need',\n",
            "            'take',\n",
            "            'go',\n",
            "            'don’t'],\n",
            " 'confusion': ['sure', 'don’t', 'still', 'maybe'],\n",
            " 'curiosity': ['see', 'curious', 'love', 'oh'],\n",
            " 'desire': ['wish',\n",
            "            'want',\n",
            "            'hope',\n",
            "            'could',\n",
            "            'see',\n",
            "            'need',\n",
            "            'make',\n",
            "            'love',\n",
            "            'wanted'],\n",
            " 'disappointment': ['bad', 'never', 'feel', 'still', 'it’s', 'got'],\n",
            " 'disapproval': ['don’t', \"can't\", 'bad', 'never'],\n",
            " 'disgust': ['weird', 'bad', 'worst', 'hate', 'disgusting.', 'worse'],\n",
            " 'embarrassment': ['bad', 'shame', 'weird', 'oh', 'it’s', 'feel', 'sorry'],\n",
            " 'excitement': ['happy', 'love', 'excited', 'see', 'new', 'got'],\n",
            " 'fear': ['scared', 'afraid', 'terrible', 'scary', 'still', 'fear'],\n",
            " 'gratitude': ['thank',\n",
            "               'thanks',\n",
            "               'you.',\n",
            "               'thanks!',\n",
            "               'you!',\n",
            "               ':)',\n",
            "               'much',\n",
            "               'thanks.',\n",
            "               'glad',\n",
            "               'appreciate'],\n",
            " 'grief': ['died',\n",
            "           'sorry',\n",
            "           'guy',\n",
            "           'looks',\n",
            "           'probably',\n",
            "           'dead.',\n",
            "           'crying',\n",
            "           'got',\n",
            "           'last'],\n",
            " 'joy': ['happy', 'glad', 'love', 'enjoy', 'got', 'see', 'fun', 'made'],\n",
            " 'love': ['love', 'it.', 'loved', 'favorite', 'see', 'loves', 'much'],\n",
            " 'nervousness': ['worried', 'still', 'never', 'getting', 'feel'],\n",
            " 'neutral': ['see', 'go', 'still', 'it.'],\n",
            " 'optimism': ['hope', 'see', 'luck', 'better', 'wish', 'make', 'still'],\n",
            " 'pride': ['proud', 'glad', 'great', ':)', 'make', 'still'],\n",
            " 'realization': ['thought', 'time', 'never', 'oh', 'got'],\n",
            " 'relief': ['glad', 'feel', 'thank', 'least', 'got', 'better', 'oh', 'make'],\n",
            " 'remorse': ['sorry',\n",
            "             'sorry,',\n",
            "             'sorry.',\n",
            "             'you.',\n",
            "             'feel',\n",
            "             'regret',\n",
            "             'oh',\n",
            "             'hope',\n",
            "             'it’s'],\n",
            " 'sadness': ['sorry', 'sad', 'feel', 'bad', 'still'],\n",
            " 'surprise': ['oh', 'surprised', 'wow', 'wonder', 'never', 'wow,', 'believe']}\n"
          ]
        }
      ],
      "source": [
        "for key, value in top_words_dict.items():\n",
        "    top_words_dict[key] = [word for word in value if word not in words_to_remove]\n",
        "pprint(top_words_dict)"
      ]
    },
    {
      "cell_type": "code",
      "execution_count": 42,
      "metadata": {
        "id": "IiOPy_CRU4B2"
      },
      "outputs": [],
      "source": [
        "# Prediction\n",
        "def predict_top_k(input, labels=labels, labels_dict=top_words_dict):\n",
        "    y_pred = []\n",
        "    for text in input:\n",
        "        preds = []\n",
        "        for label in labels:\n",
        "            if any(word in text.split() for word in labels_dict[label]):\n",
        "                preds.append(1)\n",
        "            else:\n",
        "                preds.append(0)\n",
        "        y_pred.append(preds)\n",
        "    return y_pred\n",
        "\n",
        "y_pred = predict_top_k(X_test)"
      ]
    },
    {
      "cell_type": "markdown",
      "metadata": {
        "id": "r7IFF7ChUbwz"
      },
      "source": [
        "### Evaluation"
      ]
    },
    {
      "cell_type": "code",
      "execution_count": 43,
      "metadata": {
        "colab": {
          "base_uri": "https://localhost:8080/"
        },
        "id": "MgYsW0x9TaQV",
        "outputId": "37e73d38-2b39-419d-e867-34093883fa6a"
      },
      "outputs": [
        {
          "output_type": "stream",
          "name": "stdout",
          "text": [
            "{\n",
            "  \"precision\": 0.18055684566839975,\n",
            "  \"recall\": 0.2488946056756974,\n",
            "  \"f1\": 0.17943667474315564\n",
            "}\n"
          ]
        }
      ],
      "source": [
        "metrics = precision_recall_fscore_support(y_test, y_pred, average=\"weighted\")\n",
        "performance = {\"precision\": metrics[0], \"recall\": metrics[1], \"f1\": metrics[2]}\n",
        "print(json.dumps(performance, indent=2))"
      ]
    },
    {
      "cell_type": "markdown",
      "metadata": {
        "id": "7u7J_A-eyFl5"
      },
      "source": [
        "### Inference"
      ]
    },
    {
      "cell_type": "code",
      "execution_count": 44,
      "metadata": {
        "colab": {
          "base_uri": "https://localhost:8080/"
        },
        "id": "tqPypUxyyHRC",
        "outputId": "08c25d99-205a-4a1b-8752-c1452e08f5af"
      },
      "outputs": [
        {
          "output_type": "stream",
          "name": "stdout",
          "text": [
            "{'admiration': 1,\n",
            " 'amusement': 0,\n",
            " 'anger': 0,\n",
            " 'annoyance': 0,\n",
            " 'approval': 0,\n",
            " 'caring': 0,\n",
            " 'confusion': 0,\n",
            " 'curiosity': 0,\n",
            " 'desire': 0,\n",
            " 'disappointment': 0,\n",
            " 'disapproval': 0,\n",
            " 'disgust': 0,\n",
            " 'embarrassment': 0,\n",
            " 'excitement': 0,\n",
            " 'fear': 0,\n",
            " 'gratitude': 1,\n",
            " 'grief': 0,\n",
            " 'joy': 0,\n",
            " 'love': 1,\n",
            " 'nervousness': 0,\n",
            " 'neutral': 0,\n",
            " 'optimism': 0,\n",
            " 'pride': 0,\n",
            " 'realization': 0,\n",
            " 'relief': 0,\n",
            " 'remorse': 0,\n",
            " 'sadness': 0,\n",
            " 'surprise': 0}\n"
          ]
        }
      ],
      "source": [
        "def inference_top_k(input, labels=labels, labels_dict=top_words_dict):\n",
        "    preds = {}\n",
        "    for label in labels:\n",
        "        if any(word in input.split() for word in labels_dict[label]):\n",
        "            preds[label] = 1\n",
        "        else:\n",
        "            preds[label] = 0\n",
        "    return preds\n",
        "\n",
        "text = \"I am loving this amazing MLOps tutorial, so much cool content\"\n",
        "pprint(inference_top_k(text))"
      ]
    },
    {
      "cell_type": "markdown",
      "metadata": {
        "id": "4kVfig5K33S6"
      },
      "source": [
        "**limitations:** we failed to generalize or learn any implicit patterns to predict the labels because we are trying to predict by using the words themselves, and we do not capture text context or intention, where most of the emotion would be captured.\n",
        "\n",
        "> We could further improve this approach by using more preprocessing like removing punctuation or using top-k words that are more unique for each label, applying maybe normalization similar to TF-IDF."
      ]
    },
    {
      "cell_type": "markdown",
      "metadata": {
        "id": "ZLeQhmTVFqpK"
      },
      "source": [
        "## Simple ML\n",
        "\n",
        "**motivation:**\n",
        "- **representation:** use term frequency-inverse document frequency (TF-IDF) to capture the significance of a token to a particular input with respect to all the inputs, as opposed to treating the words in our input text as isolated tokens.\n",
        "- **architecture:** we want our model to meaningfully extract the encoded signal to predict the output labels.\n",
        "\n",
        "So far, we've treated the words in our input text as isolated tokens, and we haven't really captured any meaning between tokens. Let's use term frequency–inverse document frequency (TF-IDF) to capture the significance of a token to a particular input with respect to all the inputs."
      ]
    },
    {
      "cell_type": "code",
      "execution_count": 45,
      "metadata": {
        "id": "2zf9SKrfHlYd"
      },
      "outputs": [],
      "source": [
        "from sklearn.linear_model import LogisticRegression\n",
        "from sklearn.multiclass import OneVsRestClassifier\n",
        "from sklearn.svm import LinearSVC"
      ]
    },
    {
      "cell_type": "code",
      "execution_count": 46,
      "metadata": {
        "id": "1MkugsZPNlnd"
      },
      "outputs": [],
      "source": [
        "from sklearn import metrics\n",
        "from sklearn.feature_extraction.text import TfidfVectorizer\n",
        "from sklearn.metrics import accuracy_score, precision_score, recall_score\n",
        "from sklearn.metrics import precision_recall_curve\n",
        "from sklearn.preprocessing import MultiLabelBinarizer"
      ]
    },
    {
      "cell_type": "code",
      "execution_count": 47,
      "metadata": {
        "colab": {
          "base_uri": "https://localhost:8080/"
        },
        "id": "SF2b0ldrPBCA",
        "outputId": "fe9ac975-80fa-4c6f-8e24-96f9c9b17a3f"
      },
      "outputs": [
        {
          "output_type": "stream",
          "name": "stdout",
          "text": [
            "someone get fat boy [name] a happy meal.\n",
            "(49000, 23882)\n",
            "  (0, 13118)\t0.5292026835081637\n",
            "  (0, 9801)\t0.33498431416774205\n",
            "  (0, 13945)\t0.18373137499837075\n",
            "  (0, 2946)\t0.4224880039037505\n",
            "  (0, 7960)\t0.47549392155685\n",
            "  (0, 9094)\t0.2592408885819284\n",
            "  (0, 19582)\t0.319650417921984\n"
          ]
        }
      ],
      "source": [
        "# Tf-idf\n",
        "vectorizer = TfidfVectorizer()\n",
        "print(X_train.iloc[0])\n",
        "X_train_tfidf = vectorizer.fit_transform(X_train)\n",
        "X_valid_tfidf = vectorizer.transform(X_valid)\n",
        "X_test_tfidf = vectorizer.transform(X_test)\n",
        "print(X_train_tfidf.shape)\n",
        "print(X_train_tfidf[0]) # scipy.sparse.csr_matrix"
      ]
    },
    {
      "cell_type": "code",
      "execution_count": 48,
      "metadata": {
        "id": "-iv3rQskZCbY"
      },
      "outputs": [],
      "source": [
        "def fit_and_evaluate(model):\n",
        "    \"\"\"Fit and evaluate each model.\"\"\"\n",
        "    model.fit(X_train_tfidf, y_train)\n",
        "    y_pred = model.predict(X_test_tfidf)\n",
        "    metrics = precision_recall_fscore_support(y_test, y_pred, average=\"weighted\")\n",
        "    return {\"precision\": metrics[0], \"recall\": metrics[1], \"f1\": metrics[2]}"
      ]
    },
    {
      "cell_type": "code",
      "execution_count": 49,
      "metadata": {
        "colab": {
          "base_uri": "https://localhost:8080/"
        },
        "id": "10dCLV-IgjXX",
        "outputId": "b0f778e8-a98b-48cb-ddf1-3eeab30eded0"
      },
      "outputs": [
        {
          "output_type": "stream",
          "name": "stdout",
          "text": [
            "{\n",
            "  \"logistic-regression\": {\n",
            "    \"precision\": 0.5680240565904389,\n",
            "    \"recall\": 0.1150414020419648,\n",
            "    \"f1\": 0.170343974960257\n",
            "  },\n",
            "  \"support-vector-machine\": {\n",
            "    \"precision\": 0.45008617202143403,\n",
            "    \"recall\": 0.19495136264973068,\n",
            "    \"f1\": 0.2583025251191575\n",
            "  }\n",
            "}\n"
          ]
        }
      ],
      "source": [
        "  # Models\n",
        "performance = {}\n",
        "performance[\"logistic-regression\"] = fit_and_evaluate(OneVsRestClassifier(\n",
        "    LogisticRegression(), n_jobs=1))\n",
        "\n",
        "performance[\"support-vector-machine\"] = fit_and_evaluate(OneVsRestClassifier(\n",
        "    LinearSVC(), n_jobs=-1))\n",
        "\n",
        "print(json.dumps(performance, indent=2))"
      ]
    },
    {
      "cell_type": "markdown",
      "metadata": {
        "id": "BvkembvEjm3s"
      },
      "source": [
        "**limitations:**\n",
        "\n",
        "- **representation:** TF-IDF representations don't encapsulate much signal beyond frequency, but we require more fine-grained token representations.\n",
        "- **architecture:** we want to develop models that can use better represented encodings in a more contextual manner"
      ]
    },
    {
      "cell_type": "markdown",
      "metadata": {
        "id": "_0q-fLS1HhKN"
      },
      "source": [
        "## CNN w/ Embeddings\n",
        "\n",
        "**motivation:**\n",
        "\n",
        "- **representation**: we want to have more robust (split tokens to characters) and meaningful embedding-based representations for our input tokens.\n",
        "- **architecture**: we want to process our encoded inputs using convolution (CNN) filters that can learn to analyze windows of embedded tokens to extract meaningful signal."
      ]
    },
    {
      "cell_type": "markdown",
      "metadata": {
        "id": "n7ldZZQ_KoJ_"
      },
      "source": [
        "### Set up"
      ]
    },
    {
      "cell_type": "code",
      "execution_count": 50,
      "metadata": {
        "id": "KMkuuZEMHiCE"
      },
      "outputs": [],
      "source": [
        "import tensorflow.keras.layers as L\n",
        "\n",
        "# Looking at the \"EDA\" part, 128 length should cover most samples.\n",
        "max_seq_len = 128"
      ]
    },
    {
      "cell_type": "markdown",
      "metadata": {
        "id": "1yDkLn8oMG_f"
      },
      "source": [
        "### Tokenizer\n",
        "\n",
        "We're going to tokenize our input text as character tokens, so we can be robust to spelling errors and learn to generalize across words."
      ]
    },
    {
      "cell_type": "code",
      "execution_count": 51,
      "metadata": {
        "id": "boIR-ZtMMJ8p"
      },
      "outputs": [],
      "source": [
        "# Define split strategy\n",
        "@tf.keras.utils.register_keras_serializable()\n",
        "def cnn_split(text):\n",
        "  return tf.strings.unicode_split(text, 'UTF-8')\n",
        "\n",
        "# Define standardization strategy\n",
        "@tf.keras.utils.register_keras_serializable()\n",
        "def cnn_standardization(text):\n",
        "    lowercased = tf.strings.lower(text)\n",
        "    return lowercased\n",
        "\n",
        "# Create a TextVectorization layer\n",
        "text_vectorizer = L.TextVectorization(\n",
        "    standardize=cnn_standardization, \n",
        "    split=cnn_split, \n",
        "    output_mode=\"int\",\n",
        "    output_sequence_length=max_seq_len\n",
        ")"
      ]
    },
    {
      "cell_type": "code",
      "execution_count": 52,
      "metadata": {
        "colab": {
          "base_uri": "https://localhost:8080/"
        },
        "id": "jfgMbWlOVniD",
        "outputId": "37d9b4ba-aa29-4d03-c766-faa9b5748560"
      },
      "outputs": [
        {
          "output_type": "stream",
          "name": "stdout",
          "text": [
            "Vocabulary size: 499\n",
            "['', '[UNK]', ' ', 'e', 't', 'o', 'a', 'i', 'n', 's', 'h', 'r', 'l', 'd', 'u', 'm', 'y', 'g', 'c', 'w', '.', 'f', 'p', 'b', 'k', 'v', \"'\", ',', '!', '[', ']', '’', 'j', '?', 'x', '\"', '0', 'z', '-', '*', '1', ':', '2', 'q', '/', ')', '(', '3', '5', '>', '4', '“', '”', '9', '6', '8', '⠀', '7', '^', '|', '~', '😂', ';', '%', '$', '#', '+', '️', '_', '😤', '=', '⣿', '<', '&', '🤣', '‘', '❤', '😭', '👏', '🦀', '⠛', '\\u200d', '@', '😎', '🤔', '⣤', '⣀', '🏻', '👍', '—', '⠶', '🙏', '😍', '¯', '🤷', '😡', '😉', '🔥', '🏼', '👌', '🙄', '😊', '💜', '♥', '♀', '£', '⢀', '😩', '😢', '⠉', '☺', '♂', '😅', '⣶', 'é', '⠋', '⠃', '⠁', '😏', '👀', '🌈', '☹', '™', '🤗', '😁', 'ツ', '⣄', '⡟', '💯', '🙌', '🏳', '🎶', '⢠', '⡀', '€', '}', '🤦', '😬', '😘', '😄', '💖', '💕', '🎉', '🤬', '🤢', '😐', '💀', '🇺', '🇸', '⣾', '⣼', '⣷', 'ᴛ', 'ᴏ', 'ɪ', '🤮', '🙃', '😔', '😒', '😆', '\\\\', '🤲', '🔪', '🎵', '🅱', '⣇', '⢿', '⢹', '⢰', '⢤', '⡿', '⡄', '⠿', '⠦', '⠙', '⠘', '⠇', '✔', 'ᴀ', '̻', 'á', '°', '`', '🤩', '🤙', '😥', '😞', '😇', '💓', '💅', '🏽', '…', '„', '͝', '͜', '🤪', '🤚', '🚫', '🙂', '😳', '😰', '😫', '😜', '😖', '😋', '🖐', '💪', '💙', '👋', '👊', '🏊', '⣠', '⢻', '⡾', '⡼', '⡶', '⠻', '⠸', '⠴', '⠳', '⠢', '⠟', '⠊', '⠈', '❣', '☁', '▀', 'ᴡ', 'ᴇ', '͡', 'ʖ', 'ɴ', '{', '🤰', '🤯', '🤞', '🤘', '🙈', '😱', '😮', '😪', '😣', '😕', '😑', '😀', '💗', '💎', '👩', '🎂', '国', '中', '⭕', '❄', '✨', '✌', '✋', '♿', '≠', 'δ', '͚', '͕', '̢', '̕', 'ñ', '🧀', '🦵', '🥘', '🤤', '🤟', '🤛', '🤕', '🚒', '😾', '😹', '😸', '😴', '😗', '🖥', '🖖', '📰', '💩', '💨', '💚', '💍', '💄', '💁', '👸', '👲', '👑', '👐', '👉', '👇', '👅', '🐃', '🎖', '🍺', '🍁', '🌊', '🇷', 'ﾉ', '清', '查', '人', 'ノ', '゜', '⣻', '⣹', '⣴', '⣧', '⣦', '⣘', '⣕', '⣆', '⢸', '⢧', '⢣', '⡷', '⡜', '⡏', '⡇', '⡆', '⠾', '⠹', '⠫', '⠞', '⠚', '⠓', '⠏', '⠄', '✊', '⛏', '☠', '☝', '▫', '•', '–', 'ᴜ', 'ᴍ', 'ᴅ', 'ω', '͠', '͞', '͙', '͖', '͔', '̺', '̹', '̳', '̰', '̫', '̪', '̨', '̣', '̜', '̙', '̗', '̖', 'ʜ', 'ɢ', 'œ', 'ī', 'ó', '»', '´', '«', '©', '¦', '🧛', '🧐', '🦈', '🥛', '🥂', '🤫', '🤨', '🤠', '🤓', '🤑', '🛡', '🛑', '🙎', '🙊', '🙅', '😿', '😻', '😷', '😶', '😨', '😦', '😠', '😟', '😝', '😛', '😓', '😃', '🗑', '🖤', '🕺', '🔑', '📚', '💭', '💦', '💛', '💔', '💋', '💃', '👻', '👹', '👴', '👓', '🐊', '🏭', '🎾', '🍿', '🍾', '🍻', '🍰', '🍩', '🍕', '🍑', '🍍', '🍀', '🌹', '🌱', '🌟', '🇵', '🇫', '🇨', '🇦', '🅰', '･', '？', '！', '허', '카', '인', '억', '발', '면', '니', '개', '雅', '玛', '油', '情', '在', '加', '做', '你', '什', '么', '⛑', '⚔', '♾', '♭', '♡', '☕', '☆', '≈', '\\u202c', '\\u202a', '׳', 'ן', 'ל', 'י', 'ו', 'ג', 'א', '͢', '͟', '͘', '͓', '͏', '͎', '͍', '͈', 'ͅ', '̼', '̷', '̲', '̱', '̯', '̮', '̭', '̬', '̧', '̦', '̥', '̤', '̠', '̟', '̞', '̝', '̘', 'ú', 'ò', 'í', 'è', '²', '¬']\n"
          ]
        }
      ],
      "source": [
        "# Tokenize\n",
        "text_vectorizer.adapt(X_train.values)\n",
        "\n",
        "vocab = text_vectorizer.get_vocabulary()\n",
        "print(f\"Vocabulary size: {len(vocab)}\")\n",
        "print(vocab)"
      ]
    },
    {
      "cell_type": "code",
      "execution_count": 53,
      "metadata": {
        "colab": {
          "base_uri": "https://localhost:8080/"
        },
        "id": "vhVpaineVJyu",
        "outputId": "903d07e8-fa53-4d40-d45e-87ac57d5ffcb"
      },
      "outputs": [
        {
          "output_type": "stream",
          "name": "stdout",
          "text": [
            "Text to indices:\n",
            "(preprocessed) → someone get fat boy [name] a happy meal.\n",
            "(tokenized) → [ 9  5 15  3  5  8  3  2 17  3  4  2 21  6  4  2 23  5 16  2 29  8  6 15\n",
            "  3 30  2  6  2 10  6 22 22 16  2 15  3  6 12 20  0  0  0  0  0  0  0  0\n",
            "  0  0  0  0  0  0  0  0  0  0  0  0  0  0  0  0  0  0  0  0  0  0  0  0\n",
            "  0  0  0  0  0  0  0  0  0  0  0  0  0  0  0  0  0  0  0  0  0  0  0  0\n",
            "  0  0  0  0  0  0  0  0  0  0  0  0  0  0  0  0  0  0  0  0  0  0  0  0\n",
            "  0  0  0  0  0  0  0  0]\n"
          ]
        }
      ],
      "source": [
        "print (\"Text to indices:\\n\"\n",
        "    f\"(preprocessed) → {X_train.iloc[0]}\\n\"\n",
        "    f\"(tokenized) → {text_vectorizer(X_train.iloc[0]).numpy()}\")"
      ]
    },
    {
      "cell_type": "markdown",
      "metadata": {
        "id": "9e4VyqnPWc8d"
      },
      "source": [
        "### Data imbalance\n",
        "\n",
        "We'll factor class weights in our objective function ([binary cross entropy with logits](https://pytorch.org/docs/stable/generated/torch.nn.BCEWithLogitsLoss.html)) to help with [class imbalance](https://madewithml.com/courses/mlops/labeling/#data-imbalance). There are many other techniques such as over sampling from underrepresented classes, undersampling, etc. but we'll cover these in a separate unit lesson on data imbalance"
      ]
    },
    {
      "cell_type": "code",
      "execution_count": 54,
      "metadata": {
        "colab": {
          "base_uri": "https://localhost:8080/"
        },
        "id": "ps_EgRk6WeCQ",
        "outputId": "ddf730a0-16f9-4060-ff94-e2373191ecf3"
      },
      "outputs": [
        {
          "output_type": "stream",
          "name": "stdout",
          "text": [
            "class counts: [4015, 2196, 1828, 3124, 4118, 1417, 1737, 2276, 861, 1962, 2647, 1193, 572, 1313, 713, 2686, 140, 1804, 1919, 412, 2010, 320, 2022, 327, 551, 1536, 1279, 12863],\n",
            "class weights: {0: 0.00024906600249066, 1: 0.0004553734061930783, 2: 0.0005470459518599562, 3: 0.0003201024327784891, 4: 0.00024283632831471587, 5: 0.0007057163020465773, 6: 0.0005757052389176742, 7: 0.0004393673110720562, 8: 0.0011614401858304297, 9: 0.0005096839959225281, 10: 0.00037778617302606723, 11: 0.0008382229673093043, 12: 0.0017482517482517483, 13: 0.0007616146230007616, 14: 0.001402524544179523, 15: 0.00037230081906180194, 16: 0.007142857142857143, 17: 0.0005543237250554324, 18: 0.0005211047420531526, 19: 0.0024271844660194173, 20: 0.0004975124378109452, 21: 0.003125, 22: 0.0004945598417408506, 23: 0.0030581039755351682, 24: 0.0018148820326678765, 25: 0.0006510416666666666, 26: 0.0007818608287724785, 27: 7.774236181295187e-05}\n"
          ]
        }
      ],
      "source": [
        "# Class weights\n",
        "counts = [len(train_df[train_df[label] == 1]) for label in labels]\n",
        "class_weights = {i: 1.0/count for i, count in enumerate(counts)}\n",
        "print (f\"class counts: {counts},\\nclass weights: {class_weights}\")"
      ]
    },
    {
      "cell_type": "markdown",
      "metadata": {
        "id": "pG7Y1zBjmleC"
      },
      "source": [
        "### Datasets\n",
        "\n",
        "Here we are going to use [TF.data.Dataset](https://www.tensorflow.org/api_docs/python/tf/data/Dataset) to efficiently load and process data for training, evaluation, and inference."
      ]
    },
    {
      "cell_type": "code",
      "execution_count": 55,
      "metadata": {
        "id": "WD4Zj7i6mmMB"
      },
      "outputs": [],
      "source": [
        "def get_dataset(x, y, labels=labels, labeled=True, ordered=False, \n",
        "                repeated=True, batch_size=64):\n",
        "    if labeled:\n",
        "        dataset = tf.data.Dataset.from_tensor_slices((x, y))\n",
        "    else:\n",
        "        dataset = tf.data.Dataset.from_tensor_slices(x)\n",
        "  \n",
        "    if repeated:\n",
        "        dataset = dataset.repeat()\n",
        "    if not ordered:\n",
        "        dataset = dataset.shuffle(2048)\n",
        "        \n",
        "    dataset = dataset.batch(batch_size)\n",
        "    dataset = dataset.cache()\n",
        "    dataset = dataset.prefetch(tf.data.AUTOTUNE)\n",
        "    return dataset"
      ]
    },
    {
      "cell_type": "code",
      "execution_count": 56,
      "metadata": {
        "colab": {
          "base_uri": "https://localhost:8080/"
        },
        "id": "EIRiblqTzcUs",
        "outputId": "c8610c96-dbcc-4566-e2cf-fd0ff4ca784b"
      },
      "outputs": [
        {
          "output_type": "stream",
          "name": "stdout",
          "text": [
            "Sample point:\n",
            "  X: what does an endorsement really do though? does it seem like a publicity stunt?\n",
            "  y: [0 0 0 0 0 0 0 1 0 0 0 0 0 0 0 0 0 0 0 0 0 0 0 0 0 0 0 0]\n",
            "Sample shape:\n",
            "  X: (64,)\n",
            "  y: (64, 28)\n"
          ]
        }
      ],
      "source": [
        "# Create datasets\n",
        "cnn_train_dataset = get_dataset(train_df.text, train_df[labels])\n",
        "cnn_valid_dataset = get_dataset(valid_df.text, valid_df[labels], ordered=True, repeated=False)\n",
        "cnn_test_dataset = get_dataset(test_df.text, test_df[labels], ordered=True, repeated=False)\n",
        "\n",
        "for sample in cnn_train_dataset.take(1):\n",
        "    x = sample[0]\n",
        "    y = sample[1]\n",
        "    print(\"Sample point:\\n\"\n",
        "    f\"  X: {x[0].numpy().decode()}\\n\"\n",
        "    f\"  y: {y[0].numpy()}\"\n",
        "    )\n",
        "    print(\"Sample shape:\\n\"\n",
        "    f\"  X: {x.shape}\\n\"\n",
        "    f\"  y: {y.shape}\"\n",
        "    )"
      ]
    },
    {
      "cell_type": "markdown",
      "metadata": {
        "id": "UtJlnMr83ca7"
      },
      "source": [
        "### Model\n",
        "\n",
        "We'll be using a convolutional neural network on top of our embedded tokens to extract meaningful spatial signal. This time, we'll be using many filter widths to act as n-gram feature extractors.\n",
        "\n",
        "![](https://github.com/dimitreOliveira/EmoBERT-MLOps/blob/main/assets/cnn_model_1.gif?raw=true)\n",
        "> Image source: https://madewithml.com/courses/mlops/baselines/#model\n",
        "\n",
        "Let's visualize the model's forward pass.\n",
        "\n",
        "1. We'll first tokenize our inputs (batch_size, max_seq_len).\n",
        "2. Then we'll embed our tokenized inputs (batch_size, max_seq_len, embedding_dim).\n",
        "3. We'll apply convolution via filters (filter_size, embedding_dim, num_filters) followed by batch normalization. Our filters act as character level n-gram detectors. We have three different filter sizes (2, 3 and 4) and they will act as bi-gram, tri-gram and 4-gram feature extractors, respectively.\n",
        "4. We'll apply 1D global max pooling, which will extract the most relevant information from the feature maps for making the decision.\n",
        "5. We feed the pool outputs to a fully-connected (FC) layer (with dropout).\n",
        "6. We use one more FC layer with softmax to derive class probabilities.\n",
        "\n",
        "![](https://github.com/dimitreOliveira/EmoBERT-MLOps/blob/main/assets/cnn_model_2.png?raw=true)\n",
        "> Image source: https://madewithml.com/courses/mlops/baselines/#model"
      ]
    },
    {
      "cell_type": "code",
      "execution_count": 57,
      "metadata": {
        "id": "jGKNXaA23dDX"
      },
      "outputs": [],
      "source": [
        "# Arguments\n",
        "embedding_dim = 128\n",
        "num_filters = 128\n",
        "hidden_dim = 128\n",
        "dropout_p = 0.5\n",
        "filter_sizes = [2, 3, 4]"
      ]
    },
    {
      "cell_type": "code",
      "execution_count": 58,
      "metadata": {
        "id": "PuxD-I97BP9_"
      },
      "outputs": [],
      "source": [
        "def model_fn(tokenizer, num_classes, embedding_dim, filter_sizes, \n",
        "                 num_filters, hidden_dim, dropout_p):\n",
        "    inputs = tf.keras.Input(shape=(1,), dtype=tf.string, name='text')\n",
        "    token_x = tokenizer(inputs)\n",
        "\n",
        "    emb_x = L.Embedding(input_dim=len(tokenizer.get_vocabulary()),\n",
        "                        output_dim=embedding_dim)(token_x)\n",
        "\n",
        "    convs = [L.Conv1D(filters=num_filters, \n",
        "                      kernel_size=f, \n",
        "                      activation='relu', \n",
        "                      padding='same') for f in filter_sizes]\n",
        "    b_norms = [L.BatchNormalization() for _ in filter_sizes]\n",
        "    max_pooling = L.MaxPool1D(num_filters)\n",
        "\n",
        "    x_conv = []\n",
        "    for i, f in enumerate(filter_sizes):\n",
        "        # Conv\n",
        "        _x_conv = convs[i](emb_x)\n",
        "\n",
        "        # Batch norm\n",
        "        _x_conv = b_norms[i](_x_conv)\n",
        "\n",
        "        # Pool\n",
        "        _x_conv = max_pooling(_x_conv)\n",
        "        _x_conv = tf.squeeze(_x_conv, axis=1)\n",
        "        x_conv.append(_x_conv)\n",
        "\n",
        "    x_concat = tf.concat(x_conv, axis=-1)\n",
        "    fc_x = L.Dropout(dropout_p)(x_concat)\n",
        "    fc_x = L.Dense(hidden_dim)(fc_x)\n",
        "    outputs = L.Dense(num_classes, activation='sigmoid')(fc_x)\n",
        "\n",
        "    model = tf.keras.Model(inputs, outputs)\n",
        "    return model"
      ]
    },
    {
      "cell_type": "markdown",
      "metadata": {
        "id": "MlzHCFELV5Cz"
      },
      "source": [
        "- **VALID**: no padding, the filters only use the \"valid\" values in the input. If the filter cannot reach all the input values (filters go left to right), the extra values on the right are dropped.\n",
        "- **SAME**: adds padding evenly to the right (preferred) and left sides of the input so that all values in the input are processed.\n",
        "\n",
        "![](https://github.com/dimitreOliveira/EmoBERT-MLOps/blob/main/assets/cnn_model_3.png?raw=true)\n",
        "> Image source: https://madewithml.com/courses/mlops/baselines/#model\n",
        "\n",
        "\n",
        "We're usin SAME padding so that the convolutional outputs are the same shape as our inputs. The amount of padding for the SAME padding can be determined using the same equation. We want our output to have the same width as our input, so we solve for P:\n",
        "\n",
        " \n",
        "If  is not a whole number, we round up (using math.ceil) and place the extra padding on the right side."
      ]
    },
    {
      "cell_type": "markdown",
      "source": [
        "As you can see we are using the **tokenizer as part of our model graph**, this has many advantages, specially considering deployment and serving, with this setup we don't have two moving pieces (model and tokenizer), here they are fused as one, thus we only care to train, store, deploy and monitor a single piece. Another advantage is that this way we can **feed the mode raw strings** instead of tokenized inputs."
      ],
      "metadata": {
        "id": "5rgdJEwf-TTo"
      }
    },
    {
      "cell_type": "code",
      "execution_count": 59,
      "metadata": {
        "colab": {
          "base_uri": "https://localhost:8080/"
        },
        "id": "YDAwapu5V34S",
        "outputId": "9017b919-82b2-4265-aa73-f948b3314229"
      },
      "outputs": [
        {
          "output_type": "stream",
          "name": "stdout",
          "text": [
            "Model: \"model\"\n",
            "__________________________________________________________________________________________________\n",
            " Layer (type)                   Output Shape         Param #     Connected to                     \n",
            "==================================================================================================\n",
            " text (InputLayer)              [(None, 1)]          0           []                               \n",
            "                                                                                                  \n",
            " text_vectorization (TextVector  (None, 128)         0           ['text[0][0]']                   \n",
            " ization)                                                                                         \n",
            "                                                                                                  \n",
            " embedding (Embedding)          (None, 128, 128)     63872       ['text_vectorization[0][0]']     \n",
            "                                                                                                  \n",
            " conv1d (Conv1D)                (None, 128, 128)     32896       ['embedding[0][0]']              \n",
            "                                                                                                  \n",
            " conv1d_1 (Conv1D)              (None, 128, 128)     49280       ['embedding[0][0]']              \n",
            "                                                                                                  \n",
            " conv1d_2 (Conv1D)              (None, 128, 128)     65664       ['embedding[0][0]']              \n",
            "                                                                                                  \n",
            " batch_normalization (BatchNorm  (None, 128, 128)    512         ['conv1d[0][0]']                 \n",
            " alization)                                                                                       \n",
            "                                                                                                  \n",
            " batch_normalization_1 (BatchNo  (None, 128, 128)    512         ['conv1d_1[0][0]']               \n",
            " rmalization)                                                                                     \n",
            "                                                                                                  \n",
            " batch_normalization_2 (BatchNo  (None, 128, 128)    512         ['conv1d_2[0][0]']               \n",
            " rmalization)                                                                                     \n",
            "                                                                                                  \n",
            " max_pooling1d (MaxPooling1D)   (None, 1, 128)       0           ['batch_normalization[0][0]',    \n",
            "                                                                  'batch_normalization_1[0][0]',  \n",
            "                                                                  'batch_normalization_2[0][0]']  \n",
            "                                                                                                  \n",
            " tf.compat.v1.squeeze (TFOpLamb  (None, 128)         0           ['max_pooling1d[0][0]']          \n",
            " da)                                                                                              \n",
            "                                                                                                  \n",
            " tf.compat.v1.squeeze_1 (TFOpLa  (None, 128)         0           ['max_pooling1d[1][0]']          \n",
            " mbda)                                                                                            \n",
            "                                                                                                  \n",
            " tf.compat.v1.squeeze_2 (TFOpLa  (None, 128)         0           ['max_pooling1d[2][0]']          \n",
            " mbda)                                                                                            \n",
            "                                                                                                  \n",
            " tf.concat (TFOpLambda)         (None, 384)          0           ['tf.compat.v1.squeeze[0][0]',   \n",
            "                                                                  'tf.compat.v1.squeeze_1[0][0]', \n",
            "                                                                  'tf.compat.v1.squeeze_2[0][0]'] \n",
            "                                                                                                  \n",
            " dropout (Dropout)              (None, 384)          0           ['tf.concat[0][0]']              \n",
            "                                                                                                  \n",
            " dense (Dense)                  (None, 128)          49280       ['dropout[0][0]']                \n",
            "                                                                                                  \n",
            " dense_1 (Dense)                (None, 28)           3612        ['dense[0][0]']                  \n",
            "                                                                                                  \n",
            "==================================================================================================\n",
            "Total params: 266,140\n",
            "Trainable params: 265,372\n",
            "Non-trainable params: 768\n",
            "__________________________________________________________________________________________________\n"
          ]
        }
      ],
      "source": [
        "# Initialize model\n",
        "cnn_model = model_fn(text_vectorizer, len(labels), embedding_dim, filter_sizes, \n",
        "                     num_filters, hidden_dim, dropout_p)\n",
        "cnn_model.summary()"
      ]
    },
    {
      "cell_type": "markdown",
      "metadata": {
        "id": "hkYBxc8RW3z0"
      },
      "source": [
        "### Training"
      ]
    },
    {
      "cell_type": "code",
      "source": [
        "def get_strategy():\n",
        "    # TPU or GPU detection\n",
        "    # Detect hardware, return appropriate distribution strategy\n",
        "    try:\n",
        "        tpu = tf.distribute.cluster_resolver.TPUClusterResolver()\n",
        "        print(f'Running on TPU {tpu.master()}')\n",
        "    except ValueError:\n",
        "        tpu = None\n",
        "\n",
        "    if tpu:\n",
        "        tf.config.experimental_connect_to_cluster(tpu)\n",
        "        tf.tpu.experimental.initialize_tpu_system(tpu)\n",
        "        strategy = tf.distribute.experimental.TPUStrategy(tpu)\n",
        "    else:\n",
        "        strategy = tf.distribute.get_strategy()\n",
        "    return strategy"
      ],
      "metadata": {
        "id": "UD6NSt6c6TPB"
      },
      "execution_count": 60,
      "outputs": []
    },
    {
      "cell_type": "code",
      "source": [
        "strategy = get_strategy()"
      ],
      "metadata": {
        "id": "PV_kYFoR6dRR"
      },
      "execution_count": 61,
      "outputs": []
    },
    {
      "cell_type": "code",
      "execution_count": 62,
      "metadata": {
        "id": "j0MxxymmhXKH"
      },
      "outputs": [],
      "source": [
        "# Arguments\n",
        "lr = 2e-4\n",
        "num_epochs = 15\n",
        "steps_per_epoch = 500\n",
        "patience = 3"
      ]
    },
    {
      "cell_type": "code",
      "execution_count": 63,
      "metadata": {
        "id": "iU_WRlZRW6G2"
      },
      "outputs": [],
      "source": [
        "# Define loss & metrics\n",
        "loss_fn = tf.keras.losses.BinaryCrossentropy()\n",
        "metrics_fn = tf.keras.metrics.BinaryAccuracy()"
      ]
    },
    {
      "cell_type": "code",
      "execution_count": 64,
      "metadata": {
        "id": "OefXMMfoW6qa"
      },
      "outputs": [],
      "source": [
        "# Define optimizer & scheduler\n",
        "optimizer = tf.keras.optimizers.Adam(lr=lr)\n",
        "scheduler = tf.keras.callbacks.ReduceLROnPlateau(monitor='val_loss', \n",
        "                                                 mode='min', factor=0.1, \n",
        "                                                 patience=patience, verbose=1)"
      ]
    },
    {
      "cell_type": "code",
      "execution_count": 65,
      "metadata": {
        "id": "9qtOCiz4W8YB"
      },
      "outputs": [],
      "source": [
        "# Compile model\n",
        "cnn_model.compile(optimizer=optimizer, \n",
        "                  loss=loss_fn, \n",
        "                  metrics=metrics_fn)"
      ]
    },
    {
      "cell_type": "code",
      "execution_count": 66,
      "metadata": {
        "colab": {
          "base_uri": "https://localhost:8080/"
        },
        "id": "Np9G0-T8W9QI",
        "outputId": "2b26af7d-e5f3-4c6a-b014-89adbb70bc6c"
      },
      "outputs": [
        {
          "output_type": "stream",
          "name": "stdout",
          "text": [
            "Epoch 1/15\n",
            "500/500 - 20s - loss: 1.0646e-04 - binary_accuracy: 0.9426 - val_loss: 0.2873 - val_binary_accuracy: 0.9579 - lr: 2.0000e-04 - 20s/epoch - 39ms/step\n",
            "Epoch 2/15\n",
            "500/500 - 7s - loss: 7.8505e-05 - binary_accuracy: 0.9577 - val_loss: 0.1647 - val_binary_accuracy: 0.9580 - lr: 2.0000e-04 - 7s/epoch - 13ms/step\n",
            "Epoch 3/15\n",
            "500/500 - 7s - loss: 7.4997e-05 - binary_accuracy: 0.9582 - val_loss: 0.1596 - val_binary_accuracy: 0.9587 - lr: 2.0000e-04 - 7s/epoch - 13ms/step\n",
            "Epoch 4/15\n",
            "500/500 - 6s - loss: 7.2860e-05 - binary_accuracy: 0.9586 - val_loss: 0.1559 - val_binary_accuracy: 0.9593 - lr: 2.0000e-04 - 6s/epoch - 13ms/step\n",
            "Epoch 5/15\n",
            "500/500 - 6s - loss: 7.1775e-05 - binary_accuracy: 0.9585 - val_loss: 0.1546 - val_binary_accuracy: 0.9593 - lr: 2.0000e-04 - 6s/epoch - 13ms/step\n",
            "Epoch 6/15\n",
            "500/500 - 7s - loss: 7.0579e-05 - binary_accuracy: 0.9586 - val_loss: 0.1535 - val_binary_accuracy: 0.9593 - lr: 2.0000e-04 - 7s/epoch - 13ms/step\n",
            "Epoch 7/15\n",
            "500/500 - 7s - loss: 6.9351e-05 - binary_accuracy: 0.9589 - val_loss: 0.1519 - val_binary_accuracy: 0.9594 - lr: 2.0000e-04 - 7s/epoch - 13ms/step\n",
            "Epoch 8/15\n",
            "500/500 - 7s - loss: 6.8540e-05 - binary_accuracy: 0.9588 - val_loss: 0.1518 - val_binary_accuracy: 0.9595 - lr: 2.0000e-04 - 7s/epoch - 13ms/step\n",
            "Epoch 9/15\n",
            "500/500 - 7s - loss: 6.8202e-05 - binary_accuracy: 0.9588 - val_loss: 0.1492 - val_binary_accuracy: 0.9596 - lr: 2.0000e-04 - 7s/epoch - 13ms/step\n",
            "Epoch 10/15\n",
            "500/500 - 7s - loss: 6.7054e-05 - binary_accuracy: 0.9591 - val_loss: 0.1488 - val_binary_accuracy: 0.9596 - lr: 2.0000e-04 - 7s/epoch - 13ms/step\n",
            "Epoch 11/15\n",
            "500/500 - 7s - loss: 6.6270e-05 - binary_accuracy: 0.9588 - val_loss: 0.1480 - val_binary_accuracy: 0.9596 - lr: 2.0000e-04 - 7s/epoch - 13ms/step\n",
            "Epoch 12/15\n",
            "500/500 - 7s - loss: 6.6454e-05 - binary_accuracy: 0.9588 - val_loss: 0.1478 - val_binary_accuracy: 0.9595 - lr: 2.0000e-04 - 7s/epoch - 13ms/step\n",
            "Epoch 13/15\n",
            "500/500 - 6s - loss: 6.5536e-05 - binary_accuracy: 0.9590 - val_loss: 0.1466 - val_binary_accuracy: 0.9594 - lr: 2.0000e-04 - 6s/epoch - 13ms/step\n",
            "Epoch 14/15\n",
            "500/500 - 7s - loss: 6.5437e-05 - binary_accuracy: 0.9588 - val_loss: 0.1462 - val_binary_accuracy: 0.9597 - lr: 2.0000e-04 - 7s/epoch - 13ms/step\n",
            "Epoch 15/15\n",
            "500/500 - 7s - loss: 6.5185e-05 - binary_accuracy: 0.9588 - val_loss: 0.1466 - val_binary_accuracy: 0.9597 - lr: 2.0000e-04 - 7s/epoch - 13ms/step\n"
          ]
        }
      ],
      "source": [
        "# Train\n",
        "with strategy.scope():\n",
        "    cnn_model.fit(x=cnn_train_dataset, \n",
        "                  validation_data=cnn_valid_dataset, \n",
        "                  steps_per_epoch=steps_per_epoch, \n",
        "                  callbacks=[scheduler], \n",
        "                  epochs=num_epochs, \n",
        "                  class_weight=class_weights, \n",
        "                  verbose=2)"
      ]
    },
    {
      "cell_type": "markdown",
      "metadata": {
        "id": "5hjsEXHthmDi"
      },
      "source": [
        "### Evaluation"
      ]
    },
    {
      "cell_type": "code",
      "execution_count": 67,
      "metadata": {
        "id": "0YwomGvIhnk6"
      },
      "outputs": [],
      "source": [
        "import pickle\n",
        "from pathlib import Path\n",
        "from sklearn.metrics import precision_recall_curve"
      ]
    },
    {
      "cell_type": "code",
      "execution_count": 68,
      "metadata": {
        "id": "z5tuSZuToGbI"
      },
      "outputs": [],
      "source": [
        "y_true = np.array([y.numpy() for x, y in iter(cnn_valid_dataset.unbatch())])\n",
        "cnn_train_x = cnn_valid_dataset.map(lambda x, y: x)\n",
        "y_prob = cnn_model.predict(cnn_train_x)"
      ]
    },
    {
      "cell_type": "code",
      "execution_count": 69,
      "metadata": {
        "id": "chaRSULhhpk6",
        "colab": {
          "base_uri": "https://localhost:8080/",
          "height": 442
        },
        "outputId": "9074a170-8b07-4992-f444-7793dfbf5c2d"
      },
      "outputs": [
        {
          "output_type": "display_data",
          "data": {
            "text/plain": [
              "<Figure size 504x504 with 1 Axes>"
            ],
            "image/png": "[encoded data removed]"
          },
          "metadata": {
            "needs_background": "light"
          }
        }
      ],
      "source": [
        "# Threshold-PR curve\n",
        "precisions, recalls, thresholds = precision_recall_curve(y_true.ravel(), y_prob.ravel())\n",
        "\n",
        "plt.figure(figsize=(7, 7))\n",
        "plt.plot(thresholds, precisions[:-1], \"r--\", label=\"Precision\")\n",
        "plt.plot(thresholds, recalls[:-1], \"b-\", label=\"Recall\")\n",
        "plt.ylabel(\"Performance\")\n",
        "plt.xlabel(\"Threshold\")\n",
        "plt.legend(loc=\"best\")\n",
        "plt.show()"
      ]
    },
    {
      "cell_type": "code",
      "execution_count": 70,
      "metadata": {
        "id": "DS7stocau003"
      },
      "outputs": [],
      "source": [
        "# Determining the best threshold\n",
        "def find_best_threshold(y_true, y_prob):\n",
        "    \"\"\"Find the best threshold for maximum F1.\"\"\"\n",
        "    precisions, recalls, thresholds = precision_recall_curve(y_true, y_prob)\n",
        "    f1s = (2 * precisions * recalls) / (precisions + recalls)\n",
        "    return thresholds[np.argmax(f1s)]"
      ]
    },
    {
      "cell_type": "code",
      "execution_count": 71,
      "metadata": {
        "colab": {
          "base_uri": "https://localhost:8080/"
        },
        "id": "c5HU6cy8u1xs",
        "outputId": "0c065380-2b90-404d-a2b9-df2438f1fbb2"
      },
      "outputs": [
        {
          "output_type": "stream",
          "name": "stdout",
          "text": [
            "0.13485715\n"
          ]
        }
      ],
      "source": [
        "# Best threshold for f1\n",
        "cnn_threshold = find_best_threshold(y_true.ravel(), y_prob.ravel())\n",
        "print(cnn_threshold)"
      ]
    },
    {
      "cell_type": "markdown",
      "metadata": {
        "id": "nIrOd58UwtaI"
      },
      "source": [
        "**How can we do better?**\n",
        "\n",
        "\n",
        "How can we improve on our process of identifying and using the appropriate threshold?\n",
        "\n",
        "\n",
        "<details><summary><b> Show answer </b></summary>\n",
        "<p>\n",
        "\n",
        "- Plot PR curves for all classes (not just overall) to ensure a certain global threshold doesn't deliver very poor performance for any particular class\n",
        "- Determine different thresholds for different classes and use them during inference\n",
        "\n",
        "</p>\n",
        "</details>"
      ]
    },
    {
      "cell_type": "code",
      "execution_count": 72,
      "metadata": {
        "id": "ARZ41FNYwuxl"
      },
      "outputs": [],
      "source": [
        "y_true = np.array([y.numpy() for x, y in iter(cnn_test_dataset.unbatch())])\n",
        "cnn_test_x = cnn_test_dataset.map(lambda x, y: x)\n",
        "y_prob = cnn_model.predict(cnn_test_x)\n",
        "\n",
        "# Determine predictions using threshold\n",
        "y_pred = np.array([np.where(prob >= cnn_threshold, 1, 0) for prob in y_prob])"
      ]
    },
    {
      "cell_type": "code",
      "execution_count": 73,
      "metadata": {
        "id": "7AxVMSQZwyv6",
        "colab": {
          "base_uri": "https://localhost:8080/"
        },
        "outputId": "519406e8-f954-432e-e2e1-738b00f68320"
      },
      "outputs": [
        {
          "output_type": "stream",
          "name": "stdout",
          "text": [
            "{\n",
            "  \"precision\": 0.37255784486171706,\n",
            "  \"recall\": 0.23780046627542406,\n",
            "  \"f1\": 0.2249779940325311\n",
            "}\n"
          ]
        }
      ],
      "source": [
        "# Evaluate\n",
        "metrics = precision_recall_fscore_support(y_true, y_pred, average=\"weighted\")\n",
        "performance = {\"precision\": metrics[0], \"recall\": metrics[1], \"f1\": metrics[2]}\n",
        "print (json.dumps(performance, indent=2))"
      ]
    },
    {
      "cell_type": "code",
      "execution_count": 74,
      "metadata": {
        "id": "Ui1BFIlKwz-p",
        "colab": {
          "base_uri": "https://localhost:8080/"
        },
        "outputId": "cd2cdf74-2d32-4698-a6fb-1badcba37245"
      },
      "outputs": [
        {
          "output_type": "stream",
          "name": "stdout",
          "text": [
            "INFO:tensorflow:Assets written to: cnn/cnn_model/assets\n"
          ]
        }
      ],
      "source": [
        "# Save artifacts\n",
        "dir = Path(\"cnn\")\n",
        "dir.mkdir(parents=True, exist_ok=True)\n",
        "\n",
        "# Pickle the tokenizer's config and weights\n",
        "pickle.dump({'config': text_vectorizer.get_config(),\n",
        "             'weights': text_vectorizer.get_weights()}, \n",
        "             open(f\"{dir}/tokenizer.pkl\", \"wb\"))\n",
        "\n",
        "# Saving model with the SavedModel format\n",
        "cnn_model.save(f\"{dir}/cnn_model\", save_format=\"tf\")\n",
        "\n",
        "# Saving performance metrics\n",
        "with open(Path(dir, \"performance.json\"), \"w\") as fp:\n",
        "    json.dump(performance, indent=2, sort_keys=False, fp=fp)"
      ]
    },
    {
      "cell_type": "markdown",
      "metadata": {
        "id": "qfgiS5vIw1jq"
      },
      "source": [
        "### Inference"
      ]
    },
    {
      "cell_type": "code",
      "execution_count": 75,
      "metadata": {
        "id": "RVtivQuCOwOt",
        "colab": {
          "base_uri": "https://localhost:8080/"
        },
        "outputId": "f758beb3-ef05-4547-ccab-c91d017f7ea1"
      },
      "outputs": [
        {
          "output_type": "stream",
          "name": "stdout",
          "text": [
            "Model: \"model\"\n",
            "__________________________________________________________________________________________________\n",
            " Layer (type)                   Output Shape         Param #     Connected to                     \n",
            "==================================================================================================\n",
            " text (InputLayer)              [(None, 1)]          0           []                               \n",
            "                                                                                                  \n",
            " text_vectorization (TextVector  (None, 128)         0           ['text[0][0]']                   \n",
            " ization)                                                                                         \n",
            "                                                                                                  \n",
            " embedding (Embedding)          (None, 128, 128)     63872       ['text_vectorization[0][0]']     \n",
            "                                                                                                  \n",
            " conv1d (Conv1D)                (None, 128, 128)     32896       ['embedding[0][0]']              \n",
            "                                                                                                  \n",
            " conv1d_1 (Conv1D)              (None, 128, 128)     49280       ['embedding[0][0]']              \n",
            "                                                                                                  \n",
            " conv1d_2 (Conv1D)              (None, 128, 128)     65664       ['embedding[0][0]']              \n",
            "                                                                                                  \n",
            " batch_normalization (BatchNorm  (None, 128, 128)    512         ['conv1d[0][0]']                 \n",
            " alization)                                                                                       \n",
            "                                                                                                  \n",
            " batch_normalization_1 (BatchNo  (None, 128, 128)    512         ['conv1d_1[0][0]']               \n",
            " rmalization)                                                                                     \n",
            "                                                                                                  \n",
            " batch_normalization_2 (BatchNo  (None, 128, 128)    512         ['conv1d_2[0][0]']               \n",
            " rmalization)                                                                                     \n",
            "                                                                                                  \n",
            " max_pooling1d (MaxPooling1D)   (None, 1, 128)       0           ['batch_normalization[0][0]',    \n",
            "                                                                  'batch_normalization_1[0][0]',  \n",
            "                                                                  'batch_normalization_2[0][0]']  \n",
            "                                                                                                  \n",
            " tf.compat.v1.squeeze (TFOpLamb  (None, 128)         0           ['max_pooling1d[0][0]']          \n",
            " da)                                                                                              \n",
            "                                                                                                  \n",
            " tf.compat.v1.squeeze_1 (TFOpLa  (None, 128)         0           ['max_pooling1d[1][0]']          \n",
            " mbda)                                                                                            \n",
            "                                                                                                  \n",
            " tf.compat.v1.squeeze_2 (TFOpLa  (None, 128)         0           ['max_pooling1d[2][0]']          \n",
            " mbda)                                                                                            \n",
            "                                                                                                  \n",
            " tf.concat (TFOpLambda)         (None, 384)          0           ['tf.compat.v1.squeeze[0][0]',   \n",
            "                                                                  'tf.compat.v1.squeeze_1[0][0]', \n",
            "                                                                  'tf.compat.v1.squeeze_2[0][0]'] \n",
            "                                                                                                  \n",
            " dropout (Dropout)              (None, 384)          0           ['tf.concat[0][0]']              \n",
            "                                                                                                  \n",
            " dense (Dense)                  (None, 128)          49280       ['dropout[0][0]']                \n",
            "                                                                                                  \n",
            " dense_1 (Dense)                (None, 28)           3612        ['dense[0][0]']                  \n",
            "                                                                                                  \n",
            "==================================================================================================\n",
            "Total params: 266,140\n",
            "Trainable params: 265,372\n",
            "Non-trainable params: 768\n",
            "__________________________________________________________________________________________________\n"
          ]
        }
      ],
      "source": [
        "# Load artifacts\n",
        "from_disk = pickle.load(open(f\"{dir}/tokenizer.pkl\", \"rb\"))\n",
        "tokenizer = L.TextVectorization.from_config(from_disk['config'])\n",
        "\n",
        "# This might not work for some TF versions\n",
        "# loaded_cnn_model = tf.keras.models.load_model(f\"{dir}/cnn_model\")\n",
        "loaded_cnn_model = cnn_model\n",
        "loaded_cnn_model.summary()"
      ]
    },
    {
      "cell_type": "code",
      "execution_count": 76,
      "metadata": {
        "id": "3wv3fy2ub5NF"
      },
      "outputs": [],
      "source": [
        "# Dataloader\n",
        "text = [\"I am loving this amazing MLOps tutorial, so much cool content\"]\n",
        "x_text = get_dataset(text, _, ordered=True, repeated=False, labeled=False)"
      ]
    },
    {
      "cell_type": "code",
      "execution_count": 77,
      "metadata": {
        "id": "hGPk6VYw1-VH"
      },
      "outputs": [],
      "source": [
        "def decode_preds(preds, labels=labels):\n",
        "  outputs = []\n",
        "  for pred in preds:\n",
        "    decoded = [labels[i] for i, v in enumerate(pred) if v == 1]\n",
        "    outputs.append(decoded)\n",
        "  return outputs"
      ]
    },
    {
      "cell_type": "code",
      "execution_count": 78,
      "metadata": {
        "colab": {
          "base_uri": "https://localhost:8080/"
        },
        "id": "CmoDeG86p-aa",
        "outputId": "69e9392d-164b-4b64-a45a-2f8a8f2cd3cf"
      },
      "outputs": [
        {
          "output_type": "stream",
          "name": "stdout",
          "text": [
            "[['admiration', 'excitement', 'love']]\n"
          ]
        }
      ],
      "source": [
        "y_prob = loaded_cnn_model.predict(x_text)\n",
        "y_pred = np.array([np.where(prob >= cnn_threshold, 1, 0) for prob in y_prob])\n",
        "print(decode_preds(y_pred))"
      ]
    },
    {
      "cell_type": "markdown",
      "metadata": {
        "id": "6QyNpvHf2Zho"
      },
      "source": [
        "**limitations:**\n",
        "\n",
        "- **representation:** embeddings are not contextual.\n",
        "- **architecture:** extracting signal from encoded inputs is limited by filter widths.\n",
        "\n",
        "> Since we're dealing with simple architectures and fast training times, it's a good opportunity to explore tuning and experiment with k-fold cross validation to properly reach any conclusions about performance."
      ]
    },
    {
      "cell_type": "markdown",
      "metadata": {
        "id": "PliuH0qB6syW"
      },
      "source": [
        "## Transformers w/ Transfer learning\n",
        "\n",
        "**motivation:**\n",
        "\n",
        "- **representation**: now with transformers we have contextual embeddings, and the whole sentence can contribute to the meaning of each word.\n",
        "- **architecture**: we want to process our encoded inputs using transformers layers and a positional encoder, this setup allows us to feed the complete sentence together as context, instead of as a sequence like we did with the CNN.\n",
        "\n",
        "![](https://github.com/dimitreOliveira/EmoBERT-MLOps/blob/main/assets/transformer_model.png?raw=true)\n",
        "> Image source: https://jalammar.github.io/illustrated-transformer/\n",
        "\n",
        "If you want to know more about transformers and how they work, here are a couple of good sources:\n",
        " - [The Illustrated Transformer](https://jalammar.github.io/illustrated-transformer/)\n",
        " - [How Transformers work in deep learning and NLP: an intuitive introduction](https://theaisummer.com/transformer/)"
      ]
    },
    {
      "cell_type": "markdown",
      "metadata": {
        "id": "XrlMQbze8hFc"
      },
      "source": [
        "### Set up"
      ]
    },
    {
      "cell_type": "code",
      "execution_count": 79,
      "metadata": {
        "id": "dD6AHO_88GXD"
      },
      "outputs": [],
      "source": [
        "from transformers import RobertaTokenizerFast, TFRobertaForSequenceClassification"
      ]
    },
    {
      "cell_type": "markdown",
      "metadata": {
        "id": "i0T_klUG8fIp"
      },
      "source": [
        "### Tokenizer\n",
        "\n",
        "With transformers, we will tokenize the inputs not as single characters, as we did previously, now we will tokenize them as sub-words, this is a common approach for transformers and give many advantages."
      ]
    },
    {
      "cell_type": "code",
      "execution_count": 80,
      "metadata": {
        "id": "U9YowCZo8SWu",
        "colab": {
          "base_uri": "https://localhost:8080/",
          "height": 177,
          "referenced_widgets": [
            "76c2a528b7684d80bb089f667b7b646b",
            "7c5128e0955444ed894456c247e11ac3",
            "ee9a35df454448d99f384144ed6c672f",
            "ddb88dc789984d8fa9cf5e44d6951982",
            "699b8ab9def34ab9bd588d75c836e09f",
            "e11f1bb70354459bb0248453a22783d8",
            "859ac561038244f484609b3f15872bc2",
            "eb6fe27314e84040aab8962468ed19da",
            "15a3fd89de8242aa8af934d2062349f1",
            "abbf483e2d62462887ae5b867cdab0d5",
            "f2fd0fc9775249b0b05fdadcc95682b3",
            "ee1a0575035e459db1fac5306c957642",
            "bdc87fa31401437cbd478fe4e41a9287",
            "5d62315259b4431aa7b85917b824a3b6",
            "ebce4f9b82774ccbae62160e86a7889b",
            "062a2d0b4ded4470957f13f9fb464fd7",
            "b646e5abc5fd4c5ca0830d49d4b133a6",
            "ee488afbf4f44519937842c660ca2098",
            "0bc78f87ae0d4380825476082ea42fb8",
            "ba597ce42dfa4ca3ad30bd083870639e",
            "f03f9db39b934966ad98371e4d23e30d",
            "5f4bad7dc1a6443492b5c81a2a8700f9",
            "72619ea7b5104ffaa840c510218f8a53",
            "4f72bae1d3bf4ccebcb29789037a0a23",
            "e746a31161414037bb228b7cbc5ede9a",
            "50a0a17648514152b77bbada42a5dd3e",
            "a9619915d72a411ca0370ecbed7b4c39",
            "51852a42f3154d428c769e17035bbcad",
            "89891a699a424b4989030bb862c1b508",
            "6b89aaf60318460981f82288da97677a",
            "fee04d12c56f4971bb286f98c15b972a",
            "9f25cc7b307e49e3befe58ced10eeefb",
            "032c30b2bb4b45259d55704beaf7b55a",
            "edaeeda828ad461692a71f90b97ff323",
            "3f8211a9bcb24e4ba8eae55616927e5d",
            "cb0eed36e778472f850557883cdc4a29",
            "360e291a84524cdab5efa139b2ae88e6",
            "1d5e75b5dc8d4ecb921c7d82afce8538",
            "7bf03809bf9f452698d6dc11a5b73e76",
            "1d4f4d83a29641bbbbfc8928e2d75731",
            "1162919593f64594b7a4d6249a27350a",
            "3688f3a86173449194e24fabcce4694a",
            "b9825b180f314155ac85cbd9f14fc01a",
            "256fe5782774467ab4500549841fef9f",
            "700063ae31474c42bd61c63747b2a565",
            "cbfd021c40104e67aac13518108ffc0f",
            "db040222d3674f56973bc443750260f2",
            "bf09e29b01454acabf3fdf6a462ffd48",
            "71c484638cfb4a2c8eb1d34d437e61a6",
            "9ea8304918c045c2a229c5cfde23897a",
            "f457186ec65d4e2e800abb59dd0e892f",
            "a3269f4423ab43ea8bc2b21f5afba803",
            "dd6bc707490f4deba58f610d84e9ad8f",
            "e24fb45c20e54fb3b4461c6ab9491b2e",
            "2242f3c8ddb7409ba80a2bb3a9e3a188"
          ]
        },
        "outputId": "4b9f77aa-8f87-4449-8851-ccbf210ce152"
      },
      "outputs": [
        {
          "output_type": "display_data",
          "data": {
            "text/plain": [
              "Downloading:   0%|          | 0.00/25.0 [00:00<?, ?B/s]"
            ],
            "application/vnd.jupyter.widget-view+json": {
              "version_major": 2,
              "version_minor": 0,
              "model_id": "76c2a528b7684d80bb089f667b7b646b"
            }
          },
          "metadata": {}
        },
        {
          "output_type": "display_data",
          "data": {
            "text/plain": [
              "Downloading:   0%|          | 0.00/780k [00:00<?, ?B/s]"
            ],
            "application/vnd.jupyter.widget-view+json": {
              "version_major": 2,
              "version_minor": 0,
              "model_id": "ee1a0575035e459db1fac5306c957642"
            }
          },
          "metadata": {}
        },
        {
          "output_type": "display_data",
          "data": {
            "text/plain": [
              "Downloading:   0%|          | 0.00/446k [00:00<?, ?B/s]"
            ],
            "application/vnd.jupyter.widget-view+json": {
              "version_major": 2,
              "version_minor": 0,
              "model_id": "72619ea7b5104ffaa840c510218f8a53"
            }
          },
          "metadata": {}
        },
        {
          "output_type": "display_data",
          "data": {
            "text/plain": [
              "Downloading:   0%|          | 0.00/239 [00:00<?, ?B/s]"
            ],
            "application/vnd.jupyter.widget-view+json": {
              "version_major": 2,
              "version_minor": 0,
              "model_id": "edaeeda828ad461692a71f90b97ff323"
            }
          },
          "metadata": {}
        },
        {
          "output_type": "display_data",
          "data": {
            "text/plain": [
              "Downloading:   0%|          | 0.00/1.68k [00:00<?, ?B/s]"
            ],
            "application/vnd.jupyter.widget-view+json": {
              "version_major": 2,
              "version_minor": 0,
              "model_id": "700063ae31474c42bd61c63747b2a565"
            }
          },
          "metadata": {}
        }
      ],
      "source": [
        "tokenizer = RobertaTokenizerFast.from_pretrained(\"arpanghoshal/EmoRoBERTa\")"
      ]
    },
    {
      "cell_type": "code",
      "execution_count": 81,
      "metadata": {
        "id": "W8k3Efoi9lTA",
        "colab": {
          "base_uri": "https://localhost:8080/"
        },
        "outputId": "e04ca870-7683-4c75-c9c1-c4d3f3f2aaa9"
      },
      "outputs": [
        {
          "output_type": "stream",
          "name": "stdout",
          "text": [
            "Vocabulary size: 50265\n",
            "[('LAB', 44435), ('98', 5208), ('ĠKl', 7507), ('Ġcanv', 26550), ('ĠDEL', 16286), ('Ġstartling', 26556), ('KEY', 33754), ('ĠAMA', 33614), ('ĠMarriage', 29795), ('Ġloans', 2973)]\n"
          ]
        }
      ],
      "source": [
        "vocab = tokenizer.get_vocab()\n",
        "print(f\"Vocabulary size: {len(vocab)}\")\n",
        "print(list(vocab.items())[:10])"
      ]
    },
    {
      "cell_type": "code",
      "execution_count": 82,
      "metadata": {
        "id": "HHpBUXZ3-qLH",
        "colab": {
          "base_uri": "https://localhost:8080/"
        },
        "outputId": "b82cb0eb-f7f4-45bd-dd03-6734c814740b"
      },
      "outputs": [
        {
          "output_type": "stream",
          "name": "stdout",
          "text": [
            "Text to indices:\n",
            "(preprocessed) → someone get fat boy [name] a happy meal.\n",
            "(tokenized) → [0, 40100, 120, 5886, 2143, 646, 13650, 742, 10, 1372, 5820, 4, 2]\n"
          ]
        }
      ],
      "source": [
        "print (\"Text to indices:\\n\"\n",
        "      f\"(preprocessed) → {X_train.iloc[0]}\\n\"\n",
        "      f\"(tokenized) → {tokenizer(X_train.iloc[0]).input_ids}\")"
      ]
    },
    {
      "cell_type": "markdown",
      "metadata": {
        "id": "phsTxFyHzK-7"
      },
      "source": [
        "### Datasets\n",
        "\n",
        "Here we are going to use [TF.data.Dataset](https://www.tensorflow.org/api_docs/python/tf/data/Dataset) to efficiently load and process data for training, evaluation, and inference."
      ]
    },
    {
      "cell_type": "code",
      "execution_count": 83,
      "metadata": {
        "id": "qiBdh3HkzWSd"
      },
      "outputs": [],
      "source": [
        "def get_dataset_hf(x, y, tokenizer, max_seq_len=max_seq_len, labels=labels, \n",
        "                   labeled=True, ordered=False, repeated=True, batch_size=64):\n",
        "    token_x = tokenizer(x, max_length=max_seq_len, truncation=True, \n",
        "                        padding='max_length', return_tensors='tf')\n",
        "\n",
        "    if labeled:\n",
        "        dataset = tf.data.Dataset.from_tensor_slices(\n",
        "            ({'input_ids': token_x['input_ids'], \n",
        "              'attention_mask': token_x['attention_mask']}, (y)\n",
        "            )\n",
        "        )\n",
        "    else:\n",
        "        dataset = tf.data.Dataset.from_tensor_slices(\n",
        "            {'input_ids': token_x['input_ids'], \n",
        "             'attention_mask': token_x['attention_mask']}\n",
        "        )\n",
        "  \n",
        "    if repeated:\n",
        "        dataset = dataset.repeat()\n",
        "    if not ordered:\n",
        "        dataset = dataset.shuffle(2048)\n",
        "        \n",
        "    dataset = dataset.batch(batch_size)\n",
        "    dataset = dataset.cache()\n",
        "    dataset = dataset.prefetch(tf.data.AUTOTUNE)\n",
        "    return dataset"
      ]
    },
    {
      "cell_type": "code",
      "execution_count": 84,
      "metadata": {
        "id": "pxIRhul_00cW",
        "colab": {
          "base_uri": "https://localhost:8080/"
        },
        "outputId": "0d2ea355-a50a-4c3c-a3ae-02dc6f5bfc5d"
      },
      "outputs": [
        {
          "output_type": "stream",
          "name": "stdout",
          "text": [
            "Sample point:\n",
            "  X: [    0 12196     5  3031 26536     2     1     1     1     1     1     1\n",
            "     1     1     1     1     1     1     1     1     1     1     1     1\n",
            "     1     1     1     1     1     1     1     1     1     1     1     1\n",
            "     1     1     1     1     1     1     1     1     1     1     1     1\n",
            "     1     1     1     1     1     1     1     1     1     1     1     1\n",
            "     1     1     1     1     1     1     1     1     1     1     1     1\n",
            "     1     1     1     1     1     1     1     1     1     1     1     1\n",
            "     1     1     1     1     1     1     1     1     1     1     1     1\n",
            "     1     1     1     1     1     1     1     1     1     1     1     1\n",
            "     1     1     1     1     1     1     1     1     1     1     1     1\n",
            "     1     1     1     1     1     1     1     1]\n",
            "  y: [0 0 1 0 0 0 0 0 0 0 0 0 0 0 0 0 0 0 0 0 0 0 0 0 0 0 0 0]\n",
            "Sample shape:\n",
            "  X: (128,)\n",
            "  y: (64, 28)\n"
          ]
        }
      ],
      "source": [
        "# Create datasets\n",
        "transformer_train_dataset = get_dataset_hf(list(train_df.text), train_df[labels], tokenizer)\n",
        "transformer_valid_dataset = get_dataset_hf(list(valid_df.text), valid_df[labels], tokenizer, \n",
        "                                           ordered=True, repeated=False)\n",
        "transformer_test_dataset = get_dataset_hf(list(test_df.text), test_df[labels], tokenizer, \n",
        "                                          ordered=True, repeated=False)\n",
        "\n",
        "for sample in transformer_train_dataset.take(1):\n",
        "    x = sample[0]\n",
        "    y = sample[1]\n",
        "    print(\"Sample point:\\n\"\n",
        "    f\"  X: {x['input_ids'][0].numpy()}\\n\"\n",
        "    f\"  y: {y[0]}\"\n",
        "    )\n",
        "    print(\"Sample shape:\\n\"\n",
        "    f\"  X: {x['input_ids'][0].numpy().shape}\\n\"\n",
        "    f\"  y: {y.shape}\"\n",
        "    )"
      ]
    },
    {
      "cell_type": "markdown",
      "metadata": {
        "id": "ljzh4eQ8-y2f"
      },
      "source": [
        "### Model"
      ]
    },
    {
      "cell_type": "code",
      "execution_count": 85,
      "metadata": {
        "id": "emJalYzd6wby",
        "colab": {
          "base_uri": "https://localhost:8080/",
          "height": 399,
          "referenced_widgets": [
            "1a9222a49b25490b92f67b5fdcd3e434",
            "5fcd0dfeea8c4af69548fb563c9cf5a3",
            "13f9ad1c1b144ba4bd17bd569a21ac87",
            "1c4bf2ddf7b94efc97f4776155b98e99",
            "257dbb93949c4a48b456a0828efdf578",
            "0a67e1caa48e45be84ec99fe4bac2ce3",
            "23e5a75d996549b9a958c2e9c70e1a3f",
            "f48d0fb0105a474a9765a9692301e757",
            "24c62df38c9545b19ebd6e3f42f99b62",
            "d7e62e25c13b4fecaa8ecb60bd5cd1ce",
            "d2179391fd6d4c9a9bd2b0282c229226"
          ]
        },
        "outputId": "91275d31-980d-4200-e51a-64f608d48667"
      },
      "outputs": [
        {
          "output_type": "display_data",
          "data": {
            "text/plain": [
              "Downloading:   0%|          | 0.00/478M [00:00<?, ?B/s]"
            ],
            "application/vnd.jupyter.widget-view+json": {
              "version_major": 2,
              "version_minor": 0,
              "model_id": "1a9222a49b25490b92f67b5fdcd3e434"
            }
          },
          "metadata": {}
        },
        {
          "output_type": "stream",
          "name": "stderr",
          "text": [
            "All model checkpoint layers were used when initializing TFRobertaForSequenceClassification.\n",
            "\n",
            "All the layers of TFRobertaForSequenceClassification were initialized from the model checkpoint at arpanghoshal/EmoRoBERTa.\n",
            "If your task is similar to the task the model of the checkpoint was trained on, you can already use TFRobertaForSequenceClassification for predictions without further training.\n"
          ]
        },
        {
          "output_type": "stream",
          "name": "stdout",
          "text": [
            "Model: \"tf_roberta_for_sequence_classification\"\n",
            "_________________________________________________________________\n",
            " Layer (type)                Output Shape              Param #   \n",
            "=================================================================\n",
            " roberta (TFRobertaMainLayer  multiple                 124055040 \n",
            " )                                                               \n",
            "                                                                 \n",
            " classifier (TFRobertaClassi  multiple                 612124    \n",
            " ficationHead)                                                   \n",
            "                                                                 \n",
            "=================================================================\n",
            "Total params: 124,667,164\n",
            "Trainable params: 612,124\n",
            "Non-trainable params: 124,055,040\n",
            "_________________________________________________________________\n"
          ]
        }
      ],
      "source": [
        "transformer_model = TFRobertaForSequenceClassification.from_pretrained(\"arpanghoshal/EmoRoBERTa\")\n",
        "transformer_model.layers[0].trainable = False\n",
        "transformer_model.summary()"
      ]
    },
    {
      "cell_type": "markdown",
      "metadata": {
        "id": "u6JsiBLq85S0"
      },
      "source": [
        "### Train"
      ]
    },
    {
      "cell_type": "code",
      "execution_count": 86,
      "metadata": {
        "id": "PmTjOIxu88YJ"
      },
      "outputs": [],
      "source": [
        "# Arguments\n",
        "lr = 3e-5\n",
        "num_epochs = 1 #5\n",
        "steps_per_epoch = 100\n",
        "patience = 3"
      ]
    },
    {
      "cell_type": "code",
      "execution_count": 87,
      "metadata": {
        "id": "HSTtJz3p8-oN"
      },
      "outputs": [],
      "source": [
        "# Define loss & metrics\n",
        "loss_fn = tf.keras.losses.BinaryCrossentropy(from_logits=True)\n",
        "metrics_fn = tf.keras.metrics.BinaryAccuracy()"
      ]
    },
    {
      "cell_type": "code",
      "execution_count": 88,
      "metadata": {
        "id": "aUAKArR79Aus"
      },
      "outputs": [],
      "source": [
        "# Define optimizer & scheduler\n",
        "optimizer = tf.keras.optimizers.Adam(lr=lr)\n",
        "scheduler = tf.keras.callbacks.ReduceLROnPlateau(monitor='val_loss', \n",
        "                                                 mode='min', factor=0.1, \n",
        "                                                 patience=patience, verbose=1)"
      ]
    },
    {
      "cell_type": "code",
      "execution_count": 89,
      "metadata": {
        "id": "8U8Wt9kv9EO9"
      },
      "outputs": [],
      "source": [
        "# Compile model\n",
        "transformer_model.compile(optimizer=optimizer, \n",
        "                          loss=loss_fn, \n",
        "                          metrics=metrics_fn)"
      ]
    },
    {
      "cell_type": "code",
      "execution_count": 90,
      "metadata": {
        "id": "3g0jYoxl86au",
        "colab": {
          "base_uri": "https://localhost:8080/"
        },
        "outputId": "e0dc9e60-4727-42d6-cb51-178f2391c230"
      },
      "outputs": [
        {
          "output_type": "stream",
          "name": "stdout",
          "text": [
            "100/100 - 102s - loss: 3.3442e-04 - binary_accuracy: 0.7986 - val_loss: 0.6636 - val_binary_accuracy: 0.8179 - lr: 3.0000e-05 - 102s/epoch - 1s/step\n"
          ]
        }
      ],
      "source": [
        "# Train\n",
        "with strategy.scope():\n",
        "    transformer_model.fit(x=transformer_train_dataset, \n",
        "                          validation_data=transformer_valid_dataset, \n",
        "                          steps_per_epoch=steps_per_epoch, \n",
        "                          callbacks=[scheduler], \n",
        "                          epochs=num_epochs, \n",
        "                          class_weight=class_weights, \n",
        "                          verbose=2)"
      ]
    },
    {
      "cell_type": "markdown",
      "metadata": {
        "id": "f4Xj8L-x8ZrH"
      },
      "source": [
        "### Evaluation"
      ]
    },
    {
      "cell_type": "code",
      "execution_count": 91,
      "metadata": {
        "id": "0pCnI_UWFBdz"
      },
      "outputs": [],
      "source": [
        "y_true = np.array([y.numpy() for x, y in iter(transformer_valid_dataset.unbatch())])\n",
        "transformer_train_x = transformer_valid_dataset.map(lambda x, y: x)\n",
        "y_prob = transformer_model.predict(transformer_train_x)['logits']"
      ]
    },
    {
      "cell_type": "code",
      "execution_count": 92,
      "metadata": {
        "id": "zVMnIDNyFCeR",
        "colab": {
          "base_uri": "https://localhost:8080/",
          "height": 442
        },
        "outputId": "af9fd282-2dd1-4384-c24d-e3162d09ca3e"
      },
      "outputs": [
        {
          "output_type": "display_data",
          "data": {
            "text/plain": [
              "<Figure size 504x504 with 1 Axes>"
            ],
            "image/png": "[encoded data removed]"
          },
          "metadata": {
            "needs_background": "light"
          }
        }
      ],
      "source": [
        "# Threshold-PR curve\n",
        "precisions, recalls, thresholds = precision_recall_curve(y_true.ravel(), y_prob.ravel())\n",
        "\n",
        "plt.figure(figsize=(7, 7))\n",
        "plt.plot(thresholds, precisions[:-1], \"r--\", label=\"Precision\")\n",
        "plt.plot(thresholds, recalls[:-1], \"b-\", label=\"Recall\")\n",
        "plt.ylabel(\"Performance\")\n",
        "plt.xlabel(\"Threshold\")\n",
        "plt.legend(loc=\"best\")\n",
        "plt.show()"
      ]
    },
    {
      "cell_type": "code",
      "execution_count": 93,
      "metadata": {
        "id": "2n4bflSNGd7m",
        "colab": {
          "base_uri": "https://localhost:8080/"
        },
        "outputId": "104c58bc-865c-4d0c-d790-c46f184c0bda"
      },
      "outputs": [
        {
          "output_type": "stream",
          "name": "stdout",
          "text": [
            "4.778801\n"
          ]
        }
      ],
      "source": [
        "# Best threshold for f1\n",
        "transformer_threshold = find_best_threshold(y_true.ravel(), y_prob.ravel())\n",
        "print(transformer_threshold)"
      ]
    },
    {
      "cell_type": "code",
      "execution_count": 94,
      "metadata": {
        "id": "jjxwegSzGgCR"
      },
      "outputs": [],
      "source": [
        "y_true = np.array([y.numpy() for x, y in iter(transformer_test_dataset.unbatch())])\n",
        "transformer_test_x = transformer_test_dataset.map(lambda x, y: x)\n",
        "y_prob = transformer_model.predict(transformer_test_x)['logits']\n",
        "\n",
        "# Determine predictions using threshold\n",
        "y_pred = np.array([np.where(prob >= transformer_threshold, 1, 0) for prob in y_prob])"
      ]
    },
    {
      "cell_type": "code",
      "execution_count": 95,
      "metadata": {
        "id": "wlVbjEoaGhsV",
        "colab": {
          "base_uri": "https://localhost:8080/"
        },
        "outputId": "0b53497e-7229-4262-a75f-68c57ce402aa"
      },
      "outputs": [
        {
          "output_type": "stream",
          "name": "stdout",
          "text": [
            "{\n",
            "  \"precision\": 0.48666404485774384,\n",
            "  \"recall\": 0.46482836240855374,\n",
            "  \"f1\": 0.46831940544804396\n",
            "}\n"
          ]
        }
      ],
      "source": [
        "# Evaluate\n",
        "metrics = precision_recall_fscore_support(y_true, y_pred, average=\"weighted\")\n",
        "performance = {\"precision\": metrics[0], \"recall\": metrics[1], \"f1\": metrics[2]}\n",
        "print (json.dumps(performance, indent=2))"
      ]
    },
    {
      "cell_type": "code",
      "execution_count": 96,
      "metadata": {
        "id": "E0-LTX00E983"
      },
      "outputs": [],
      "source": [
        "# Save artifacts\n",
        "transformer_dir = Path(\"transformer\")\n",
        "transformer_dir.mkdir(parents=True, exist_ok=True)\n",
        "\n",
        "# Saving model with the SavedModel format\n",
        "transformer_model.save_pretrained(f\"{transformer_dir}/transformer_model\")\n",
        "\n",
        "# Saving performance metrics\n",
        "with open(Path(transformer_dir, \"performance.json\"), \"w\") as fp:\n",
        "    json.dump(performance, indent=2, sort_keys=False, fp=fp)"
      ]
    },
    {
      "cell_type": "markdown",
      "metadata": {
        "id": "h3xWYz_j8bSP"
      },
      "source": [
        "### Inference"
      ]
    },
    {
      "cell_type": "code",
      "execution_count": 97,
      "metadata": {
        "id": "z5wNIwh0G5U-",
        "colab": {
          "base_uri": "https://localhost:8080/"
        },
        "outputId": "a336a3e2-c77f-43fb-e422-1263fcbe3833"
      },
      "outputs": [
        {
          "output_type": "stream",
          "name": "stderr",
          "text": [
            "All model checkpoint layers were used when initializing TFRobertaForSequenceClassification.\n",
            "\n",
            "All the layers of TFRobertaForSequenceClassification were initialized from the model checkpoint at transformer/transformer_model.\n",
            "If your task is similar to the task the model of the checkpoint was trained on, you can already use TFRobertaForSequenceClassification for predictions without further training.\n"
          ]
        },
        {
          "output_type": "stream",
          "name": "stdout",
          "text": [
            "Model: \"tf_roberta_for_sequence_classification_1\"\n",
            "_________________________________________________________________\n",
            " Layer (type)                Output Shape              Param #   \n",
            "=================================================================\n",
            " roberta (TFRobertaMainLayer  multiple                 124055040 \n",
            " )                                                               \n",
            "                                                                 \n",
            " classifier (TFRobertaClassi  multiple                 612124    \n",
            " ficationHead)                                                   \n",
            "                                                                 \n",
            "=================================================================\n",
            "Total params: 124,667,164\n",
            "Trainable params: 124,667,164\n",
            "Non-trainable params: 0\n",
            "_________________________________________________________________\n"
          ]
        }
      ],
      "source": [
        "# Load artifacts\n",
        "loaded_transformer_model = TFRobertaForSequenceClassification.from_pretrained(f\"{transformer_dir}/transformer_model\")\n",
        "loaded_transformer_model.summary()"
      ]
    },
    {
      "cell_type": "code",
      "execution_count": 98,
      "metadata": {
        "id": "XHDCDkKY8ca1"
      },
      "outputs": [],
      "source": [
        "# Dataloader\n",
        "text = [\"I am loving this amazing MLOps tutorial, so much cool content\"]\n",
        "x_text = get_dataset_hf(list(text), _, tokenizer, ordered=True, repeated=False, labeled=False)"
      ]
    },
    {
      "cell_type": "code",
      "execution_count": 99,
      "metadata": {
        "id": "Egv-nNL6ydu_",
        "colab": {
          "base_uri": "https://localhost:8080/"
        },
        "outputId": "ad2fee5a-ab87-40f7-f54c-d81bb611f109"
      },
      "outputs": [
        {
          "output_type": "execute_result",
          "data": {
            "text/plain": [
              "[['admiration']]"
            ]
          },
          "metadata": {},
          "execution_count": 99
        }
      ],
      "source": [
        "y_prob = loaded_transformer_model.predict(x_text).logits\n",
        "y_pred = np.array([np.where(prob >= transformer_threshold, 1, 0) for prob in y_prob])\n",
        "decode_preds(y_pred)"
      ]
    },
    {
      "cell_type": "markdown",
      "metadata": {
        "id": "JbC3dAJY2wOz"
      },
      "source": [
        "## Tradeoffs\n",
        "\n",
        "We're going to go with the embeddings via CNN approach and optimize it, although the performance is quite worse than the transformers approach, its size and speed are much faster. Later after the MVP or first release version we can switch to the transformers."
      ]
    },
    {
      "cell_type": "code",
      "execution_count": 100,
      "metadata": {
        "id": "-ik2EaFp3d2Y",
        "colab": {
          "base_uri": "https://localhost:8080/"
        },
        "outputId": "d58ed6f3-137b-4c15-9040-6c6fac844da0"
      },
      "outputs": [
        {
          "output_type": "stream",
          "name": "stdout",
          "text": [
            "CNN: f1 = 0.2249779940325311\n",
            "Transformer: f1 = 0.46831940544804396\n"
          ]
        }
      ],
      "source": [
        "# Performance\n",
        "with open(Path(\"cnn\", \"performance.json\"), \"r\") as fp:\n",
        "    cnn_performance = json.load(fp)\n",
        "print (f'CNN: f1 = {cnn_performance[\"f1\"]}')\n",
        "\n",
        "with open(Path(\"transformer\", \"performance.json\"), \"r\") as fp:\n",
        "    transformer_performance = json.load(fp)\n",
        "print (f'Transformer: f1 = {transformer_performance[\"f1\"]}')"
      ]
    },
    {
      "cell_type": "markdown",
      "metadata": {
        "id": "AHymZ6zK3gNi"
      },
      "source": [
        "This was just one run on one split, so you'll want to experiment with k-fold cross validation to properly reach any conclusions about performance. Also make sure you take the time to tune these baselines since their training periods are quite fast. We'll cover optimization in a few lessons, so you can replicate the process here on your own time. We should also benchmark on other important metrics as we iterate, not just precision and recall."
      ]
    },
    {
      "cell_type": "code",
      "execution_count": 101,
      "metadata": {
        "id": "WH4JzbnO3dS2",
        "colab": {
          "base_uri": "https://localhost:8080/"
        },
        "outputId": "b6d0ddfb-4645-4b7a-cc6d-f63486062484"
      },
      "outputs": [
        {
          "output_type": "stream",
          "name": "stdout",
          "text": [
            "CNN: 0.5 MB\n",
            "Transformer: 499.0 MB\n"
          ]
        }
      ],
      "source": [
        "# Size\n",
        "print (f'CNN: {Path(dir, \"cnn_model/saved_model.pb\").stat().st_size/1000000:.1f} MB')\n",
        "print (f'Transformer: {Path(transformer_dir, \"transformer_model/tf_model.h5\").stat().st_size/1000000:.1f} MB')"
      ]
    },
    {
      "cell_type": "markdown",
      "metadata": {
        "id": "u6s7OG4X3knD"
      },
      "source": [
        "We'll consider other tradeoffs such as maintenance overhead, behavioral test performances, etc. as we develop.\n",
        "\n",
        "> Interpretability was not one of requirements but note that we could've tweaked model outputs to deliver it. For example, since we used SAME padding for our CNN, we can use the activation scores to extract influential n-grams."
      ]
    },
    {
      "cell_type": "markdown",
      "metadata": {
        "id": "uDR1MXsZ3E4c"
      },
      "source": [
        "## Resources\n",
        "\n",
        "- [Backing off towards simplicity - why baselines need more love](https://smerity.com/articles/2017/baselines_need_love.html)\n",
        "- [Model Evaluation, Model Selection, and Algorithm Selection in Machine Learning](https://arxiv.org/abs/1811.12808)"
      ]
    },
    {
      "cell_type": "markdown",
      "source": [
        "# Evaluating ML Models"
      ],
      "metadata": {
        "id": "PvCuOs4Vg3RT"
      }
    },
    {
      "cell_type": "markdown",
      "source": [
        "## Intuition\n",
        "\n",
        "Evaluation is an integral part of modeling and it's one that's often glossed over. We'll often find evaluation to involve simply computing the accuracy or other global metrics but for many real work applications, a much more nuanced evaluation process is required. However, before evaluating our model, we always want to:\n",
        "\n",
        "- be clear about what metrics we are prioritizing\n",
        "- be careful not to over optimize on any one metric because it may mean you're compromising something else"
      ],
      "metadata": {
        "id": "FhFADMZpiSRU"
      }
    },
    {
      "cell_type": "code",
      "source": [
        "# Metrics\n",
        "metrics = {\"overall\": {}, \"class\": {}}"
      ],
      "metadata": {
        "id": "by6Fa1Tzg3_A"
      },
      "execution_count": 102,
      "outputs": []
    },
    {
      "cell_type": "code",
      "source": [
        "# Data to evaluate\n",
        "y_true = np.array([y.numpy() for x, y in iter(cnn_test_dataset.unbatch())])\n",
        "cnn_test_x = cnn_test_dataset.map(lambda x, y: x)\n",
        "y_prob = loaded_cnn_model.predict(cnn_test_x)\n",
        "y_pred = np.array([np.where(prob >= cnn_threshold, 1, 0) for prob in y_prob])"
      ],
      "metadata": {
        "id": "nf3rlj5zmFU5"
      },
      "execution_count": 103,
      "outputs": []
    },
    {
      "cell_type": "markdown",
      "source": [
        "## Coarse-grained\n",
        "\n",
        "While we were iteratively developing our baselines, our evaluation process involved computing the coarse-grained metrics such as overall precision, recall and f1 metrics."
      ],
      "metadata": {
        "id": "_58ftYxVmJvK"
      }
    },
    {
      "cell_type": "code",
      "source": [
        "# Overall metrics\n",
        "overall_metrics = precision_recall_fscore_support(y_test, y_pred, average=\"weighted\")\n",
        "metrics[\"overall\"][\"precision\"] = overall_metrics[0]\n",
        "metrics[\"overall\"][\"recall\"] = overall_metrics[1]\n",
        "metrics[\"overall\"][\"f1\"] = overall_metrics[2]\n",
        "metrics[\"overall\"][\"num_samples\"] = np.float64(len(y_true))\n",
        "print (json.dumps(metrics[\"overall\"], indent=4))"
      ],
      "metadata": {
        "id": "iPKB7jHVmLak",
        "colab": {
          "base_uri": "https://localhost:8080/"
        },
        "outputId": "4ccb4376-2c41-4b40-d13d-bdb4b699af19"
      },
      "execution_count": 104,
      "outputs": [
        {
          "output_type": "stream",
          "name": "stdout",
          "text": [
            "{\n",
            "    \"precision\": 0.37255784486171706,\n",
            "    \"recall\": 0.23780046627542406,\n",
            "    \"f1\": 0.2249779940325311,\n",
            "    \"num_samples\": 10500.0\n",
            "}\n"
          ]
        }
      ]
    },
    {
      "cell_type": "markdown",
      "source": [
        "The [precision_recall_fscore_support()](https://scikit-learn.org/stable/modules/generated/sklearn.metrics.precision_recall_fscore_support.html) function from scikit-learn has an input parameter called `average` which has the following options below. We'll be using the different averaging methods for different metric granularities.\n",
        "\n",
        "- `None`: metrics are calculated for each unique class.\n",
        "- `binary`: used for binary classification tasks where the `pos_label` is - `specified.\n",
        "- `micro`: metrics are calculated using global TP, FP, and FN.\n",
        "- `macro`: per-class metrics which are averaged without accounting for class imbalance.\n",
        "- `weighted`: per-class metrics which are averaged by accounting for class imbalance.\n",
        "- `samples`: metrics are calculated at the per-sample level."
      ],
      "metadata": {
        "id": "FlOqubFsmQeD"
      }
    },
    {
      "cell_type": "markdown",
      "source": [
        "## Fine-grained\n",
        "\n",
        "Inspecting these coarse-grained, overall metrics is a start but we can go deeper by evaluating the same fine-grained metrics at the categorical feature levels."
      ],
      "metadata": {
        "id": "QCrv3gvHBvSB"
      }
    },
    {
      "cell_type": "code",
      "source": [
        "# Per-class metrics\n",
        "class_metrics = precision_recall_fscore_support(y_test, y_pred, average=None)\n",
        "for i, _class in enumerate(labels):\n",
        "    metrics[\"class\"][_class] = {\n",
        "        \"precision\": class_metrics[0][i],\n",
        "        \"recall\": class_metrics[1][i],\n",
        "        \"f1\": class_metrics[2][i],\n",
        "        \"num_samples\": np.float64(class_metrics[3][i]),\n",
        "    }"
      ],
      "metadata": {
        "id": "gBzLrJU1mbFU"
      },
      "execution_count": 105,
      "outputs": []
    },
    {
      "cell_type": "code",
      "source": [
        "# Metrics for a specific class\n",
        "tag = \"admiration\"\n",
        "print (json.dumps(metrics[\"class\"][tag], indent=2))"
      ],
      "metadata": {
        "colab": {
          "base_uri": "https://localhost:8080/"
        },
        "id": "BMwhH0jCBy6_",
        "outputId": "e03343dd-7355-4967-9697-4a01f176827d"
      },
      "execution_count": 106,
      "outputs": [
        {
          "output_type": "stream",
          "name": "stdout",
          "text": [
            "{\n",
            "  \"precision\": 0.47884940778341795,\n",
            "  \"recall\": 0.32868757259001163,\n",
            "  \"f1\": 0.3898071625344353,\n",
            "  \"num_samples\": 861.0\n",
            "}\n"
          ]
        }
      ]
    },
    {
      "cell_type": "markdown",
      "source": [
        "As a general rule, the classes with fewer samples will have lower performance so we should always work to identify the class (or fine-grained slices) of data that our model needs to see more samples of to learn from."
      ],
      "metadata": {
        "id": "N0W13z9pF7kD"
      }
    },
    {
      "cell_type": "code",
      "source": [
        "# Number of training samples per class\n",
        "num_samples = np.sum(y_train, axis=0).tolist()"
      ],
      "metadata": {
        "id": "YmR8IDGLF9T9"
      },
      "execution_count": 107,
      "outputs": []
    },
    {
      "cell_type": "code",
      "source": [
        "# Number of samples vs. performance (per class)\n",
        "f1s = [metrics[\"class\"][_class][\"f1\"]*100. for _class in labels]\n",
        "sorted_lists = sorted(zip(*[num_samples, f1s])) # sort\n",
        "num_samples, f1s = list(zip(*sorted_lists))"
      ],
      "metadata": {
        "id": "nuQgxnKCF_Ev"
      },
      "execution_count": 108,
      "outputs": []
    },
    {
      "cell_type": "code",
      "source": [
        "# Plot\n",
        "n = 7 # num. top classes to label\n",
        "fig, ax = plt.subplots()\n",
        "ax.set_xlabel(\"# of training samples\")\n",
        "ax.set_ylabel(\"test performance (f1)\")\n",
        "fig.set_size_inches(20, 8)\n",
        "ax.plot(num_samples, f1s, \"bo-\")\n",
        "for x, y, label in zip(num_samples[-n:], f1s[-n:], labels[-n:]):\n",
        "    ax.annotate(label, xy=(x,y), xytext=(-5, 5), ha=\"right\", textcoords=\"offset points\")"
      ],
      "metadata": {
        "colab": {
          "base_uri": "https://localhost:8080/",
          "height": 403
        },
        "id": "wVdHXBHDGAHw",
        "outputId": "0121bb24-2cb3-4e4a-aaa8-03f40c71ebd7"
      },
      "execution_count": 109,
      "outputs": [
        {
          "output_type": "display_data",
          "data": {
            "text/plain": [
              "<Figure size 1440x576 with 1 Axes>"
            ],
            "image/png": "[encoded data removed]"
          },
          "metadata": {
            "needs_background": "light"
          }
        }
      ]
    },
    {
      "cell_type": "markdown",
      "source": [
        "There are, of course, nuances to this general rule such as the complexity of distinguishing between some classes where we may not need as many samples for easier sub-tasks."
      ],
      "metadata": {
        "id": "7KG9r7mEGaAv"
      }
    },
    {
      "cell_type": "markdown",
      "source": [
        "## Confusion matrix\n",
        "Besides just inspecting the metrics for each class, we can also identify the true positives, false positives and false negatives. Each of these will give us insight about our model beyond what the metrics can provide.\n",
        "\n",
        "- **True positives (TP)**: prediction = ground-truth → learn about where our model performs well.\n",
        "- **False positives (FP)**: falsely predict sample belongs to class → identify potentially mislabeled samples.\n",
        "- **False negatives (FN)**: falsely predict sample does not belong to class → identify the model's less performant areas to upsample later.\n",
        ">It's a good to have our FP/FN samples feed back into our annotation pipelines in the event we want to fix their labels and have those changes be reflected everywhere."
      ],
      "metadata": {
        "id": "_GXOGytxIEej"
      }
    },
    {
      "cell_type": "code",
      "source": [
        "# TP, FP, FN samples\n",
        "index = labels_dict[tag]\n",
        "tp, fp, fn = [], [], []\n",
        "for i in range(len(y_test)):\n",
        "    true = y_test.values[i][index]\n",
        "    pred = y_pred[i][index]    \n",
        "    if true and pred:\n",
        "        tp.append(i)\n",
        "    elif not true and pred:\n",
        "        fp.append(i)\n",
        "    elif true and not pred:\n",
        "        fn.append(i)"
      ],
      "metadata": {
        "id": "1KL22pevIRF0"
      },
      "execution_count": 110,
      "outputs": []
    },
    {
      "cell_type": "code",
      "source": [
        "print(tp)\n",
        "print(fp)\n",
        "print(fn)"
      ],
      "metadata": {
        "colab": {
          "base_uri": "https://localhost:8080/"
        },
        "id": "egi7SRgaISUi",
        "outputId": "49a05af5-0dd5-4993-e649-2b0c13d578f2"
      },
      "execution_count": 111,
      "outputs": [
        {
          "output_type": "stream",
          "name": "stdout",
          "text": [
            "[29, 33, 83, 117, 159, 201, 308, 318, 440, 448, 489, 498, 538, 599, 648, 660, 703, 766, 772, 815, 857, 872, 882, 909, 952, 956, 1087, 1169, 1191, 1235, 1267, 1307, 1312, 1319, 1439, 1449, 1542, 1561, 1613, 1750, 1756, 1760, 1761, 1790, 1814, 1817, 1837, 1917, 2017, 2083, 2086, 2158, 2270, 2302, 2395, 2425, 2438, 2446, 2484, 2562, 2573, 2592, 2595, 2596, 2663, 2709, 2780, 2823, 2838, 2874, 2953, 2991, 3015, 3037, 3062, 3117, 3122, 3166, 3223, 3269, 3315, 3320, 3341, 3352, 3367, 3478, 3484, 3498, 3506, 3604, 3620, 3652, 3682, 3780, 3808, 3811, 3851, 3905, 3951, 3974, 3987, 4068, 4137, 4138, 4151, 4156, 4274, 4306, 4327, 4361, 4420, 4467, 4475, 4532, 4535, 4542, 4549, 4558, 4718, 4770, 4787, 4854, 4894, 4912, 4925, 5129, 5138, 5167, 5174, 5175, 5215, 5230, 5277, 5352, 5354, 5384, 5425, 5451, 5461, 5523, 5525, 5539, 5609, 5670, 5677, 5697, 5787, 5891, 5906, 5926, 5947, 5959, 5986, 5989, 5994, 5998, 6050, 6089, 6147, 6164, 6183, 6191, 6228, 6248, 6252, 6261, 6277, 6313, 6365, 6426, 6440, 6464, 6537, 6557, 6591, 6597, 6602, 6606, 6618, 6628, 6633, 6668, 6738, 6740, 6766, 6791, 6979, 7062, 7075, 7105, 7132, 7138, 7210, 7213, 7218, 7265, 7266, 7326, 7343, 7367, 7380, 7404, 7407, 7419, 7448, 7480, 7546, 7575, 7599, 7604, 7614, 7622, 7675, 7694, 7727, 7773, 7777, 7781, 7797, 7823, 7874, 7882, 7908, 7938, 7995, 8032, 8103, 8121, 8226, 8246, 8257, 8261, 8367, 8392, 8423, 8537, 8609, 8625, 8676, 8682, 8755, 8774, 8834, 8935, 8997, 9013, 9024, 9056, 9201, 9222, 9270, 9368, 9371, 9373, 9424, 9428, 9454, 9513, 9552, 9627, 9736, 9743, 9747, 9759, 9844, 9863, 9907, 9923, 9937, 9949, 9968, 10025, 10041, 10083, 10091, 10124, 10167, 10226, 10230, 10277, 10306, 10367, 10440]\n",
            "[41, 77, 129, 181, 194, 205, 217, 264, 266, 436, 551, 558, 612, 633, 682, 702, 719, 769, 875, 902, 927, 930, 979, 1109, 1147, 1231, 1243, 1271, 1348, 1405, 1413, 1420, 1424, 1453, 1510, 1531, 1579, 1683, 1715, 1727, 1753, 1889, 1925, 1944, 1950, 1955, 1975, 1978, 2029, 2054, 2114, 2139, 2144, 2213, 2238, 2267, 2272, 2304, 2337, 2346, 2352, 2547, 2583, 2612, 2630, 2671, 2684, 2702, 2794, 2840, 2863, 2924, 2969, 2975, 3017, 3020, 3068, 3073, 3082, 3107, 3181, 3200, 3203, 3209, 3218, 3236, 3252, 3264, 3307, 3354, 3378, 3399, 3400, 3430, 3438, 3455, 3461, 3464, 3465, 3470, 3520, 3521, 3550, 3631, 3711, 3712, 3750, 3789, 3797, 3845, 3906, 3924, 3935, 3947, 3958, 4053, 4093, 4110, 4136, 4175, 4275, 4289, 4374, 4394, 4434, 4540, 4554, 4615, 4620, 4625, 4638, 4682, 4699, 4737, 4744, 4762, 4858, 4866, 4931, 4935, 4948, 4959, 4976, 4990, 5023, 5069, 5070, 5099, 5139, 5218, 5234, 5252, 5267, 5295, 5355, 5365, 5376, 5409, 5424, 5482, 5556, 5589, 5590, 5623, 5651, 5654, 5720, 5731, 5773, 5924, 6048, 6058, 6060, 6086, 6100, 6107, 6122, 6155, 6226, 6354, 6356, 6390, 6393, 6394, 6460, 6468, 6474, 6492, 6494, 6542, 6552, 6563, 6722, 6725, 6732, 6735, 6742, 6759, 6763, 6793, 6810, 6826, 6834, 6909, 7023, 7049, 7067, 7104, 7146, 7170, 7187, 7195, 7327, 7395, 7412, 7451, 7486, 7492, 7519, 7542, 7665, 7713, 7793, 7864, 7881, 7916, 7918, 8012, 8075, 8087, 8120, 8162, 8225, 8265, 8287, 8313, 8388, 8433, 8442, 8459, 8470, 8479, 8507, 8542, 8575, 8577, 8594, 8595, 8603, 8752, 8794, 8839, 8856, 8875, 8904, 8955, 8967, 9021, 9028, 9041, 9197, 9251, 9290, 9295, 9325, 9334, 9351, 9364, 9387, 9397, 9448, 9556, 9562, 9573, 9605, 9633, 9661, 9784, 9841, 9852, 9854, 9918, 9926, 9930, 9931, 9963, 9999, 10088, 10097, 10107, 10129, 10149, 10166, 10183, 10213, 10236, 10286, 10292, 10374, 10384, 10390, 10397, 10403, 10431, 10476, 10491, 10492, 10494]\n",
            "[5, 6, 13, 23, 54, 61, 78, 99, 113, 116, 152, 182, 190, 224, 234, 241, 243, 322, 370, 387, 395, 405, 408, 413, 442, 451, 508, 517, 525, 544, 567, 573, 583, 610, 651, 666, 714, 726, 737, 744, 750, 795, 798, 809, 850, 868, 869, 877, 878, 928, 929, 955, 1013, 1016, 1043, 1061, 1076, 1081, 1095, 1118, 1172, 1173, 1194, 1195, 1206, 1208, 1252, 1257, 1258, 1275, 1300, 1323, 1345, 1361, 1368, 1383, 1385, 1470, 1473, 1515, 1564, 1576, 1580, 1591, 1605, 1624, 1631, 1657, 1680, 1693, 1736, 1743, 1754, 1780, 1782, 1785, 1791, 1815, 1832, 1864, 1867, 1877, 1878, 1913, 1956, 1965, 2013, 2028, 2038, 2064, 2081, 2092, 2093, 2109, 2135, 2149, 2151, 2169, 2235, 2245, 2247, 2307, 2333, 2426, 2468, 2474, 2481, 2490, 2501, 2508, 2522, 2528, 2531, 2543, 2548, 2594, 2622, 2676, 2707, 2713, 2728, 2735, 2749, 2760, 2761, 2766, 2773, 2796, 2798, 2829, 2835, 2860, 2875, 2902, 2908, 2911, 2916, 2923, 2928, 2937, 2960, 2996, 3042, 3046, 3081, 3106, 3119, 3154, 3171, 3194, 3235, 3263, 3293, 3295, 3312, 3316, 3323, 3334, 3357, 3372, 3375, 3388, 3397, 3401, 3419, 3469, 3517, 3536, 3545, 3552, 3573, 3599, 3601, 3611, 3645, 3650, 3665, 3674, 3680, 3684, 3742, 3751, 3772, 3787, 3792, 3799, 3806, 3841, 3853, 3873, 3881, 3900, 3923, 3973, 3976, 3988, 4014, 4024, 4028, 4032, 4060, 4118, 4124, 4140, 4184, 4185, 4190, 4207, 4210, 4220, 4230, 4232, 4236, 4317, 4323, 4326, 4342, 4343, 4363, 4389, 4390, 4406, 4409, 4414, 4439, 4453, 4464, 4465, 4474, 4489, 4495, 4500, 4509, 4550, 4567, 4574, 4581, 4606, 4617, 4668, 4675, 4683, 4690, 4697, 4712, 4724, 4748, 4773, 4779, 4786, 4788, 4790, 4797, 4804, 4808, 4811, 4813, 4848, 4892, 4928, 4937, 4946, 4955, 4956, 4958, 4981, 4986, 5005, 5016, 5019, 5054, 5089, 5110, 5140, 5154, 5195, 5199, 5233, 5257, 5269, 5292, 5293, 5323, 5356, 5381, 5426, 5431, 5457, 5518, 5526, 5533, 5561, 5583, 5588, 5607, 5617, 5634, 5652, 5682, 5683, 5695, 5701, 5704, 5755, 5757, 5821, 5823, 5828, 5829, 5848, 5857, 5866, 5867, 5883, 5887, 5908, 5950, 5957, 5958, 5976, 5988, 6008, 6015, 6020, 6037, 6044, 6049, 6055, 6064, 6099, 6114, 6142, 6167, 6190, 6216, 6219, 6238, 6259, 6260, 6318, 6325, 6372, 6377, 6382, 6399, 6407, 6430, 6453, 6488, 6491, 6506, 6512, 6623, 6625, 6669, 6760, 6762, 6777, 6779, 6783, 6784, 6836, 6841, 6862, 6864, 6868, 6884, 6967, 7016, 7028, 7029, 7056, 7063, 7121, 7145, 7152, 7174, 7198, 7207, 7243, 7270, 7329, 7349, 7350, 7388, 7392, 7398, 7424, 7425, 7428, 7445, 7453, 7454, 7456, 7502, 7507, 7510, 7525, 7527, 7544, 7551, 7556, 7558, 7561, 7589, 7611, 7638, 7654, 7656, 7667, 7688, 7693, 7703, 7714, 7723, 7726, 7729, 7752, 7782, 7829, 7840, 7911, 7934, 7944, 7954, 7965, 7967, 7977, 8030, 8049, 8079, 8134, 8228, 8231, 8280, 8284, 8291, 8303, 8329, 8335, 8338, 8353, 8405, 8448, 8460, 8475, 8480, 8487, 8500, 8544, 8553, 8587, 8591, 8606, 8678, 8697, 8710, 8717, 8725, 8728, 8749, 8756, 8764, 8771, 8776, 8874, 8889, 8903, 8929, 8958, 8968, 8978, 8993, 8996, 8998, 9016, 9023, 9040, 9042, 9065, 9073, 9077, 9109, 9114, 9158, 9173, 9184, 9210, 9215, 9224, 9235, 9266, 9271, 9331, 9335, 9356, 9365, 9375, 9378, 9385, 9394, 9452, 9467, 9480, 9503, 9525, 9535, 9554, 9574, 9576, 9594, 9639, 9652, 9653, 9669, 9674, 9679, 9682, 9701, 9823, 9831, 9888, 9899, 9902, 9944, 9953, 9954, 9966, 10002, 10007, 10016, 10048, 10053, 10061, 10136, 10142, 10158, 10169, 10186, 10189, 10207, 10212, 10217, 10220, 10222, 10240, 10245, 10254, 10259, 10264, 10270, 10308, 10309, 10340, 10402, 10435, 10445, 10495]\n"
          ]
        }
      ]
    },
    {
      "cell_type": "code",
      "source": [
        "index = tp[0]\n",
        "print (X_test.values[index])\n",
        "print (f\"true: {decode_preds([y_test.values[index]])[0]}\")\n",
        "print (f\"pred: {decode_preds([y_pred[index]])[0]}\\n\")"
      ],
      "metadata": {
        "colab": {
          "base_uri": "https://localhost:8080/"
        },
        "id": "i5tbCkF_J0Ir",
        "outputId": "11879036-a18c-4ada-ad93-db27beca0d62"
      },
      "execution_count": 112,
      "outputs": [
        {
          "output_type": "stream",
          "name": "stdout",
          "text": [
            "great, another article from a guy who thought making [name] the head coach was the answer.\n",
            "true: ['admiration']\n",
            "pred: ['admiration']\n",
            "\n"
          ]
        }
      ]
    },
    {
      "cell_type": "code",
      "source": [
        "from collections import OrderedDict\n",
        "\n",
        "# Sorted tags\n",
        "sorted_tags_by_f1 = OrderedDict(sorted(\n",
        "        metrics[\"class\"].items(), key=lambda tag: tag[1][\"f1\"], reverse=True))"
      ],
      "metadata": {
        "id": "ZlEClefAJ_Cy"
      },
      "execution_count": 113,
      "outputs": []
    },
    {
      "cell_type": "code",
      "source": [
        "# Samples\n",
        "num_samples = 3\n",
        "if len(tp):\n",
        "    print (\"\\n=== True positives ===\")\n",
        "    for i in tp[:num_samples]:\n",
        "        print (f\"  {X_test.values[i]}\")\n",
        "        print (f\"    true: {decode_preds([y_test.values[i]])[0]}\")\n",
        "        print (f\"    pred: {decode_preds([y_pred[i]])[0]}\\n\")\n",
        "if len(fp):\n",
        "    print (\"=== False positives === \")\n",
        "    for i in fp[:num_samples]:\n",
        "        print (f\"  {X_test.values[i]}\")\n",
        "        print (f\"    true: {decode_preds([y_test.values[i]])[0]}\")\n",
        "        print (f\"    pred: {decode_preds([y_pred[i]])[0]}\\n\")\n",
        "if len(fn):\n",
        "    print (\"=== False negatives ===\")\n",
        "    for i in fn[:num_samples]:\n",
        "        print (f\"  {X_test.values[i]}\")\n",
        "        print (f\"    true: {decode_preds([y_test.values[i]])[0]}\")\n",
        "        print (f\"    pred: {decode_preds([y_pred[i]])[0]}\\n\")"
      ],
      "metadata": {
        "colab": {
          "base_uri": "https://localhost:8080/"
        },
        "id": "xxzy6nSEKA8H",
        "outputId": "767621e0-ef3f-48d2-f576-9b015a5da9ee"
      },
      "execution_count": 114,
      "outputs": [
        {
          "output_type": "stream",
          "name": "stdout",
          "text": [
            "\n",
            "=== True positives ===\n",
            "  great, another article from a guy who thought making [name] the head coach was the answer.\n",
            "    true: ['admiration']\n",
            "    pred: ['admiration']\n",
            "\n",
            "  and it tastes great because it was chilling in my refrigerator\n",
            "    true: ['admiration']\n",
            "    pred: ['admiration']\n",
            "\n",
            "  i hear the ruler's control is remote and is viewed with great reception.\n",
            "    true: ['admiration']\n",
            "    pred: ['admiration']\n",
            "\n",
            "=== False positives === \n",
            "  summer beaver, nice place. \n",
            "    true: ['gratitude']\n",
            "    pred: ['admiration']\n",
            "\n",
            "  [name] vs [name] has been a great match... hope [name] can give a fight for the fourth set!\n",
            "    true: ['gratitude', 'optimism']\n",
            "    pred: ['admiration', 'optimism']\n",
            "\n",
            "  that's numberwang!\n",
            "    true: []\n",
            "    pred: ['admiration']\n",
            "\n",
            "=== False negatives ===\n",
            "  you are a wize man. this was a brilliant conversation\n",
            "    true: ['admiration']\n",
            "    pred: []\n",
            "\n",
            "  its great that she takes care of you, but remember to let her know that she can lean on you\n",
            "    true: ['admiration']\n",
            "    pred: []\n",
            "\n",
            "  i'm watching it for the first time now. he's perfect for the role lol [name] is a god to me now\n",
            "    true: ['admiration']\n",
            "    pred: ['amusement']\n",
            "\n"
          ]
        }
      ]
    },
    {
      "cell_type": "markdown",
      "source": [
        "**Tip**\n",
        "\n",
        "While this view is great for cursory inspection, we should have a scaled version that's tied to labeling and boosting workflows so we can act on our findings from this view."
      ],
      "metadata": {
        "id": "IMVODmCmN8sh"
      }
    },
    {
      "cell_type": "markdown",
      "source": [
        "## Confidence learning\n",
        "\n",
        "While the confusion-matrix sample analysis was a coarse-grained process, we can also use fine-grained confidence based approaches to identify potentially mislabeled samples. Here we’re going to focus on the specific probabilities as opposed to the final model predictions.\n",
        "\n",
        "Simple confidence based techniques include identifying samples whose:\n",
        "\n",
        "- **Categorical**\n",
        " - prediction is incorrect (also indicate TN, FP, FN)\n",
        " - confidence score for the correct class is below a threshold\n",
        " - confidence score for an incorrect class is above a threshold\n",
        " - standard deviation of confidence scores over top N samples is low\n",
        " - different predictions from same model using different/previous parameters\n",
        "- **Continuous**\n",
        " - difference between predicted and ground-truth values is above some %"
      ],
      "metadata": {
        "id": "e5SUe6cxODc6"
      }
    },
    {
      "cell_type": "code",
      "source": [
        "# Confidence score for the incorrect class is above a threshold\n",
        "high_confidence = []\n",
        "max_threshold = 0.2\n",
        "for i in range(len(y_test)):\n",
        "    indices = np.where(y_test.values[i]==0)[0]\n",
        "    probs = y_prob[i][indices]\n",
        "    classes = []\n",
        "    for index in np.where(probs>=max_threshold)[0]:\n",
        "        classes.append(labels[indices[index]])\n",
        "    if len(classes):\n",
        "        high_confidence.append({\"text\": test_df.text.values[i], \"classes\": classes})"
      ],
      "metadata": {
        "id": "MMJrAkwqOQsA"
      },
      "execution_count": 115,
      "outputs": []
    },
    {
      "cell_type": "code",
      "source": [
        "high_confidence[0:5]"
      ],
      "metadata": {
        "colab": {
          "base_uri": "https://localhost:8080/"
        },
        "id": "iru6JGCaOcRx",
        "outputId": "b729b2c2-fa15-4f8e-c361-59246386bded"
      },
      "execution_count": 116,
      "outputs": [
        {
          "output_type": "execute_result",
          "data": {
            "text/plain": [
              "[{'classes': ['surprise'],\n",
              "  'text': \"considering you are also a child, i can't say i'm surprised by your edgy hot take.\"},\n",
              " {'classes': ['remorse'], 'text': \"i'm sorry i watched that\"},\n",
              " {'classes': ['amusement'],\n",
              "  'text': \"i'm watching it for the first time now. he's perfect for the role lol [name] is a god to me now\"},\n",
              " {'classes': ['amusement'], 'text': 'let people have fun'},\n",
              " {'classes': ['curiosity'],\n",
              "  'text': 'i grew up in the south and we ate casseroles all the time. so i share your \"what?!?!\"'}]"
            ]
          },
          "metadata": {},
          "execution_count": 116
        }
      ]
    },
    {
      "cell_type": "markdown",
      "source": [
        "## Calibration\n",
        "\n",
        "But these are fairly crude techniques because neural networks are easily overconfident and so their confidences cannot be used without [calibrating](https://arxiv.org/abs/1706.04599) them.\n",
        "\n",
        "![](https://raw.githubusercontent.com/GokuMohandas/MadeWithML/main/images/mlops/evaluation/calibration.png)\n",
        "> Modern (large) neural networks result in higher accuracies but are over confident.\n",
        "> [On Calibration of Modern Neural Networks](https://arxiv.org/abs/1706.04599)\n",
        "\n",
        "- **Assumption**: “the probability associated with the predicted class label should reflect its ground truth correctness likelihood.”\n",
        "- **Reality**: “modern (large) neural networks are no longer well-calibrated”\n",
        "- **Solution**: apply temperature scaling (extension of [Platt scaling](https://en.wikipedia.org/wiki/Platt_scaling)) on model outputs\n",
        "\n",
        "Recent work on [confident learning](https://arxiv.org/abs/1911.00068) ([cleanlab](https://github.com/cleanlab/cleanlab)) focuses on identifying noisy labels (with calibration), which can then be properly relabeled and used for training.\n",
        "\n"
      ],
      "metadata": {
        "id": "wjZMCFJWUCCD"
      }
    },
    {
      "cell_type": "code",
      "source": [
        "import cleanlab\n",
        "from cleanlab.internal.util import onehot2int\n",
        "# from cleanlab.pruning import get_noise_indices\n",
        "from cleanlab.filter import find_label_issues"
      ],
      "metadata": {
        "id": "9S4iCnLHUZs4"
      },
      "execution_count": 125,
      "outputs": []
    },
    {
      "cell_type": "code",
      "source": [
        "# Format our noisy labels `s` (cleanlab expects list of integers for multilabel tasks)\n",
        "correctly_formatted_labels = onehot2int(y_test.values)"
      ],
      "metadata": {
        "id": "Bcaj6S6ZUsKv"
      },
      "execution_count": 123,
      "outputs": []
    },
    {
      "cell_type": "code",
      "source": [
        "# Determine potential labeling errors\n",
        "# label_error_indices = get_noise_indices(\n",
        "#             s=correctly_formatted_labels,\n",
        "#             psx=y_prob,\n",
        "#             multi_label=True,\n",
        "#             sorted_index_method=\"self_confidence\",\n",
        "#             verbose=0)\n",
        "label_error_indices = find_label_issues(\n",
        "            labels=correctly_formatted_labels,\n",
        "            pred_probs=y_prob,\n",
        "            multi_label=True,\n",
        "            return_indices_ranked_by=\"self_confidence\",\n",
        "            verbose=0)\n",
        "\n",
        "from IPython.display import clear_output \n",
        "clear_output()"
      ],
      "metadata": {
        "id": "LRwNGPB2UtNq"
      },
      "execution_count": 129,
      "outputs": []
    },
    {
      "cell_type": "markdown",
      "source": [
        "Not all of these are necessarily labeling errors but situations where the predicted probabilities were not so confident. Therefore, it will be useful to attach the predicted outcomes along side results. This way, we can know if we need to relabel, upsample, etc. as mitigation strategies to improve our performance."
      ],
      "metadata": {
        "id": "jPOomNx2UuP3"
      }
    },
    {
      "cell_type": "code",
      "source": [
        "num_samples = 5\n",
        "for index in label_error_indices[:num_samples]:\n",
        "    print(\"\\ntext:\", test_df.iloc[index].text)\n",
        "    print(\"labels:\", decode_preds([test_df.iloc[index][labels].values]))\n",
        "    print(\"pred:\", decode_preds([y_pred[index]]))"
      ],
      "metadata": {
        "id": "gs3a_hJwUu6n",
        "colab": {
          "base_uri": "https://localhost:8080/"
        },
        "outputId": "e6fa6c29-a728-4607-ede9-f382b1bb4748"
      },
      "execution_count": 130,
      "outputs": [
        {
          "output_type": "stream",
          "name": "stdout",
          "text": [
            "\n",
            "text: i'm sorry, i can't hear your useless badgering over me drinking my 38' from a wine bottle and enjoying my extra $200.\n",
            "labels: [['disapproval', 'remorse']]\n",
            "pred: [['remorse', 'sadness']]\n",
            "\n",
            "text: i was told that upon waking up from a surgery, my first phrase was “don’t terri [name] me” ☹️\n",
            "labels: [['realization']]\n",
            "pred: [['remorse', 'sadness']]\n",
            "\n",
            "text: i'm sorry but as someone who travels alone i would be pissed if i was told i can't drink at the bar by myself.\n",
            "labels: [['annoyance', 'remorse']]\n",
            "pred: [['nervousness', 'remorse', 'sadness']]\n",
            "\n",
            "text: yep. ~~(also, i'm not interested in getting arrested so sorry.)~~\n",
            "labels: [['approval']]\n",
            "pred: [['remorse', 'sadness']]\n",
            "\n",
            "text: i’m sorry you’re dealing with this too. but hopefully it helps to know you’re not alone...?\n",
            "labels: [['curiosity', 'optimism']]\n",
            "pred: [['confusion', 'remorse']]\n"
          ]
        }
      ]
    },
    {
      "cell_type": "markdown",
      "source": [
        "## Manual slices\n",
        "Just inspecting the overall and class metrics isn't enough to deploy our new version to production. There may be key slices of our dataset that we need to do really well on:\n",
        "\n",
        "- Target / predicted classes (+ combinations)\n",
        "- Features (explicit and implicit)\n",
        "- Metadata (timestamps, sources, etc.)\n",
        "- Priority slices / experience (minority groups, large customers, etc.)\n",
        "\n",
        "An easy way to create and evaluate slices is to define slicing functions."
      ],
      "metadata": {
        "id": "WtnvDas7ToC4"
      }
    },
    {
      "cell_type": "code",
      "source": [
        "from snorkel.slicing import PandasSFApplier\n",
        "from snorkel.slicing import slice_dataframe\n",
        "from snorkel.slicing import slicing_function"
      ],
      "metadata": {
        "id": "9UQRAhd_TsI8"
      },
      "execution_count": 131,
      "outputs": []
    },
    {
      "cell_type": "code",
      "source": [
        "@slicing_function()\n",
        "def anger_samples(x):\n",
        "    \"\"\"Samples with `anger` label.\"\"\"\n",
        "    return x.anger == 1"
      ],
      "metadata": {
        "id": "_IPeysR6Tunp"
      },
      "execution_count": 132,
      "outputs": []
    },
    {
      "cell_type": "code",
      "source": [
        "@slicing_function()\n",
        "def short_text(x):\n",
        "    \"\"\"Projects with short titles and descriptions.\"\"\"\n",
        "    return len(x.text.split()) < 7  # less than 7 words"
      ],
      "metadata": {
        "id": "CYobSsTrTv7s"
      },
      "execution_count": 133,
      "outputs": []
    },
    {
      "cell_type": "markdown",
      "source": [
        "Here we're using Snorkel's [`slicing_function`](https://snorkel.readthedocs.io/en/v0.9.3/packages/_autosummary/slicing/snorkel.slicing.slicing_function.html) to create our different slices. We can visualize our slices by applying this slicing function to a relevant DataFrame using [`slice_dataframe`](https://snorkel.readthedocs.io/en/v0.9.3/packages/_autosummary/slicing/snorkel.slicing.slice_dataframe.html)."
      ],
      "metadata": {
        "id": "wdV15VOBUv7j"
      }
    },
    {
      "cell_type": "code",
      "source": [
        "short_text_df = slice_dataframe(test_df, short_text)\n",
        "short_text_df[[\"text\"] + labels].head()"
      ],
      "metadata": {
        "colab": {
          "base_uri": "https://localhost:8080/",
          "height": 456
        },
        "id": "nJHs4wWSUu3k",
        "outputId": "5fa254a9-b567-4348-b09f-d7e8468027e4"
      },
      "execution_count": 134,
      "outputs": [
        {
          "output_type": "stream",
          "name": "stderr",
          "text": [
            "100%|██████████| 10500/10500 [00:00<00:00, 54571.71it/s]\n"
          ]
        },
        {
          "output_type": "execute_result",
          "data": {
            "text/plain": [
              "                                 text  admiration  amusement  anger  \\\n",
              "29207  when it goes on your keyboard.           0          0      0   \n",
              "63158        i'm sorry i watched that           0          0      0   \n",
              "8788              let people have fun           0          0      0   \n",
              "12293                  mafia meme...?           0          0      0   \n",
              "57286                 i love you both           0          0      0   \n",
              "\n",
              "       annoyance  approval  caring  confusion  curiosity  desire  ...  love  \\\n",
              "29207          0         0       0          0          0       0  ...     0   \n",
              "63158          0         0       0          0          0       0  ...     0   \n",
              "8788           0         0       0          0          0       0  ...     0   \n",
              "12293          0         0       0          0          1       0  ...     0   \n",
              "57286          0         0       0          0          0       0  ...     1   \n",
              "\n",
              "       nervousness  optimism  pride  realization  relief  remorse  sadness  \\\n",
              "29207            0         0      0            0       0        0        0   \n",
              "63158            0         0      0            0       0        0        1   \n",
              "8788             0         0      0            0       0        0        0   \n",
              "12293            0         0      0            0       0        0        0   \n",
              "57286            0         0      0            0       0        0        0   \n",
              "\n",
              "       surprise  neutral  \n",
              "29207         0        1  \n",
              "63158         0        0  \n",
              "8788          0        1  \n",
              "12293         0        0  \n",
              "57286         0        0  \n",
              "\n",
              "[5 rows x 29 columns]"
            ],
            "text/html": [
              "\n",
              "  <div id=\"df-4dd89abf-044d-427b-a9e7-7263c4c9b43b\">\n",
              "    <div class=\"colab-df-container\">\n",
              "      <div>\n",
              "<style scoped>\n",
              "    .dataframe tbody tr th:only-of-type {\n",
              "        vertical-align: middle;\n",
              "    }\n",
              "\n",
              "    .dataframe tbody tr th {\n",
              "        vertical-align: top;\n",
              "    }\n",
              "\n",
              "    .dataframe thead th {\n",
              "        text-align: right;\n",
              "    }\n",
              "</style>\n",
              "<table border=\"1\" class=\"dataframe\">\n",
              "  <thead>\n",
              "    <tr style=\"text-align: right;\">\n",
              "      <th></th>\n",
              "      <th>text</th>\n",
              "      <th>admiration</th>\n",
              "      <th>amusement</th>\n",
              "      <th>anger</th>\n",
              "      <th>annoyance</th>\n",
              "      <th>approval</th>\n",
              "      <th>caring</th>\n",
              "      <th>confusion</th>\n",
              "      <th>curiosity</th>\n",
              "      <th>desire</th>\n",
              "      <th>...</th>\n",
              "      <th>love</th>\n",
              "      <th>nervousness</th>\n",
              "      <th>optimism</th>\n",
              "      <th>pride</th>\n",
              "      <th>realization</th>\n",
              "      <th>relief</th>\n",
              "      <th>remorse</th>\n",
              "      <th>sadness</th>\n",
              "      <th>surprise</th>\n",
              "      <th>neutral</th>\n",
              "    </tr>\n",
              "  </thead>\n",
              "  <tbody>\n",
              "    <tr>\n",
              "      <th>29207</th>\n",
              "      <td>when it goes on your keyboard.</td>\n",
              "      <td>0</td>\n",
              "      <td>0</td>\n",
              "      <td>0</td>\n",
              "      <td>0</td>\n",
              "      <td>0</td>\n",
              "      <td>0</td>\n",
              "      <td>0</td>\n",
              "      <td>0</td>\n",
              "      <td>0</td>\n",
              "      <td>...</td>\n",
              "      <td>0</td>\n",
              "      <td>0</td>\n",
              "      <td>0</td>\n",
              "      <td>0</td>\n",
              "      <td>0</td>\n",
              "      <td>0</td>\n",
              "      <td>0</td>\n",
              "      <td>0</td>\n",
              "      <td>0</td>\n",
              "      <td>1</td>\n",
              "    </tr>\n",
              "    <tr>\n",
              "      <th>63158</th>\n",
              "      <td>i'm sorry i watched that</td>\n",
              "      <td>0</td>\n",
              "      <td>0</td>\n",
              "      <td>0</td>\n",
              "      <td>0</td>\n",
              "      <td>0</td>\n",
              "      <td>0</td>\n",
              "      <td>0</td>\n",
              "      <td>0</td>\n",
              "      <td>0</td>\n",
              "      <td>...</td>\n",
              "      <td>0</td>\n",
              "      <td>0</td>\n",
              "      <td>0</td>\n",
              "      <td>0</td>\n",
              "      <td>0</td>\n",
              "      <td>0</td>\n",
              "      <td>0</td>\n",
              "      <td>1</td>\n",
              "      <td>0</td>\n",
              "      <td>0</td>\n",
              "    </tr>\n",
              "    <tr>\n",
              "      <th>8788</th>\n",
              "      <td>let people have fun</td>\n",
              "      <td>0</td>\n",
              "      <td>0</td>\n",
              "      <td>0</td>\n",
              "      <td>0</td>\n",
              "      <td>0</td>\n",
              "      <td>0</td>\n",
              "      <td>0</td>\n",
              "      <td>0</td>\n",
              "      <td>0</td>\n",
              "      <td>...</td>\n",
              "      <td>0</td>\n",
              "      <td>0</td>\n",
              "      <td>0</td>\n",
              "      <td>0</td>\n",
              "      <td>0</td>\n",
              "      <td>0</td>\n",
              "      <td>0</td>\n",
              "      <td>0</td>\n",
              "      <td>0</td>\n",
              "      <td>1</td>\n",
              "    </tr>\n",
              "    <tr>\n",
              "      <th>12293</th>\n",
              "      <td>mafia meme...?</td>\n",
              "      <td>0</td>\n",
              "      <td>0</td>\n",
              "      <td>0</td>\n",
              "      <td>0</td>\n",
              "      <td>0</td>\n",
              "      <td>0</td>\n",
              "      <td>0</td>\n",
              "      <td>1</td>\n",
              "      <td>0</td>\n",
              "      <td>...</td>\n",
              "      <td>0</td>\n",
              "      <td>0</td>\n",
              "      <td>0</td>\n",
              "      <td>0</td>\n",
              "      <td>0</td>\n",
              "      <td>0</td>\n",
              "      <td>0</td>\n",
              "      <td>0</td>\n",
              "      <td>0</td>\n",
              "      <td>0</td>\n",
              "    </tr>\n",
              "    <tr>\n",
              "      <th>57286</th>\n",
              "      <td>i love you both</td>\n",
              "      <td>0</td>\n",
              "      <td>0</td>\n",
              "      <td>0</td>\n",
              "      <td>0</td>\n",
              "      <td>0</td>\n",
              "      <td>0</td>\n",
              "      <td>0</td>\n",
              "      <td>0</td>\n",
              "      <td>0</td>\n",
              "      <td>...</td>\n",
              "      <td>1</td>\n",
              "      <td>0</td>\n",
              "      <td>0</td>\n",
              "      <td>0</td>\n",
              "      <td>0</td>\n",
              "      <td>0</td>\n",
              "      <td>0</td>\n",
              "      <td>0</td>\n",
              "      <td>0</td>\n",
              "      <td>0</td>\n",
              "    </tr>\n",
              "  </tbody>\n",
              "</table>\n",
              "<p>5 rows × 29 columns</p>\n",
              "</div>\n",
              "      <button class=\"colab-df-convert\" onclick=\"convertToInteractive('df-4dd89abf-044d-427b-a9e7-7263c4c9b43b')\"\n",
              "              title=\"Convert this dataframe to an interactive table.\"\n",
              "              style=\"display:none;\">\n",
              "        \n",
              "  <svg xmlns=\"http://www.w3.org/2000/svg\" height=\"24px\"viewBox=\"0 0 24 24\"\n",
              "       width=\"24px\">\n",
              "    <path d=\"M0 0h24v24H0V0z\" fill=\"none\"/>\n",
              "    <path d=\"M18.56 5.44l.94 2.06.94-2.06 2.06-.94-2.06-.94-.94-2.06-.94 2.06-2.06.94zm-11 1L8.5 8.5l.94-2.06 2.06-.94-2.06-.94L8.5 2.5l-.94 2.06-2.06.94zm10 10l.94 2.06.94-2.06 2.06-.94-2.06-.94-.94-2.06-.94 2.06-2.06.94z\"/><path d=\"M17.41 7.96l-1.37-1.37c-.4-.4-.92-.59-1.43-.59-.52 0-1.04.2-1.43.59L10.3 9.45l-7.72 7.72c-.78.78-.78 2.05 0 2.83L4 21.41c.39.39.9.59 1.41.59.51 0 1.02-.2 1.41-.59l7.78-7.78 2.81-2.81c.8-.78.8-2.07 0-2.86zM5.41 20L4 18.59l7.72-7.72 1.47 1.35L5.41 20z\"/>\n",
              "  </svg>\n",
              "      </button>\n",
              "      \n",
              "  <style>\n",
              "    .colab-df-container {\n",
              "      display:flex;\n",
              "      flex-wrap:wrap;\n",
              "      gap: 12px;\n",
              "    }\n",
              "\n",
              "    .colab-df-convert {\n",
              "      background-color: #E8F0FE;\n",
              "      border: none;\n",
              "      border-radius: 50%;\n",
              "      cursor: pointer;\n",
              "      display: none;\n",
              "      fill: #1967D2;\n",
              "      height: 32px;\n",
              "      padding: 0 0 0 0;\n",
              "      width: 32px;\n",
              "    }\n",
              "\n",
              "    .colab-df-convert:hover {\n",
              "      background-color: #E2EBFA;\n",
              "      box-shadow: 0px 1px 2px rgba(60, 64, 67, 0.3), 0px 1px 3px 1px rgba(60, 64, 67, 0.15);\n",
              "      fill: #174EA6;\n",
              "    }\n",
              "\n",
              "    [theme=dark] .colab-df-convert {\n",
              "      background-color: #3B4455;\n",
              "      fill: #D2E3FC;\n",
              "    }\n",
              "\n",
              "    [theme=dark] .colab-df-convert:hover {\n",
              "      background-color: #434B5C;\n",
              "      box-shadow: 0px 1px 3px 1px rgba(0, 0, 0, 0.15);\n",
              "      filter: drop-shadow(0px 1px 2px rgba(0, 0, 0, 0.3));\n",
              "      fill: #FFFFFF;\n",
              "    }\n",
              "  </style>\n",
              "\n",
              "      <script>\n",
              "        const buttonEl =\n",
              "          document.querySelector('#df-4dd89abf-044d-427b-a9e7-7263c4c9b43b button.colab-df-convert');\n",
              "        buttonEl.style.display =\n",
              "          google.colab.kernel.accessAllowed ? 'block' : 'none';\n",
              "\n",
              "        async function convertToInteractive(key) {\n",
              "          const element = document.querySelector('#df-4dd89abf-044d-427b-a9e7-7263c4c9b43b');\n",
              "          const dataTable =\n",
              "            await google.colab.kernel.invokeFunction('convertToInteractive',\n",
              "                                                     [key], {});\n",
              "          if (!dataTable) return;\n",
              "\n",
              "          const docLinkHtml = 'Like what you see? Visit the ' +\n",
              "            '<a target=\"_blank\" href=https://colab.research.google.com/notebooks/data_table.ipynb>data table notebook</a>'\n",
              "            + ' to learn more about interactive tables.';\n",
              "          element.innerHTML = '';\n",
              "          dataTable['output_type'] = 'display_data';\n",
              "          await google.colab.output.renderOutput(dataTable, element);\n",
              "          const docLink = document.createElement('div');\n",
              "          docLink.innerHTML = docLinkHtml;\n",
              "          element.appendChild(docLink);\n",
              "        }\n",
              "      </script>\n",
              "    </div>\n",
              "  </div>\n",
              "  "
            ]
          },
          "metadata": {},
          "execution_count": 134
        }
      ]
    },
    {
      "cell_type": "markdown",
      "source": [
        "We can define even more slicing functions and create a slices record array using the [`PandasSFApplier`](https://snorkel.readthedocs.io/en/v0.9.6/packages/_autosummary/slicing/snorkel.slicing.PandasSFApplier.html). The slices array has N (# of data points) items and each item has S (# of slicing functions) items, indicating whether that data point is part of that slice. Think of this record array as a masking layer for each slicing function on our data.\n",
        "\n"
      ],
      "metadata": {
        "id": "8el-K1otVJ9D"
      }
    },
    {
      "cell_type": "code",
      "source": [
        "# Slices\n",
        "slicing_functions = [anger_samples, short_text]\n",
        "applier = PandasSFApplier(slicing_functions)\n",
        "slices = applier.apply(test_df)\n",
        "print(slices)"
      ],
      "metadata": {
        "colab": {
          "base_uri": "https://localhost:8080/"
        },
        "id": "ilZg-9tIVRBy",
        "outputId": "6a9fe006-b8ae-4ad5-faf5-ecbfb1eb3deb"
      },
      "execution_count": 135,
      "outputs": [
        {
          "output_type": "stream",
          "name": "stderr",
          "text": [
            "100%|██████████| 10500/10500 [00:00<00:00, 37923.08it/s]\n"
          ]
        },
        {
          "output_type": "stream",
          "name": "stdout",
          "text": [
            "[(0, 0) (0, 0) (0, 0) ... (0, 0) (0, 0) (0, 0)]\n"
          ]
        }
      ]
    },
    {
      "cell_type": "markdown",
      "source": [
        "If our task was multiclass instead of multilabel, we could've used [snorkel.analysis.Scorer](https://snorkel.readthedocs.io/en/v0.9.1/packages/_autosummary/analysis/snorkel.analysis.Scorer.html) to retrieve our slice metrics. But we've implemented a naive version for our multilabel task based on it."
      ],
      "metadata": {
        "id": "TF5PdBfocbqa"
      }
    },
    {
      "cell_type": "code",
      "source": [
        "# Score slices\n",
        "metrics[\"slices\"] = {}\n",
        "for slice_name in slices.dtype.names:\n",
        "    mask = slices[slice_name].astype(bool)\n",
        "    if sum(mask):\n",
        "        slice_metrics = precision_recall_fscore_support(\n",
        "            y_test[mask], y_pred[mask], average=\"micro\"\n",
        "        )\n",
        "        metrics[\"slices\"][slice_name] = {}\n",
        "        metrics[\"slices\"][slice_name][\"precision\"] = slice_metrics[0]\n",
        "        metrics[\"slices\"][slice_name][\"recall\"] = slice_metrics[1]\n",
        "        metrics[\"slices\"][slice_name][\"f1\"] = slice_metrics[2]\n",
        "        metrics[\"slices\"][slice_name][\"num_samples\"] = len(y_true[mask])"
      ],
      "metadata": {
        "id": "5Q5kZ9Z0chi2"
      },
      "execution_count": 136,
      "outputs": []
    },
    {
      "cell_type": "code",
      "source": [
        "print(json.dumps(metrics[\"slices\"], indent=2))"
      ],
      "metadata": {
        "colab": {
          "base_uri": "https://localhost:8080/"
        },
        "id": "zLTtSd5hci2h",
        "outputId": "3c365e11-f83c-4cce-bf72-9094bc626d4c"
      },
      "execution_count": 137,
      "outputs": [
        {
          "output_type": "stream",
          "name": "stdout",
          "text": [
            "{\n",
            "  \"anger_samples\": {\n",
            "    \"precision\": 0.34916201117318435,\n",
            "    \"recall\": 0.2399232245681382,\n",
            "    \"f1\": 0.2844141069397042,\n",
            "    \"num_samples\": 369\n",
            "  },\n",
            "  \"short_text\": {\n",
            "    \"precision\": 0.37277777777777776,\n",
            "    \"recall\": 0.28384094754653133,\n",
            "    \"f1\": 0.3222862632084534,\n",
            "    \"num_samples\": 2175\n",
            "  }\n",
            "}\n"
          ]
        }
      ]
    },
    {
      "cell_type": "markdown",
      "source": [
        "## Generated slices\n",
        "\n",
        "Manually creating slices is a massive improvement towards identifying problem subsets in our dataset compared to coarse-grained evaluation but what if there are problematic slices of our dataset that we failed to identify? [SliceLine](https://mboehm7.github.io/resources/sigmod2021b_sliceline.pdf) is a recent work that uses a linear-algebra and pruning based technique to identify large slices (specify minimum slice size) that result in meaningful errors from the forward pass. Without pruning, automatic slice identification becomes computationally intensive because it involves enumerating through many combinations of data points to identify the slices. But with this technique, we can discover hidden underperforming subsets in our dataset that we weren’t explicitly looking for!\n",
        "\n",
        "![](https://raw.githubusercontent.com/GokuMohandas/MadeWithML/main/images/mlops/evaluation/slicefinder.png)\n",
        ">SliceFinder GUI\n",
        "[Automated Data Slicing for Model Validation](https://arxiv.org/abs/1807.06068)"
      ],
      "metadata": {
        "id": "QLuzaMLAdMrl"
      }
    },
    {
      "cell_type": "markdown",
      "source": [
        "### Hidden stratification\n",
        "\n",
        "What if the features to generate slices on are implicit/hidden?\n",
        "\n",
        "![](https://raw.githubusercontent.com/GokuMohandas/MadeWithML/main/images/mlops/evaluation/subgroups.png)\n",
        "> [Distributionally Robust Neural Networks for Group Shifts](https://arxiv.org/abs/1911.08731)\n",
        "\n",
        "To address this, there are recent [clustering-based techniques](https://arxiv.org/abs/2011.12945) to identify these hidden slices and improve the system.\n",
        "\n",
        "1. Estimate implicit subclass labels via unsupervised clustering\n",
        "2. Train new more robust model using these clusters\n",
        "\n",
        "![](https://raw.githubusercontent.com/GokuMohandas/MadeWithML/main/images/mlops/evaluation/clustering.png)\n",
        ">[No Subclass Left Behind: Fine-Grained Robustness in Coarse-Grained Classification Problems](https://arxiv.org/abs/2011.12945)"
      ],
      "metadata": {
        "id": "MddtS0EId04l"
      }
    },
    {
      "cell_type": "markdown",
      "source": [
        "### Model patching\n",
        "\n",
        "Another recent work on [model patching](https://arxiv.org/abs/2008.06775) takes this another step further by learning how to transform between subgroups so we can train models on the augmented data:\n",
        "\n",
        "1. Learn subgroups\n",
        "2. Learn transformations (ex. [CycleGAN](https://junyanz.github.io/CycleGAN/)) needed to go from one subgroup to another under the same superclass (label)\n",
        "3. Augment data with artificially introduced subgroup features\n",
        "4. Train new robust model on augmented data\n",
        "\n",
        "![](https://raw.githubusercontent.com/GokuMohandas/MadeWithML/main/images/mlops/evaluation/model_patching.png)\n",
        "> [Model Patching: Closing the Subgroup Performance Gap with Data Augmentation](https://arxiv.org//2008.06775)"
      ],
      "metadata": {
        "id": "I3P-UD4_d5Qu"
      }
    },
    {
      "cell_type": "markdown",
      "source": [
        "## Explainability\n",
        "\n",
        "Besides just comparing predicted outputs with ground truth values, we can also inspect the inputs to our models. What aspects of the input are more influential towards the prediction? If the focus is not on intuitive features of our input, then we need to explore if there is a hidden pattern we're missing or if our model has learned to overfit on the incorrect features. We can use techniques such as [SHAP](https://github.com/slundberg/shap) (SHapley Additive exPlanations) or [LIME](https://github.com/marcotcr/lime) (Local Interpretable Model-agnostic Explanations) to inspect feature importance. On a high level, these techniques learn which features have the most signal by assessing the performance in their absence. These inspections can be performed on a global level (ex. per-class) or on a local level (ex. single prediction).\n",
        "\n",
        "**TODO**: Adding relevant code and results for this section this week.\n",
        "\n",
        "> We can also use model-specific approaches to explainability we we did in our [embeddings lesson](https://madewithml.com/courses/foundations/embeddings/#interpretability), where we used `SAME` padding to extract the most influential n-grams in our text."
      ],
      "metadata": {
        "id": "l0FgTcodhZIu"
      }
    },
    {
      "cell_type": "markdown",
      "source": [
        "## Counterfactuals\n",
        "\n",
        "Another way to evaluate our systems is to identify counterfactuals -- data with similar features that belongs to another class (classification) or above a certain difference (regression). These points allow us to evaluate model sensitivity to certain features and feature values that may be signs of overfitting. A great tool to identify and probe for counterfactuals (also great for slicing and fairness metrics) is the [What-if tool](https://pair-code.github.io/what-if-tool/).\n",
        "\n",
        "![](https://4.bp.blogspot.com/-hnqXfHQvl5I/W5b3f-hk0yI/AAAAAAAADUc/hBOXtobPdAUQ5aAG_xOwYf8AWp8YbL-kQCLcBGAs/s640/image2.gif)\n",
        "> [Identifying counterfactuals using the What-if tool](https://ai.googleblog.com/2018/09/the-what-if-tool-code-free-probing-of.html)"
      ],
      "metadata": {
        "id": "rckF2QgphpxQ"
      }
    },
    {
      "cell_type": "markdown",
      "source": [
        "## Behavioral testing\n",
        "\n",
        "Besides just looking at metrics, we also want to conduct some behavior sanity tests. Behavioral testing is the process of testing input data and expected outputs while treating the model as a black box. They don't necessarily have to be adversarial in nature but more along the types of perturbations we'll see in the real world once our model is deployed. A landmark paper on this topic is [Beyond Accuracy: Behavioral Testing of NLP Models with CheckList](https://arxiv.org/abs/2005.04118) which breaks down behavioral testing into three types of tests:\n",
        "\n",
        "- `invariance`: Changes should not affect outputs."
      ],
      "metadata": {
        "id": "mjb6uLtjkW7m"
      }
    },
    {
      "cell_type": "code",
      "source": [
        "# INVariance via verb injection (changes should not affect outputs)\n",
        "tokens = [\"loving\", \"adoring\"]\n",
        "tags = [[\"admiration\"], [\"love\"]]\n",
        "texts = [f\"I am {token} this.\" for token in tokens]\n",
        "print(texts)"
      ],
      "metadata": {
        "colab": {
          "base_uri": "https://localhost:8080/"
        },
        "id": "z99qNDL_kkA_",
        "outputId": "458e959d-1a85-4aaf-c1f3-3f48490af740"
      },
      "execution_count": 138,
      "outputs": [
        {
          "output_type": "stream",
          "name": "stdout",
          "text": [
            "['I am loving this.', 'I am adoring this.']\n"
          ]
        }
      ]
    },
    {
      "cell_type": "markdown",
      "source": [
        "- `directional`: Change should affect outputs."
      ],
      "metadata": {
        "id": "Sdp1DkkEkkjz"
      }
    },
    {
      "cell_type": "code",
      "source": [
        "# DIRectional expectations (changes with known outputs)\n",
        "tokens = [\"loving\", \"hating\"]\n",
        "tags = [\n",
        "    [\"admiration\"], [\"love\"],\n",
        "    [\"hate\"],\n",
        "]\n",
        "texts = [f\"I am {token} this.\" for token in tokens]\n",
        "print(texts)"
      ],
      "metadata": {
        "colab": {
          "base_uri": "https://localhost:8080/"
        },
        "id": "aXa0dEnikmhs",
        "outputId": "249e5f6c-6228-4899-f828-b255ba449018"
      },
      "execution_count": 139,
      "outputs": [
        {
          "output_type": "stream",
          "name": "stdout",
          "text": [
            "['I am loving this.', 'I am hating this.']\n"
          ]
        }
      ]
    },
    {
      "cell_type": "markdown",
      "source": [
        "- `minimum functionality`: Simple combination of inputs and expected outputs."
      ],
      "metadata": {
        "id": "kqtv-Kqpkm6j"
      }
    },
    {
      "cell_type": "code",
      "source": [
        "# Minimum Functionality Tests (simple input/output pairs)\n",
        "tokens = [\"loving\", \"hating\"]\n",
        "tags = [[\"love\"], [\"hate\"]]\n",
        "# texts = [f\"{token} have revolutionized machine learning.\" for token in tokens]\n",
        "texts = [f\"I am {token} this.\" for token in tokens]\n",
        "print(texts)"
      ],
      "metadata": {
        "colab": {
          "base_uri": "https://localhost:8080/"
        },
        "id": "XJf7SuENktbF",
        "outputId": "f12fd874-418d-4894-e126-7cdcb99ea8ec"
      },
      "execution_count": 140,
      "outputs": [
        {
          "output_type": "stream",
          "name": "stdout",
          "text": [
            "['I am loving this.', 'I am hating this.']\n"
          ]
        }
      ]
    },
    {
      "cell_type": "markdown",
      "source": [
        "> We'll learn how to systematically create tests in our [testing lesson](https://madewithml.com/courses/mlops/testing/)."
      ],
      "metadata": {
        "id": "4ZLSFlv3ktxL"
      }
    },
    {
      "cell_type": "markdown",
      "source": [
        "## Evaluating evaluations\n",
        "\n",
        "How can we know if our models and systems are performing better over time? Unfortunately, depending on how often we retrain or how quickly our dataset grows, it won't always be a simple decision where all metrics/slices are performing better than the previous version. In these scenarios, it's important to know what our main priorities are and where we can have some leighway:\n",
        "\n",
        "- What criteria are most important?\n",
        "- What criteria can/cannot regress?\n",
        "- How much of a regression can be tolerated?\n"
      ],
      "metadata": {
        "id": "_P3Meo4gh-Yb"
      }
    },
    {
      "cell_type": "code",
      "source": [
        "# assert precision > prev_precision  # most important, cannot regress\n",
        "# assert recall >= best_prev_recall - 0.03  # recall cannot regress > 3%\n",
        "# assert metrics[\"class\"][\"admiration\"][\"f1\"] > prev_data_augmentation_f1  # priority class\n",
        "# assert metrics[\"slices\"][\"class\"][\"short_text\"][\"f1\"] > prev_cv_transformers_f1  # priority slice"
      ],
      "metadata": {
        "id": "CClf1-sziCAT"
      },
      "execution_count": 142,
      "outputs": []
    },
    {
      "cell_type": "markdown",
      "source": [
        "And as we develop these criteria over time, we can systematically enforce them via [CI/CD workflows](https://madewithml.com/courses/mlops/cicd/) to decrease the manual time in between system updates.\n",
        "\n",
        "Seems straightforward, doesn't it?\n",
        "\n",
        "With all these different evaluation methods, how can we choose \"the best\" version of our model if some versions are better for some evaluation criteria?\n",
        "\n",
        "<details><summary><b> Show answer </b></summary>\n",
        "<p>\n",
        "\n",
        "You and your team need to agree on what evaluation criteria are most important and what is the minimum performance required for each one. This will allow us to filter amongst all the different solutions by removing ones that don't satisfy all the minimum requirements and ranking amongst the remaining by which ones perform the best for the highest priority criteria.\n",
        "\n",
        "</p>\n",
        "</details>\n",
        "\n",
        "\n",
        "> In our [testing lesson](https://madewithml.com/courses/mlops/testing/), we'll cover another way to evaluate our model known as [behavioral testing](https://madewithml.com/courses/mlops/testing/#behavioral-testing), which we'll also include as part of performance report."
      ],
      "metadata": {
        "id": "ikrBxz99iDv-"
      }
    },
    {
      "cell_type": "markdown",
      "source": [
        "## Model CI\n",
        "\n",
        "An effective way to evaluate our systems is to encapsulate them as a collection (suite) and use them for [continuous integration](https://madewithml.com/courses/mlops/cicd/). We would continue to add to our evaluation suites and they would be executed whenever we are experimenting with changes to our system (new models, data, etc.). Often, problematic slices of data identified during [monitoring](https://madewithml.com/courses/mlops/monitoring/) are often added to the evaluation test suite to avoid repeating the same regressions in the future."
      ],
      "metadata": {
        "id": "9r_oIguFihd5"
      }
    },
    {
      "cell_type": "markdown",
      "source": [
        "## Resources\n",
        "- [On Calibration of Modern Neural Networks](https://arxiv.org/abs/1706.04599)\n",
        "- [Confident Learning: Estimating Uncertainty in Dataset Labels](https://arxiv.org/abs/1911.00068)\n",
        "- [Automated Data Slicing for Model Validation](https://arxiv.org/abs/1807.06068)\n",
        "- [SliceLine: Fast, Linear-Algebra-based Slice Finding for ML Model Debugging](https://mboehm7.github.io/resources/sigmod2021b_sliceline.pdf)\n",
        "- [Distributionally Robust Neural Networks for Group Shifts](https://arxiv.org/abs/1911.08731)\n",
        "- [No Subclass Left Behind: Fine-Grained Robustness in Coarse-Grained Classification Problems](https://arxiv.org/abs/2011.12945)\n",
        "- [Model Patching: Closing the Subgroup Performance Gap with Data Augmentation](https://arxiv.org//2008.06775)"
      ],
      "metadata": {
        "id": "usX0GlrNirW9"
      }
    }
  ],
  "metadata": {
    "colab": {
      "collapsed_sections": [],
      "name": "EmoBERT.ipynb",
      "toc_visible": true,
      "provenance": []
    },
    "kernelspec": {
      "display_name": "Python 3",
      "name": "python3"
    },
    "language_info": {
      "name": "python"
    },
    "accelerator": "GPU",
    "widgets": {
      "application/vnd.jupyter.widget-state+json": {
        "76c2a528b7684d80bb089f667b7b646b": {
          "model_module": "@jupyter-widgets/controls",
          "model_name": "HBoxModel",
          "model_module_version": "1.5.0",
          "state": {
            "_dom_classes": [],
            "_model_module": "@jupyter-widgets/controls",
            "_model_module_version": "1.5.0",
            "_model_name": "HBoxModel",
            "_view_count": null,
            "_view_module": "@jupyter-widgets/controls",
            "_view_module_version": "1.5.0",
            "_view_name": "HBoxView",
            "box_style": "",
            "children": [
              "IPY_MODEL_7c5128e0955444ed894456c247e11ac3",
              "IPY_MODEL_ee9a35df454448d99f384144ed6c672f",
              "IPY_MODEL_ddb88dc789984d8fa9cf5e44d6951982"
            ],
            "layout": "IPY_MODEL_699b8ab9def34ab9bd588d75c836e09f"
          }
        },
        "7c5128e0955444ed894456c247e11ac3": {
          "model_module": "@jupyter-widgets/controls",
          "model_name": "HTMLModel",
          "model_module_version": "1.5.0",
          "state": {
            "_dom_classes": [],
            "_model_module": "@jupyter-widgets/controls",
            "_model_module_version": "1.5.0",
            "_model_name": "HTMLModel",
            "_view_count": null,
            "_view_module": "@jupyter-widgets/controls",
            "_view_module_version": "1.5.0",
            "_view_name": "HTMLView",
            "description": "",
            "description_tooltip": null,
            "layout": "IPY_MODEL_e11f1bb70354459bb0248453a22783d8",
            "placeholder": "​",
            "style": "IPY_MODEL_859ac561038244f484609b3f15872bc2",
            "value": "Downloading: 100%"
          }
        },
        "ee9a35df454448d99f384144ed6c672f": {
          "model_module": "@jupyter-widgets/controls",
          "model_name": "FloatProgressModel",
          "model_module_version": "1.5.0",
          "state": {
            "_dom_classes": [],
            "_model_module": "@jupyter-widgets/controls",
            "_model_module_version": "1.5.0",
            "_model_name": "FloatProgressModel",
            "_view_count": null,
            "_view_module": "@jupyter-widgets/controls",
            "_view_module_version": "1.5.0",
            "_view_name": "ProgressView",
            "bar_style": "success",
            "description": "",
            "description_tooltip": null,
            "layout": "IPY_MODEL_eb6fe27314e84040aab8962468ed19da",
            "max": 25,
            "min": 0,
            "orientation": "horizontal",
            "style": "IPY_MODEL_15a3fd89de8242aa8af934d2062349f1",
            "value": 25
          }
        },
        "ddb88dc789984d8fa9cf5e44d6951982": {
          "model_module": "@jupyter-widgets/controls",
          "model_name": "HTMLModel",
          "model_module_version": "1.5.0",
          "state": {
            "_dom_classes": [],
            "_model_module": "@jupyter-widgets/controls",
            "_model_module_version": "1.5.0",
            "_model_name": "HTMLModel",
            "_view_count": null,
            "_view_module": "@jupyter-widgets/controls",
            "_view_module_version": "1.5.0",
            "_view_name": "HTMLView",
            "description": "",
            "description_tooltip": null,
            "layout": "IPY_MODEL_abbf483e2d62462887ae5b867cdab0d5",
            "placeholder": "​",
            "style": "IPY_MODEL_f2fd0fc9775249b0b05fdadcc95682b3",
            "value": " 25.0/25.0 [00:00&lt;00:00, 693B/s]"
          }
        },
        "699b8ab9def34ab9bd588d75c836e09f": {
          "model_module": "@jupyter-widgets/base",
          "model_name": "LayoutModel",
          "model_module_version": "1.2.0",
          "state": {
            "_model_module": "@jupyter-widgets/base",
            "_model_module_version": "1.2.0",
            "_model_name": "LayoutModel",
            "_view_count": null,
            "_view_module": "@jupyter-widgets/base",
            "_view_module_version": "1.2.0",
            "_view_name": "LayoutView",
            "align_content": null,
            "align_items": null,
            "align_self": null,
            "border": null,
            "bottom": null,
            "display": null,
            "flex": null,
            "flex_flow": null,
            "grid_area": null,
            "grid_auto_columns": null,
            "grid_auto_flow": null,
            "grid_auto_rows": null,
            "grid_column": null,
            "grid_gap": null,
            "grid_row": null,
            "grid_template_areas": null,
            "grid_template_columns": null,
            "grid_template_rows": null,
            "height": null,
            "justify_content": null,
            "justify_items": null,
            "left": null,
            "margin": null,
            "max_height": null,
            "max_width": null,
            "min_height": null,
            "min_width": null,
            "object_fit": null,
            "object_position": null,
            "order": null,
            "overflow": null,
            "overflow_x": null,
            "overflow_y": null,
            "padding": null,
            "right": null,
            "top": null,
            "visibility": null,
            "width": null
          }
        },
        "e11f1bb70354459bb0248453a22783d8": {
          "model_module": "@jupyter-widgets/base",
          "model_name": "LayoutModel",
          "model_module_version": "1.2.0",
          "state": {
            "_model_module": "@jupyter-widgets/base",
            "_model_module_version": "1.2.0",
            "_model_name": "LayoutModel",
            "_view_count": null,
            "_view_module": "@jupyter-widgets/base",
            "_view_module_version": "1.2.0",
            "_view_name": "LayoutView",
            "align_content": null,
            "align_items": null,
            "align_self": null,
            "border": null,
            "bottom": null,
            "display": null,
            "flex": null,
            "flex_flow": null,
            "grid_area": null,
            "grid_auto_columns": null,
            "grid_auto_flow": null,
            "grid_auto_rows": null,
            "grid_column": null,
            "grid_gap": null,
            "grid_row": null,
            "grid_template_areas": null,
            "grid_template_columns": null,
            "grid_template_rows": null,
            "height": null,
            "justify_content": null,
            "justify_items": null,
            "left": null,
            "margin": null,
            "max_height": null,
            "max_width": null,
            "min_height": null,
            "min_width": null,
            "object_fit": null,
            "object_position": null,
            "order": null,
            "overflow": null,
            "overflow_x": null,
            "overflow_y": null,
            "padding": null,
            "right": null,
            "top": null,
            "visibility": null,
            "width": null
          }
        },
        "859ac561038244f484609b3f15872bc2": {
          "model_module": "@jupyter-widgets/controls",
          "model_name": "DescriptionStyleModel",
          "model_module_version": "1.5.0",
          "state": {
            "_model_module": "@jupyter-widgets/controls",
            "_model_module_version": "1.5.0",
            "_model_name": "DescriptionStyleModel",
            "_view_count": null,
            "_view_module": "@jupyter-widgets/base",
            "_view_module_version": "1.2.0",
            "_view_name": "StyleView",
            "description_width": ""
          }
        },
        "eb6fe27314e84040aab8962468ed19da": {
          "model_module": "@jupyter-widgets/base",
          "model_name": "LayoutModel",
          "model_module_version": "1.2.0",
          "state": {
            "_model_module": "@jupyter-widgets/base",
            "_model_module_version": "1.2.0",
            "_model_name": "LayoutModel",
            "_view_count": null,
            "_view_module": "@jupyter-widgets/base",
            "_view_module_version": "1.2.0",
            "_view_name": "LayoutView",
            "align_content": null,
            "align_items": null,
            "align_self": null,
            "border": null,
            "bottom": null,
            "display": null,
            "flex": null,
            "flex_flow": null,
            "grid_area": null,
            "grid_auto_columns": null,
            "grid_auto_flow": null,
            "grid_auto_rows": null,
            "grid_column": null,
            "grid_gap": null,
            "grid_row": null,
            "grid_template_areas": null,
            "grid_template_columns": null,
            "grid_template_rows": null,
            "height": null,
            "justify_content": null,
            "justify_items": null,
            "left": null,
            "margin": null,
            "max_height": null,
            "max_width": null,
            "min_height": null,
            "min_width": null,
            "object_fit": null,
            "object_position": null,
            "order": null,
            "overflow": null,
            "overflow_x": null,
            "overflow_y": null,
            "padding": null,
            "right": null,
            "top": null,
            "visibility": null,
            "width": null
          }
        },
        "15a3fd89de8242aa8af934d2062349f1": {
          "model_module": "@jupyter-widgets/controls",
          "model_name": "ProgressStyleModel",
          "model_module_version": "1.5.0",
          "state": {
            "_model_module": "@jupyter-widgets/controls",
            "_model_module_version": "1.5.0",
            "_model_name": "ProgressStyleModel",
            "_view_count": null,
            "_view_module": "@jupyter-widgets/base",
            "_view_module_version": "1.2.0",
            "_view_name": "StyleView",
            "bar_color": null,
            "description_width": ""
          }
        },
        "abbf483e2d62462887ae5b867cdab0d5": {
          "model_module": "@jupyter-widgets/base",
          "model_name": "LayoutModel",
          "model_module_version": "1.2.0",
          "state": {
            "_model_module": "@jupyter-widgets/base",
            "_model_module_version": "1.2.0",
            "_model_name": "LayoutModel",
            "_view_count": null,
            "_view_module": "@jupyter-widgets/base",
            "_view_module_version": "1.2.0",
            "_view_name": "LayoutView",
            "align_content": null,
            "align_items": null,
            "align_self": null,
            "border": null,
            "bottom": null,
            "display": null,
            "flex": null,
            "flex_flow": null,
            "grid_area": null,
            "grid_auto_columns": null,
            "grid_auto_flow": null,
            "grid_auto_rows": null,
            "grid_column": null,
            "grid_gap": null,
            "grid_row": null,
            "grid_template_areas": null,
            "grid_template_columns": null,
            "grid_template_rows": null,
            "height": null,
            "justify_content": null,
            "justify_items": null,
            "left": null,
            "margin": null,
            "max_height": null,
            "max_width": null,
            "min_height": null,
            "min_width": null,
            "object_fit": null,
            "object_position": null,
            "order": null,
            "overflow": null,
            "overflow_x": null,
            "overflow_y": null,
            "padding": null,
            "right": null,
            "top": null,
            "visibility": null,
            "width": null
          }
        },
        "f2fd0fc9775249b0b05fdadcc95682b3": {
          "model_module": "@jupyter-widgets/controls",
          "model_name": "DescriptionStyleModel",
          "model_module_version": "1.5.0",
          "state": {
            "_model_module": "@jupyter-widgets/controls",
            "_model_module_version": "1.5.0",
            "_model_name": "DescriptionStyleModel",
            "_view_count": null,
            "_view_module": "@jupyter-widgets/base",
            "_view_module_version": "1.2.0",
            "_view_name": "StyleView",
            "description_width": ""
          }
        },
        "ee1a0575035e459db1fac5306c957642": {
          "model_module": "@jupyter-widgets/controls",
          "model_name": "HBoxModel",
          "model_module_version": "1.5.0",
          "state": {
            "_dom_classes": [],
            "_model_module": "@jupyter-widgets/controls",
            "_model_module_version": "1.5.0",
            "_model_name": "HBoxModel",
            "_view_count": null,
            "_view_module": "@jupyter-widgets/controls",
            "_view_module_version": "1.5.0",
            "_view_name": "HBoxView",
            "box_style": "",
            "children": [
              "IPY_MODEL_bdc87fa31401437cbd478fe4e41a9287",
              "IPY_MODEL_5d62315259b4431aa7b85917b824a3b6",
              "IPY_MODEL_ebce4f9b82774ccbae62160e86a7889b"
            ],
            "layout": "IPY_MODEL_062a2d0b4ded4470957f13f9fb464fd7"
          }
        },
        "bdc87fa31401437cbd478fe4e41a9287": {
          "model_module": "@jupyter-widgets/controls",
          "model_name": "HTMLModel",
          "model_module_version": "1.5.0",
          "state": {
            "_dom_classes": [],
            "_model_module": "@jupyter-widgets/controls",
            "_model_module_version": "1.5.0",
            "_model_name": "HTMLModel",
            "_view_count": null,
            "_view_module": "@jupyter-widgets/controls",
            "_view_module_version": "1.5.0",
            "_view_name": "HTMLView",
            "description": "",
            "description_tooltip": null,
            "layout": "IPY_MODEL_b646e5abc5fd4c5ca0830d49d4b133a6",
            "placeholder": "​",
            "style": "IPY_MODEL_ee488afbf4f44519937842c660ca2098",
            "value": "Downloading: 100%"
          }
        },
        "5d62315259b4431aa7b85917b824a3b6": {
          "model_module": "@jupyter-widgets/controls",
          "model_name": "FloatProgressModel",
          "model_module_version": "1.5.0",
          "state": {
            "_dom_classes": [],
            "_model_module": "@jupyter-widgets/controls",
            "_model_module_version": "1.5.0",
            "_model_name": "FloatProgressModel",
            "_view_count": null,
            "_view_module": "@jupyter-widgets/controls",
            "_view_module_version": "1.5.0",
            "_view_name": "ProgressView",
            "bar_style": "success",
            "description": "",
            "description_tooltip": null,
            "layout": "IPY_MODEL_0bc78f87ae0d4380825476082ea42fb8",
            "max": 798293,
            "min": 0,
            "orientation": "horizontal",
            "style": "IPY_MODEL_ba597ce42dfa4ca3ad30bd083870639e",
            "value": 798293
          }
        },
        "ebce4f9b82774ccbae62160e86a7889b": {
          "model_module": "@jupyter-widgets/controls",
          "model_name": "HTMLModel",
          "model_module_version": "1.5.0",
          "state": {
            "_dom_classes": [],
            "_model_module": "@jupyter-widgets/controls",
            "_model_module_version": "1.5.0",
            "_model_name": "HTMLModel",
            "_view_count": null,
            "_view_module": "@jupyter-widgets/controls",
            "_view_module_version": "1.5.0",
            "_view_name": "HTMLView",
            "description": "",
            "description_tooltip": null,
            "layout": "IPY_MODEL_f03f9db39b934966ad98371e4d23e30d",
            "placeholder": "​",
            "style": "IPY_MODEL_5f4bad7dc1a6443492b5c81a2a8700f9",
            "value": " 780k/780k [00:00&lt;00:00, 668kB/s]"
          }
        },
        "062a2d0b4ded4470957f13f9fb464fd7": {
          "model_module": "@jupyter-widgets/base",
          "model_name": "LayoutModel",
          "model_module_version": "1.2.0",
          "state": {
            "_model_module": "@jupyter-widgets/base",
            "_model_module_version": "1.2.0",
            "_model_name": "LayoutModel",
            "_view_count": null,
            "_view_module": "@jupyter-widgets/base",
            "_view_module_version": "1.2.0",
            "_view_name": "LayoutView",
            "align_content": null,
            "align_items": null,
            "align_self": null,
            "border": null,
            "bottom": null,
            "display": null,
            "flex": null,
            "flex_flow": null,
            "grid_area": null,
            "grid_auto_columns": null,
            "grid_auto_flow": null,
            "grid_auto_rows": null,
            "grid_column": null,
            "grid_gap": null,
            "grid_row": null,
            "grid_template_areas": null,
            "grid_template_columns": null,
            "grid_template_rows": null,
            "height": null,
            "justify_content": null,
            "justify_items": null,
            "left": null,
            "margin": null,
            "max_height": null,
            "max_width": null,
            "min_height": null,
            "min_width": null,
            "object_fit": null,
            "object_position": null,
            "order": null,
            "overflow": null,
            "overflow_x": null,
            "overflow_y": null,
            "padding": null,
            "right": null,
            "top": null,
            "visibility": null,
            "width": null
          }
        },
        "b646e5abc5fd4c5ca0830d49d4b133a6": {
          "model_module": "@jupyter-widgets/base",
          "model_name": "LayoutModel",
          "model_module_version": "1.2.0",
          "state": {
            "_model_module": "@jupyter-widgets/base",
            "_model_module_version": "1.2.0",
            "_model_name": "LayoutModel",
            "_view_count": null,
            "_view_module": "@jupyter-widgets/base",
            "_view_module_version": "1.2.0",
            "_view_name": "LayoutView",
            "align_content": null,
            "align_items": null,
            "align_self": null,
            "border": null,
            "bottom": null,
            "display": null,
            "flex": null,
            "flex_flow": null,
            "grid_area": null,
            "grid_auto_columns": null,
            "grid_auto_flow": null,
            "grid_auto_rows": null,
            "grid_column": null,
            "grid_gap": null,
            "grid_row": null,
            "grid_template_areas": null,
            "grid_template_columns": null,
            "grid_template_rows": null,
            "height": null,
            "justify_content": null,
            "justify_items": null,
            "left": null,
            "margin": null,
            "max_height": null,
            "max_width": null,
            "min_height": null,
            "min_width": null,
            "object_fit": null,
            "object_position": null,
            "order": null,
            "overflow": null,
            "overflow_x": null,
            "overflow_y": null,
            "padding": null,
            "right": null,
            "top": null,
            "visibility": null,
            "width": null
          }
        },
        "ee488afbf4f44519937842c660ca2098": {
          "model_module": "@jupyter-widgets/controls",
          "model_name": "DescriptionStyleModel",
          "model_module_version": "1.5.0",
          "state": {
            "_model_module": "@jupyter-widgets/controls",
            "_model_module_version": "1.5.0",
            "_model_name": "DescriptionStyleModel",
            "_view_count": null,
            "_view_module": "@jupyter-widgets/base",
            "_view_module_version": "1.2.0",
            "_view_name": "StyleView",
            "description_width": ""
          }
        },
        "0bc78f87ae0d4380825476082ea42fb8": {
          "model_module": "@jupyter-widgets/base",
          "model_name": "LayoutModel",
          "model_module_version": "1.2.0",
          "state": {
            "_model_module": "@jupyter-widgets/base",
            "_model_module_version": "1.2.0",
            "_model_name": "LayoutModel",
            "_view_count": null,
            "_view_module": "@jupyter-widgets/base",
            "_view_module_version": "1.2.0",
            "_view_name": "LayoutView",
            "align_content": null,
            "align_items": null,
            "align_self": null,
            "border": null,
            "bottom": null,
            "display": null,
            "flex": null,
            "flex_flow": null,
            "grid_area": null,
            "grid_auto_columns": null,
            "grid_auto_flow": null,
            "grid_auto_rows": null,
            "grid_column": null,
            "grid_gap": null,
            "grid_row": null,
            "grid_template_areas": null,
            "grid_template_columns": null,
            "grid_template_rows": null,
            "height": null,
            "justify_content": null,
            "justify_items": null,
            "left": null,
            "margin": null,
            "max_height": null,
            "max_width": null,
            "min_height": null,
            "min_width": null,
            "object_fit": null,
            "object_position": null,
            "order": null,
            "overflow": null,
            "overflow_x": null,
            "overflow_y": null,
            "padding": null,
            "right": null,
            "top": null,
            "visibility": null,
            "width": null
          }
        },
        "ba597ce42dfa4ca3ad30bd083870639e": {
          "model_module": "@jupyter-widgets/controls",
          "model_name": "ProgressStyleModel",
          "model_module_version": "1.5.0",
          "state": {
            "_model_module": "@jupyter-widgets/controls",
            "_model_module_version": "1.5.0",
            "_model_name": "ProgressStyleModel",
            "_view_count": null,
            "_view_module": "@jupyter-widgets/base",
            "_view_module_version": "1.2.0",
            "_view_name": "StyleView",
            "bar_color": null,
            "description_width": ""
          }
        },
        "f03f9db39b934966ad98371e4d23e30d": {
          "model_module": "@jupyter-widgets/base",
          "model_name": "LayoutModel",
          "model_module_version": "1.2.0",
          "state": {
            "_model_module": "@jupyter-widgets/base",
            "_model_module_version": "1.2.0",
            "_model_name": "LayoutModel",
            "_view_count": null,
            "_view_module": "@jupyter-widgets/base",
            "_view_module_version": "1.2.0",
            "_view_name": "LayoutView",
            "align_content": null,
            "align_items": null,
            "align_self": null,
            "border": null,
            "bottom": null,
            "display": null,
            "flex": null,
            "flex_flow": null,
            "grid_area": null,
            "grid_auto_columns": null,
            "grid_auto_flow": null,
            "grid_auto_rows": null,
            "grid_column": null,
            "grid_gap": null,
            "grid_row": null,
            "grid_template_areas": null,
            "grid_template_columns": null,
            "grid_template_rows": null,
            "height": null,
            "justify_content": null,
            "justify_items": null,
            "left": null,
            "margin": null,
            "max_height": null,
            "max_width": null,
            "min_height": null,
            "min_width": null,
            "object_fit": null,
            "object_position": null,
            "order": null,
            "overflow": null,
            "overflow_x": null,
            "overflow_y": null,
            "padding": null,
            "right": null,
            "top": null,
            "visibility": null,
            "width": null
          }
        },
        "5f4bad7dc1a6443492b5c81a2a8700f9": {
          "model_module": "@jupyter-widgets/controls",
          "model_name": "DescriptionStyleModel",
          "model_module_version": "1.5.0",
          "state": {
            "_model_module": "@jupyter-widgets/controls",
            "_model_module_version": "1.5.0",
            "_model_name": "DescriptionStyleModel",
            "_view_count": null,
            "_view_module": "@jupyter-widgets/base",
            "_view_module_version": "1.2.0",
            "_view_name": "StyleView",
            "description_width": ""
          }
        },
        "72619ea7b5104ffaa840c510218f8a53": {
          "model_module": "@jupyter-widgets/controls",
          "model_name": "HBoxModel",
          "model_module_version": "1.5.0",
          "state": {
            "_dom_classes": [],
            "_model_module": "@jupyter-widgets/controls",
            "_model_module_version": "1.5.0",
            "_model_name": "HBoxModel",
            "_view_count": null,
            "_view_module": "@jupyter-widgets/controls",
            "_view_module_version": "1.5.0",
            "_view_name": "HBoxView",
            "box_style": "",
            "children": [
              "IPY_MODEL_4f72bae1d3bf4ccebcb29789037a0a23",
              "IPY_MODEL_e746a31161414037bb228b7cbc5ede9a",
              "IPY_MODEL_50a0a17648514152b77bbada42a5dd3e"
            ],
            "layout": "IPY_MODEL_a9619915d72a411ca0370ecbed7b4c39"
          }
        },
        "4f72bae1d3bf4ccebcb29789037a0a23": {
          "model_module": "@jupyter-widgets/controls",
          "model_name": "HTMLModel",
          "model_module_version": "1.5.0",
          "state": {
            "_dom_classes": [],
            "_model_module": "@jupyter-widgets/controls",
            "_model_module_version": "1.5.0",
            "_model_name": "HTMLModel",
            "_view_count": null,
            "_view_module": "@jupyter-widgets/controls",
            "_view_module_version": "1.5.0",
            "_view_name": "HTMLView",
            "description": "",
            "description_tooltip": null,
            "layout": "IPY_MODEL_51852a42f3154d428c769e17035bbcad",
            "placeholder": "​",
            "style": "IPY_MODEL_89891a699a424b4989030bb862c1b508",
            "value": "Downloading: 100%"
          }
        },
        "e746a31161414037bb228b7cbc5ede9a": {
          "model_module": "@jupyter-widgets/controls",
          "model_name": "FloatProgressModel",
          "model_module_version": "1.5.0",
          "state": {
            "_dom_classes": [],
            "_model_module": "@jupyter-widgets/controls",
            "_model_module_version": "1.5.0",
            "_model_name": "FloatProgressModel",
            "_view_count": null,
            "_view_module": "@jupyter-widgets/controls",
            "_view_module_version": "1.5.0",
            "_view_name": "ProgressView",
            "bar_style": "success",
            "description": "",
            "description_tooltip": null,
            "layout": "IPY_MODEL_6b89aaf60318460981f82288da97677a",
            "max": 456356,
            "min": 0,
            "orientation": "horizontal",
            "style": "IPY_MODEL_fee04d12c56f4971bb286f98c15b972a",
            "value": 456356
          }
        },
        "50a0a17648514152b77bbada42a5dd3e": {
          "model_module": "@jupyter-widgets/controls",
          "model_name": "HTMLModel",
          "model_module_version": "1.5.0",
          "state": {
            "_dom_classes": [],
            "_model_module": "@jupyter-widgets/controls",
            "_model_module_version": "1.5.0",
            "_model_name": "HTMLModel",
            "_view_count": null,
            "_view_module": "@jupyter-widgets/controls",
            "_view_module_version": "1.5.0",
            "_view_name": "HTMLView",
            "description": "",
            "description_tooltip": null,
            "layout": "IPY_MODEL_9f25cc7b307e49e3befe58ced10eeefb",
            "placeholder": "​",
            "style": "IPY_MODEL_032c30b2bb4b45259d55704beaf7b55a",
            "value": " 446k/446k [00:00&lt;00:00, 591kB/s]"
          }
        },
        "a9619915d72a411ca0370ecbed7b4c39": {
          "model_module": "@jupyter-widgets/base",
          "model_name": "LayoutModel",
          "model_module_version": "1.2.0",
          "state": {
            "_model_module": "@jupyter-widgets/base",
            "_model_module_version": "1.2.0",
            "_model_name": "LayoutModel",
            "_view_count": null,
            "_view_module": "@jupyter-widgets/base",
            "_view_module_version": "1.2.0",
            "_view_name": "LayoutView",
            "align_content": null,
            "align_items": null,
            "align_self": null,
            "border": null,
            "bottom": null,
            "display": null,
            "flex": null,
            "flex_flow": null,
            "grid_area": null,
            "grid_auto_columns": null,
            "grid_auto_flow": null,
            "grid_auto_rows": null,
            "grid_column": null,
            "grid_gap": null,
            "grid_row": null,
            "grid_template_areas": null,
            "grid_template_columns": null,
            "grid_template_rows": null,
            "height": null,
            "justify_content": null,
            "justify_items": null,
            "left": null,
            "margin": null,
            "max_height": null,
            "max_width": null,
            "min_height": null,
            "min_width": null,
            "object_fit": null,
            "object_position": null,
            "order": null,
            "overflow": null,
            "overflow_x": null,
            "overflow_y": null,
            "padding": null,
            "right": null,
            "top": null,
            "visibility": null,
            "width": null
          }
        },
        "51852a42f3154d428c769e17035bbcad": {
          "model_module": "@jupyter-widgets/base",
          "model_name": "LayoutModel",
          "model_module_version": "1.2.0",
          "state": {
            "_model_module": "@jupyter-widgets/base",
            "_model_module_version": "1.2.0",
            "_model_name": "LayoutModel",
            "_view_count": null,
            "_view_module": "@jupyter-widgets/base",
            "_view_module_version": "1.2.0",
            "_view_name": "LayoutView",
            "align_content": null,
            "align_items": null,
            "align_self": null,
            "border": null,
            "bottom": null,
            "display": null,
            "flex": null,
            "flex_flow": null,
            "grid_area": null,
            "grid_auto_columns": null,
            "grid_auto_flow": null,
            "grid_auto_rows": null,
            "grid_column": null,
            "grid_gap": null,
            "grid_row": null,
            "grid_template_areas": null,
            "grid_template_columns": null,
            "grid_template_rows": null,
            "height": null,
            "justify_content": null,
            "justify_items": null,
            "left": null,
            "margin": null,
            "max_height": null,
            "max_width": null,
            "min_height": null,
            "min_width": null,
            "object_fit": null,
            "object_position": null,
            "order": null,
            "overflow": null,
            "overflow_x": null,
            "overflow_y": null,
            "padding": null,
            "right": null,
            "top": null,
            "visibility": null,
            "width": null
          }
        },
        "89891a699a424b4989030bb862c1b508": {
          "model_module": "@jupyter-widgets/controls",
          "model_name": "DescriptionStyleModel",
          "model_module_version": "1.5.0",
          "state": {
            "_model_module": "@jupyter-widgets/controls",
            "_model_module_version": "1.5.0",
            "_model_name": "DescriptionStyleModel",
            "_view_count": null,
            "_view_module": "@jupyter-widgets/base",
            "_view_module_version": "1.2.0",
            "_view_name": "StyleView",
            "description_width": ""
          }
        },
        "6b89aaf60318460981f82288da97677a": {
          "model_module": "@jupyter-widgets/base",
          "model_name": "LayoutModel",
          "model_module_version": "1.2.0",
          "state": {
            "_model_module": "@jupyter-widgets/base",
            "_model_module_version": "1.2.0",
            "_model_name": "LayoutModel",
            "_view_count": null,
            "_view_module": "@jupyter-widgets/base",
            "_view_module_version": "1.2.0",
            "_view_name": "LayoutView",
            "align_content": null,
            "align_items": null,
            "align_self": null,
            "border": null,
            "bottom": null,
            "display": null,
            "flex": null,
            "flex_flow": null,
            "grid_area": null,
            "grid_auto_columns": null,
            "grid_auto_flow": null,
            "grid_auto_rows": null,
            "grid_column": null,
            "grid_gap": null,
            "grid_row": null,
            "grid_template_areas": null,
            "grid_template_columns": null,
            "grid_template_rows": null,
            "height": null,
            "justify_content": null,
            "justify_items": null,
            "left": null,
            "margin": null,
            "max_height": null,
            "max_width": null,
            "min_height": null,
            "min_width": null,
            "object_fit": null,
            "object_position": null,
            "order": null,
            "overflow": null,
            "overflow_x": null,
            "overflow_y": null,
            "padding": null,
            "right": null,
            "top": null,
            "visibility": null,
            "width": null
          }
        },
        "fee04d12c56f4971bb286f98c15b972a": {
          "model_module": "@jupyter-widgets/controls",
          "model_name": "ProgressStyleModel",
          "model_module_version": "1.5.0",
          "state": {
            "_model_module": "@jupyter-widgets/controls",
            "_model_module_version": "1.5.0",
            "_model_name": "ProgressStyleModel",
            "_view_count": null,
            "_view_module": "@jupyter-widgets/base",
            "_view_module_version": "1.2.0",
            "_view_name": "StyleView",
            "bar_color": null,
            "description_width": ""
          }
        },
        "9f25cc7b307e49e3befe58ced10eeefb": {
          "model_module": "@jupyter-widgets/base",
          "model_name": "LayoutModel",
          "model_module_version": "1.2.0",
          "state": {
            "_model_module": "@jupyter-widgets/base",
            "_model_module_version": "1.2.0",
            "_model_name": "LayoutModel",
            "_view_count": null,
            "_view_module": "@jupyter-widgets/base",
            "_view_module_version": "1.2.0",
            "_view_name": "LayoutView",
            "align_content": null,
            "align_items": null,
            "align_self": null,
            "border": null,
            "bottom": null,
            "display": null,
            "flex": null,
            "flex_flow": null,
            "grid_area": null,
            "grid_auto_columns": null,
            "grid_auto_flow": null,
            "grid_auto_rows": null,
            "grid_column": null,
            "grid_gap": null,
            "grid_row": null,
            "grid_template_areas": null,
            "grid_template_columns": null,
            "grid_template_rows": null,
            "height": null,
            "justify_content": null,
            "justify_items": null,
            "left": null,
            "margin": null,
            "max_height": null,
            "max_width": null,
            "min_height": null,
            "min_width": null,
            "object_fit": null,
            "object_position": null,
            "order": null,
            "overflow": null,
            "overflow_x": null,
            "overflow_y": null,
            "padding": null,
            "right": null,
            "top": null,
            "visibility": null,
            "width": null
          }
        },
        "032c30b2bb4b45259d55704beaf7b55a": {
          "model_module": "@jupyter-widgets/controls",
          "model_name": "DescriptionStyleModel",
          "model_module_version": "1.5.0",
          "state": {
            "_model_module": "@jupyter-widgets/controls",
            "_model_module_version": "1.5.0",
            "_model_name": "DescriptionStyleModel",
            "_view_count": null,
            "_view_module": "@jupyter-widgets/base",
            "_view_module_version": "1.2.0",
            "_view_name": "StyleView",
            "description_width": ""
          }
        },
        "edaeeda828ad461692a71f90b97ff323": {
          "model_module": "@jupyter-widgets/controls",
          "model_name": "HBoxModel",
          "model_module_version": "1.5.0",
          "state": {
            "_dom_classes": [],
            "_model_module": "@jupyter-widgets/controls",
            "_model_module_version": "1.5.0",
            "_model_name": "HBoxModel",
            "_view_count": null,
            "_view_module": "@jupyter-widgets/controls",
            "_view_module_version": "1.5.0",
            "_view_name": "HBoxView",
            "box_style": "",
            "children": [
              "IPY_MODEL_3f8211a9bcb24e4ba8eae55616927e5d",
              "IPY_MODEL_cb0eed36e778472f850557883cdc4a29",
              "IPY_MODEL_360e291a84524cdab5efa139b2ae88e6"
            ],
            "layout": "IPY_MODEL_1d5e75b5dc8d4ecb921c7d82afce8538"
          }
        },
        "3f8211a9bcb24e4ba8eae55616927e5d": {
          "model_module": "@jupyter-widgets/controls",
          "model_name": "HTMLModel",
          "model_module_version": "1.5.0",
          "state": {
            "_dom_classes": [],
            "_model_module": "@jupyter-widgets/controls",
            "_model_module_version": "1.5.0",
            "_model_name": "HTMLModel",
            "_view_count": null,
            "_view_module": "@jupyter-widgets/controls",
            "_view_module_version": "1.5.0",
            "_view_name": "HTMLView",
            "description": "",
            "description_tooltip": null,
            "layout": "IPY_MODEL_7bf03809bf9f452698d6dc11a5b73e76",
            "placeholder": "​",
            "style": "IPY_MODEL_1d4f4d83a29641bbbbfc8928e2d75731",
            "value": "Downloading: 100%"
          }
        },
        "cb0eed36e778472f850557883cdc4a29": {
          "model_module": "@jupyter-widgets/controls",
          "model_name": "FloatProgressModel",
          "model_module_version": "1.5.0",
          "state": {
            "_dom_classes": [],
            "_model_module": "@jupyter-widgets/controls",
            "_model_module_version": "1.5.0",
            "_model_name": "FloatProgressModel",
            "_view_count": null,
            "_view_module": "@jupyter-widgets/controls",
            "_view_module_version": "1.5.0",
            "_view_name": "ProgressView",
            "bar_style": "success",
            "description": "",
            "description_tooltip": null,
            "layout": "IPY_MODEL_1162919593f64594b7a4d6249a27350a",
            "max": 239,
            "min": 0,
            "orientation": "horizontal",
            "style": "IPY_MODEL_3688f3a86173449194e24fabcce4694a",
            "value": 239
          }
        },
        "360e291a84524cdab5efa139b2ae88e6": {
          "model_module": "@jupyter-widgets/controls",
          "model_name": "HTMLModel",
          "model_module_version": "1.5.0",
          "state": {
            "_dom_classes": [],
            "_model_module": "@jupyter-widgets/controls",
            "_model_module_version": "1.5.0",
            "_model_name": "HTMLModel",
            "_view_count": null,
            "_view_module": "@jupyter-widgets/controls",
            "_view_module_version": "1.5.0",
            "_view_name": "HTMLView",
            "description": "",
            "description_tooltip": null,
            "layout": "IPY_MODEL_b9825b180f314155ac85cbd9f14fc01a",
            "placeholder": "​",
            "style": "IPY_MODEL_256fe5782774467ab4500549841fef9f",
            "value": " 239/239 [00:00&lt;00:00, 7.01kB/s]"
          }
        },
        "1d5e75b5dc8d4ecb921c7d82afce8538": {
          "model_module": "@jupyter-widgets/base",
          "model_name": "LayoutModel",
          "model_module_version": "1.2.0",
          "state": {
            "_model_module": "@jupyter-widgets/base",
            "_model_module_version": "1.2.0",
            "_model_name": "LayoutModel",
            "_view_count": null,
            "_view_module": "@jupyter-widgets/base",
            "_view_module_version": "1.2.0",
            "_view_name": "LayoutView",
            "align_content": null,
            "align_items": null,
            "align_self": null,
            "border": null,
            "bottom": null,
            "display": null,
            "flex": null,
            "flex_flow": null,
            "grid_area": null,
            "grid_auto_columns": null,
            "grid_auto_flow": null,
            "grid_auto_rows": null,
            "grid_column": null,
            "grid_gap": null,
            "grid_row": null,
            "grid_template_areas": null,
            "grid_template_columns": null,
            "grid_template_rows": null,
            "height": null,
            "justify_content": null,
            "justify_items": null,
            "left": null,
            "margin": null,
            "max_height": null,
            "max_width": null,
            "min_height": null,
            "min_width": null,
            "object_fit": null,
            "object_position": null,
            "order": null,
            "overflow": null,
            "overflow_x": null,
            "overflow_y": null,
            "padding": null,
            "right": null,
            "top": null,
            "visibility": null,
            "width": null
          }
        },
        "7bf03809bf9f452698d6dc11a5b73e76": {
          "model_module": "@jupyter-widgets/base",
          "model_name": "LayoutModel",
          "model_module_version": "1.2.0",
          "state": {
            "_model_module": "@jupyter-widgets/base",
            "_model_module_version": "1.2.0",
            "_model_name": "LayoutModel",
            "_view_count": null,
            "_view_module": "@jupyter-widgets/base",
            "_view_module_version": "1.2.0",
            "_view_name": "LayoutView",
            "align_content": null,
            "align_items": null,
            "align_self": null,
            "border": null,
            "bottom": null,
            "display": null,
            "flex": null,
            "flex_flow": null,
            "grid_area": null,
            "grid_auto_columns": null,
            "grid_auto_flow": null,
            "grid_auto_rows": null,
            "grid_column": null,
            "grid_gap": null,
            "grid_row": null,
            "grid_template_areas": null,
            "grid_template_columns": null,
            "grid_template_rows": null,
            "height": null,
            "justify_content": null,
            "justify_items": null,
            "left": null,
            "margin": null,
            "max_height": null,
            "max_width": null,
            "min_height": null,
            "min_width": null,
            "object_fit": null,
            "object_position": null,
            "order": null,
            "overflow": null,
            "overflow_x": null,
            "overflow_y": null,
            "padding": null,
            "right": null,
            "top": null,
            "visibility": null,
            "width": null
          }
        },
        "1d4f4d83a29641bbbbfc8928e2d75731": {
          "model_module": "@jupyter-widgets/controls",
          "model_name": "DescriptionStyleModel",
          "model_module_version": "1.5.0",
          "state": {
            "_model_module": "@jupyter-widgets/controls",
            "_model_module_version": "1.5.0",
            "_model_name": "DescriptionStyleModel",
            "_view_count": null,
            "_view_module": "@jupyter-widgets/base",
            "_view_module_version": "1.2.0",
            "_view_name": "StyleView",
            "description_width": ""
          }
        },
        "1162919593f64594b7a4d6249a27350a": {
          "model_module": "@jupyter-widgets/base",
          "model_name": "LayoutModel",
          "model_module_version": "1.2.0",
          "state": {
            "_model_module": "@jupyter-widgets/base",
            "_model_module_version": "1.2.0",
            "_model_name": "LayoutModel",
            "_view_count": null,
            "_view_module": "@jupyter-widgets/base",
            "_view_module_version": "1.2.0",
            "_view_name": "LayoutView",
            "align_content": null,
            "align_items": null,
            "align_self": null,
            "border": null,
            "bottom": null,
            "display": null,
            "flex": null,
            "flex_flow": null,
            "grid_area": null,
            "grid_auto_columns": null,
            "grid_auto_flow": null,
            "grid_auto_rows": null,
            "grid_column": null,
            "grid_gap": null,
            "grid_row": null,
            "grid_template_areas": null,
            "grid_template_columns": null,
            "grid_template_rows": null,
            "height": null,
            "justify_content": null,
            "justify_items": null,
            "left": null,
            "margin": null,
            "max_height": null,
            "max_width": null,
            "min_height": null,
            "min_width": null,
            "object_fit": null,
            "object_position": null,
            "order": null,
            "overflow": null,
            "overflow_x": null,
            "overflow_y": null,
            "padding": null,
            "right": null,
            "top": null,
            "visibility": null,
            "width": null
          }
        },
        "3688f3a86173449194e24fabcce4694a": {
          "model_module": "@jupyter-widgets/controls",
          "model_name": "ProgressStyleModel",
          "model_module_version": "1.5.0",
          "state": {
            "_model_module": "@jupyter-widgets/controls",
            "_model_module_version": "1.5.0",
            "_model_name": "ProgressStyleModel",
            "_view_count": null,
            "_view_module": "@jupyter-widgets/base",
            "_view_module_version": "1.2.0",
            "_view_name": "StyleView",
            "bar_color": null,
            "description_width": ""
          }
        },
        "b9825b180f314155ac85cbd9f14fc01a": {
          "model_module": "@jupyter-widgets/base",
          "model_name": "LayoutModel",
          "model_module_version": "1.2.0",
          "state": {
            "_model_module": "@jupyter-widgets/base",
            "_model_module_version": "1.2.0",
            "_model_name": "LayoutModel",
            "_view_count": null,
            "_view_module": "@jupyter-widgets/base",
            "_view_module_version": "1.2.0",
            "_view_name": "LayoutView",
            "align_content": null,
            "align_items": null,
            "align_self": null,
            "border": null,
            "bottom": null,
            "display": null,
            "flex": null,
            "flex_flow": null,
            "grid_area": null,
            "grid_auto_columns": null,
            "grid_auto_flow": null,
            "grid_auto_rows": null,
            "grid_column": null,
            "grid_gap": null,
            "grid_row": null,
            "grid_template_areas": null,
            "grid_template_columns": null,
            "grid_template_rows": null,
            "height": null,
            "justify_content": null,
            "justify_items": null,
            "left": null,
            "margin": null,
            "max_height": null,
            "max_width": null,
            "min_height": null,
            "min_width": null,
            "object_fit": null,
            "object_position": null,
            "order": null,
            "overflow": null,
            "overflow_x": null,
            "overflow_y": null,
            "padding": null,
            "right": null,
            "top": null,
            "visibility": null,
            "width": null
          }
        },
        "256fe5782774467ab4500549841fef9f": {
          "model_module": "@jupyter-widgets/controls",
          "model_name": "DescriptionStyleModel",
          "model_module_version": "1.5.0",
          "state": {
            "_model_module": "@jupyter-widgets/controls",
            "_model_module_version": "1.5.0",
            "_model_name": "DescriptionStyleModel",
            "_view_count": null,
            "_view_module": "@jupyter-widgets/base",
            "_view_module_version": "1.2.0",
            "_view_name": "StyleView",
            "description_width": ""
          }
        },
        "700063ae31474c42bd61c63747b2a565": {
          "model_module": "@jupyter-widgets/controls",
          "model_name": "HBoxModel",
          "model_module_version": "1.5.0",
          "state": {
            "_dom_classes": [],
            "_model_module": "@jupyter-widgets/controls",
            "_model_module_version": "1.5.0",
            "_model_name": "HBoxModel",
            "_view_count": null,
            "_view_module": "@jupyter-widgets/controls",
            "_view_module_version": "1.5.0",
            "_view_name": "HBoxView",
            "box_style": "",
            "children": [
              "IPY_MODEL_cbfd021c40104e67aac13518108ffc0f",
              "IPY_MODEL_db040222d3674f56973bc443750260f2",
              "IPY_MODEL_bf09e29b01454acabf3fdf6a462ffd48"
            ],
            "layout": "IPY_MODEL_71c484638cfb4a2c8eb1d34d437e61a6"
          }
        },
        "cbfd021c40104e67aac13518108ffc0f": {
          "model_module": "@jupyter-widgets/controls",
          "model_name": "HTMLModel",
          "model_module_version": "1.5.0",
          "state": {
            "_dom_classes": [],
            "_model_module": "@jupyter-widgets/controls",
            "_model_module_version": "1.5.0",
            "_model_name": "HTMLModel",
            "_view_count": null,
            "_view_module": "@jupyter-widgets/controls",
            "_view_module_version": "1.5.0",
            "_view_name": "HTMLView",
            "description": "",
            "description_tooltip": null,
            "layout": "IPY_MODEL_9ea8304918c045c2a229c5cfde23897a",
            "placeholder": "​",
            "style": "IPY_MODEL_f457186ec65d4e2e800abb59dd0e892f",
            "value": "Downloading: 100%"
          }
        },
        "db040222d3674f56973bc443750260f2": {
          "model_module": "@jupyter-widgets/controls",
          "model_name": "FloatProgressModel",
          "model_module_version": "1.5.0",
          "state": {
            "_dom_classes": [],
            "_model_module": "@jupyter-widgets/controls",
            "_model_module_version": "1.5.0",
            "_model_name": "FloatProgressModel",
            "_view_count": null,
            "_view_module": "@jupyter-widgets/controls",
            "_view_module_version": "1.5.0",
            "_view_name": "ProgressView",
            "bar_style": "success",
            "description": "",
            "description_tooltip": null,
            "layout": "IPY_MODEL_a3269f4423ab43ea8bc2b21f5afba803",
            "max": 1720,
            "min": 0,
            "orientation": "horizontal",
            "style": "IPY_MODEL_dd6bc707490f4deba58f610d84e9ad8f",
            "value": 1720
          }
        },
        "bf09e29b01454acabf3fdf6a462ffd48": {
          "model_module": "@jupyter-widgets/controls",
          "model_name": "HTMLModel",
          "model_module_version": "1.5.0",
          "state": {
            "_dom_classes": [],
            "_model_module": "@jupyter-widgets/controls",
            "_model_module_version": "1.5.0",
            "_model_name": "HTMLModel",
            "_view_count": null,
            "_view_module": "@jupyter-widgets/controls",
            "_view_module_version": "1.5.0",
            "_view_name": "HTMLView",
            "description": "",
            "description_tooltip": null,
            "layout": "IPY_MODEL_e24fb45c20e54fb3b4461c6ab9491b2e",
            "placeholder": "​",
            "style": "IPY_MODEL_2242f3c8ddb7409ba80a2bb3a9e3a188",
            "value": " 1.68k/1.68k [00:00&lt;00:00, 47.9kB/s]"
          }
        },
        "71c484638cfb4a2c8eb1d34d437e61a6": {
          "model_module": "@jupyter-widgets/base",
          "model_name": "LayoutModel",
          "model_module_version": "1.2.0",
          "state": {
            "_model_module": "@jupyter-widgets/base",
            "_model_module_version": "1.2.0",
            "_model_name": "LayoutModel",
            "_view_count": null,
            "_view_module": "@jupyter-widgets/base",
            "_view_module_version": "1.2.0",
            "_view_name": "LayoutView",
            "align_content": null,
            "align_items": null,
            "align_self": null,
            "border": null,
            "bottom": null,
            "display": null,
            "flex": null,
            "flex_flow": null,
            "grid_area": null,
            "grid_auto_columns": null,
            "grid_auto_flow": null,
            "grid_auto_rows": null,
            "grid_column": null,
            "grid_gap": null,
            "grid_row": null,
            "grid_template_areas": null,
            "grid_template_columns": null,
            "grid_template_rows": null,
            "height": null,
            "justify_content": null,
            "justify_items": null,
            "left": null,
            "margin": null,
            "max_height": null,
            "max_width": null,
            "min_height": null,
            "min_width": null,
            "object_fit": null,
            "object_position": null,
            "order": null,
            "overflow": null,
            "overflow_x": null,
            "overflow_y": null,
            "padding": null,
            "right": null,
            "top": null,
            "visibility": null,
            "width": null
          }
        },
        "9ea8304918c045c2a229c5cfde23897a": {
          "model_module": "@jupyter-widgets/base",
          "model_name": "LayoutModel",
          "model_module_version": "1.2.0",
          "state": {
            "_model_module": "@jupyter-widgets/base",
            "_model_module_version": "1.2.0",
            "_model_name": "LayoutModel",
            "_view_count": null,
            "_view_module": "@jupyter-widgets/base",
            "_view_module_version": "1.2.0",
            "_view_name": "LayoutView",
            "align_content": null,
            "align_items": null,
            "align_self": null,
            "border": null,
            "bottom": null,
            "display": null,
            "flex": null,
            "flex_flow": null,
            "grid_area": null,
            "grid_auto_columns": null,
            "grid_auto_flow": null,
            "grid_auto_rows": null,
            "grid_column": null,
            "grid_gap": null,
            "grid_row": null,
            "grid_template_areas": null,
            "grid_template_columns": null,
            "grid_template_rows": null,
            "height": null,
            "justify_content": null,
            "justify_items": null,
            "left": null,
            "margin": null,
            "max_height": null,
            "max_width": null,
            "min_height": null,
            "min_width": null,
            "object_fit": null,
            "object_position": null,
            "order": null,
            "overflow": null,
            "overflow_x": null,
            "overflow_y": null,
            "padding": null,
            "right": null,
            "top": null,
            "visibility": null,
            "width": null
          }
        },
        "f457186ec65d4e2e800abb59dd0e892f": {
          "model_module": "@jupyter-widgets/controls",
          "model_name": "DescriptionStyleModel",
          "model_module_version": "1.5.0",
          "state": {
            "_model_module": "@jupyter-widgets/controls",
            "_model_module_version": "1.5.0",
            "_model_name": "DescriptionStyleModel",
            "_view_count": null,
            "_view_module": "@jupyter-widgets/base",
            "_view_module_version": "1.2.0",
            "_view_name": "StyleView",
            "description_width": ""
          }
        },
        "a3269f4423ab43ea8bc2b21f5afba803": {
          "model_module": "@jupyter-widgets/base",
          "model_name": "LayoutModel",
          "model_module_version": "1.2.0",
          "state": {
            "_model_module": "@jupyter-widgets/base",
            "_model_module_version": "1.2.0",
            "_model_name": "LayoutModel",
            "_view_count": null,
            "_view_module": "@jupyter-widgets/base",
            "_view_module_version": "1.2.0",
            "_view_name": "LayoutView",
            "align_content": null,
            "align_items": null,
            "align_self": null,
            "border": null,
            "bottom": null,
            "display": null,
            "flex": null,
            "flex_flow": null,
            "grid_area": null,
            "grid_auto_columns": null,
            "grid_auto_flow": null,
            "grid_auto_rows": null,
            "grid_column": null,
            "grid_gap": null,
            "grid_row": null,
            "grid_template_areas": null,
            "grid_template_columns": null,
            "grid_template_rows": null,
            "height": null,
            "justify_content": null,
            "justify_items": null,
            "left": null,
            "margin": null,
            "max_height": null,
            "max_width": null,
            "min_height": null,
            "min_width": null,
            "object_fit": null,
            "object_position": null,
            "order": null,
            "overflow": null,
            "overflow_x": null,
            "overflow_y": null,
            "padding": null,
            "right": null,
            "top": null,
            "visibility": null,
            "width": null
          }
        },
        "dd6bc707490f4deba58f610d84e9ad8f": {
          "model_module": "@jupyter-widgets/controls",
          "model_name": "ProgressStyleModel",
          "model_module_version": "1.5.0",
          "state": {
            "_model_module": "@jupyter-widgets/controls",
            "_model_module_version": "1.5.0",
            "_model_name": "ProgressStyleModel",
            "_view_count": null,
            "_view_module": "@jupyter-widgets/base",
            "_view_module_version": "1.2.0",
            "_view_name": "StyleView",
            "bar_color": null,
            "description_width": ""
          }
        },
        "e24fb45c20e54fb3b4461c6ab9491b2e": {
          "model_module": "@jupyter-widgets/base",
          "model_name": "LayoutModel",
          "model_module_version": "1.2.0",
          "state": {
            "_model_module": "@jupyter-widgets/base",
            "_model_module_version": "1.2.0",
            "_model_name": "LayoutModel",
            "_view_count": null,
            "_view_module": "@jupyter-widgets/base",
            "_view_module_version": "1.2.0",
            "_view_name": "LayoutView",
            "align_content": null,
            "align_items": null,
            "align_self": null,
            "border": null,
            "bottom": null,
            "display": null,
            "flex": null,
            "flex_flow": null,
            "grid_area": null,
            "grid_auto_columns": null,
            "grid_auto_flow": null,
            "grid_auto_rows": null,
            "grid_column": null,
            "grid_gap": null,
            "grid_row": null,
            "grid_template_areas": null,
            "grid_template_columns": null,
            "grid_template_rows": null,
            "height": null,
            "justify_content": null,
            "justify_items": null,
            "left": null,
            "margin": null,
            "max_height": null,
            "max_width": null,
            "min_height": null,
            "min_width": null,
            "object_fit": null,
            "object_position": null,
            "order": null,
            "overflow": null,
            "overflow_x": null,
            "overflow_y": null,
            "padding": null,
            "right": null,
            "top": null,
            "visibility": null,
            "width": null
          }
        },
        "2242f3c8ddb7409ba80a2bb3a9e3a188": {
          "model_module": "@jupyter-widgets/controls",
          "model_name": "DescriptionStyleModel",
          "model_module_version": "1.5.0",
          "state": {
            "_model_module": "@jupyter-widgets/controls",
            "_model_module_version": "1.5.0",
            "_model_name": "DescriptionStyleModel",
            "_view_count": null,
            "_view_module": "@jupyter-widgets/base",
            "_view_module_version": "1.2.0",
            "_view_name": "StyleView",
            "description_width": ""
          }
        },
        "1a9222a49b25490b92f67b5fdcd3e434": {
          "model_module": "@jupyter-widgets/controls",
          "model_name": "HBoxModel",
          "model_module_version": "1.5.0",
          "state": {
            "_dom_classes": [],
            "_model_module": "@jupyter-widgets/controls",
            "_model_module_version": "1.5.0",
            "_model_name": "HBoxModel",
            "_view_count": null,
            "_view_module": "@jupyter-widgets/controls",
            "_view_module_version": "1.5.0",
            "_view_name": "HBoxView",
            "box_style": "",
            "children": [
              "IPY_MODEL_5fcd0dfeea8c4af69548fb563c9cf5a3",
              "IPY_MODEL_13f9ad1c1b144ba4bd17bd569a21ac87",
              "IPY_MODEL_1c4bf2ddf7b94efc97f4776155b98e99"
            ],
            "layout": "IPY_MODEL_257dbb93949c4a48b456a0828efdf578"
          }
        },
        "5fcd0dfeea8c4af69548fb563c9cf5a3": {
          "model_module": "@jupyter-widgets/controls",
          "model_name": "HTMLModel",
          "model_module_version": "1.5.0",
          "state": {
            "_dom_classes": [],
            "_model_module": "@jupyter-widgets/controls",
            "_model_module_version": "1.5.0",
            "_model_name": "HTMLModel",
            "_view_count": null,
            "_view_module": "@jupyter-widgets/controls",
            "_view_module_version": "1.5.0",
            "_view_name": "HTMLView",
            "description": "",
            "description_tooltip": null,
            "layout": "IPY_MODEL_0a67e1caa48e45be84ec99fe4bac2ce3",
            "placeholder": "​",
            "style": "IPY_MODEL_23e5a75d996549b9a958c2e9c70e1a3f",
            "value": "Downloading: 100%"
          }
        },
        "13f9ad1c1b144ba4bd17bd569a21ac87": {
          "model_module": "@jupyter-widgets/controls",
          "model_name": "FloatProgressModel",
          "model_module_version": "1.5.0",
          "state": {
            "_dom_classes": [],
            "_model_module": "@jupyter-widgets/controls",
            "_model_module_version": "1.5.0",
            "_model_name": "FloatProgressModel",
            "_view_count": null,
            "_view_module": "@jupyter-widgets/controls",
            "_view_module_version": "1.5.0",
            "_view_name": "ProgressView",
            "bar_style": "success",
            "description": "",
            "description_tooltip": null,
            "layout": "IPY_MODEL_f48d0fb0105a474a9765a9692301e757",
            "max": 501322656,
            "min": 0,
            "orientation": "horizontal",
            "style": "IPY_MODEL_24c62df38c9545b19ebd6e3f42f99b62",
            "value": 501322656
          }
        },
        "1c4bf2ddf7b94efc97f4776155b98e99": {
          "model_module": "@jupyter-widgets/controls",
          "model_name": "HTMLModel",
          "model_module_version": "1.5.0",
          "state": {
            "_dom_classes": [],
            "_model_module": "@jupyter-widgets/controls",
            "_model_module_version": "1.5.0",
            "_model_name": "HTMLModel",
            "_view_count": null,
            "_view_module": "@jupyter-widgets/controls",
            "_view_module_version": "1.5.0",
            "_view_name": "HTMLView",
            "description": "",
            "description_tooltip": null,
            "layout": "IPY_MODEL_d7e62e25c13b4fecaa8ecb60bd5cd1ce",
            "placeholder": "​",
            "style": "IPY_MODEL_d2179391fd6d4c9a9bd2b0282c229226",
            "value": " 478M/478M [00:08&lt;00:00, 57.9MB/s]"
          }
        },
        "257dbb93949c4a48b456a0828efdf578": {
          "model_module": "@jupyter-widgets/base",
          "model_name": "LayoutModel",
          "model_module_version": "1.2.0",
          "state": {
            "_model_module": "@jupyter-widgets/base",
            "_model_module_version": "1.2.0",
            "_model_name": "LayoutModel",
            "_view_count": null,
            "_view_module": "@jupyter-widgets/base",
            "_view_module_version": "1.2.0",
            "_view_name": "LayoutView",
            "align_content": null,
            "align_items": null,
            "align_self": null,
            "border": null,
            "bottom": null,
            "display": null,
            "flex": null,
            "flex_flow": null,
            "grid_area": null,
            "grid_auto_columns": null,
            "grid_auto_flow": null,
            "grid_auto_rows": null,
            "grid_column": null,
            "grid_gap": null,
            "grid_row": null,
            "grid_template_areas": null,
            "grid_template_columns": null,
            "grid_template_rows": null,
            "height": null,
            "justify_content": null,
            "justify_items": null,
            "left": null,
            "margin": null,
            "max_height": null,
            "max_width": null,
            "min_height": null,
            "min_width": null,
            "object_fit": null,
            "object_position": null,
            "order": null,
            "overflow": null,
            "overflow_x": null,
            "overflow_y": null,
            "padding": null,
            "right": null,
            "top": null,
            "visibility": null,
            "width": null
          }
        },
        "0a67e1caa48e45be84ec99fe4bac2ce3": {
          "model_module": "@jupyter-widgets/base",
          "model_name": "LayoutModel",
          "model_module_version": "1.2.0",
          "state": {
            "_model_module": "@jupyter-widgets/base",
            "_model_module_version": "1.2.0",
            "_model_name": "LayoutModel",
            "_view_count": null,
            "_view_module": "@jupyter-widgets/base",
            "_view_module_version": "1.2.0",
            "_view_name": "LayoutView",
            "align_content": null,
            "align_items": null,
            "align_self": null,
            "border": null,
            "bottom": null,
            "display": null,
            "flex": null,
            "flex_flow": null,
            "grid_area": null,
            "grid_auto_columns": null,
            "grid_auto_flow": null,
            "grid_auto_rows": null,
            "grid_column": null,
            "grid_gap": null,
            "grid_row": null,
            "grid_template_areas": null,
            "grid_template_columns": null,
            "grid_template_rows": null,
            "height": null,
            "justify_content": null,
            "justify_items": null,
            "left": null,
            "margin": null,
            "max_height": null,
            "max_width": null,
            "min_height": null,
            "min_width": null,
            "object_fit": null,
            "object_position": null,
            "order": null,
            "overflow": null,
            "overflow_x": null,
            "overflow_y": null,
            "padding": null,
            "right": null,
            "top": null,
            "visibility": null,
            "width": null
          }
        },
        "23e5a75d996549b9a958c2e9c70e1a3f": {
          "model_module": "@jupyter-widgets/controls",
          "model_name": "DescriptionStyleModel",
          "model_module_version": "1.5.0",
          "state": {
            "_model_module": "@jupyter-widgets/controls",
            "_model_module_version": "1.5.0",
            "_model_name": "DescriptionStyleModel",
            "_view_count": null,
            "_view_module": "@jupyter-widgets/base",
            "_view_module_version": "1.2.0",
            "_view_name": "StyleView",
            "description_width": ""
          }
        },
        "f48d0fb0105a474a9765a9692301e757": {
          "model_module": "@jupyter-widgets/base",
          "model_name": "LayoutModel",
          "model_module_version": "1.2.0",
          "state": {
            "_model_module": "@jupyter-widgets/base",
            "_model_module_version": "1.2.0",
            "_model_name": "LayoutModel",
            "_view_count": null,
            "_view_module": "@jupyter-widgets/base",
            "_view_module_version": "1.2.0",
            "_view_name": "LayoutView",
            "align_content": null,
            "align_items": null,
            "align_self": null,
            "border": null,
            "bottom": null,
            "display": null,
            "flex": null,
            "flex_flow": null,
            "grid_area": null,
            "grid_auto_columns": null,
            "grid_auto_flow": null,
            "grid_auto_rows": null,
            "grid_column": null,
            "grid_gap": null,
            "grid_row": null,
            "grid_template_areas": null,
            "grid_template_columns": null,
            "grid_template_rows": null,
            "height": null,
            "justify_content": null,
            "justify_items": null,
            "left": null,
            "margin": null,
            "max_height": null,
            "max_width": null,
            "min_height": null,
            "min_width": null,
            "object_fit": null,
            "object_position": null,
            "order": null,
            "overflow": null,
            "overflow_x": null,
            "overflow_y": null,
            "padding": null,
            "right": null,
            "top": null,
            "visibility": null,
            "width": null
          }
        },
        "24c62df38c9545b19ebd6e3f42f99b62": {
          "model_module": "@jupyter-widgets/controls",
          "model_name": "ProgressStyleModel",
          "model_module_version": "1.5.0",
          "state": {
            "_model_module": "@jupyter-widgets/controls",
            "_model_module_version": "1.5.0",
            "_model_name": "ProgressStyleModel",
            "_view_count": null,
            "_view_module": "@jupyter-widgets/base",
            "_view_module_version": "1.2.0",
            "_view_name": "StyleView",
            "bar_color": null,
            "description_width": ""
          }
        },
        "d7e62e25c13b4fecaa8ecb60bd5cd1ce": {
          "model_module": "@jupyter-widgets/base",
          "model_name": "LayoutModel",
          "model_module_version": "1.2.0",
          "state": {
            "_model_module": "@jupyter-widgets/base",
            "_model_module_version": "1.2.0",
            "_model_name": "LayoutModel",
            "_view_count": null,
            "_view_module": "@jupyter-widgets/base",
            "_view_module_version": "1.2.0",
            "_view_name": "LayoutView",
            "align_content": null,
            "align_items": null,
            "align_self": null,
            "border": null,
            "bottom": null,
            "display": null,
            "flex": null,
            "flex_flow": null,
            "grid_area": null,
            "grid_auto_columns": null,
            "grid_auto_flow": null,
            "grid_auto_rows": null,
            "grid_column": null,
            "grid_gap": null,
            "grid_row": null,
            "grid_template_areas": null,
            "grid_template_columns": null,
            "grid_template_rows": null,
            "height": null,
            "justify_content": null,
            "justify_items": null,
            "left": null,
            "margin": null,
            "max_height": null,
            "max_width": null,
            "min_height": null,
            "min_width": null,
            "object_fit": null,
            "object_position": null,
            "order": null,
            "overflow": null,
            "overflow_x": null,
            "overflow_y": null,
            "padding": null,
            "right": null,
            "top": null,
            "visibility": null,
            "width": null
          }
        },
        "d2179391fd6d4c9a9bd2b0282c229226": {
          "model_module": "@jupyter-widgets/controls",
          "model_name": "DescriptionStyleModel",
          "model_module_version": "1.5.0",
          "state": {
            "_model_module": "@jupyter-widgets/controls",
            "_model_module_version": "1.5.0",
            "_model_name": "DescriptionStyleModel",
            "_view_count": null,
            "_view_module": "@jupyter-widgets/base",
            "_view_module_version": "1.2.0",
            "_view_name": "StyleView",
            "description_width": ""
          }
        }
      }
    }
  },
  "nbformat": 4,
  "nbformat_minor": 0
}