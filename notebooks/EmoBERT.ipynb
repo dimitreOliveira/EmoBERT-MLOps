{
  "cells": [
    {
      "cell_type": "code",
      "execution_count": 1,
      "metadata": {
        "colab": {
          "base_uri": "https://localhost:8080/"
        },
        "id": "N9h3CWfzsEFs",
        "outputId": "fc8e7005-d88b-4218-e8cc-8fee11e961b0"
      },
      "outputs": [
        {
          "output_type": "stream",
          "name": "stdout",
          "text": [
            "Sun Feb  6 11:53:27 2022       \n",
            "+-----------------------------------------------------------------------------+\n",
            "| NVIDIA-SMI 460.32.03    Driver Version: 460.32.03    CUDA Version: 11.2     |\n",
            "|-------------------------------+----------------------+----------------------+\n",
            "| GPU  Name        Persistence-M| Bus-Id        Disp.A | Volatile Uncorr. ECC |\n",
            "| Fan  Temp  Perf  Pwr:Usage/Cap|         Memory-Usage | GPU-Util  Compute M. |\n",
            "|                               |                      |               MIG M. |\n",
            "|===============================+======================+======================|\n",
            "|   0  Tesla T4            Off  | 00000000:00:04.0 Off |                    0 |\n",
            "| N/A   53C    P8    11W /  70W |      0MiB / 15109MiB |      0%      Default |\n",
            "|                               |                      |                  N/A |\n",
            "+-------------------------------+----------------------+----------------------+\n",
            "                                                                               \n",
            "+-----------------------------------------------------------------------------+\n",
            "| Processes:                                                                  |\n",
            "|  GPU   GI   CI        PID   Type   Process name                  GPU Memory |\n",
            "|        ID   ID                                                   Usage      |\n",
            "|=============================================================================|\n",
            "|  No running processes found                                                 |\n",
            "+-----------------------------------------------------------------------------+\n"
          ]
        }
      ],
      "source": [
        "# Device specifications\n",
        "!nvidia-smi"
      ]
    },
    {
      "cell_type": "code",
      "execution_count": 2,
      "metadata": {
        "id": "JeNvr6Aid3sO",
        "colab": {
          "base_uri": "https://localhost:8080/"
        },
        "outputId": "428ccc44-f940-41ce-f977-11d499a26198"
      },
      "outputs": [
        {
          "output_type": "stream",
          "name": "stdout",
          "text": [
            "\u001b[K     |████████████████████████████████| 3.5 MB 5.1 MB/s \n",
            "\u001b[K     |████████████████████████████████| 67 kB 6.3 MB/s \n",
            "\u001b[K     |████████████████████████████████| 895 kB 76.2 MB/s \n",
            "\u001b[K     |████████████████████████████████| 6.8 MB 51.1 MB/s \n",
            "\u001b[K     |████████████████████████████████| 596 kB 47.5 MB/s \n",
            "\u001b[?25h"
          ]
        }
      ],
      "source": [
        "!pip -q install transformers"
      ]
    },
    {
      "cell_type": "code",
      "execution_count": 3,
      "metadata": {
        "colab": {
          "base_uri": "https://localhost:8080/"
        },
        "id": "IHjUBht9gDNQ",
        "outputId": "aeb25585-8030-47e3-f6a1-ab19859ed5a5"
      },
      "outputs": [
        {
          "output_type": "stream",
          "name": "stdout",
          "text": [
            "tf version: 2.7.0\n",
            "keras version: 2.7.0\n",
            "transformers version: 4.16.2\n"
          ]
        }
      ],
      "source": [
        "import tensorflow, keras, transformers\n",
        "print(f\"tf version: {tensorflow.__version__}\")\n",
        "print(f\"keras version: {keras.__version__}\")\n",
        "print(f\"transformers version: {transformers.__version__}\")"
      ]
    },
    {
      "cell_type": "markdown",
      "metadata": {
        "id": "Cg9-aczoVP8B"
      },
      "source": [
        "# Dependencies"
      ]
    },
    {
      "cell_type": "code",
      "execution_count": 4,
      "metadata": {
        "id": "rarBiaXaUzgH"
      },
      "outputs": [],
      "source": [
        "import glob\n",
        "import warnings\n",
        "import pandas as pd\n",
        "import seaborn as sns\n",
        "import matplotlib.pyplot as plt\n",
        "from wordcloud import WordCloud, STOPWORDS\n",
        "\n",
        "warnings.filterwarnings(\"ignore\")"
      ]
    },
    {
      "cell_type": "markdown",
      "metadata": {
        "id": "EVziw4t6Yy2K"
      },
      "source": [
        "# Download data"
      ]
    },
    {
      "cell_type": "code",
      "execution_count": 5,
      "metadata": {
        "colab": {
          "base_uri": "https://localhost:8080/"
        },
        "id": "umFhjy06Y0nb",
        "outputId": "d387a9d7-29bd-4ef0-b71a-9d704d72e756"
      },
      "outputs": [
        {
          "output_type": "stream",
          "name": "stdout",
          "text": [
            "--2022-02-06 11:53:44--  https://storage.googleapis.com/gresearch/goemotions/data/full_dataset/goemotions_1.csv\n",
            "Resolving storage.googleapis.com (storage.googleapis.com)... 142.250.98.128, 142.250.97.128, 142.251.107.128, ...\n",
            "Connecting to storage.googleapis.com (storage.googleapis.com)|142.250.98.128|:443... connected.\n",
            "HTTP request sent, awaiting response... 200 OK\n",
            "Length: 14174600 (14M) [application/octet-stream]\n",
            "Saving to: ‘data/goemotions_1.csv’\n",
            "\n",
            "\rgoemotions_1.csv      0%[                    ]       0  --.-KB/s               \rgoemotions_1.csv    100%[===================>]  13.52M  --.-KB/s    in 0.1s    \n",
            "\n",
            "2022-02-06 11:53:44 (139 MB/s) - ‘data/goemotions_1.csv’ saved [14174600/14174600]\n",
            "\n"
          ]
        }
      ],
      "source": [
        "# I will use only one third of the dataset to make the experimentation faster\n",
        "!wget -P data/ https://storage.googleapis.com/gresearch/goemotions/data/full_dataset/goemotions_1.csv\n",
        "# !wget -P data/ https://storage.googleapis.com/gresearch/goemotions/data/full_dataset/goemotions_2.csv\n",
        "# !wget -P data/ https://storage.googleapis.com/gresearch/goemotions/data/full_dataset/goemotions_3.csv"
      ]
    },
    {
      "cell_type": "markdown",
      "metadata": {
        "id": "lmxNtDoWVUH2"
      },
      "source": [
        "# Load data"
      ]
    },
    {
      "cell_type": "code",
      "execution_count": 6,
      "metadata": {
        "colab": {
          "base_uri": "https://localhost:8080/",
          "height": 687
        },
        "id": "f91UvBmoVWN3",
        "outputId": "ed774ed4-04cd-42eb-a94d-74585eb390bf"
      },
      "outputs": [
        {
          "output_type": "stream",
          "name": "stdout",
          "text": [
            "Number of samples: 70000\n",
            "Number of labels: 28\n"
          ]
        },
        {
          "output_type": "display_data",
          "data": {
            "text/html": [
              "\n",
              "  <div id=\"df-c67fd0f5-5e76-489e-a8c5-ff1f2e3e90a6\">\n",
              "    <div class=\"colab-df-container\">\n",
              "      <div>\n",
              "<style scoped>\n",
              "    .dataframe tbody tr th:only-of-type {\n",
              "        vertical-align: middle;\n",
              "    }\n",
              "\n",
              "    .dataframe tbody tr th {\n",
              "        vertical-align: top;\n",
              "    }\n",
              "\n",
              "    .dataframe thead th {\n",
              "        text-align: right;\n",
              "    }\n",
              "</style>\n",
              "<table border=\"1\" class=\"dataframe\">\n",
              "  <thead>\n",
              "    <tr style=\"text-align: right;\">\n",
              "      <th></th>\n",
              "      <th>text</th>\n",
              "      <th>admiration</th>\n",
              "      <th>amusement</th>\n",
              "      <th>anger</th>\n",
              "      <th>annoyance</th>\n",
              "      <th>approval</th>\n",
              "      <th>caring</th>\n",
              "      <th>confusion</th>\n",
              "      <th>curiosity</th>\n",
              "      <th>desire</th>\n",
              "      <th>disappointment</th>\n",
              "      <th>disapproval</th>\n",
              "      <th>disgust</th>\n",
              "      <th>embarrassment</th>\n",
              "      <th>excitement</th>\n",
              "      <th>fear</th>\n",
              "      <th>gratitude</th>\n",
              "      <th>grief</th>\n",
              "      <th>joy</th>\n",
              "      <th>love</th>\n",
              "      <th>nervousness</th>\n",
              "      <th>optimism</th>\n",
              "      <th>pride</th>\n",
              "      <th>realization</th>\n",
              "      <th>relief</th>\n",
              "      <th>remorse</th>\n",
              "      <th>sadness</th>\n",
              "      <th>surprise</th>\n",
              "      <th>neutral</th>\n",
              "    </tr>\n",
              "  </thead>\n",
              "  <tbody>\n",
              "    <tr>\n",
              "      <th>0</th>\n",
              "      <td>is a recent article interesting read.</td>\n",
              "      <td>0</td>\n",
              "      <td>0</td>\n",
              "      <td>0</td>\n",
              "      <td>0</td>\n",
              "      <td>0</td>\n",
              "      <td>0</td>\n",
              "      <td>0</td>\n",
              "      <td>0</td>\n",
              "      <td>0</td>\n",
              "      <td>0</td>\n",
              "      <td>0</td>\n",
              "      <td>0</td>\n",
              "      <td>0</td>\n",
              "      <td>0</td>\n",
              "      <td>0</td>\n",
              "      <td>0</td>\n",
              "      <td>0</td>\n",
              "      <td>0</td>\n",
              "      <td>0</td>\n",
              "      <td>0</td>\n",
              "      <td>0</td>\n",
              "      <td>0</td>\n",
              "      <td>0</td>\n",
              "      <td>0</td>\n",
              "      <td>0</td>\n",
              "      <td>0</td>\n",
              "      <td>0</td>\n",
              "      <td>1</td>\n",
              "    </tr>\n",
              "    <tr>\n",
              "      <th>1</th>\n",
              "      <td>I’ve learned to just laugh these off, and try ...</td>\n",
              "      <td>0</td>\n",
              "      <td>0</td>\n",
              "      <td>0</td>\n",
              "      <td>0</td>\n",
              "      <td>0</td>\n",
              "      <td>0</td>\n",
              "      <td>0</td>\n",
              "      <td>0</td>\n",
              "      <td>0</td>\n",
              "      <td>0</td>\n",
              "      <td>0</td>\n",
              "      <td>0</td>\n",
              "      <td>0</td>\n",
              "      <td>0</td>\n",
              "      <td>0</td>\n",
              "      <td>0</td>\n",
              "      <td>0</td>\n",
              "      <td>0</td>\n",
              "      <td>0</td>\n",
              "      <td>0</td>\n",
              "      <td>0</td>\n",
              "      <td>0</td>\n",
              "      <td>0</td>\n",
              "      <td>0</td>\n",
              "      <td>0</td>\n",
              "      <td>0</td>\n",
              "      <td>0</td>\n",
              "      <td>1</td>\n",
              "    </tr>\n",
              "    <tr>\n",
              "      <th>2</th>\n",
              "      <td>Can you provide any evidence to your claim tha...</td>\n",
              "      <td>0</td>\n",
              "      <td>0</td>\n",
              "      <td>0</td>\n",
              "      <td>0</td>\n",
              "      <td>0</td>\n",
              "      <td>0</td>\n",
              "      <td>0</td>\n",
              "      <td>0</td>\n",
              "      <td>0</td>\n",
              "      <td>0</td>\n",
              "      <td>0</td>\n",
              "      <td>0</td>\n",
              "      <td>0</td>\n",
              "      <td>0</td>\n",
              "      <td>0</td>\n",
              "      <td>0</td>\n",
              "      <td>0</td>\n",
              "      <td>0</td>\n",
              "      <td>0</td>\n",
              "      <td>0</td>\n",
              "      <td>0</td>\n",
              "      <td>0</td>\n",
              "      <td>0</td>\n",
              "      <td>0</td>\n",
              "      <td>0</td>\n",
              "      <td>0</td>\n",
              "      <td>0</td>\n",
              "      <td>1</td>\n",
              "    </tr>\n",
              "    <tr>\n",
              "      <th>3</th>\n",
              "      <td>how do you feel about the possibility of the c...</td>\n",
              "      <td>0</td>\n",
              "      <td>0</td>\n",
              "      <td>0</td>\n",
              "      <td>0</td>\n",
              "      <td>0</td>\n",
              "      <td>0</td>\n",
              "      <td>0</td>\n",
              "      <td>0</td>\n",
              "      <td>0</td>\n",
              "      <td>0</td>\n",
              "      <td>0</td>\n",
              "      <td>0</td>\n",
              "      <td>0</td>\n",
              "      <td>0</td>\n",
              "      <td>0</td>\n",
              "      <td>0</td>\n",
              "      <td>0</td>\n",
              "      <td>0</td>\n",
              "      <td>0</td>\n",
              "      <td>0</td>\n",
              "      <td>0</td>\n",
              "      <td>0</td>\n",
              "      <td>0</td>\n",
              "      <td>0</td>\n",
              "      <td>0</td>\n",
              "      <td>0</td>\n",
              "      <td>0</td>\n",
              "      <td>0</td>\n",
              "    </tr>\n",
              "    <tr>\n",
              "      <th>4</th>\n",
              "      <td>i wear all black. always. i died when we launc...</td>\n",
              "      <td>0</td>\n",
              "      <td>0</td>\n",
              "      <td>0</td>\n",
              "      <td>0</td>\n",
              "      <td>0</td>\n",
              "      <td>0</td>\n",
              "      <td>0</td>\n",
              "      <td>0</td>\n",
              "      <td>0</td>\n",
              "      <td>0</td>\n",
              "      <td>0</td>\n",
              "      <td>0</td>\n",
              "      <td>0</td>\n",
              "      <td>0</td>\n",
              "      <td>0</td>\n",
              "      <td>0</td>\n",
              "      <td>0</td>\n",
              "      <td>0</td>\n",
              "      <td>0</td>\n",
              "      <td>0</td>\n",
              "      <td>0</td>\n",
              "      <td>0</td>\n",
              "      <td>0</td>\n",
              "      <td>0</td>\n",
              "      <td>0</td>\n",
              "      <td>0</td>\n",
              "      <td>0</td>\n",
              "      <td>0</td>\n",
              "    </tr>\n",
              "  </tbody>\n",
              "</table>\n",
              "</div>\n",
              "      <button class=\"colab-df-convert\" onclick=\"convertToInteractive('df-c67fd0f5-5e76-489e-a8c5-ff1f2e3e90a6')\"\n",
              "              title=\"Convert this dataframe to an interactive table.\"\n",
              "              style=\"display:none;\">\n",
              "        \n",
              "  <svg xmlns=\"http://www.w3.org/2000/svg\" height=\"24px\"viewBox=\"0 0 24 24\"\n",
              "       width=\"24px\">\n",
              "    <path d=\"M0 0h24v24H0V0z\" fill=\"none\"/>\n",
              "    <path d=\"M18.56 5.44l.94 2.06.94-2.06 2.06-.94-2.06-.94-.94-2.06-.94 2.06-2.06.94zm-11 1L8.5 8.5l.94-2.06 2.06-.94-2.06-.94L8.5 2.5l-.94 2.06-2.06.94zm10 10l.94 2.06.94-2.06 2.06-.94-2.06-.94-.94-2.06-.94 2.06-2.06.94z\"/><path d=\"M17.41 7.96l-1.37-1.37c-.4-.4-.92-.59-1.43-.59-.52 0-1.04.2-1.43.59L10.3 9.45l-7.72 7.72c-.78.78-.78 2.05 0 2.83L4 21.41c.39.39.9.59 1.41.59.51 0 1.02-.2 1.41-.59l7.78-7.78 2.81-2.81c.8-.78.8-2.07 0-2.86zM5.41 20L4 18.59l7.72-7.72 1.47 1.35L5.41 20z\"/>\n",
              "  </svg>\n",
              "      </button>\n",
              "      \n",
              "  <style>\n",
              "    .colab-df-container {\n",
              "      display:flex;\n",
              "      flex-wrap:wrap;\n",
              "      gap: 12px;\n",
              "    }\n",
              "\n",
              "    .colab-df-convert {\n",
              "      background-color: #E8F0FE;\n",
              "      border: none;\n",
              "      border-radius: 50%;\n",
              "      cursor: pointer;\n",
              "      display: none;\n",
              "      fill: #1967D2;\n",
              "      height: 32px;\n",
              "      padding: 0 0 0 0;\n",
              "      width: 32px;\n",
              "    }\n",
              "\n",
              "    .colab-df-convert:hover {\n",
              "      background-color: #E2EBFA;\n",
              "      box-shadow: 0px 1px 2px rgba(60, 64, 67, 0.3), 0px 1px 3px 1px rgba(60, 64, 67, 0.15);\n",
              "      fill: #174EA6;\n",
              "    }\n",
              "\n",
              "    [theme=dark] .colab-df-convert {\n",
              "      background-color: #3B4455;\n",
              "      fill: #D2E3FC;\n",
              "    }\n",
              "\n",
              "    [theme=dark] .colab-df-convert:hover {\n",
              "      background-color: #434B5C;\n",
              "      box-shadow: 0px 1px 3px 1px rgba(0, 0, 0, 0.15);\n",
              "      filter: drop-shadow(0px 1px 2px rgba(0, 0, 0, 0.3));\n",
              "      fill: #FFFFFF;\n",
              "    }\n",
              "  </style>\n",
              "\n",
              "      <script>\n",
              "        const buttonEl =\n",
              "          document.querySelector('#df-c67fd0f5-5e76-489e-a8c5-ff1f2e3e90a6 button.colab-df-convert');\n",
              "        buttonEl.style.display =\n",
              "          google.colab.kernel.accessAllowed ? 'block' : 'none';\n",
              "\n",
              "        async function convertToInteractive(key) {\n",
              "          const element = document.querySelector('#df-c67fd0f5-5e76-489e-a8c5-ff1f2e3e90a6');\n",
              "          const dataTable =\n",
              "            await google.colab.kernel.invokeFunction('convertToInteractive',\n",
              "                                                     [key], {});\n",
              "          if (!dataTable) return;\n",
              "\n",
              "          const docLinkHtml = 'Like what you see? Visit the ' +\n",
              "            '<a target=\"_blank\" href=https://colab.research.google.com/notebooks/data_table.ipynb>data table notebook</a>'\n",
              "            + ' to learn more about interactive tables.';\n",
              "          element.innerHTML = '';\n",
              "          dataTable['output_type'] = 'display_data';\n",
              "          await google.colab.output.renderOutput(dataTable, element);\n",
              "          const docLink = document.createElement('div');\n",
              "          docLink.innerHTML = docLinkHtml;\n",
              "          element.appendChild(docLink);\n",
              "        }\n",
              "      </script>\n",
              "    </div>\n",
              "  </div>\n",
              "  "
            ],
            "text/plain": [
              "                                                text  ...  neutral\n",
              "0              is a recent article interesting read.  ...        1\n",
              "1  I’ve learned to just laugh these off, and try ...  ...        1\n",
              "2  Can you provide any evidence to your claim tha...  ...        1\n",
              "3  how do you feel about the possibility of the c...  ...        0\n",
              "4  i wear all black. always. i died when we launc...  ...        0\n",
              "\n",
              "[5 rows x 29 columns]"
            ]
          },
          "metadata": {}
        }
      ],
      "source": [
        "labels = ['admiration', 'amusement', 'anger', 'annoyance', 'approval', \n",
        "          'caring', 'confusion', 'curiosity', 'desire', 'disappointment', \n",
        "          'disapproval', 'disgust', 'embarrassment', 'excitement', 'fear', \n",
        "          'gratitude', 'grief', 'joy', 'love', 'nervousness', 'optimism', \n",
        "          'pride', 'realization', 'relief', 'remorse', 'sadness', 'surprise', \n",
        "          'neutral']\n",
        "\n",
        "path_list = glob.glob(\"data/goemotions_*.csv\", recursive=True)\n",
        "dfs = [pd.read_csv(path, usecols=(['text'] + labels)) for path in path_list]\n",
        "dataset = pd.concat(dfs)\n",
        "# Shuffle\n",
        "dataset = dataset.sample(frac=1).reset_index(drop=True)\n",
        "\n",
        "print(f\"Number of samples: {len(dataset)}\")\n",
        "print(f\"Number of labels: {len(labels)}\")\n",
        "display(dataset.head())"
      ]
    },
    {
      "cell_type": "markdown",
      "metadata": {
        "id": "ZlfZ71vyMkQK"
      },
      "source": [
        "# Preprocessing\n",
        "\n",
        "For now, the only preprocessing that we are going to do is lower casing all text and drop samples without text.\n",
        "\n",
        "We can apply our preprocessing steps to our text feature in the dataframe by wrapping all these processes under a function."
      ]
    },
    {
      "cell_type": "code",
      "execution_count": 7,
      "metadata": {
        "colab": {
          "base_uri": "https://localhost:8080/"
        },
        "id": "fOAkvndiz-3T",
        "outputId": "43315bd0-eced-4026-ea7a-108869998133"
      },
      "outputs": [
        {
          "output_type": "stream",
          "name": "stdout",
          "text": [
            "Number of samples: 70000\n"
          ]
        }
      ],
      "source": [
        "dataset.dropna(subset=[\"text\"], axis=0, inplace=True)\n",
        "print(f\"Number of samples: {len(dataset)}\")"
      ]
    },
    {
      "cell_type": "code",
      "execution_count": 8,
      "metadata": {
        "id": "6CEPLurdM-9V"
      },
      "outputs": [],
      "source": [
        "# Define preprocessing function\n",
        "def preprocess(text, lower=True):\n",
        "    if lower:\n",
        "        text = text.lower()\n",
        "    return text"
      ]
    },
    {
      "cell_type": "code",
      "execution_count": 9,
      "metadata": {
        "id": "xb70p7egMtIv"
      },
      "outputs": [],
      "source": [
        "# Apply to dataframe\n",
        "dataset.text = dataset.text.apply(preprocess, lower=True)"
      ]
    },
    {
      "cell_type": "markdown",
      "metadata": {
        "id": "3CdObwD7a4Hh"
      },
      "source": [
        "# EDA"
      ]
    },
    {
      "cell_type": "markdown",
      "metadata": {
        "id": "asfromrVa7Ap"
      },
      "source": [
        "## Positive labels per text sample\n",
        "\n",
        "**Question:** How many positive labels do each sample have on average? This might give an idea if samples have too many signals or not (many labels for each sample)."
      ]
    },
    {
      "cell_type": "code",
      "execution_count": 10,
      "metadata": {
        "colab": {
          "base_uri": "https://localhost:8080/",
          "height": 355
        },
        "id": "fdYL7PLCehY4",
        "outputId": "a9e018e3-1280-4ba8-e668-d32d5f287ac9"
      },
      "outputs": [
        {
          "output_type": "display_data",
          "data": {
            "image/png": "[encoded data removed]",
            "text/plain": [
              "<Figure size 1152x432 with 1 Axes>"
            ]
          },
          "metadata": {
            "needs_background": "light"
          }
        }
      ],
      "source": [
        "dataset['n_labels'] = dataset[labels].sum(axis=1)\n",
        "\n",
        "plt.figure(figsize=(16, 6))\n",
        "sns.countplot(x=\"n_labels\", data=dataset)\n",
        "plt.show()"
      ]
    },
    {
      "cell_type": "markdown",
      "metadata": {
        "id": "dRuBKnYoa_D0"
      },
      "source": [
        "## Label distribution\n",
        "\n",
        "**Question:** How many samples do we have for each label? Which ones are more popular, and which ones might have too few samples?"
      ]
    },
    {
      "cell_type": "code",
      "execution_count": 11,
      "metadata": {
        "colab": {
          "base_uri": "https://localhost:8080/",
          "height": 621
        },
        "id": "iyqssJ2UehEb",
        "outputId": "78b29c92-196a-4ab4-bdd0-60a850021457"
      },
      "outputs": [
        {
          "output_type": "display_data",
          "data": {
            "image/png": "[encoded data removed]",
            "text/plain": [
              "<Figure size 1152x864 with 1 Axes>"
            ]
          },
          "metadata": {
            "needs_background": "light"
          }
        }
      ],
      "source": [
        "label_count = dataset[labels].agg({x:'sum' for x in labels}).reset_index()\n",
        "label_count.columns = ['Label', 'Count']\n",
        "\n",
        "plt.figure(figsize=(16, 12))\n",
        "sns.barplot(x=\"Count\", y=\"Label\", data=label_count, palette=\"Blues_d\")\n",
        "plt.show()"
      ]
    },
    {
      "cell_type": "markdown",
      "metadata": {
        "id": "fI68kuCS3A6X"
      },
      "source": [
        "## Text length\n",
        "\n",
        "**Question:** How is distributed the size of our text samples? This could give us some insights if some samples might need to be truncated or if some of them are too small to have enough context."
      ]
    },
    {
      "cell_type": "code",
      "execution_count": 12,
      "metadata": {
        "colab": {
          "base_uri": "https://localhost:8080/",
          "height": 372
        },
        "id": "ds76BQIN3JpF",
        "outputId": "3e3cf8ae-6145-4476-ad58-570f83bd3b5b"
      },
      "outputs": [
        {
          "output_type": "display_data",
          "data": {
            "image/png": "[encoded data removed]",
            "text/plain": [
              "<Figure size 1152x432 with 1 Axes>"
            ]
          },
          "metadata": {
            "needs_background": "light"
          }
        }
      ],
      "source": [
        "dataset[\"text_len\"] = dataset[\"text\"].apply(lambda x : len(x))\n",
        "\n",
        "plt.figure(figsize=(16, 6))\n",
        "sns.histplot(dataset['text_len']).set_title('Text length')\n",
        "plt.show()"
      ]
    },
    {
      "cell_type": "markdown",
      "metadata": {
        "id": "RX4YQE5f3FZM"
      },
      "source": [
        "## Wordcloud\n",
        "\n",
        "**Question:**  Is there enough signal in the text that is related to the label?"
      ]
    },
    {
      "cell_type": "markdown",
      "metadata": {
        "id": "uTXz5XhhhOwR"
      },
      "source": [
        "### Wordcloud for \"gratitude\""
      ]
    },
    {
      "cell_type": "code",
      "execution_count": 13,
      "metadata": {
        "colab": {
          "base_uri": "https://localhost:8080/",
          "height": 303
        },
        "id": "rBvTFsdR3KOp",
        "outputId": "0475dbf9-b796-4db8-8865-afa926ae7744"
      },
      "outputs": [
        {
          "output_type": "display_data",
          "data": {
            "image/png": "[encoded data removed]",
            "text/plain": [
              "<Figure size 1080x360 with 1 Axes>"
            ]
          },
          "metadata": {
            "needs_background": "light"
          }
        }
      ],
      "source": [
        "def display_word_cloud(df, label):\n",
        "    plt.figure(figsize=(15, 5))\n",
        "    subset = df[df[label] == 1]\n",
        "    text = subset.text.values\n",
        "    cloud = WordCloud(stopwords=STOPWORDS, background_color=\"black\", \n",
        "                      collocations=False, width=500, \n",
        "                      height=300).generate(\" \".join(text))\n",
        "    plt.axis(\"off\")\n",
        "    plt.imshow(cloud)\n",
        "\n",
        "display_word_cloud(dataset, label=\"gratitude\")"
      ]
    },
    {
      "cell_type": "markdown",
      "metadata": {
        "id": "p2CQ6qo7_fxs"
      },
      "source": [
        "### Wordcloud for \"sadness\""
      ]
    },
    {
      "cell_type": "code",
      "execution_count": 14,
      "metadata": {
        "colab": {
          "base_uri": "https://localhost:8080/",
          "height": 303
        },
        "id": "hYcSUgIG7xr5",
        "outputId": "bf9a3226-6801-45b5-b4bb-f3cc39333719"
      },
      "outputs": [
        {
          "output_type": "display_data",
          "data": {
            "image/png": "[encoded data removed]",
            "text/plain": [
              "<Figure size 1080x360 with 1 Axes>"
            ]
          },
          "metadata": {
            "needs_background": "light"
          }
        }
      ],
      "source": [
        "display_word_cloud(dataset, label=\"sadness\")"
      ]
    },
    {
      "cell_type": "markdown",
      "metadata": {
        "id": "2nKlYZJL6qdt"
      },
      "source": [
        "# Dataset split\n",
        "\n",
        "- Train (70%): 147857\n",
        "- Validation (15%): 31684\n",
        "- Test (15%): 31684"
      ]
    },
    {
      "cell_type": "code",
      "execution_count": 15,
      "metadata": {
        "id": "LdVT12czI2dK"
      },
      "outputs": [],
      "source": [
        "from sklearn.model_selection import train_test_split\n",
        "seed = 42"
      ]
    },
    {
      "cell_type": "code",
      "execution_count": 16,
      "metadata": {
        "id": "zsFzZ-uT6rdK"
      },
      "outputs": [],
      "source": [
        "X_train, X_test, y_train, y_test = train_test_split(dataset.text, dataset[labels], test_size=0.3, random_state=seed)\n",
        "X_test, X_valid, y_test, y_valid = train_test_split(X_test, y_test, test_size=0.5, random_state=seed)"
      ]
    },
    {
      "cell_type": "code",
      "execution_count": 17,
      "metadata": {
        "colab": {
          "base_uri": "https://localhost:8080/"
        },
        "id": "EdkFpZPoJrSp",
        "outputId": "18eb0b3b-63d3-4deb-a1b7-1c68012e778f"
      },
      "outputs": [
        {
          "output_type": "stream",
          "name": "stdout",
          "text": [
            "Train samples: 49000\n",
            "Validation samples: 10500\n",
            "Test samples: 10500\n"
          ]
        }
      ],
      "source": [
        "train_df = y_train.copy()\n",
        "train_df[\"text\"] = X_train\n",
        "print(f\"Train samples: {len(train_df)}\")\n",
        "\n",
        "valid_df = y_valid.copy()\n",
        "valid_df[\"text\"] = X_valid\n",
        "print(f\"Validation samples: {len(valid_df)}\")\n",
        "\n",
        "test_df = y_test.copy()\n",
        "test_df[\"text\"] = X_test\n",
        "print(f\"Test samples: {len(test_df)}\")"
      ]
    },
    {
      "cell_type": "code",
      "execution_count": 18,
      "metadata": {
        "id": "RIJOxdKrJrPL"
      },
      "outputs": [],
      "source": [
        "# Save dataset\n",
        "train_df.to_csv(\"data/train.csv\", index=False)\n",
        "test_df.to_csv(\"data/valid.csv\", index=False)\n",
        "train_df.to_csv(\"data/test.csv\", index=False)"
      ]
    },
    {
      "cell_type": "markdown",
      "metadata": {
        "id": "yv8TltVw61_x"
      },
      "source": [
        "## Data distribution"
      ]
    },
    {
      "cell_type": "markdown",
      "metadata": {
        "id": "U_vKoQGX64gu"
      },
      "source": [
        "### Complete dataset"
      ]
    },
    {
      "cell_type": "code",
      "execution_count": 19,
      "metadata": {
        "colab": {
          "base_uri": "https://localhost:8080/",
          "height": 689
        },
        "id": "TI93lFEm66nW",
        "outputId": "45734ac0-dd90-4e5f-fc77-a0339c2e2081"
      },
      "outputs": [
        {
          "output_type": "stream",
          "name": "stdout",
          "text": [
            "Number of samples: 70000\n"
          ]
        },
        {
          "output_type": "display_data",
          "data": {
            "image/png": "[encoded data removed]",
            "text/plain": [
              "<Figure size 1152x288 with 1 Axes>"
            ]
          },
          "metadata": {
            "needs_background": "light"
          }
        },
        {
          "output_type": "display_data",
          "data": {
            "image/png": "[encoded data removed]",
            "text/plain": [
              "<Figure size 1152x576 with 1 Axes>"
            ]
          },
          "metadata": {
            "needs_background": "light"
          }
        }
      ],
      "source": [
        "print(f\"Number of samples: {len(dataset)}\")\n",
        "\n",
        "dataset['n_labels'] = dataset[labels].sum(axis=1)\n",
        "plt.figure(figsize=(16, 4))\n",
        "sns.countplot(x=\"n_labels\", data=dataset)\n",
        "plt.show()\n",
        "\n",
        "label_count = dataset[labels].agg({x:'sum' for x in labels}).reset_index()\n",
        "label_count.columns = ['Label', 'Count']\n",
        "plt.figure(figsize=(16, 8))\n",
        "sns.barplot(x=\"Count\", y=\"Label\", data=label_count, palette=\"Blues_d\")\n",
        "plt.show()"
      ]
    },
    {
      "cell_type": "markdown",
      "metadata": {
        "id": "wjHsQ68X68XD"
      },
      "source": [
        "### Train dataset"
      ]
    },
    {
      "cell_type": "code",
      "execution_count": 20,
      "metadata": {
        "colab": {
          "base_uri": "https://localhost:8080/",
          "height": 689
        },
        "id": "XMQ_RcIm7A_O",
        "outputId": "a3b9e4f4-011e-4c18-d316-f4724bfc12aa"
      },
      "outputs": [
        {
          "output_type": "stream",
          "name": "stdout",
          "text": [
            "Number of samples: 49000\n"
          ]
        },
        {
          "output_type": "display_data",
          "data": {
            "image/png": "[encoded data removed]",
            "text/plain": [
              "<Figure size 1152x288 with 1 Axes>"
            ]
          },
          "metadata": {
            "needs_background": "light"
          }
        },
        {
          "output_type": "display_data",
          "data": {
            "image/png": "[encoded data removed]",
            "text/plain": [
              "<Figure size 1152x576 with 1 Axes>"
            ]
          },
          "metadata": {
            "needs_background": "light"
          }
        }
      ],
      "source": [
        "print(f\"Number of samples: {len(train_df)}\")\n",
        "\n",
        "train_df['n_labels'] = train_df[labels].sum(axis=1)\n",
        "plt.figure(figsize=(16, 4))\n",
        "sns.countplot(x=\"n_labels\", data=train_df)\n",
        "plt.show()\n",
        "\n",
        "train_label_count = train_df[labels].agg({x:'sum' for x in labels}).reset_index()\n",
        "train_label_count.columns = ['Label', 'Count']\n",
        "plt.figure(figsize=(16, 8))\n",
        "sns.barplot(x=\"Count\", y=\"Label\", data=train_label_count, palette=\"Blues_d\")\n",
        "plt.show()"
      ]
    },
    {
      "cell_type": "markdown",
      "metadata": {
        "id": "G8InoS7E7DBc"
      },
      "source": [
        "### Validation dataset"
      ]
    },
    {
      "cell_type": "code",
      "execution_count": 21,
      "metadata": {
        "colab": {
          "base_uri": "https://localhost:8080/",
          "height": 691
        },
        "id": "XSJffNqE7EjM",
        "outputId": "83c615d1-41ab-4403-c571-fe7abb025efe"
      },
      "outputs": [
        {
          "output_type": "stream",
          "name": "stdout",
          "text": [
            "Number of samples: 10500\n"
          ]
        },
        {
          "output_type": "display_data",
          "data": {
            "image/png": "[encoded data removed]",
            "text/plain": [
              "<Figure size 1152x288 with 1 Axes>"
            ]
          },
          "metadata": {
            "needs_background": "light"
          }
        },
        {
          "output_type": "display_data",
          "data": {
            "image/png": "[encoded data removed]",
            "text/plain": [
              "<Figure size 1152x576 with 1 Axes>"
            ]
          },
          "metadata": {
            "needs_background": "light"
          }
        }
      ],
      "source": [
        "print(f\"Number of samples: {len(valid_df)}\")\n",
        "\n",
        "valid_df['n_labels'] = valid_df[labels].sum(axis=1)\n",
        "plt.figure(figsize=(16, 4))\n",
        "sns.countplot(x=\"n_labels\", data=valid_df)\n",
        "plt.show()\n",
        "\n",
        "valid_label_count = valid_df[labels].agg({x:'sum' for x in labels}).reset_index()\n",
        "valid_label_count.columns = ['Label', 'Count']\n",
        "plt.figure(figsize=(16, 8))\n",
        "sns.barplot(x=\"Count\", y=\"Label\", data=valid_label_count, palette=\"Blues_d\")\n",
        "plt.show()"
      ]
    },
    {
      "cell_type": "markdown",
      "metadata": {
        "id": "b2LhRBKN7GcW"
      },
      "source": [
        "### Test dataset"
      ]
    },
    {
      "cell_type": "code",
      "execution_count": 22,
      "metadata": {
        "colab": {
          "base_uri": "https://localhost:8080/",
          "height": 691
        },
        "id": "8IOuHdGP7Hw_",
        "outputId": "aef7c292-f728-413d-ed30-c118f9dedb65"
      },
      "outputs": [
        {
          "output_type": "stream",
          "name": "stdout",
          "text": [
            "Number of samples: 10500\n"
          ]
        },
        {
          "output_type": "display_data",
          "data": {
            "image/png": "[encoded data removed]",
            "text/plain": [
              "<Figure size 1152x288 with 1 Axes>"
            ]
          },
          "metadata": {
            "needs_background": "light"
          }
        },
        {
          "output_type": "display_data",
          "data": {
            "image/png": "[encoded data removed]",
            "text/plain": [
              "<Figure size 1152x576 with 1 Axes>"
            ]
          },
          "metadata": {
            "needs_background": "light"
          }
        }
      ],
      "source": [
        "print(f\"Number of samples: {len(test_df)}\")\n",
        "\n",
        "test_df['n_labels'] = test_df[labels].sum(axis=1)\n",
        "plt.figure(figsize=(16, 4))\n",
        "sns.countplot(x=\"n_labels\", data=test_df)\n",
        "plt.show()\n",
        "\n",
        "test_label_count = test_df[labels].agg({x:'sum' for x in labels}).reset_index()\n",
        "test_label_count.columns = ['Label', 'Count']\n",
        "plt.figure(figsize=(16, 8))\n",
        "sns.barplot(x=\"Count\", y=\"Label\", data=test_label_count, palette=\"Blues_d\")\n",
        "plt.show()"
      ]
    },
    {
      "cell_type": "markdown",
      "metadata": {
        "id": "r8OFol07_iTc"
      },
      "source": [
        "# Modeling"
      ]
    },
    {
      "cell_type": "code",
      "execution_count": 23,
      "metadata": {
        "id": "BpAx-A6ZHoB2"
      },
      "outputs": [],
      "source": [
        "import random, os, json\n",
        "import numpy as np\n",
        "import tensorflow as tf\n",
        "from sklearn.metrics import precision_recall_fscore_support\n",
        "\n",
        "def set_seeds(seed=1234):\n",
        "    \"\"\"Set seeds for reproducibility.\"\"\"\n",
        "    random.seed(seed)\n",
        "    np.random.seed(seed)\n",
        "    tf.random.set_seed(seed)\n",
        "    os.environ['PYTHONHASHSEED'] = str(seed)\n",
        "    os.environ['TF_DETERMINISTIC_OPS'] = '1'"
      ]
    },
    {
      "cell_type": "markdown",
      "metadata": {
        "id": "sNzKHGRU_j7t"
      },
      "source": [
        "## Random\n",
        "\n",
        "motivation: We want to know what random (chance) performance looks like. All of our subsequent baselines should perform better than this."
      ]
    },
    {
      "cell_type": "code",
      "execution_count": 24,
      "metadata": {
        "id": "0bPListO_jPw"
      },
      "outputs": [],
      "source": [
        "# Set seeds\n",
        "set_seeds(seed)"
      ]
    },
    {
      "cell_type": "code",
      "execution_count": 25,
      "metadata": {
        "colab": {
          "base_uri": "https://localhost:8080/"
        },
        "id": "wZMz4d_PQfYZ",
        "outputId": "24b8332b-4158-405f-87bf-cfe07a783c37"
      },
      "outputs": [
        {
          "output_type": "stream",
          "name": "stdout",
          "text": [
            "(10500, 28)\n",
            "[[0 1 0 0 0 1 0 0 0 1 0 0 0 0 1 0 1 1 1 0 1 0 1 1 1 1 1 1]\n",
            " [1 1 0 0 1 1 1 0 1 0 0 0 0 0 1 1 1 1 1 0 1 1 0 1 0 1 0 1]\n",
            " [1 0 0 0 0 0 0 0 0 1 1 0 1 1 1 1 0 1 0 1 1 1 0 1 0 1 0 1]\n",
            " [0 0 1 0 1 1 1 1 1 1 1 1 1 1 1 0 0 1 1 1 1 1 1 1 1 0 1 0]\n",
            " [1 1 0 1 0 1 1 0 1 0 1 0 0 1 1 0 1 1 1 0 0 0 0 0 0 0 0 0]]\n"
          ]
        }
      ],
      "source": [
        "# Generate random predictions\n",
        "y_pred = np.random.randint(low=0, high=2, size=(len(test_df), len(labels)))\n",
        "print(y_pred.shape)\n",
        "print(y_pred[:5])"
      ]
    },
    {
      "cell_type": "markdown",
      "metadata": {
        "id": "elaKgZEcTPA9"
      },
      "source": [
        "### Evaluation"
      ]
    },
    {
      "cell_type": "code",
      "execution_count": 26,
      "metadata": {
        "colab": {
          "base_uri": "https://localhost:8080/"
        },
        "id": "eJ_W1IZsTMt2",
        "outputId": "37ac2fe8-37b0-4178-f916-98254a9a8050"
      },
      "outputs": [
        {
          "output_type": "stream",
          "name": "stdout",
          "text": [
            "{\n",
            "  \"precision\": 0.09861063487383571,\n",
            "  \"recall\": 0.502540527461892,\n",
            "  \"f1\": 0.1468771851187924\n",
            "}\n"
          ]
        }
      ],
      "source": [
        "metrics = precision_recall_fscore_support(y_test, y_pred, average=\"weighted\")\n",
        "performance = {\"precision\": metrics[0], \"recall\": metrics[1], \"f1\": metrics[2]}\n",
        "print(json.dumps(performance, indent=2))"
      ]
    },
    {
      "cell_type": "markdown",
      "metadata": {
        "id": "9RNBu0kLVWqs"
      },
      "source": [
        "We made the assumption that there is an equal probability for whether an input has an emotion or not, but this isn't true. Let's use the train split to figure out what the true probability is.\n",
        "\n"
      ]
    },
    {
      "cell_type": "code",
      "execution_count": 27,
      "metadata": {
        "colab": {
          "base_uri": "https://localhost:8080/"
        },
        "id": "mOtAViWUVg_B",
        "outputId": "7b18e6fd-4690-4542-b92b-a61156d5c790"
      },
      "outputs": [
        {
          "output_type": "stream",
          "name": "stdout",
          "text": [
            "0.042171282798833816\n"
          ]
        }
      ],
      "source": [
        "# Percentage of 1s (tag presence)\n",
        "tag_p = np.sum(np.sum(y_train)) / (len(y_train) * len(labels))\n",
        "print(tag_p)"
      ]
    },
    {
      "cell_type": "code",
      "execution_count": 28,
      "metadata": {
        "id": "4Q_0NQqXVmB0"
      },
      "outputs": [],
      "source": [
        "# Generate weighted random predictions\n",
        "y_pred = np.random.choice(\n",
        "    np.arange(0, 2), size=(len(y_test), len(labels)),\n",
        "    p=[1-tag_p, tag_p])"
      ]
    },
    {
      "cell_type": "code",
      "execution_count": 29,
      "metadata": {
        "colab": {
          "base_uri": "https://localhost:8080/"
        },
        "id": "qia5FYUaVqpT",
        "outputId": "624e8ea9-1f3c-4c9a-d2f7-19824eaaef66"
      },
      "outputs": [
        {
          "output_type": "execute_result",
          "data": {
            "text/plain": [
              "0.04229931972789116"
            ]
          },
          "metadata": {},
          "execution_count": 29
        }
      ],
      "source": [
        "# Validate percentage\n",
        "np.sum(np.sum(y_pred)) / (len(y_pred) * len(labels))"
      ]
    },
    {
      "cell_type": "markdown",
      "metadata": {
        "id": "PuemfdwLVxA1"
      },
      "source": [
        "### Evaluation"
      ]
    },
    {
      "cell_type": "code",
      "execution_count": 30,
      "metadata": {
        "colab": {
          "base_uri": "https://localhost:8080/"
        },
        "id": "SQVjOpOVVxrl",
        "outputId": "5fe154b6-8c7c-4fbb-f9d9-6dbe476e36c6"
      },
      "outputs": [
        {
          "output_type": "stream",
          "name": "stdout",
          "text": [
            "{\n",
            "  \"precision\": 0.09483233304948627,\n",
            "  \"recall\": 0.0446003709976611,\n",
            "  \"f1\": 0.051527428014969616\n",
            "}\n"
          ]
        }
      ],
      "source": [
        "metrics = precision_recall_fscore_support(y_test, y_pred, average=\"weighted\")\n",
        "performance = {\"precision\": metrics[0], \"recall\": metrics[1], \"f1\": metrics[2]}\n",
        "print(json.dumps(performance, indent=2))"
      ]
    },
    {
      "cell_type": "markdown",
      "metadata": {
        "id": "naBdSf9AWh0y"
      },
      "source": [
        "**limitations:** we didn't use any of the signals from our inputs to affect our predictions, so nothing was learned.\n",
        "\n"
      ]
    },
    {
      "cell_type": "markdown",
      "metadata": {
        "id": "-dbIP1ZYDmV7"
      },
      "source": [
        "## Rule-based\n",
        "\n",
        "motivation: we want to use signals in our inputs (along with domain expertise and auxiliary data) to determine the labels."
      ]
    },
    {
      "cell_type": "markdown",
      "metadata": {
        "id": "XcSaFK92Iugq"
      },
      "source": [
        "### Top-K words\n",
        "\n",
        "Usually in texts, emotions are heavily correlated with the occurrences of a few words that gives drives the main emotion of that text, sometimes that words can be the emotions themselves, let's try to predict the labels looking if a piece of text contains words that are commonly found in other texts with the same emotions.\n",
        "\n",
        "**Domain knowledge**: This dataset has anonymized names, so instead of a person's name we have `[name]` instead, this adds no value to our predictions, so let's also remove this from the top-K words"
      ]
    },
    {
      "cell_type": "code",
      "execution_count": 31,
      "metadata": {
        "colab": {
          "base_uri": "https://localhost:8080/"
        },
        "id": "srK4TfK_OBCZ",
        "outputId": "be696ece-5c98-49cd-919e-4a6e793d193b"
      },
      "outputs": [
        {
          "output_type": "stream",
          "name": "stdout",
          "text": [
            "[nltk_data] Downloading package stopwords to /root/nltk_data...\n",
            "[nltk_data]   Unzipping corpora/stopwords.zip.\n"
          ]
        }
      ],
      "source": [
        "from pprint import pprint\n",
        "import nltk\n",
        "nltk.download('stopwords')\n",
        "from nltk.corpus import stopwords\n",
        "\n",
        "stop = stopwords.words('english')\n",
        "stop.append(\"[name]\")\n",
        "stop.append(\"[name].\")"
      ]
    },
    {
      "cell_type": "code",
      "execution_count": 32,
      "metadata": {
        "id": "bF3csKFqIxmG"
      },
      "outputs": [],
      "source": [
        "def get_top_k_words(dataset, k=15, label=\"love\"):\n",
        "    label_text = dataset[dataset[label] == 1].text\n",
        "    clean_text = label_text.apply(lambda x: ' '.join([word for word in x.split() if word not in (stop)]))\n",
        "    top_k_words = pd.Series(' '.join(clean_text).split()).value_counts().index[:k]\n",
        "    return list(top_k_words)"
      ]
    },
    {
      "cell_type": "code",
      "execution_count": 33,
      "metadata": {
        "colab": {
          "base_uri": "https://localhost:8080/"
        },
        "id": "oJhVVAifO-LN",
        "outputId": "862e990c-e2a5-414a-e0f2-ac56ecb4bf9c"
      },
      "outputs": [
        {
          "output_type": "stream",
          "name": "stdout",
          "text": [
            "['died', 'sorry', 'people', 'one', 'i’m', 'like', 'loss.', 'dead.', 'feel', 'get', 'poor', \"i'm\", 'life', 'death', 'you.']\n"
          ]
        }
      ],
      "source": [
        "# Top-15 words for \"grief\"\n",
        "print(get_top_k_words(train_df, k=15, label=\"grief\"))"
      ]
    },
    {
      "cell_type": "code",
      "execution_count": 34,
      "metadata": {
        "colab": {
          "base_uri": "https://localhost:8080/"
        },
        "id": "lB96wqErdaRT",
        "outputId": "81f237c1-9172-4f4b-8942-0716d5011f71"
      },
      "outputs": [
        {
          "output_type": "stream",
          "name": "stdout",
          "text": [
            "['love', 'like', 'it.', 'would', 'loved', 'really', 'one', 'favorite', \"i'm\", 'people', 'see', 'get', 'much', 'still', 'loves']\n"
          ]
        }
      ],
      "source": [
        "# Top-15 words for \"love\"\n",
        "print(get_top_k_words(train_df, k=15, label=\"love\"))"
      ]
    },
    {
      "cell_type": "code",
      "execution_count": 35,
      "metadata": {
        "id": "oZPJRVXbQi_w"
      },
      "outputs": [],
      "source": [
        "# Create a dict with top-K words for each label\n",
        "def get_top_words_dict(dataset, labels=labels, k=15):\n",
        "    return {label:get_top_k_words(train_df, k=k, label=label) for label in labels}"
      ]
    },
    {
      "cell_type": "code",
      "execution_count": 36,
      "metadata": {
        "colab": {
          "base_uri": "https://localhost:8080/"
        },
        "id": "KamIkhMaPT-v",
        "outputId": "e4072338-aaa9-4a75-b763-096a41348bd5"
      },
      "outputs": [
        {
          "output_type": "stream",
          "name": "stdout",
          "text": [
            "{'admiration': ['good',\n",
            "                'like',\n",
            "                'great',\n",
            "                'love',\n",
            "                'one',\n",
            "                'really',\n",
            "                'pretty',\n",
            "                'best',\n",
            "                \"that's\",\n",
            "                'nice',\n",
            "                'would',\n",
            "                'amazing',\n",
            "                \"i'm\",\n",
            "                'get',\n",
            "                'looks'],\n",
            " 'amusement': ['lol',\n",
            "               'like',\n",
            "               'lol.',\n",
            "               'haha',\n",
            "               'funny',\n",
            "               'lmao',\n",
            "               'fun',\n",
            "               \"i'm\",\n",
            "               'people',\n",
            "               'would',\n",
            "               'one',\n",
            "               'got',\n",
            "               'it’s',\n",
            "               \"that's\",\n",
            "               'think'],\n",
            " 'anger': ['fuck',\n",
            "           'hate',\n",
            "           'like',\n",
            "           'people',\n",
            "           'get',\n",
            "           'fucking',\n",
            "           'one',\n",
            "           'really',\n",
            "           'would',\n",
            "           \"i'm\",\n",
            "           'even',\n",
            "           'stop',\n",
            "           'damn',\n",
            "           'stupid',\n",
            "           'don’t'],\n",
            " 'annoyance': ['like',\n",
            "               'people',\n",
            "               'get',\n",
            "               \"i'm\",\n",
            "               'really',\n",
            "               'even',\n",
            "               'would',\n",
            "               'one',\n",
            "               'know',\n",
            "               'fuck',\n",
            "               'fucking',\n",
            "               'think',\n",
            "               \"that's\",\n",
            "               'want',\n",
            "               'make'],\n",
            " 'approval': ['like',\n",
            "              'good',\n",
            "              'get',\n",
            "              \"i'm\",\n",
            "              'one',\n",
            "              'would',\n",
            "              'think',\n",
            "              'people',\n",
            "              'really',\n",
            "              \"that's\",\n",
            "              'it.',\n",
            "              'love',\n",
            "              'see',\n",
            "              'it’s',\n",
            "              'still'],\n",
            " 'caring': ['good',\n",
            "            'get',\n",
            "            'like',\n",
            "            'hope',\n",
            "            'feel',\n",
            "            \"i'm\",\n",
            "            'take',\n",
            "            'love',\n",
            "            'need',\n",
            "            'you.',\n",
            "            'keep',\n",
            "            'people',\n",
            "            'go',\n",
            "            'make',\n",
            "            'would'],\n",
            " 'confusion': ['know',\n",
            "               'like',\n",
            "               'think',\n",
            "               \"i'm\",\n",
            "               'sure',\n",
            "               'would',\n",
            "               'people',\n",
            "               'get',\n",
            "               'really',\n",
            "               'don’t',\n",
            "               'one',\n",
            "               'still',\n",
            "               'maybe',\n",
            "               'understand',\n",
            "               'i’m'],\n",
            " 'curiosity': ['like',\n",
            "               'would',\n",
            "               \"i'm\",\n",
            "               'know',\n",
            "               'see',\n",
            "               'get',\n",
            "               'one',\n",
            "               'think',\n",
            "               'really',\n",
            "               'people',\n",
            "               'curious',\n",
            "               'love',\n",
            "               'want',\n",
            "               '[name]?',\n",
            "               \"that's\"],\n",
            " 'desire': ['wish',\n",
            "            'want',\n",
            "            'like',\n",
            "            'would',\n",
            "            'hope',\n",
            "            'need',\n",
            "            'get',\n",
            "            'could',\n",
            "            'see',\n",
            "            'good',\n",
            "            'really',\n",
            "            \"i'm\",\n",
            "            'love',\n",
            "            'make',\n",
            "            'wanted'],\n",
            " 'disappointment': ['like',\n",
            "                    \"i'm\",\n",
            "                    'really',\n",
            "                    'get',\n",
            "                    'bad',\n",
            "                    'would',\n",
            "                    'one',\n",
            "                    'people',\n",
            "                    'never',\n",
            "                    'feel',\n",
            "                    'even',\n",
            "                    'still',\n",
            "                    'i’m',\n",
            "                    'it’s',\n",
            "                    'got'],\n",
            " 'disapproval': ['like',\n",
            "                 'think',\n",
            "                 'get',\n",
            "                 'would',\n",
            "                 'people',\n",
            "                 \"i'm\",\n",
            "                 'don’t',\n",
            "                 'really',\n",
            "                 \"can't\",\n",
            "                 'know',\n",
            "                 \"that's\",\n",
            "                 'bad',\n",
            "                 'even',\n",
            "                 'way',\n",
            "                 'never'],\n",
            " 'disgust': ['like',\n",
            "             'people',\n",
            "             'worst',\n",
            "             'one',\n",
            "             'bad',\n",
            "             'hate',\n",
            "             'get',\n",
            "             'weird',\n",
            "             \"that's\",\n",
            "             'even',\n",
            "             \"i'm\",\n",
            "             'would',\n",
            "             'really',\n",
            "             'awful',\n",
            "             'it’s'],\n",
            " 'embarrassment': ['like',\n",
            "                   'bad',\n",
            "                   \"i'm\",\n",
            "                   'shame',\n",
            "                   'know',\n",
            "                   'oh',\n",
            "                   'get',\n",
            "                   'would',\n",
            "                   'one',\n",
            "                   'sorry',\n",
            "                   'it’s',\n",
            "                   'people',\n",
            "                   'feel',\n",
            "                   'weird',\n",
            "                   'i’m'],\n",
            " 'excitement': ['like',\n",
            "                'happy',\n",
            "                \"i'm\",\n",
            "                'love',\n",
            "                'excited',\n",
            "                'see',\n",
            "                'would',\n",
            "                'really',\n",
            "                'i’m',\n",
            "                'get',\n",
            "                'oh',\n",
            "                'one',\n",
            "                'new',\n",
            "                'good',\n",
            "                \"that's\"],\n",
            " 'fear': [\"i'm\",\n",
            "          'afraid',\n",
            "          'like',\n",
            "          'scared',\n",
            "          'terrible',\n",
            "          'would',\n",
            "          'get',\n",
            "          'i’m',\n",
            "          'really',\n",
            "          'even',\n",
            "          'scary',\n",
            "          'makes',\n",
            "          'still',\n",
            "          'horrible',\n",
            "          'people'],\n",
            " 'gratitude': ['thank',\n",
            "               'thanks',\n",
            "               'good',\n",
            "               'you.',\n",
            "               \"i'm\",\n",
            "               'thanks!',\n",
            "               'you!',\n",
            "               ':)',\n",
            "               'like',\n",
            "               'glad',\n",
            "               'i’m',\n",
            "               'appreciate',\n",
            "               'really',\n",
            "               'much',\n",
            "               'thanks,'],\n",
            " 'grief': ['died',\n",
            "           'sorry',\n",
            "           'people',\n",
            "           'one',\n",
            "           'i’m',\n",
            "           'like',\n",
            "           'loss.',\n",
            "           'dead.',\n",
            "           'feel',\n",
            "           'get',\n",
            "           'poor',\n",
            "           \"i'm\",\n",
            "           'life',\n",
            "           'death',\n",
            "           'you.'],\n",
            " 'joy': ['happy',\n",
            "         'glad',\n",
            "         \"i'm\",\n",
            "         'like',\n",
            "         'love',\n",
            "         'good',\n",
            "         'i’m',\n",
            "         'enjoy',\n",
            "         'really',\n",
            "         'see',\n",
            "         'one',\n",
            "         'would',\n",
            "         'fun',\n",
            "         'got',\n",
            "         'it.'],\n",
            " 'love': ['love',\n",
            "          'like',\n",
            "          'it.',\n",
            "          'would',\n",
            "          'loved',\n",
            "          'really',\n",
            "          'one',\n",
            "          'favorite',\n",
            "          \"i'm\",\n",
            "          'people',\n",
            "          'see',\n",
            "          'get',\n",
            "          'much',\n",
            "          'still',\n",
            "          'loves'],\n",
            " 'nervousness': [\"i'm\",\n",
            "                 'i’m',\n",
            "                 'really',\n",
            "                 'would',\n",
            "                 'worried',\n",
            "                 'get',\n",
            "                 'like',\n",
            "                 'people',\n",
            "                 'feel',\n",
            "                 'getting',\n",
            "                 'think',\n",
            "                 'never',\n",
            "                 'still',\n",
            "                 'always',\n",
            "                 'see'],\n",
            " 'neutral': ['like',\n",
            "             'get',\n",
            "             'would',\n",
            "             'one',\n",
            "             'people',\n",
            "             'think',\n",
            "             'know',\n",
            "             \"i'm\",\n",
            "             'go',\n",
            "             'see',\n",
            "             'even',\n",
            "             'really',\n",
            "             \"that's\",\n",
            "             'still',\n",
            "             'time'],\n",
            " 'optimism': ['hope',\n",
            "              'good',\n",
            "              'would',\n",
            "              'like',\n",
            "              'get',\n",
            "              \"i'm\",\n",
            "              'think',\n",
            "              'really',\n",
            "              'one',\n",
            "              'make',\n",
            "              'better',\n",
            "              'wish',\n",
            "              'know',\n",
            "              'see',\n",
            "              'luck'],\n",
            " 'pride': ['proud',\n",
            "           \"i'm\",\n",
            "           'like',\n",
            "           'good',\n",
            "           'glad',\n",
            "           'i’m',\n",
            "           'get',\n",
            "           ':)',\n",
            "           'people',\n",
            "           'would',\n",
            "           'great',\n",
            "           'one',\n",
            "           'hope',\n",
            "           'big',\n",
            "           'it.'],\n",
            " 'realization': ['like',\n",
            "                 'think',\n",
            "                 'know',\n",
            "                 'people',\n",
            "                 'would',\n",
            "                 'thought',\n",
            "                 'one',\n",
            "                 'get',\n",
            "                 \"i'm\",\n",
            "                 'never',\n",
            "                 'oh',\n",
            "                 \"that's\",\n",
            "                 'time',\n",
            "                 'got',\n",
            "                 'still'],\n",
            " 'relief': ['glad',\n",
            "            \"i'm\",\n",
            "            'good',\n",
            "            'feel',\n",
            "            'thank',\n",
            "            'like',\n",
            "            'one',\n",
            "            'least',\n",
            "            'get',\n",
            "            'really',\n",
            "            'someone',\n",
            "            'i’m',\n",
            "            \"that's\",\n",
            "            'oh',\n",
            "            'better'],\n",
            " 'remorse': ['sorry',\n",
            "             \"i'm\",\n",
            "             'i’m',\n",
            "             'sorry,',\n",
            "             'sorry.',\n",
            "             'like',\n",
            "             'oh',\n",
            "             'you.',\n",
            "             'would',\n",
            "             'feel',\n",
            "             'get',\n",
            "             'know',\n",
            "             'regret',\n",
            "             'bad',\n",
            "             'one'],\n",
            " 'sadness': ['sorry',\n",
            "             \"i'm\",\n",
            "             'sad',\n",
            "             'like',\n",
            "             'i’m',\n",
            "             'feel',\n",
            "             'get',\n",
            "             'really',\n",
            "             'bad',\n",
            "             'people',\n",
            "             'one',\n",
            "             'still',\n",
            "             'think',\n",
            "             'it’s',\n",
            "             'even'],\n",
            " 'surprise': ['oh',\n",
            "              'surprised',\n",
            "              'like',\n",
            "              \"i'm\",\n",
            "              'wonder',\n",
            "              'wow',\n",
            "              'even',\n",
            "              'would',\n",
            "              'never',\n",
            "              \"that's\",\n",
            "              'wow,',\n",
            "              'one',\n",
            "              'know',\n",
            "              'i’m',\n",
            "              'get']}\n"
          ]
        }
      ],
      "source": [
        "top_words_dict = get_top_words_dict(train_df)\n",
        "pprint(top_words_dict)"
      ]
    },
    {
      "cell_type": "markdown",
      "metadata": {
        "id": "QpKboyuHRR9n"
      },
      "source": [
        "Some words are too common and appear in many different labels, let's remove those words that appear in at least 20% of the total labels."
      ]
    },
    {
      "cell_type": "code",
      "execution_count": 37,
      "metadata": {
        "colab": {
          "base_uri": "https://localhost:8080/"
        },
        "id": "v9Gqc9C7Rgm6",
        "outputId": "a648b6a9-7593-4a24-9106-340d986ec9dd"
      },
      "outputs": [
        {
          "output_type": "stream",
          "name": "stdout",
          "text": [
            "Counter({'like': 28, \"i'm\": 28, 'get': 25, 'would': 24, 'one': 22, 'really': 20, 'people': 19, 'i’m': 14, \"that's\": 12, 'think': 11, 'good': 10, 'know': 10, 'even': 9, 'see': 9, 'still': 9, 'love': 8, 'feel': 8, 'it’s': 6, 'bad': 6, 'oh': 6, 'never': 5, 'got': 4, 'make': 4, 'it.': 4, 'hope': 4, 'you.': 4, 'sorry': 4, 'glad': 4, 'don’t': 3, 'want': 3, 'great': 2, 'fun': 2, 'fuck': 2, 'hate': 2, 'fucking': 2, 'need': 2, 'go': 2, 'wish': 2, 'weird': 2, 'happy': 2, 'thank': 2, ':)': 2, 'much': 2, 'better': 2, 'time': 2, 'pretty': 1, 'best': 1, 'nice': 1, 'amazing': 1, 'looks': 1, 'lol': 1, 'lol.': 1, 'haha': 1, 'funny': 1, 'lmao': 1, 'stop': 1, 'damn': 1, 'stupid': 1, 'take': 1, 'keep': 1, 'sure': 1, 'maybe': 1, 'understand': 1, 'curious': 1, '[name]?': 1, 'could': 1, 'wanted': 1, \"can't\": 1, 'way': 1, 'worst': 1, 'awful': 1, 'shame': 1, 'excited': 1, 'new': 1, 'afraid': 1, 'scared': 1, 'terrible': 1, 'scary': 1, 'makes': 1, 'horrible': 1, 'thanks': 1, 'thanks!': 1, 'you!': 1, 'appreciate': 1, 'thanks,': 1, 'died': 1, 'loss.': 1, 'dead.': 1, 'poor': 1, 'life': 1, 'death': 1, 'enjoy': 1, 'loved': 1, 'favorite': 1, 'loves': 1, 'worried': 1, 'getting': 1, 'always': 1, 'luck': 1, 'proud': 1, 'big': 1, 'thought': 1, 'least': 1, 'someone': 1, 'sorry,': 1, 'sorry.': 1, 'regret': 1, 'sad': 1, 'surprised': 1, 'wonder': 1, 'wow': 1, 'wow,': 1})\n"
          ]
        }
      ],
      "source": [
        "from collections import Counter\n",
        "\n",
        "label_words = []\n",
        "for words in top_words_dict.values():\n",
        "    label_words.extend(words)\n",
        "\n",
        "label_counts = Counter(label_words)\n",
        "print(label_counts)"
      ]
    },
    {
      "cell_type": "code",
      "execution_count": 38,
      "metadata": {
        "colab": {
          "base_uri": "https://localhost:8080/"
        },
        "id": "c5s9bV61SjBI",
        "outputId": "0879c85a-0cd2-4ce5-e8a3-ca9941e5ed58"
      },
      "outputs": [
        {
          "output_type": "stream",
          "name": "stdout",
          "text": [
            "['like', 'one', 'really', \"that's\", 'would', \"i'm\", 'get', 'people', 'i’m']\n"
          ]
        }
      ],
      "source": [
        "words_to_remove = []\n",
        "for word, cnt in label_counts.items():\n",
        "    if cnt >= (len(labels) * 0.4):\n",
        "      words_to_remove.append(word)\n",
        "print(words_to_remove)"
      ]
    },
    {
      "cell_type": "code",
      "execution_count": 39,
      "metadata": {
        "colab": {
          "base_uri": "https://localhost:8080/"
        },
        "id": "KDvoJoRQSJ2l",
        "outputId": "1dc77c72-628e-4efb-e596-9f307dadb07f"
      },
      "outputs": [
        {
          "output_type": "stream",
          "name": "stdout",
          "text": [
            "{'admiration': ['good',\n",
            "                'great',\n",
            "                'love',\n",
            "                'pretty',\n",
            "                'best',\n",
            "                'nice',\n",
            "                'amazing',\n",
            "                'looks'],\n",
            " 'amusement': ['lol',\n",
            "               'lol.',\n",
            "               'haha',\n",
            "               'funny',\n",
            "               'lmao',\n",
            "               'fun',\n",
            "               'got',\n",
            "               'it’s',\n",
            "               'think'],\n",
            " 'anger': ['fuck',\n",
            "           'hate',\n",
            "           'fucking',\n",
            "           'even',\n",
            "           'stop',\n",
            "           'damn',\n",
            "           'stupid',\n",
            "           'don’t'],\n",
            " 'annoyance': ['even', 'know', 'fuck', 'fucking', 'think', 'want', 'make'],\n",
            " 'approval': ['good', 'think', 'it.', 'love', 'see', 'it’s', 'still'],\n",
            " 'caring': ['good',\n",
            "            'hope',\n",
            "            'feel',\n",
            "            'take',\n",
            "            'love',\n",
            "            'need',\n",
            "            'you.',\n",
            "            'keep',\n",
            "            'go',\n",
            "            'make'],\n",
            " 'confusion': ['know',\n",
            "               'think',\n",
            "               'sure',\n",
            "               'don’t',\n",
            "               'still',\n",
            "               'maybe',\n",
            "               'understand'],\n",
            " 'curiosity': ['know', 'see', 'think', 'curious', 'love', 'want', '[name]?'],\n",
            " 'desire': ['wish',\n",
            "            'want',\n",
            "            'hope',\n",
            "            'need',\n",
            "            'could',\n",
            "            'see',\n",
            "            'good',\n",
            "            'love',\n",
            "            'make',\n",
            "            'wanted'],\n",
            " 'disappointment': ['bad', 'never', 'feel', 'even', 'still', 'it’s', 'got'],\n",
            " 'disapproval': ['think',\n",
            "                 'don’t',\n",
            "                 \"can't\",\n",
            "                 'know',\n",
            "                 'bad',\n",
            "                 'even',\n",
            "                 'way',\n",
            "                 'never'],\n",
            " 'disgust': ['worst', 'bad', 'hate', 'weird', 'even', 'awful', 'it’s'],\n",
            " 'embarrassment': ['bad',\n",
            "                   'shame',\n",
            "                   'know',\n",
            "                   'oh',\n",
            "                   'sorry',\n",
            "                   'it’s',\n",
            "                   'feel',\n",
            "                   'weird'],\n",
            " 'excitement': ['happy', 'love', 'excited', 'see', 'oh', 'new', 'good'],\n",
            " 'fear': ['afraid',\n",
            "          'scared',\n",
            "          'terrible',\n",
            "          'even',\n",
            "          'scary',\n",
            "          'makes',\n",
            "          'still',\n",
            "          'horrible'],\n",
            " 'gratitude': ['thank',\n",
            "               'thanks',\n",
            "               'good',\n",
            "               'you.',\n",
            "               'thanks!',\n",
            "               'you!',\n",
            "               ':)',\n",
            "               'glad',\n",
            "               'appreciate',\n",
            "               'much',\n",
            "               'thanks,'],\n",
            " 'grief': ['died',\n",
            "           'sorry',\n",
            "           'loss.',\n",
            "           'dead.',\n",
            "           'feel',\n",
            "           'poor',\n",
            "           'life',\n",
            "           'death',\n",
            "           'you.'],\n",
            " 'joy': ['happy', 'glad', 'love', 'good', 'enjoy', 'see', 'fun', 'got', 'it.'],\n",
            " 'love': ['love', 'it.', 'loved', 'favorite', 'see', 'much', 'still', 'loves'],\n",
            " 'nervousness': ['worried',\n",
            "                 'feel',\n",
            "                 'getting',\n",
            "                 'think',\n",
            "                 'never',\n",
            "                 'still',\n",
            "                 'always',\n",
            "                 'see'],\n",
            " 'neutral': ['think', 'know', 'go', 'see', 'even', 'still', 'time'],\n",
            " 'optimism': ['hope',\n",
            "              'good',\n",
            "              'think',\n",
            "              'make',\n",
            "              'better',\n",
            "              'wish',\n",
            "              'know',\n",
            "              'see',\n",
            "              'luck'],\n",
            " 'pride': ['proud', 'good', 'glad', ':)', 'great', 'hope', 'big', 'it.'],\n",
            " 'realization': ['think',\n",
            "                 'know',\n",
            "                 'thought',\n",
            "                 'never',\n",
            "                 'oh',\n",
            "                 'time',\n",
            "                 'got',\n",
            "                 'still'],\n",
            " 'relief': ['glad',\n",
            "            'good',\n",
            "            'feel',\n",
            "            'thank',\n",
            "            'least',\n",
            "            'someone',\n",
            "            'oh',\n",
            "            'better'],\n",
            " 'remorse': ['sorry',\n",
            "             'sorry,',\n",
            "             'sorry.',\n",
            "             'oh',\n",
            "             'you.',\n",
            "             'feel',\n",
            "             'know',\n",
            "             'regret',\n",
            "             'bad'],\n",
            " 'sadness': ['sorry', 'sad', 'feel', 'bad', 'still', 'think', 'it’s', 'even'],\n",
            " 'surprise': ['oh',\n",
            "              'surprised',\n",
            "              'wonder',\n",
            "              'wow',\n",
            "              'even',\n",
            "              'never',\n",
            "              'wow,',\n",
            "              'know']}\n"
          ]
        }
      ],
      "source": [
        "for key, value in top_words_dict.items():\n",
        "    top_words_dict[key] = [word for word in value if word not in words_to_remove]\n",
        "pprint(top_words_dict)"
      ]
    },
    {
      "cell_type": "code",
      "execution_count": 40,
      "metadata": {
        "id": "IiOPy_CRU4B2"
      },
      "outputs": [],
      "source": [
        "# Prediction\n",
        "def predict_top_k(input, labels=labels, labels_dict=top_words_dict):\n",
        "    y_pred = []\n",
        "    for text in input:\n",
        "        preds = []\n",
        "        for label in labels:\n",
        "            if any(word in text.split() for word in labels_dict[label]):\n",
        "                preds.append(1)\n",
        "            else:\n",
        "                preds.append(0)\n",
        "        y_pred.append(preds)\n",
        "    return y_pred\n",
        "\n",
        "y_pred = predict_top_k(X_test)"
      ]
    },
    {
      "cell_type": "markdown",
      "metadata": {
        "id": "r7IFF7ChUbwz"
      },
      "source": [
        "### Evaluation"
      ]
    },
    {
      "cell_type": "code",
      "execution_count": 41,
      "metadata": {
        "colab": {
          "base_uri": "https://localhost:8080/"
        },
        "id": "MgYsW0x9TaQV",
        "outputId": "3d9f1877-ea84-409b-aaa8-d5e47865fbc9"
      },
      "outputs": [
        {
          "output_type": "stream",
          "name": "stdout",
          "text": [
            "{\n",
            "  \"precision\": 0.16045650206347792,\n",
            "  \"recall\": 0.30825066537624,\n",
            "  \"f1\": 0.18502045988040355\n",
            "}\n"
          ]
        }
      ],
      "source": [
        "metrics = precision_recall_fscore_support(y_test, y_pred, average=\"weighted\")\n",
        "performance = {\"precision\": metrics[0], \"recall\": metrics[1], \"f1\": metrics[2]}\n",
        "print(json.dumps(performance, indent=2))"
      ]
    },
    {
      "cell_type": "markdown",
      "metadata": {
        "id": "7u7J_A-eyFl5"
      },
      "source": [
        "### Inference"
      ]
    },
    {
      "cell_type": "code",
      "execution_count": 42,
      "metadata": {
        "colab": {
          "base_uri": "https://localhost:8080/"
        },
        "id": "tqPypUxyyHRC",
        "outputId": "5e286ad6-170f-4db4-e2fc-bb878d5219cc"
      },
      "outputs": [
        {
          "output_type": "stream",
          "name": "stdout",
          "text": [
            "{'admiration': 1,\n",
            " 'amusement': 0,\n",
            " 'anger': 0,\n",
            " 'annoyance': 0,\n",
            " 'approval': 0,\n",
            " 'caring': 0,\n",
            " 'confusion': 0,\n",
            " 'curiosity': 0,\n",
            " 'desire': 0,\n",
            " 'disappointment': 0,\n",
            " 'disapproval': 0,\n",
            " 'disgust': 0,\n",
            " 'embarrassment': 0,\n",
            " 'excitement': 0,\n",
            " 'fear': 0,\n",
            " 'gratitude': 1,\n",
            " 'grief': 0,\n",
            " 'joy': 0,\n",
            " 'love': 1,\n",
            " 'nervousness': 0,\n",
            " 'neutral': 0,\n",
            " 'optimism': 0,\n",
            " 'pride': 0,\n",
            " 'realization': 0,\n",
            " 'relief': 0,\n",
            " 'remorse': 0,\n",
            " 'sadness': 0,\n",
            " 'surprise': 0}\n"
          ]
        }
      ],
      "source": [
        "def inference_top_k(input, labels=labels, labels_dict=top_words_dict):\n",
        "    preds = {}\n",
        "    for label in labels:\n",
        "        if any(word in input.split() for word in labels_dict[label]):\n",
        "            preds[label] = 1\n",
        "        else:\n",
        "            preds[label] = 0\n",
        "    return preds\n",
        "\n",
        "text = \"I am loving this amazing MLOps tutorial, so much cool content\"\n",
        "pprint(inference_top_k(text))"
      ]
    },
    {
      "cell_type": "markdown",
      "metadata": {
        "id": "4kVfig5K33S6"
      },
      "source": [
        "**limitations:** we failed to generalize or learn any implicit patterns to predict the labels because we are trying to predict by using the words themselves, and we do not capture text context or intention, where most of the emotion would be captured.\n",
        "\n",
        "> We could further improve this approach by using more preprocessing like removing punctuation or using top-k words that are more unique for each label, applying maybe normalization similar to TF-IDF."
      ]
    },
    {
      "cell_type": "markdown",
      "metadata": {
        "id": "ZLeQhmTVFqpK"
      },
      "source": [
        "## Simple ML\n",
        "\n",
        "**motivation:**\n",
        "- **representation:** use term frequency-inverse document frequency (TF-IDF) to capture the significance of a token to a particular input with respect to all the inputs, as opposed to treating the words in our input text as isolated tokens.\n",
        "- **architecture:** we want our model to meaningfully extract the encoded signal to predict the output labels.\n",
        "\n",
        "So far, we've treated the words in our input text as isolated tokens, and we haven't really captured any meaning between tokens. Let's use term frequency–inverse document frequency (TF-IDF) to capture the significance of a token to a particular input with respect to all the inputs."
      ]
    },
    {
      "cell_type": "code",
      "execution_count": 43,
      "metadata": {
        "id": "2zf9SKrfHlYd"
      },
      "outputs": [],
      "source": [
        "from sklearn.linear_model import LogisticRegression\n",
        "from sklearn.multiclass import OneVsRestClassifier\n",
        "from sklearn.svm import LinearSVC"
      ]
    },
    {
      "cell_type": "code",
      "execution_count": 44,
      "metadata": {
        "id": "1MkugsZPNlnd"
      },
      "outputs": [],
      "source": [
        "from sklearn import metrics\n",
        "from sklearn.feature_extraction.text import TfidfVectorizer\n",
        "from sklearn.metrics import accuracy_score, precision_score, recall_score\n",
        "from sklearn.metrics import precision_recall_curve\n",
        "from sklearn.preprocessing import MultiLabelBinarizer"
      ]
    },
    {
      "cell_type": "code",
      "execution_count": 45,
      "metadata": {
        "colab": {
          "base_uri": "https://localhost:8080/"
        },
        "id": "SF2b0ldrPBCA",
        "outputId": "c179c37b-a08a-4656-8d35-7ebe1b9cdc6d"
      },
      "outputs": [
        {
          "output_type": "stream",
          "name": "stdout",
          "text": [
            "how do you deal with alerts coming up on your phone? i guess you can just turn them off?\n",
            "(49000, 23869)\n",
            "  (0, 14572)\t0.2306277829655209\n",
            "  (0, 21126)\t0.198252003677551\n",
            "  (0, 21904)\t0.3077197195662827\n",
            "  (0, 11634)\t0.1522412920109867\n",
            "  (0, 3481)\t0.16580296286339563\n",
            "  (0, 9565)\t0.2590632099051687\n",
            "  (0, 15620)\t0.305716381179493\n",
            "  (0, 23764)\t0.16725556447319567\n",
            "  (0, 14681)\t0.15301341004241464\n",
            "  (0, 22405)\t0.18860382687821856\n",
            "  (0, 4490)\t0.2840325189876796\n",
            "  (0, 1073)\t0.46082726161615817\n",
            "  (0, 23401)\t0.15657814581045604\n",
            "  (0, 5660)\t0.2874794788967969\n",
            "  (0, 23754)\t0.22034462690577664\n",
            "  (0, 6521)\t0.17920647108543936\n",
            "  (0, 10416)\t0.18370685533024808\n"
          ]
        }
      ],
      "source": [
        "# Tf-idf\n",
        "vectorizer = TfidfVectorizer()\n",
        "print(X_train.iloc[0])\n",
        "X_train_tfidf = vectorizer.fit_transform(X_train)\n",
        "X_valid_tfidf = vectorizer.transform(X_valid)\n",
        "X_test_tfidf = vectorizer.transform(X_test)\n",
        "print(X_train_tfidf.shape)\n",
        "print(X_train_tfidf[0]) # scipy.sparse.csr_matrix"
      ]
    },
    {
      "cell_type": "code",
      "execution_count": 46,
      "metadata": {
        "id": "-iv3rQskZCbY"
      },
      "outputs": [],
      "source": [
        "def fit_and_evaluate(model):\n",
        "    \"\"\"Fit and evaluate each model.\"\"\"\n",
        "    model.fit(X_train_tfidf, y_train)\n",
        "    y_pred = model.predict(X_test_tfidf)\n",
        "    metrics = precision_recall_fscore_support(y_test, y_pred, average=\"weighted\")\n",
        "    return {\"precision\": metrics[0], \"recall\": metrics[1], \"f1\": metrics[2]}"
      ]
    },
    {
      "cell_type": "code",
      "execution_count": 47,
      "metadata": {
        "colab": {
          "base_uri": "https://localhost:8080/"
        },
        "id": "10dCLV-IgjXX",
        "outputId": "e82d20ba-c9d7-4d2a-9aa7-818b05f8e01a"
      },
      "outputs": [
        {
          "output_type": "stream",
          "name": "stdout",
          "text": [
            "{\n",
            "  \"logistic-regression\": {\n",
            "    \"precision\": 0.5315480794859421,\n",
            "    \"recall\": 0.10758932171949351,\n",
            "    \"f1\": 0.1586373601997166\n",
            "  },\n",
            "  \"support-vector-machine\": {\n",
            "    \"precision\": 0.44412195169778695,\n",
            "    \"recall\": 0.18840229050729898,\n",
            "    \"f1\": 0.2510807956403342\n",
            "  }\n",
            "}\n"
          ]
        }
      ],
      "source": [
        "  # Models\n",
        "performance = {}\n",
        "performance[\"logistic-regression\"] = fit_and_evaluate(OneVsRestClassifier(\n",
        "    LogisticRegression(), n_jobs=1))\n",
        "\n",
        "performance[\"support-vector-machine\"] = fit_and_evaluate(OneVsRestClassifier(\n",
        "    LinearSVC(), n_jobs=-1))\n",
        "\n",
        "print(json.dumps(performance, indent=2))"
      ]
    },
    {
      "cell_type": "markdown",
      "metadata": {
        "id": "BvkembvEjm3s"
      },
      "source": [
        "**limitations:**\n",
        "\n",
        "- **representation:** TF-IDF representations don't encapsulate much signal beyond frequency, but we require more fine-grained token representations.\n",
        "- **architecture:** we want to develop models that can use better represented encodings in a more contextual manner"
      ]
    },
    {
      "cell_type": "markdown",
      "metadata": {
        "id": "_0q-fLS1HhKN"
      },
      "source": [
        "## CNN w/ Embeddings\n",
        "\n",
        "**motivation:**\n",
        "\n",
        "- **representation**: we want to have more robust (split tokens to characters) and meaningful embedding-based representations for our input tokens.\n",
        "- **architecture**: we want to process our encoded inputs using convolution (CNN) filters that can learn to analyze windows of embedded tokens to extract meaningful signal."
      ]
    },
    {
      "cell_type": "markdown",
      "metadata": {
        "id": "n7ldZZQ_KoJ_"
      },
      "source": [
        "### Set up"
      ]
    },
    {
      "cell_type": "code",
      "execution_count": 48,
      "metadata": {
        "id": "KMkuuZEMHiCE"
      },
      "outputs": [],
      "source": [
        "import tensorflow.keras.layers as L\n",
        "\n",
        "# Looking at the \"EDA\" part, 128 length should cover most samples.\n",
        "max_seq_len = 128"
      ]
    },
    {
      "cell_type": "markdown",
      "metadata": {
        "id": "1yDkLn8oMG_f"
      },
      "source": [
        "### Tokenizer\n",
        "\n",
        "We're going to tokenize our input text as character tokens, so we can be robust to spelling errors and learn to generalize across words."
      ]
    },
    {
      "cell_type": "code",
      "execution_count": 49,
      "metadata": {
        "id": "boIR-ZtMMJ8p"
      },
      "outputs": [],
      "source": [
        "# Define split strategy\n",
        "@tf.keras.utils.register_keras_serializable()\n",
        "def cnn_split(text):\n",
        "  return tf.strings.unicode_split(text, 'UTF-8')\n",
        "\n",
        "# Define standardization strategy\n",
        "@tf.keras.utils.register_keras_serializable()\n",
        "def cnn_standardization(text):\n",
        "    lowercased = tf.strings.lower(text)\n",
        "    return lowercased\n",
        "\n",
        "# Create a TextVectorization layer\n",
        "text_vectorizer = L.TextVectorization(\n",
        "    standardize=cnn_standardization, \n",
        "    split=cnn_split, \n",
        "    output_mode=\"int\",\n",
        "    output_sequence_length=max_seq_len\n",
        ")"
      ]
    },
    {
      "cell_type": "code",
      "execution_count": 50,
      "metadata": {
        "colab": {
          "base_uri": "https://localhost:8080/"
        },
        "id": "jfgMbWlOVniD",
        "outputId": "839fac74-a652-4071-c5f5-e2c77c2d261a"
      },
      "outputs": [
        {
          "output_type": "stream",
          "name": "stdout",
          "text": [
            "Vocabulary size: 434\n",
            "['', '[UNK]', ' ', 'e', 't', 'o', 'a', 'i', 'n', 's', 'h', 'r', 'l', 'd', 'u', 'm', 'y', 'g', 'c', 'w', '.', 'p', 'f', 'b', 'k', 'v', \"'\", ',', '!', '[', ']', '’', 'j', '?', 'x', '\"', '0', 'z', '-', '*', '1', ':', '2', 'q', '/', ')', '3', '(', '5', '>', '4', '9', '“', '”', '6', '8', '7', '^', '😂', '~', ';', '%', '$', '⠀', '#', '+', '️', '|', '_', '<', '=', '&', '❤', '‘', '🤣', '😤', '🦀', '👏', '\\u200d', '⣿', '😭', '@', '🤔', '🏼', '🏻', '🤷', '♀', '😅', '🙏', '💜', '⠛', '—', '😉', '👌', '😍', '😊', '👍', 'é', '😡', '😎', '😢', '¯', '£', '🙄', '😏', '♥', '♂', '⣤', '⣀', '☹', '😁', '💦', '🌈', '™', '😩', '🔥', '⠶', '☺', '😄', '€', '💖', '🏳', '🤦', '🤢', '😘', 'ツ', '⢀', '͡', '°', '😔', '💕', '👀', '⠉', 'ɪ', '🤗', '🙌', '😐', '😆', '💪', '⣶', 'ᴛ', 'ᴏ', '🤮', '😬', '⠋', '⠃', '⠁', '͜', 'ʖ', 'á', '`', '🤙', '😳', '😥', '😕', '😇', '😀', '🔪', '💯', '🎶', '🎉', '🅱', '⣄', '⡟', '✔', '☁', '…', 'ᴀ', '´', '\\\\', '🤪', '🤞', '😱', '😒', '💨', '💅', '🏽', '⢠', '⡀', '❣', '🤬', '🤩', '🤚', '🙈', '😮', '😣', '😜', '😖', '🖐', '💙', '💓', '👋', '👊', '👇', '🏊', '🎵', '🍌', '⣾', '⣼', '⣷', '✌', '♪', '▀', '≠', 'ᴡ', 'ᴇ', 'δ', 'ɴ', '🦵', '🤘', '🙊', '😰', '😧', '😟', '😞', '😗', '😋', '💛', '💚', '💗', '💁', '👸', '🍁', '清', '查', '⣇', '⢿', '⢹', '⢰', '⢤', '⡿', '⡄', '⠿', '⠦', '⠙', '⠘', '⠇', '✨', '✋', '♿', '•', 'œ', 'ī', 'ó', 'ñ', '}', '{', '🧛', '🦈', '🥕', '🤯', '🤟', '🤛', '🤓', '🙎', '🙃', '🙂', '😾', '😶', '😴', '😫', '😪', '😝', '😛', '😓', '😑', '🖖', '💰', '💭', '💎', '👐', '👉', '👅', '🐃', '🏾', '🎈', '🎂', '🍺', '🌿', 'ﾉ', '情', '⣠', '⢻', '⡾', '⡼', '⡶', '⠻', '⠸', '⠴', '⠳', '⠢', '⠟', '⠊', '⠈', '❄', '⛏', '♡', '☠', '☝', '„', '–', 'ᴜ', 'ᴍ', 'ᴅ', 'ω', '͞', 'ʜ', 'ɢ', '»', '«', '©', '¦', '🧡', '🧀', '🦗', '🥺', '🥰', '🥘', '🤰', '🤭', '🤫', '🤤', '🤠', '🤕', '🤑', '🛡', '🛑', '🚒', '🙅', '😿', '😹', '😷', '😨', '😦', '😠', '😃', '🗿', '🗑', '🖥', '🖤', '🕺', '🔑', '📚', '💡', '💍', '💃', '👻', '👶', '👴', '👑', '🐕', '🎾', '🎖', '🎏', '🍿', '🍾', '🍻', '🍩', '🍕', '🍑', '🍀', '🌹', '🌱', '🌊', '🇷', '🇫', '🅰', '･', '？', '！', '허', '카', '인', '억', '발', '면', '니', '개', '雅', '玛', '油', '在', '国', '加', '做', '你', '什', '么', '中', '⣻', '⣹', '⣴', '⣧', '⣦', '⣘', '⣕', '⣆', '⢸', '⢧', '⢣', '⡷', '⡜', '⡏', '⡇', '⡆', '⠾', '⠹', '⠫', '⠞', '⠚', '⠓', '⠏', '⠄', '✊', '⛑', '⚔', '♾', '☕', '☆', 'ˈ', 'ʍ', 'ʌ', 'ɹ', 'ə', 'ɐ', 'ǝ', 'ı', 'ā', 'ú', 'í', 'è', 'ç', '²', '¬']\n"
          ]
        }
      ],
      "source": [
        "# Tokenize\n",
        "text_vectorizer.adapt(X_train.values)\n",
        "\n",
        "vocab = text_vectorizer.get_vocabulary()\n",
        "print(f\"Vocabulary size: {len(vocab)}\")\n",
        "print(vocab)"
      ]
    },
    {
      "cell_type": "code",
      "execution_count": 51,
      "metadata": {
        "colab": {
          "base_uri": "https://localhost:8080/"
        },
        "id": "vhVpaineVJyu",
        "outputId": "99d3a36b-0b77-482d-df96-4253b438d5a6"
      },
      "outputs": [
        {
          "output_type": "stream",
          "name": "stdout",
          "text": [
            "Text to indices:\n",
            "(preprocessed) → how do you deal with alerts coming up on your phone? i guess you can just turn them off?\n",
            "(tokenized) → [10  5 19  2 13  5  2 16  5 14  2 13  3  6 12  2 19  7  4 10  2  6 12  3\n",
            " 11  4  9  2 18  5 15  7  8 17  2 14 21  2  5  8  2 16  5 14 11  2 21 10\n",
            "  5  8  3 33  2  7  2 17 14  3  9  9  2 16  5 14  2 18  6  8  2 32 14  9\n",
            "  4  2  4 14 11  8  2  4 10  3 15  2  5 22 22 33  0  0  0  0  0  0  0  0\n",
            "  0  0  0  0  0  0  0  0  0  0  0  0  0  0  0  0  0  0  0  0  0  0  0  0\n",
            "  0  0  0  0  0  0  0  0]\n"
          ]
        }
      ],
      "source": [
        "print (\"Text to indices:\\n\"\n",
        "    f\"(preprocessed) → {X_train.iloc[0]}\\n\"\n",
        "    f\"(tokenized) → {text_vectorizer(X_train.iloc[0]).numpy()}\")"
      ]
    },
    {
      "cell_type": "markdown",
      "metadata": {
        "id": "9e4VyqnPWc8d"
      },
      "source": [
        "### Data imbalance\n",
        "\n",
        "We'll factor class weights in our objective function ([binary cross entropy with logits](https://pytorch.org/docs/stable/generated/torch.nn.BCEWithLogitsLoss.html)) to help with [class imbalance](https://madewithml.com/courses/mlops/labeling/#data-imbalance). There are many other techniques such as over sampling from underrepresented classes, undersampling, etc. but we'll cover these in a separate unit lesson on data imbalance"
      ]
    },
    {
      "cell_type": "code",
      "execution_count": 52,
      "metadata": {
        "colab": {
          "base_uri": "https://localhost:8080/"
        },
        "id": "ps_EgRk6WeCQ",
        "outputId": "a4803ac2-a80b-4f3a-87fa-beed0996a092"
      },
      "outputs": [
        {
          "output_type": "stream",
          "name": "stdout",
          "text": [
            "class counts: [3934, 2148, 1825, 3095, 4096, 1409, 1740, 2269, 866, 1986, 2626, 1211, 592, 1368, 744, 2691, 153, 1822, 1911, 409, 2048, 321, 2061, 331, 594, 1565, 1245, 12799],\n",
            "class weights: {0: 0.0002541942043721403, 1: 0.0004655493482309125, 2: 0.000547945205479452, 3: 0.00032310177705977385, 4: 0.000244140625, 5: 0.0007097232079489, 6: 0.0005747126436781609, 7: 0.00044072278536800354, 8: 0.0011547344110854503, 9: 0.0005035246727089627, 10: 0.0003808073115003808, 11: 0.0008257638315441783, 12: 0.0016891891891891893, 13: 0.0007309941520467836, 14: 0.0013440860215053765, 15: 0.0003716090672612412, 16: 0.006535947712418301, 17: 0.0005488474204171241, 18: 0.0005232862375719519, 19: 0.0024449877750611247, 20: 0.00048828125, 21: 0.003115264797507788, 22: 0.00048520135856380397, 23: 0.0030211480362537764, 24: 0.0016835016835016834, 25: 0.0006389776357827476, 26: 0.0008032128514056225, 27: 7.813110399249941e-05}\n"
          ]
        }
      ],
      "source": [
        "# Class weights\n",
        "counts = [len(train_df[train_df[label] == 1]) for label in labels]\n",
        "class_weights = {i: 1.0/count for i, count in enumerate(counts)}\n",
        "print (f\"class counts: {counts},\\nclass weights: {class_weights}\")"
      ]
    },
    {
      "cell_type": "markdown",
      "metadata": {
        "id": "pG7Y1zBjmleC"
      },
      "source": [
        "### Datasets\n",
        "\n",
        "Here we are going to use [TF.data.Dataset](https://www.tensorflow.org/api_docs/python/tf/data/Dataset) to efficiently load and process data for training, evaluation, and inference."
      ]
    },
    {
      "cell_type": "code",
      "execution_count": 53,
      "metadata": {
        "id": "WD4Zj7i6mmMB"
      },
      "outputs": [],
      "source": [
        "def get_dataset(x, y, labels=labels, labeled=True, ordered=False, \n",
        "                repeated=True, batch_size=64):\n",
        "    if labeled:\n",
        "        dataset = tf.data.Dataset.from_tensor_slices((x, y))\n",
        "    else:\n",
        "        dataset = tf.data.Dataset.from_tensor_slices(x)\n",
        "  \n",
        "    if repeated:\n",
        "        dataset = dataset.repeat()\n",
        "    if not ordered:\n",
        "        dataset = dataset.shuffle(2048)\n",
        "        \n",
        "    dataset = dataset.batch(batch_size)\n",
        "    dataset = dataset.cache()\n",
        "    dataset = dataset.prefetch(tf.data.AUTOTUNE)\n",
        "    return dataset"
      ]
    },
    {
      "cell_type": "code",
      "execution_count": 54,
      "metadata": {
        "colab": {
          "base_uri": "https://localhost:8080/"
        },
        "id": "EIRiblqTzcUs",
        "outputId": "a5857fb2-52bb-4c87-9a13-d8d85826868b"
      },
      "outputs": [
        {
          "output_type": "stream",
          "name": "stdout",
          "text": [
            "Sample point:\n",
            "  X: thank you for sharing your experience. it adds much needed hope.\n",
            "  y: [1 0 0 0 0 0 0 0 0 0 0 0 0 0 0 1 0 0 0 0 0 0 0 0 0 0 0 0]\n",
            "Sample shape:\n",
            "  X: (64,)\n",
            "  y: (64, 28)\n"
          ]
        }
      ],
      "source": [
        "# Create datasets\n",
        "cnn_train_dataset = get_dataset(train_df.text, train_df[labels])\n",
        "cnn_valid_dataset = get_dataset(valid_df.text, valid_df[labels], ordered=True, repeated=False)\n",
        "cnn_test_dataset = get_dataset(test_df.text, test_df[labels], ordered=True, repeated=False)\n",
        "\n",
        "for sample in cnn_train_dataset.take(1):\n",
        "    x = sample[0]\n",
        "    y = sample[1]\n",
        "    print(\"Sample point:\\n\"\n",
        "    f\"  X: {x[0].numpy().decode()}\\n\"\n",
        "    f\"  y: {y[0].numpy()}\"\n",
        "    )\n",
        "    print(\"Sample shape:\\n\"\n",
        "    f\"  X: {x.shape}\\n\"\n",
        "    f\"  y: {y.shape}\"\n",
        "    )"
      ]
    },
    {
      "cell_type": "markdown",
      "metadata": {
        "id": "UtJlnMr83ca7"
      },
      "source": [
        "### Model\n",
        "\n",
        "We'll be using a convolutional neural network on top of our embedded tokens to extract meaningful spatial signal. This time, we'll be using many filter widths to act as n-gram feature extractors.\n",
        "\n",
        "![](https://github.com/dimitreOliveira/EmoBERT-MLOps/blob/main/assets/cnn_model_1.gif?raw=true)\n",
        "> Image source: https://madewithml.com/courses/mlops/baselines/#model\n",
        "\n",
        "Let's visualize the model's forward pass.\n",
        "\n",
        "1. We'll first tokenize our inputs (batch_size, max_seq_len).\n",
        "2. Then we'll embed our tokenized inputs (batch_size, max_seq_len, embedding_dim).\n",
        "3. We'll apply convolution via filters (filter_size, embedding_dim, num_filters) followed by batch normalization. Our filters act as character level n-gram detectors. We have three different filter sizes (2, 3 and 4) and they will act as bi-gram, tri-gram and 4-gram feature extractors, respectively.\n",
        "4. We'll apply 1D global max pooling, which will extract the most relevant information from the feature maps for making the decision.\n",
        "5. We feed the pool outputs to a fully-connected (FC) layer (with dropout).\n",
        "6. We use one more FC layer with softmax to derive class probabilities.\n",
        "\n",
        "![](https://github.com/dimitreOliveira/EmoBERT-MLOps/blob/main/assets/cnn_model_2.png?raw=true)\n",
        "> Image source: https://madewithml.com/courses/mlops/baselines/#model"
      ]
    },
    {
      "cell_type": "code",
      "execution_count": 55,
      "metadata": {
        "id": "jGKNXaA23dDX"
      },
      "outputs": [],
      "source": [
        "# Arguments\n",
        "embedding_dim = 128\n",
        "num_filters = 128\n",
        "hidden_dim = 128\n",
        "dropout_p = 0.5\n",
        "filter_sizes = [2, 3, 4]"
      ]
    },
    {
      "cell_type": "code",
      "execution_count": 56,
      "metadata": {
        "id": "PuxD-I97BP9_"
      },
      "outputs": [],
      "source": [
        "def model_fn(tokenizer, num_classes, embedding_dim, filter_sizes, \n",
        "                 num_filters, hidden_dim, dropout_p):\n",
        "    inputs = tf.keras.Input(shape=(1,), dtype=tf.string, name='text')\n",
        "    token_x = tokenizer(inputs)\n",
        "\n",
        "    emb_x = L.Embedding(input_dim=len(tokenizer.get_vocabulary()),\n",
        "                        output_dim=embedding_dim)(token_x)\n",
        "\n",
        "    convs = [L.Conv1D(filters=num_filters, \n",
        "                      kernel_size=f, \n",
        "                      activation='relu', \n",
        "                      padding='same') for f in filter_sizes]\n",
        "    b_norms = [L.BatchNormalization() for _ in filter_sizes]\n",
        "    max_pooling = L.MaxPool1D(num_filters)\n",
        "\n",
        "    x_conv = []\n",
        "    for i, f in enumerate(filter_sizes):\n",
        "        # Conv\n",
        "        _x_conv = convs[i](emb_x)\n",
        "\n",
        "        # Batch norm\n",
        "        _x_conv = b_norms[i](_x_conv)\n",
        "\n",
        "        # Pool\n",
        "        _x_conv = max_pooling(_x_conv)\n",
        "        _x_conv = tf.squeeze(_x_conv, axis=1)\n",
        "        x_conv.append(_x_conv)\n",
        "\n",
        "    x_concat = tf.concat(x_conv, axis=-1)\n",
        "    fc_x = L.Dropout(dropout_p)(x_concat)\n",
        "    fc_x = L.Dense(hidden_dim)(fc_x)\n",
        "    outputs = L.Dense(num_classes, activation='sigmoid')(fc_x)\n",
        "\n",
        "    model = tf.keras.Model(inputs, outputs)\n",
        "    return model"
      ]
    },
    {
      "cell_type": "markdown",
      "metadata": {
        "id": "MlzHCFELV5Cz"
      },
      "source": [
        "- **VALID**: no padding, the filters only use the \"valid\" values in the input. If the filter cannot reach all the input values (filters go left to right), the extra values on the right are dropped.\n",
        "- **SAME**: adds padding evenly to the right (preferred) and left sides of the input so that all values in the input are processed.\n",
        "\n",
        "![](https://github.com/dimitreOliveira/EmoBERT-MLOps/blob/main/assets/cnn_model_3.png?raw=true)\n",
        "> Image source: https://madewithml.com/courses/mlops/baselines/#model\n",
        "\n",
        "\n",
        "We're usin SAME padding so that the convolutional outputs are the same shape as our inputs. The amount of padding for the SAME padding can be determined using the same equation. We want our output to have the same width as our input, so we solve for P:\n",
        "\n",
        " \n",
        "If  is not a whole number, we round up (using math.ceil) and place the extra padding on the right side."
      ]
    },
    {
      "cell_type": "markdown",
      "source": [
        "As you can see we are using the **tokenizer as part of our model graph**, this has many advantages, specially considering deployment and serving, with this setup we don't have two moving pieces (model and tokenizer), here they are fused as one, thus we only care to train, store, deploy and monitor a single piece. Another advantage is that this way we can **feed the mode raw strings** instead of tokenized inputs."
      ],
      "metadata": {
        "id": "5rgdJEwf-TTo"
      }
    },
    {
      "cell_type": "code",
      "execution_count": 57,
      "metadata": {
        "colab": {
          "base_uri": "https://localhost:8080/"
        },
        "id": "YDAwapu5V34S",
        "outputId": "1ff4c70c-de75-4b9f-d537-3b188fe2de0c"
      },
      "outputs": [
        {
          "output_type": "stream",
          "name": "stdout",
          "text": [
            "Model: \"model\"\n",
            "__________________________________________________________________________________________________\n",
            " Layer (type)                   Output Shape         Param #     Connected to                     \n",
            "==================================================================================================\n",
            " text (InputLayer)              [(None, 1)]          0           []                               \n",
            "                                                                                                  \n",
            " text_vectorization (TextVector  (None, 128)         0           ['text[0][0]']                   \n",
            " ization)                                                                                         \n",
            "                                                                                                  \n",
            " embedding (Embedding)          (None, 128, 128)     55552       ['text_vectorization[0][0]']     \n",
            "                                                                                                  \n",
            " conv1d (Conv1D)                (None, 128, 128)     32896       ['embedding[0][0]']              \n",
            "                                                                                                  \n",
            " conv1d_1 (Conv1D)              (None, 128, 128)     49280       ['embedding[0][0]']              \n",
            "                                                                                                  \n",
            " conv1d_2 (Conv1D)              (None, 128, 128)     65664       ['embedding[0][0]']              \n",
            "                                                                                                  \n",
            " batch_normalization (BatchNorm  (None, 128, 128)    512         ['conv1d[0][0]']                 \n",
            " alization)                                                                                       \n",
            "                                                                                                  \n",
            " batch_normalization_1 (BatchNo  (None, 128, 128)    512         ['conv1d_1[0][0]']               \n",
            " rmalization)                                                                                     \n",
            "                                                                                                  \n",
            " batch_normalization_2 (BatchNo  (None, 128, 128)    512         ['conv1d_2[0][0]']               \n",
            " rmalization)                                                                                     \n",
            "                                                                                                  \n",
            " max_pooling1d (MaxPooling1D)   (None, 1, 128)       0           ['batch_normalization[0][0]',    \n",
            "                                                                  'batch_normalization_1[0][0]',  \n",
            "                                                                  'batch_normalization_2[0][0]']  \n",
            "                                                                                                  \n",
            " tf.compat.v1.squeeze (TFOpLamb  (None, 128)         0           ['max_pooling1d[0][0]']          \n",
            " da)                                                                                              \n",
            "                                                                                                  \n",
            " tf.compat.v1.squeeze_1 (TFOpLa  (None, 128)         0           ['max_pooling1d[1][0]']          \n",
            " mbda)                                                                                            \n",
            "                                                                                                  \n",
            " tf.compat.v1.squeeze_2 (TFOpLa  (None, 128)         0           ['max_pooling1d[2][0]']          \n",
            " mbda)                                                                                            \n",
            "                                                                                                  \n",
            " tf.concat (TFOpLambda)         (None, 384)          0           ['tf.compat.v1.squeeze[0][0]',   \n",
            "                                                                  'tf.compat.v1.squeeze_1[0][0]', \n",
            "                                                                  'tf.compat.v1.squeeze_2[0][0]'] \n",
            "                                                                                                  \n",
            " dropout (Dropout)              (None, 384)          0           ['tf.concat[0][0]']              \n",
            "                                                                                                  \n",
            " dense (Dense)                  (None, 128)          49280       ['dropout[0][0]']                \n",
            "                                                                                                  \n",
            " dense_1 (Dense)                (None, 28)           3612        ['dense[0][0]']                  \n",
            "                                                                                                  \n",
            "==================================================================================================\n",
            "Total params: 257,820\n",
            "Trainable params: 257,052\n",
            "Non-trainable params: 768\n",
            "__________________________________________________________________________________________________\n"
          ]
        }
      ],
      "source": [
        "# Initialize model\n",
        "cnn_model = model_fn(text_vectorizer, len(labels), embedding_dim, filter_sizes, \n",
        "                     num_filters, hidden_dim, dropout_p)\n",
        "cnn_model.summary()"
      ]
    },
    {
      "cell_type": "markdown",
      "metadata": {
        "id": "hkYBxc8RW3z0"
      },
      "source": [
        "### Training"
      ]
    },
    {
      "cell_type": "code",
      "source": [
        "def get_strategy():\n",
        "    # TPU or GPU detection\n",
        "    # Detect hardware, return appropriate distribution strategy\n",
        "    try:\n",
        "        tpu = tf.distribute.cluster_resolver.TPUClusterResolver()\n",
        "        print(f'Running on TPU {tpu.master()}')\n",
        "    except ValueError:\n",
        "        tpu = None\n",
        "\n",
        "    if tpu:\n",
        "        tf.config.experimental_connect_to_cluster(tpu)\n",
        "        tf.tpu.experimental.initialize_tpu_system(tpu)\n",
        "        strategy = tf.distribute.experimental.TPUStrategy(tpu)\n",
        "    else:\n",
        "        strategy = tf.distribute.get_strategy()\n",
        "    return strategy"
      ],
      "metadata": {
        "id": "UD6NSt6c6TPB"
      },
      "execution_count": 58,
      "outputs": []
    },
    {
      "cell_type": "code",
      "source": [
        "strategy = get_strategy()"
      ],
      "metadata": {
        "id": "PV_kYFoR6dRR"
      },
      "execution_count": 59,
      "outputs": []
    },
    {
      "cell_type": "code",
      "execution_count": 60,
      "metadata": {
        "id": "j0MxxymmhXKH"
      },
      "outputs": [],
      "source": [
        "# Arguments\n",
        "lr = 2e-4\n",
        "num_epochs = 15\n",
        "steps_per_epoch = 500\n",
        "patience = 3"
      ]
    },
    {
      "cell_type": "code",
      "execution_count": 61,
      "metadata": {
        "id": "iU_WRlZRW6G2"
      },
      "outputs": [],
      "source": [
        "# Define loss & metrics\n",
        "loss_fn = tf.keras.losses.BinaryCrossentropy()\n",
        "metrics_fn = tf.keras.metrics.BinaryAccuracy()"
      ]
    },
    {
      "cell_type": "code",
      "execution_count": 62,
      "metadata": {
        "id": "OefXMMfoW6qa"
      },
      "outputs": [],
      "source": [
        "# Define optimizer & scheduler\n",
        "optimizer = tf.keras.optimizers.Adam(lr=lr)\n",
        "scheduler = tf.keras.callbacks.ReduceLROnPlateau(monitor='val_loss', \n",
        "                                                 mode='min', factor=0.1, \n",
        "                                                 patience=patience, verbose=1)"
      ]
    },
    {
      "cell_type": "code",
      "execution_count": 63,
      "metadata": {
        "id": "9qtOCiz4W8YB"
      },
      "outputs": [],
      "source": [
        "# Compile model\n",
        "cnn_model.compile(optimizer=optimizer, \n",
        "                  loss=loss_fn, \n",
        "                  metrics=metrics_fn)"
      ]
    },
    {
      "cell_type": "code",
      "execution_count": 64,
      "metadata": {
        "colab": {
          "base_uri": "https://localhost:8080/"
        },
        "id": "Np9G0-T8W9QI",
        "outputId": "c1a9f763-0c5b-4b8e-efac-295482a0fbdf"
      },
      "outputs": [
        {
          "output_type": "stream",
          "name": "stdout",
          "text": [
            "Epoch 1/15\n",
            "500/500 - 18s - loss: 1.0632e-04 - binary_accuracy: 0.9427 - val_loss: 0.2840 - val_binary_accuracy: 0.9579 - lr: 2.0000e-04 - 18s/epoch - 36ms/step\n",
            "Epoch 2/15\n",
            "500/500 - 8s - loss: 7.8150e-05 - binary_accuracy: 0.9578 - val_loss: 0.1632 - val_binary_accuracy: 0.9582 - lr: 2.0000e-04 - 8s/epoch - 15ms/step\n",
            "Epoch 3/15\n",
            "500/500 - 8s - loss: 7.5372e-05 - binary_accuracy: 0.9582 - val_loss: 0.1594 - val_binary_accuracy: 0.9590 - lr: 2.0000e-04 - 8s/epoch - 15ms/step\n",
            "Epoch 4/15\n",
            "500/500 - 8s - loss: 7.3373e-05 - binary_accuracy: 0.9585 - val_loss: 0.1576 - val_binary_accuracy: 0.9592 - lr: 2.0000e-04 - 8s/epoch - 15ms/step\n",
            "Epoch 5/15\n",
            "500/500 - 8s - loss: 7.1152e-05 - binary_accuracy: 0.9588 - val_loss: 0.1536 - val_binary_accuracy: 0.9595 - lr: 2.0000e-04 - 8s/epoch - 15ms/step\n",
            "Epoch 6/15\n",
            "500/500 - 8s - loss: 7.1035e-05 - binary_accuracy: 0.9585 - val_loss: 0.1527 - val_binary_accuracy: 0.9596 - lr: 2.0000e-04 - 8s/epoch - 15ms/step\n",
            "Epoch 7/15\n",
            "500/500 - 8s - loss: 6.9655e-05 - binary_accuracy: 0.9588 - val_loss: 0.1525 - val_binary_accuracy: 0.9594 - lr: 2.0000e-04 - 8s/epoch - 15ms/step\n",
            "Epoch 8/15\n",
            "500/500 - 8s - loss: 6.8229e-05 - binary_accuracy: 0.9590 - val_loss: 0.1502 - val_binary_accuracy: 0.9598 - lr: 2.0000e-04 - 8s/epoch - 15ms/step\n",
            "Epoch 9/15\n",
            "500/500 - 8s - loss: 6.8275e-05 - binary_accuracy: 0.9587 - val_loss: 0.1470 - val_binary_accuracy: 0.9597 - lr: 2.0000e-04 - 8s/epoch - 15ms/step\n",
            "Epoch 10/15\n",
            "500/500 - 8s - loss: 6.7574e-05 - binary_accuracy: 0.9589 - val_loss: 0.1499 - val_binary_accuracy: 0.9596 - lr: 2.0000e-04 - 8s/epoch - 15ms/step\n",
            "Epoch 11/15\n",
            "500/500 - 8s - loss: 6.6231e-05 - binary_accuracy: 0.9590 - val_loss: 0.1472 - val_binary_accuracy: 0.9595 - lr: 2.0000e-04 - 8s/epoch - 15ms/step\n",
            "Epoch 12/15\n",
            "500/500 - 8s - loss: 6.6739e-05 - binary_accuracy: 0.9588 - val_loss: 0.1447 - val_binary_accuracy: 0.9598 - lr: 2.0000e-04 - 8s/epoch - 15ms/step\n",
            "Epoch 13/15\n",
            "500/500 - 8s - loss: 6.5803e-05 - binary_accuracy: 0.9591 - val_loss: 0.1462 - val_binary_accuracy: 0.9597 - lr: 2.0000e-04 - 8s/epoch - 15ms/step\n",
            "Epoch 14/15\n",
            "500/500 - 8s - loss: 6.5398e-05 - binary_accuracy: 0.9590 - val_loss: 0.1454 - val_binary_accuracy: 0.9600 - lr: 2.0000e-04 - 8s/epoch - 15ms/step\n",
            "Epoch 15/15\n",
            "\n",
            "Epoch 00015: ReduceLROnPlateau reducing learning rate to 1.9999999494757503e-05.\n",
            "500/500 - 8s - loss: 6.5625e-05 - binary_accuracy: 0.9588 - val_loss: 0.1454 - val_binary_accuracy: 0.9598 - lr: 2.0000e-04 - 8s/epoch - 15ms/step\n"
          ]
        }
      ],
      "source": [
        "# Train\n",
        "with strategy.scope():\n",
        "    cnn_model.fit(x=cnn_train_dataset, \n",
        "                  validation_data=cnn_valid_dataset, \n",
        "                  steps_per_epoch=steps_per_epoch, \n",
        "                  callbacks=[scheduler], \n",
        "                  epochs=num_epochs, \n",
        "                  class_weight=class_weights, \n",
        "                  verbose=2)"
      ]
    },
    {
      "cell_type": "markdown",
      "metadata": {
        "id": "5hjsEXHthmDi"
      },
      "source": [
        "### Evaluation"
      ]
    },
    {
      "cell_type": "code",
      "execution_count": 65,
      "metadata": {
        "id": "0YwomGvIhnk6"
      },
      "outputs": [],
      "source": [
        "import pickle\n",
        "from pathlib import Path\n",
        "from sklearn.metrics import precision_recall_curve"
      ]
    },
    {
      "cell_type": "code",
      "execution_count": 66,
      "metadata": {
        "id": "z5tuSZuToGbI"
      },
      "outputs": [],
      "source": [
        "y_true = np.array([y.numpy() for x, y in iter(cnn_valid_dataset.unbatch())])\n",
        "cnn_train_x = cnn_valid_dataset.map(lambda x, y: x)\n",
        "y_prob = cnn_model.predict(cnn_train_x)"
      ]
    },
    {
      "cell_type": "code",
      "execution_count": 67,
      "metadata": {
        "id": "chaRSULhhpk6",
        "colab": {
          "base_uri": "https://localhost:8080/",
          "height": 442
        },
        "outputId": "0b4cdc66-b04e-4546-ebaf-effc15c4c217"
      },
      "outputs": [
        {
          "output_type": "display_data",
          "data": {
            "image/png": "[encoded data removed]",
            "text/plain": [
              "<Figure size 504x504 with 1 Axes>"
            ]
          },
          "metadata": {
            "needs_background": "light"
          }
        }
      ],
      "source": [
        "# Threshold-PR curve\n",
        "precisions, recalls, thresholds = precision_recall_curve(y_true.ravel(), y_prob.ravel())\n",
        "\n",
        "plt.figure(figsize=(7, 7))\n",
        "plt.plot(thresholds, precisions[:-1], \"r--\", label=\"Precision\")\n",
        "plt.plot(thresholds, recalls[:-1], \"b-\", label=\"Recall\")\n",
        "plt.ylabel(\"Performance\")\n",
        "plt.xlabel(\"Threshold\")\n",
        "plt.legend(loc=\"best\")\n",
        "plt.show()"
      ]
    },
    {
      "cell_type": "code",
      "execution_count": 68,
      "metadata": {
        "id": "DS7stocau003"
      },
      "outputs": [],
      "source": [
        "# Determining the best threshold\n",
        "def find_best_threshold(y_true, y_prob):\n",
        "    \"\"\"Find the best threshold for maximum F1.\"\"\"\n",
        "    precisions, recalls, thresholds = precision_recall_curve(y_true, y_prob)\n",
        "    f1s = (2 * precisions * recalls) / (precisions + recalls)\n",
        "    return thresholds[np.argmax(f1s)]"
      ]
    },
    {
      "cell_type": "code",
      "execution_count": 69,
      "metadata": {
        "colab": {
          "base_uri": "https://localhost:8080/"
        },
        "id": "c5HU6cy8u1xs",
        "outputId": "6f2c4551-5f94-4c1a-8cff-bd613ac9500d"
      },
      "outputs": [
        {
          "output_type": "stream",
          "name": "stdout",
          "text": [
            "0.07573042\n"
          ]
        }
      ],
      "source": [
        "# Best threshold for f1\n",
        "threshold = find_best_threshold(y_true.ravel(), y_prob.ravel())\n",
        "print(threshold)"
      ]
    },
    {
      "cell_type": "markdown",
      "metadata": {
        "id": "nIrOd58UwtaI"
      },
      "source": [
        "**How can we do better?**\n",
        "\n",
        "\n",
        "How can we improve on our process of identifying and using the appropriate threshold?\n",
        "\n",
        "\n",
        "<details><summary><b> Show answer </b></summary>\n",
        "<p>\n",
        "\n",
        "- Plot PR curves for all classes (not just overall) to ensure a certain global threshold doesn't deliver very poor performance for any particular class\n",
        "- Determine different thresholds for different classes and use them during inference\n",
        "\n",
        "</p>\n",
        "</details>"
      ]
    },
    {
      "cell_type": "code",
      "execution_count": 70,
      "metadata": {
        "id": "ARZ41FNYwuxl"
      },
      "outputs": [],
      "source": [
        "y_true = np.array([y.numpy() for x, y in iter(cnn_test_dataset.unbatch())])\n",
        "cnn_test_x = cnn_test_dataset.map(lambda x, y: x)\n",
        "y_prob = cnn_model.predict(cnn_test_x)\n",
        "\n",
        "# Determine predictions using threshold\n",
        "y_pred = np.array([np.where(prob >= threshold, 1, 0) for prob in y_prob])"
      ]
    },
    {
      "cell_type": "code",
      "execution_count": 71,
      "metadata": {
        "id": "7AxVMSQZwyv6",
        "colab": {
          "base_uri": "https://localhost:8080/"
        },
        "outputId": "f324dd62-1e09-419a-b07b-807e53d2a4ed"
      },
      "outputs": [
        {
          "output_type": "stream",
          "name": "stdout",
          "text": [
            "{\n",
            "  \"precision\": 0.2966452787151745,\n",
            "  \"recall\": 0.32018711186386,\n",
            "  \"f1\": 0.2667923904303416\n",
            "}\n"
          ]
        }
      ],
      "source": [
        "# Evaluate\n",
        "metrics = precision_recall_fscore_support(y_true, y_pred, average=\"weighted\")\n",
        "performance = {\"precision\": metrics[0], \"recall\": metrics[1], \"f1\": metrics[2]}\n",
        "print (json.dumps(performance, indent=2))"
      ]
    },
    {
      "cell_type": "code",
      "execution_count": 72,
      "metadata": {
        "id": "Ui1BFIlKwz-p",
        "colab": {
          "base_uri": "https://localhost:8080/"
        },
        "outputId": "b94f747e-744b-4005-829e-da11784944fa"
      },
      "outputs": [
        {
          "output_type": "stream",
          "name": "stdout",
          "text": [
            "INFO:tensorflow:Assets written to: cnn/cnn_model/assets\n"
          ]
        }
      ],
      "source": [
        "# Save artifacts\n",
        "dir = Path(\"cnn\")\n",
        "dir.mkdir(parents=True, exist_ok=True)\n",
        "\n",
        "# Pickle the tokenizer's config and weights\n",
        "pickle.dump({'config': text_vectorizer.get_config(),\n",
        "             'weights': text_vectorizer.get_weights()}, \n",
        "             open(f\"{dir}/tokenizer.pkl\", \"wb\"))\n",
        "\n",
        "# Saving model with the SavedModel format\n",
        "cnn_model.save(f\"{dir}/cnn_model\", save_format=\"tf\")\n",
        "\n",
        "# Saving performance metrics\n",
        "with open(Path(dir, \"performance.json\"), \"w\") as fp:\n",
        "    json.dump(performance, indent=2, sort_keys=False, fp=fp)"
      ]
    },
    {
      "cell_type": "markdown",
      "metadata": {
        "id": "qfgiS5vIw1jq"
      },
      "source": [
        "### Inference"
      ]
    },
    {
      "cell_type": "code",
      "execution_count": 73,
      "metadata": {
        "id": "RVtivQuCOwOt",
        "colab": {
          "base_uri": "https://localhost:8080/"
        },
        "outputId": "7c9ebf70-2dca-47b1-9577-5aaf6eea8296"
      },
      "outputs": [
        {
          "output_type": "stream",
          "name": "stdout",
          "text": [
            "Model: \"model\"\n",
            "__________________________________________________________________________________________________\n",
            " Layer (type)                   Output Shape         Param #     Connected to                     \n",
            "==================================================================================================\n",
            " text (InputLayer)              [(None, 1)]          0           []                               \n",
            "                                                                                                  \n",
            " text_vectorization (TextVector  (None, 128)         0           ['text[0][0]']                   \n",
            " ization)                                                                                         \n",
            "                                                                                                  \n",
            " embedding (Embedding)          (None, 128, 128)     55552       ['text_vectorization[0][0]']     \n",
            "                                                                                                  \n",
            " conv1d (Conv1D)                (None, 128, 128)     32896       ['embedding[0][0]']              \n",
            "                                                                                                  \n",
            " conv1d_1 (Conv1D)              (None, 128, 128)     49280       ['embedding[0][0]']              \n",
            "                                                                                                  \n",
            " conv1d_2 (Conv1D)              (None, 128, 128)     65664       ['embedding[0][0]']              \n",
            "                                                                                                  \n",
            " batch_normalization (BatchNorm  (None, 128, 128)    512         ['conv1d[0][0]']                 \n",
            " alization)                                                                                       \n",
            "                                                                                                  \n",
            " batch_normalization_1 (BatchNo  (None, 128, 128)    512         ['conv1d_1[0][0]']               \n",
            " rmalization)                                                                                     \n",
            "                                                                                                  \n",
            " batch_normalization_2 (BatchNo  (None, 128, 128)    512         ['conv1d_2[0][0]']               \n",
            " rmalization)                                                                                     \n",
            "                                                                                                  \n",
            " max_pooling1d (MaxPooling1D)   (None, 1, 128)       0           ['batch_normalization[0][0]',    \n",
            "                                                                  'batch_normalization_1[0][0]',  \n",
            "                                                                  'batch_normalization_2[0][0]']  \n",
            "                                                                                                  \n",
            " tf.compat.v1.squeeze (TFOpLamb  (None, 128)         0           ['max_pooling1d[0][0]']          \n",
            " da)                                                                                              \n",
            "                                                                                                  \n",
            " tf.compat.v1.squeeze_1 (TFOpLa  (None, 128)         0           ['max_pooling1d[1][0]']          \n",
            " mbda)                                                                                            \n",
            "                                                                                                  \n",
            " tf.compat.v1.squeeze_2 (TFOpLa  (None, 128)         0           ['max_pooling1d[2][0]']          \n",
            " mbda)                                                                                            \n",
            "                                                                                                  \n",
            " tf.concat (TFOpLambda)         (None, 384)          0           ['tf.compat.v1.squeeze[0][0]',   \n",
            "                                                                  'tf.compat.v1.squeeze_1[0][0]', \n",
            "                                                                  'tf.compat.v1.squeeze_2[0][0]'] \n",
            "                                                                                                  \n",
            " dropout (Dropout)              (None, 384)          0           ['tf.concat[0][0]']              \n",
            "                                                                                                  \n",
            " dense (Dense)                  (None, 128)          49280       ['dropout[0][0]']                \n",
            "                                                                                                  \n",
            " dense_1 (Dense)                (None, 28)           3612        ['dense[0][0]']                  \n",
            "                                                                                                  \n",
            "==================================================================================================\n",
            "Total params: 257,820\n",
            "Trainable params: 257,052\n",
            "Non-trainable params: 768\n",
            "__________________________________________________________________________________________________\n"
          ]
        }
      ],
      "source": [
        "# Load artifacts\n",
        "from_disk = pickle.load(open(f\"{dir}/tokenizer.pkl\", \"rb\"))\n",
        "tokenizer = L.TextVectorization.from_config(from_disk['config'])\n",
        "\n",
        "# This might not work for some TF versions\n",
        "# loaded_cnn_model = tf.keras.models.load_model(f\"{dir}/cnn_model\")\n",
        "loaded_cnn_model = cnn_model\n",
        "loaded_cnn_model.summary()"
      ]
    },
    {
      "cell_type": "code",
      "execution_count": 74,
      "metadata": {
        "id": "3wv3fy2ub5NF"
      },
      "outputs": [],
      "source": [
        "# Dataloader\n",
        "text = [\"I am loving this amazing MLOps tutorial, so much cool content\"]\n",
        "x_text = get_dataset(text, _, ordered=True, repeated=False, labeled=False)"
      ]
    },
    {
      "cell_type": "code",
      "execution_count": 75,
      "metadata": {
        "id": "hGPk6VYw1-VH"
      },
      "outputs": [],
      "source": [
        "def decode_preds(preds, labels=labels):\n",
        "  outputs = []\n",
        "  for pred in preds:\n",
        "    decoded = [labels[i] for i, v in enumerate(pred) if v == 1]\n",
        "    outputs.append(decoded)\n",
        "  return outputs"
      ]
    },
    {
      "cell_type": "code",
      "execution_count": 76,
      "metadata": {
        "colab": {
          "base_uri": "https://localhost:8080/"
        },
        "id": "CmoDeG86p-aa",
        "outputId": "44c97640-3321-40db-b77e-bf635ea07fb4"
      },
      "outputs": [
        {
          "output_type": "stream",
          "name": "stdout",
          "text": [
            "[['admiration', 'amusement', 'excitement', 'joy', 'love']]\n"
          ]
        }
      ],
      "source": [
        "y_prob = loaded_cnn_model.predict(x_text)\n",
        "y_pred = np.array([np.where(prob >= threshold, 1, 0) for prob in y_prob])\n",
        "print(decode_preds(y_pred))"
      ]
    },
    {
      "cell_type": "markdown",
      "metadata": {
        "id": "6QyNpvHf2Zho"
      },
      "source": [
        "**limitations:**\n",
        "\n",
        "- **representation:** embeddings are not contextual.\n",
        "- **architecture:** extracting signal from encoded inputs is limited by filter widths.\n",
        "\n",
        "> Since we're dealing with simple architectures and fast training times, it's a good opportunity to explore tuning and experiment with k-fold cross validation to properly reach any conclusions about performance."
      ]
    },
    {
      "cell_type": "markdown",
      "metadata": {
        "id": "PliuH0qB6syW"
      },
      "source": [
        "## Transformers w/ Transfer learning\n",
        "\n",
        "**motivation:**\n",
        "\n",
        "- **representation**: now with transformers we have contextual embeddings, and the whole sentence can contribute to the meaning of each word.\n",
        "- **architecture**: we want to process our encoded inputs using transformers layers and a positional encoder, this setup allows us to feed the complete sentence together as context, instead of as a sequence like we did with the CNN.\n",
        "\n",
        "![](https://github.com/dimitreOliveira/EmoBERT-MLOps/blob/main/assets/transformer_model.png?raw=true)\n",
        "> Image source: https://jalammar.github.io/illustrated-transformer/\n",
        "\n",
        "If you want to know more about transformers and how they work, here are a couple of good sources:\n",
        " - [The Illustrated Transformer](https://jalammar.github.io/illustrated-transformer/)\n",
        " - [How Transformers work in deep learning and NLP: an intuitive introduction](https://theaisummer.com/transformer/)"
      ]
    },
    {
      "cell_type": "markdown",
      "metadata": {
        "id": "XrlMQbze8hFc"
      },
      "source": [
        "### Set up"
      ]
    },
    {
      "cell_type": "code",
      "execution_count": 77,
      "metadata": {
        "id": "dD6AHO_88GXD"
      },
      "outputs": [],
      "source": [
        "from transformers import RobertaTokenizerFast, TFRobertaForSequenceClassification"
      ]
    },
    {
      "cell_type": "markdown",
      "metadata": {
        "id": "i0T_klUG8fIp"
      },
      "source": [
        "### Tokenizer\n",
        "\n",
        "With transformers, we will tokenize the inputs not as single characters, as we did previously, now we will tokenize them as sub-words, this is a common approach for transformers and give many advantages."
      ]
    },
    {
      "cell_type": "code",
      "execution_count": 78,
      "metadata": {
        "colab": {
          "base_uri": "https://localhost:8080/",
          "height": 177,
          "referenced_widgets": [
            "cc9b9ec71e3b45baa5c0b9c3c0ebf29f",
            "ca952c2c01cd4479aae6cfa82f69bcd2",
            "9196c4873eb64e06ba43db9a15b54501",
            "ef4c05c88a024b8088e56a0297281bf7",
            "0e8ef192d539488cab39594398367dfd",
            "cd6229911bb7438daada4097b35a1597",
            "ef419702ebd943c0a7935c0b1ab446aa",
            "8b6aedd0f4604e9fa1918652bb099f61",
            "92959f9d0303491ca130bd0dd9f10f23",
            "792842f7e4a841ec8189f0005bccdab9",
            "ec5512b803354f64acb825d8872c991f",
            "f18e637c75cf4b47a12ccea982881282",
            "9061ff1104c446e2b11f1a28c2f417c1",
            "f61f5d0e503c49509dff64cf107caad6",
            "d1533c70c3884555ad3aaf3f00227646",
            "d3e317f9565741d39481720cdd48d489",
            "5bb6bc26a0f342fe8e2973c678ac144a",
            "3975f47b5f134abc90da108c73559116",
            "16feea1767a545e09ce8c7a5f5357ed3",
            "ebefa51cfd35432ebd4ceb82bfdc4f7d",
            "d68c515217614f018e01e97fdaa4a5fe",
            "07e758d9c4974d4baf99261f58a9bff7",
            "4df2232244a34fa68c2e3fce95afe85a",
            "291a802006dd4c359ad2524ad5d53d50",
            "dd91acbca65f4a248032b10ca23b49c5",
            "b1edf4d7137d49fdbfea2abc84595775",
            "71884e3380db489399893e6920ca6efa",
            "6eea12d2ef6640379de678748798b48d",
            "80d750a31ce64493a4d7451380d8bf83",
            "3c6e9c06c92b4e058d8a775c772b97bd",
            "d251f67e2f054c6c830c2a2c778e187c",
            "43c5971cd9804550bc9acf4e26f8d33d",
            "98cc67c8ad1a4c49ad284050db2b99a5",
            "f33a989ec7f74a24ab7fc1779f554ff2",
            "de18e05ea72c445fb156e5a5828aeff4",
            "29caa4cfa04446fca4cfdd7659c63647",
            "4128ace60f8e4d39bf867df4dce30b3c",
            "0675393e3b2b45ce9a219e087fc99919",
            "c5c1d6f74d364906a77fb1f679e4ed85",
            "caf260c9a68e41dab49e05f4f39e26e9",
            "4c371f1311634bb58f42e64f51230120",
            "ce31325d21d94f65b816b3aa7113766f",
            "1b5bfab98b7942109c36ffdbf71b5e61",
            "17f3a2bba3934785bded822fe9b7943b",
            "e0c9c57d44f64fa3a1229d4af5c57e9f",
            "9f812236a2ed44c6b7014368c07f2599",
            "6c3d55653be646508dc33cb04d6dbe21",
            "9009e87861864262becb4233f3009a6f",
            "c1fef16d217d4dae95e0b722496b6bf3",
            "dcf61fad80ad43bcad4b29c016e9351a",
            "c3d18778dd394bfe814d33890ae51e98",
            "f6e512f87d2448dc82165c5fe63dd638",
            "49852b89a9794b2aa46df96330a4fc1f",
            "e251ca83f260475598ef59b4bd3f917f",
            "b035ff7528a04a748f36e62ea1274ff9"
          ]
        },
        "id": "U9YowCZo8SWu",
        "outputId": "d0531363-4547-481b-a5e5-f30ec85415cb"
      },
      "outputs": [
        {
          "output_type": "display_data",
          "data": {
            "application/vnd.jupyter.widget-view+json": {
              "model_id": "cc9b9ec71e3b45baa5c0b9c3c0ebf29f",
              "version_minor": 0,
              "version_major": 2
            },
            "text/plain": [
              "Downloading:   0%|          | 0.00/25.0 [00:00<?, ?B/s]"
            ]
          },
          "metadata": {}
        },
        {
          "output_type": "display_data",
          "data": {
            "application/vnd.jupyter.widget-view+json": {
              "model_id": "f18e637c75cf4b47a12ccea982881282",
              "version_minor": 0,
              "version_major": 2
            },
            "text/plain": [
              "Downloading:   0%|          | 0.00/780k [00:00<?, ?B/s]"
            ]
          },
          "metadata": {}
        },
        {
          "output_type": "display_data",
          "data": {
            "application/vnd.jupyter.widget-view+json": {
              "model_id": "4df2232244a34fa68c2e3fce95afe85a",
              "version_minor": 0,
              "version_major": 2
            },
            "text/plain": [
              "Downloading:   0%|          | 0.00/446k [00:00<?, ?B/s]"
            ]
          },
          "metadata": {}
        },
        {
          "output_type": "display_data",
          "data": {
            "application/vnd.jupyter.widget-view+json": {
              "model_id": "f33a989ec7f74a24ab7fc1779f554ff2",
              "version_minor": 0,
              "version_major": 2
            },
            "text/plain": [
              "Downloading:   0%|          | 0.00/239 [00:00<?, ?B/s]"
            ]
          },
          "metadata": {}
        },
        {
          "output_type": "display_data",
          "data": {
            "application/vnd.jupyter.widget-view+json": {
              "model_id": "e0c9c57d44f64fa3a1229d4af5c57e9f",
              "version_minor": 0,
              "version_major": 2
            },
            "text/plain": [
              "Downloading:   0%|          | 0.00/1.68k [00:00<?, ?B/s]"
            ]
          },
          "metadata": {}
        }
      ],
      "source": [
        "tokenizer = RobertaTokenizerFast.from_pretrained(\"arpanghoshal/EmoRoBERTa\")"
      ]
    },
    {
      "cell_type": "code",
      "execution_count": 79,
      "metadata": {
        "id": "W8k3Efoi9lTA",
        "colab": {
          "base_uri": "https://localhost:8080/"
        },
        "outputId": "003375ff-d2f2-425a-dced-c0bf2db67b3d"
      },
      "outputs": [
        {
          "output_type": "stream",
          "name": "stdout",
          "text": [
            "Vocabulary size: 50265\n",
            "[('Ġorb', 43749), ('Ġdefined', 6533), ('Ġlipstick', 24184), ('ĠBare', 22888), ('NECT', 42849), ('Ġseaf', 33980), ('ĠForge', 35254), ('ĠCase', 11109), ('atern', 36359), ('Ġwaiting', 2445)]\n"
          ]
        }
      ],
      "source": [
        "vocab = tokenizer.get_vocab()\n",
        "print(f\"Vocabulary size: {len(vocab)}\")\n",
        "print(list(vocab.items())[:10])"
      ]
    },
    {
      "cell_type": "code",
      "execution_count": 80,
      "metadata": {
        "id": "HHpBUXZ3-qLH",
        "colab": {
          "base_uri": "https://localhost:8080/"
        },
        "outputId": "c615eb1d-95c4-47bc-9a43-cfe9f782999e"
      },
      "outputs": [
        {
          "output_type": "stream",
          "name": "stdout",
          "text": [
            "Text to indices:\n",
            "(preprocessed) → how do you deal with alerts coming up on your phone? i guess you can just turn them off?\n",
            "(tokenized) → [0, 9178, 109, 47, 432, 19, 5431, 567, 62, 15, 110, 1028, 116, 939, 4443, 47, 64, 95, 1004, 106, 160, 116, 2]\n"
          ]
        }
      ],
      "source": [
        "print (\"Text to indices:\\n\"\n",
        "      f\"(preprocessed) → {X_train.iloc[0]}\\n\"\n",
        "      f\"(tokenized) → {tokenizer(X_train.iloc[0]).input_ids}\")"
      ]
    },
    {
      "cell_type": "markdown",
      "metadata": {
        "id": "phsTxFyHzK-7"
      },
      "source": [
        "### Datasets\n",
        "\n",
        "Here we are going to use [TF.data.Dataset](https://www.tensorflow.org/api_docs/python/tf/data/Dataset) to efficiently load and process data for training, evaluation, and inference."
      ]
    },
    {
      "cell_type": "code",
      "execution_count": 81,
      "metadata": {
        "id": "qiBdh3HkzWSd"
      },
      "outputs": [],
      "source": [
        "def get_dataset_hf(x, y, tokenizer, max_seq_len=max_seq_len, labels=labels, \n",
        "                   labeled=True, ordered=False, repeated=True, batch_size=64):\n",
        "    token_x = tokenizer(x, max_length=max_seq_len, truncation=True, \n",
        "                        padding='max_length', return_tensors='tf')\n",
        "\n",
        "    if labeled:\n",
        "        dataset = tf.data.Dataset.from_tensor_slices(\n",
        "            ({'input_ids': token_x['input_ids'], \n",
        "              'attention_mask': token_x['attention_mask']}, (y)\n",
        "            )\n",
        "        )\n",
        "    else:\n",
        "        dataset = tf.data.Dataset.from_tensor_slices(\n",
        "            {'input_ids': token_x['input_ids'], \n",
        "             'attention_mask': token_x['attention_mask']}\n",
        "        )\n",
        "  \n",
        "    if repeated:\n",
        "        dataset = dataset.repeat()\n",
        "    if not ordered:\n",
        "        dataset = dataset.shuffle(2048)\n",
        "        \n",
        "    dataset = dataset.batch(batch_size)\n",
        "    dataset = dataset.cache()\n",
        "    dataset = dataset.prefetch(tf.data.AUTOTUNE)\n",
        "    return dataset"
      ]
    },
    {
      "cell_type": "code",
      "execution_count": 82,
      "metadata": {
        "colab": {
          "base_uri": "https://localhost:8080/"
        },
        "id": "pxIRhul_00cW",
        "outputId": "9ee9cb19-0b5f-4370-c026-75c2e73285d5"
      },
      "outputs": [
        {
          "output_type": "stream",
          "name": "stdout",
          "text": [
            "Sample point:\n",
            "  X: [   0 1075  571    4   42   16  215   10  372  477  328    2    1    1\n",
            "    1    1    1    1    1    1    1    1    1    1    1    1    1    1\n",
            "    1    1    1    1    1    1    1    1    1    1    1    1    1    1\n",
            "    1    1    1    1    1    1    1    1    1    1    1    1    1    1\n",
            "    1    1    1    1    1    1    1    1    1    1    1    1    1    1\n",
            "    1    1    1    1    1    1    1    1    1    1    1    1    1    1\n",
            "    1    1    1    1    1    1    1    1    1    1    1    1    1    1\n",
            "    1    1    1    1    1    1    1    1    1    1    1    1    1    1\n",
            "    1    1    1    1    1    1    1    1    1    1    1    1    1    1\n",
            "    1    1]\n",
            "  y: [1 0 0 0 0 0 0 0 0 0 0 0 0 0 0 0 0 0 0 0 0 0 0 0 0 0 1 0]\n",
            "Sample shape:\n",
            "  X: (128,)\n",
            "  y: (64, 28)\n"
          ]
        }
      ],
      "source": [
        "# Create datasets\n",
        "transformer_train_dataset = get_dataset_hf(list(train_df.text), train_df[labels], tokenizer)\n",
        "transformer_valid_dataset = get_dataset_hf(list(valid_df.text), valid_df[labels], tokenizer, \n",
        "                                           ordered=True, repeated=False)\n",
        "transformer_test_dataset = get_dataset_hf(list(test_df.text), test_df[labels], tokenizer, \n",
        "                                          ordered=True, repeated=False)\n",
        "\n",
        "for sample in transformer_train_dataset.take(1):\n",
        "    x = sample[0]\n",
        "    y = sample[1]\n",
        "    print(\"Sample point:\\n\"\n",
        "    f\"  X: {x['input_ids'][0].numpy()}\\n\"\n",
        "    f\"  y: {y[0]}\"\n",
        "    )\n",
        "    print(\"Sample shape:\\n\"\n",
        "    f\"  X: {x['input_ids'][0].numpy().shape}\\n\"\n",
        "    f\"  y: {y.shape}\"\n",
        "    )"
      ]
    },
    {
      "cell_type": "markdown",
      "metadata": {
        "id": "ljzh4eQ8-y2f"
      },
      "source": [
        "### Model"
      ]
    },
    {
      "cell_type": "code",
      "execution_count": 119,
      "metadata": {
        "id": "emJalYzd6wby",
        "colab": {
          "base_uri": "https://localhost:8080/"
        },
        "outputId": "0ab70831-a17e-4922-8901-cc836760faef"
      },
      "outputs": [
        {
          "output_type": "stream",
          "name": "stderr",
          "text": [
            "All model checkpoint layers were used when initializing TFRobertaForSequenceClassification.\n",
            "\n",
            "All the layers of TFRobertaForSequenceClassification were initialized from the model checkpoint at arpanghoshal/EmoRoBERTa.\n",
            "If your task is similar to the task the model of the checkpoint was trained on, you can already use TFRobertaForSequenceClassification for predictions without further training.\n"
          ]
        },
        {
          "output_type": "stream",
          "name": "stdout",
          "text": [
            "Model: \"tf_roberta_for_sequence_classification_2\"\n",
            "_________________________________________________________________\n",
            " Layer (type)                Output Shape              Param #   \n",
            "=================================================================\n",
            " roberta (TFRobertaMainLayer  multiple                 124055040 \n",
            " )                                                               \n",
            "                                                                 \n",
            " classifier (TFRobertaClassi  multiple                 612124    \n",
            " ficationHead)                                                   \n",
            "                                                                 \n",
            "=================================================================\n",
            "Total params: 124,667,164\n",
            "Trainable params: 612,124\n",
            "Non-trainable params: 124,055,040\n",
            "_________________________________________________________________\n"
          ]
        }
      ],
      "source": [
        "transformer_model = TFRobertaForSequenceClassification.from_pretrained(\"arpanghoshal/EmoRoBERTa\")\n",
        "transformer_model.layers[0].trainable = False\n",
        "transformer_model.summary()"
      ]
    },
    {
      "cell_type": "markdown",
      "metadata": {
        "id": "u6JsiBLq85S0"
      },
      "source": [
        "### Train"
      ]
    },
    {
      "cell_type": "code",
      "execution_count": 120,
      "metadata": {
        "id": "PmTjOIxu88YJ"
      },
      "outputs": [],
      "source": [
        "# Arguments\n",
        "lr = 3e-5\n",
        "num_epochs = 5\n",
        "steps_per_epoch = 100\n",
        "patience = 3"
      ]
    },
    {
      "cell_type": "code",
      "execution_count": 121,
      "metadata": {
        "id": "HSTtJz3p8-oN"
      },
      "outputs": [],
      "source": [
        "# Define loss & metrics\n",
        "loss_fn = tf.keras.losses.BinaryCrossentropy(from_logits=True)\n",
        "metrics_fn = tf.keras.metrics.BinaryAccuracy()"
      ]
    },
    {
      "cell_type": "code",
      "execution_count": 122,
      "metadata": {
        "id": "aUAKArR79Aus"
      },
      "outputs": [],
      "source": [
        "# Define optimizer & scheduler\n",
        "optimizer = tf.keras.optimizers.Adam(lr=lr)\n",
        "scheduler = tf.keras.callbacks.ReduceLROnPlateau(monitor='val_loss', \n",
        "                                                 mode='min', factor=0.1, \n",
        "                                                 patience=patience, verbose=1)"
      ]
    },
    {
      "cell_type": "code",
      "execution_count": 123,
      "metadata": {
        "id": "8U8Wt9kv9EO9"
      },
      "outputs": [],
      "source": [
        "# Compile model\n",
        "transformer_model.compile(optimizer=optimizer, \n",
        "                          loss=loss_fn, \n",
        "                          metrics=metrics_fn)"
      ]
    },
    {
      "cell_type": "code",
      "execution_count": 124,
      "metadata": {
        "colab": {
          "base_uri": "https://localhost:8080/"
        },
        "id": "3g0jYoxl86au",
        "outputId": "612a84c9-ed17-457a-e802-13631f1b8771"
      },
      "outputs": [
        {
          "output_type": "stream",
          "name": "stdout",
          "text": [
            "Epoch 1/5\n",
            "100/100 - 168s - loss: 3.3501e-04 - binary_accuracy: 0.7984 - val_loss: 0.6585 - val_binary_accuracy: 0.8197 - lr: 3.0000e-05 - 168s/epoch - 2s/step\n",
            "Epoch 2/5\n",
            "100/100 - 139s - loss: 2.7048e-04 - binary_accuracy: 0.8410 - val_loss: 0.5360 - val_binary_accuracy: 0.8568 - lr: 3.0000e-05 - 139s/epoch - 1s/step\n",
            "Epoch 3/5\n",
            "100/100 - 139s - loss: 2.3209e-04 - binary_accuracy: 0.8743 - val_loss: 0.4262 - val_binary_accuracy: 0.8873 - lr: 3.0000e-05 - 139s/epoch - 1s/step\n",
            "Epoch 4/5\n",
            "100/100 - 139s - loss: 1.8714e-04 - binary_accuracy: 0.9030 - val_loss: 0.3331 - val_binary_accuracy: 0.9115 - lr: 3.0000e-05 - 139s/epoch - 1s/step\n",
            "Epoch 5/5\n",
            "100/100 - 139s - loss: 1.4336e-04 - binary_accuracy: 0.9232 - val_loss: 0.2612 - val_binary_accuracy: 0.9309 - lr: 3.0000e-05 - 139s/epoch - 1s/step\n"
          ]
        }
      ],
      "source": [
        "# Train\n",
        "with strategy.scope():\n",
        "    transformer_model.fit(x=transformer_train_dataset, \n",
        "                          validation_data=transformer_valid_dataset, \n",
        "                          steps_per_epoch=steps_per_epoch, \n",
        "                          callbacks=[scheduler], \n",
        "                          epochs=num_epochs, \n",
        "                          class_weight=class_weights, \n",
        "                          verbose=2)"
      ]
    },
    {
      "cell_type": "markdown",
      "metadata": {
        "id": "f4Xj8L-x8ZrH"
      },
      "source": [
        "### Evaluation"
      ]
    },
    {
      "cell_type": "code",
      "execution_count": 125,
      "metadata": {
        "id": "0pCnI_UWFBdz"
      },
      "outputs": [],
      "source": [
        "y_true = np.array([y.numpy() for x, y in iter(transformer_valid_dataset.unbatch())])\n",
        "transformer_train_x = transformer_valid_dataset.map(lambda x, y: x)\n",
        "y_prob = transformer_model.predict(transformer_train_x)['logits']"
      ]
    },
    {
      "cell_type": "code",
      "execution_count": 126,
      "metadata": {
        "id": "zVMnIDNyFCeR",
        "colab": {
          "base_uri": "https://localhost:8080/",
          "height": 442
        },
        "outputId": "e9a359d2-d795-40fa-8e74-5ca238495741"
      },
      "outputs": [
        {
          "output_type": "display_data",
          "data": {
            "image/png": "[encoded data removed]",
            "text/plain": [
              "<Figure size 504x504 with 1 Axes>"
            ]
          },
          "metadata": {
            "needs_background": "light"
          }
        }
      ],
      "source": [
        "# Threshold-PR curve\n",
        "precisions, recalls, thresholds = precision_recall_curve(y_true.ravel(), y_prob.ravel())\n",
        "\n",
        "plt.figure(figsize=(7, 7))\n",
        "plt.plot(thresholds, precisions[:-1], \"r--\", label=\"Precision\")\n",
        "plt.plot(thresholds, recalls[:-1], \"b-\", label=\"Recall\")\n",
        "plt.ylabel(\"Performance\")\n",
        "plt.xlabel(\"Threshold\")\n",
        "plt.legend(loc=\"best\")\n",
        "plt.show()"
      ]
    },
    {
      "cell_type": "code",
      "execution_count": 127,
      "metadata": {
        "id": "2n4bflSNGd7m",
        "colab": {
          "base_uri": "https://localhost:8080/"
        },
        "outputId": "22d4e305-10d5-433e-8a8e-87bdb53770f9"
      },
      "outputs": [
        {
          "output_type": "stream",
          "name": "stdout",
          "text": [
            "1.3228687\n"
          ]
        }
      ],
      "source": [
        "# Best threshold for f1\n",
        "threshold = find_best_threshold(y_true.ravel(), y_prob.ravel())\n",
        "print(threshold)"
      ]
    },
    {
      "cell_type": "code",
      "execution_count": 128,
      "metadata": {
        "id": "jjxwegSzGgCR"
      },
      "outputs": [],
      "source": [
        "y_true = np.array([y.numpy() for x, y in iter(transformer_test_dataset.unbatch())])\n",
        "transformer_test_x = transformer_test_dataset.map(lambda x, y: x)\n",
        "y_prob = transformer_model.predict(transformer_test_x)['logits']\n",
        "\n",
        "# Determine predictions using threshold\n",
        "y_pred = np.array([np.where(prob >= threshold, 1, 0) for prob in y_prob])"
      ]
    },
    {
      "cell_type": "code",
      "execution_count": 129,
      "metadata": {
        "id": "wlVbjEoaGhsV",
        "colab": {
          "base_uri": "https://localhost:8080/"
        },
        "outputId": "2e0fca20-6a15-4b2b-fa74-71ce5b03ac24"
      },
      "outputs": [
        {
          "output_type": "stream",
          "name": "stdout",
          "text": [
            "{\n",
            "  \"precision\": 0.42037631913508383,\n",
            "  \"recall\": 0.4977820791999355,\n",
            "  \"f1\": 0.4525951067964899\n",
            "}\n"
          ]
        }
      ],
      "source": [
        "# Evaluate\n",
        "metrics = precision_recall_fscore_support(y_true, y_pred, average=\"weighted\")\n",
        "performance = {\"precision\": metrics[0], \"recall\": metrics[1], \"f1\": metrics[2]}\n",
        "print (json.dumps(performance, indent=2))"
      ]
    },
    {
      "cell_type": "code",
      "execution_count": 130,
      "metadata": {
        "id": "E0-LTX00E983"
      },
      "outputs": [],
      "source": [
        "# Save artifacts\n",
        "transformer_dir = Path(\"transformer\")\n",
        "transformer_dir.mkdir(parents=True, exist_ok=True)\n",
        "\n",
        "# Saving model with the SavedModel format\n",
        "transformer_model.save_pretrained(f\"{transformer_dir}/transformer_model\")\n",
        "\n",
        "# Saving performance metrics\n",
        "with open(Path(transformer_dir, \"performance.json\"), \"w\") as fp:\n",
        "    json.dump(performance, indent=2, sort_keys=False, fp=fp)"
      ]
    },
    {
      "cell_type": "markdown",
      "metadata": {
        "id": "h3xWYz_j8bSP"
      },
      "source": [
        "### Inference"
      ]
    },
    {
      "cell_type": "code",
      "execution_count": 131,
      "metadata": {
        "id": "z5wNIwh0G5U-",
        "colab": {
          "base_uri": "https://localhost:8080/"
        },
        "outputId": "ad6b8a08-c17d-4356-e3e9-fa37af27b031"
      },
      "outputs": [
        {
          "output_type": "stream",
          "name": "stderr",
          "text": [
            "All model checkpoint layers were used when initializing TFRobertaForSequenceClassification.\n",
            "\n",
            "All the layers of TFRobertaForSequenceClassification were initialized from the model checkpoint at transformer/transformer_model.\n",
            "If your task is similar to the task the model of the checkpoint was trained on, you can already use TFRobertaForSequenceClassification for predictions without further training.\n"
          ]
        },
        {
          "output_type": "stream",
          "name": "stdout",
          "text": [
            "Model: \"tf_roberta_for_sequence_classification_3\"\n",
            "_________________________________________________________________\n",
            " Layer (type)                Output Shape              Param #   \n",
            "=================================================================\n",
            " roberta (TFRobertaMainLayer  multiple                 124055040 \n",
            " )                                                               \n",
            "                                                                 \n",
            " classifier (TFRobertaClassi  multiple                 612124    \n",
            " ficationHead)                                                   \n",
            "                                                                 \n",
            "=================================================================\n",
            "Total params: 124,667,164\n",
            "Trainable params: 124,667,164\n",
            "Non-trainable params: 0\n",
            "_________________________________________________________________\n"
          ]
        }
      ],
      "source": [
        "# Load artifacts\n",
        "loaded_transformer_model = TFAutoModelForSequenceClassification.from_pretrained(f\"{transformer_dir}/transformer_model\")\n",
        "loaded_transformer_model.summary()"
      ]
    },
    {
      "cell_type": "code",
      "execution_count": 132,
      "metadata": {
        "id": "XHDCDkKY8ca1"
      },
      "outputs": [],
      "source": [
        "# Dataloader\n",
        "text = [\"I am loving this amazing MLOps tutorial, so much cool content\"]\n",
        "x_text = get_dataset_hf(list(text), _, tokenizer, ordered=True, repeated=False, labeled=False)"
      ]
    },
    {
      "cell_type": "code",
      "execution_count": 133,
      "metadata": {
        "id": "Egv-nNL6ydu_",
        "colab": {
          "base_uri": "https://localhost:8080/"
        },
        "outputId": "c99c3015-ede3-4d79-d496-d8ea20406243"
      },
      "outputs": [
        {
          "output_type": "execute_result",
          "data": {
            "text/plain": [
              "[['admiration', 'joy']]"
            ]
          },
          "metadata": {},
          "execution_count": 133
        }
      ],
      "source": [
        "y_prob = loaded_transformer_model.predict(x_text).logits\n",
        "y_pred = np.array([np.where(prob >= threshold, 1, 0) for prob in y_prob])\n",
        "decode_preds(y_pred)"
      ]
    },
    {
      "cell_type": "markdown",
      "metadata": {
        "id": "JbC3dAJY2wOz"
      },
      "source": [
        "# Tradeoffs\n",
        "\n",
        "We're going to go with the embeddings via CNN approach and optimize it, although the performance is quite worse than the transformers approach, its size and speed are much faster. Later after the MVP or first release version we can switch to the transformers."
      ]
    },
    {
      "cell_type": "code",
      "execution_count": 134,
      "metadata": {
        "id": "-ik2EaFp3d2Y",
        "colab": {
          "base_uri": "https://localhost:8080/"
        },
        "outputId": "da6a591a-24e5-438f-dd46-87ce3b6141ac"
      },
      "outputs": [
        {
          "output_type": "stream",
          "name": "stdout",
          "text": [
            "CNN: f1 = 0.2667923904303416\n",
            "Transformer: f1 = 0.4525951067964899\n"
          ]
        }
      ],
      "source": [
        "# Performance\n",
        "with open(Path(\"cnn\", \"performance.json\"), \"r\") as fp:\n",
        "    cnn_performance = json.load(fp)\n",
        "print (f'CNN: f1 = {cnn_performance[\"f1\"]}')\n",
        "\n",
        "with open(Path(\"transformer\", \"performance.json\"), \"r\") as fp:\n",
        "    transformer_performance = json.load(fp)\n",
        "print (f'Transformer: f1 = {transformer_performance[\"f1\"]}')"
      ]
    },
    {
      "cell_type": "markdown",
      "metadata": {
        "id": "AHymZ6zK3gNi"
      },
      "source": [
        "This was just one run on one split, so you'll want to experiment with k-fold cross validation to properly reach any conclusions about performance. Also make sure you take the time to tune these baselines since their training periods are quite fast. We'll cover optimization in a few lessons, so you can replicate the process here on your own time. We should also benchmark on other important metrics as we iterate, not just precision and recall."
      ]
    },
    {
      "cell_type": "code",
      "execution_count": 135,
      "metadata": {
        "id": "WH4JzbnO3dS2",
        "colab": {
          "base_uri": "https://localhost:8080/"
        },
        "outputId": "d4453775-d9d3-44eb-9d8c-85653d51d4bd"
      },
      "outputs": [
        {
          "output_type": "stream",
          "name": "stdout",
          "text": [
            "CNN: 0.5 MB\n",
            "Transformer: 499.0 MB\n"
          ]
        }
      ],
      "source": [
        "# Size\n",
        "print (f'CNN: {Path(dir, \"cnn_model/saved_model.pb\").stat().st_size/1000000:.1f} MB')\n",
        "print (f'Transformer: {Path(transformer_dir, \"transformer_model/tf_model.h5\").stat().st_size/1000000:.1f} MB')"
      ]
    },
    {
      "cell_type": "markdown",
      "metadata": {
        "id": "u6s7OG4X3knD"
      },
      "source": [
        "We'll consider other tradeoffs such as maintenance overhead, behavioral test performances, etc. as we develop.\n",
        "\n",
        "> Interpretability was not one of requirements but note that we could've tweaked model outputs to deliver it. For example, since we used SAME padding for our CNN, we can use the activation scores to extract influential n-grams."
      ]
    },
    {
      "cell_type": "markdown",
      "metadata": {
        "id": "uDR1MXsZ3E4c"
      },
      "source": [
        "# Resources\n",
        "\n",
        "- [Backing off towards simplicity - why baselines need more love](https://smerity.com/articles/2017/baselines_need_love.html)\n",
        "- [Model Evaluation, Model Selection, and Algorithm Selection in Machine Learning](https://arxiv.org/abs/1811.12808)"
      ]
    }
  ],
  "metadata": {
    "accelerator": "GPU",
    "colab": {
      "collapsed_sections": [],
      "name": "EmoBERT.ipynb",
      "toc_visible": true,
      "provenance": []
    },
    "kernelspec": {
      "display_name": "Python 3",
      "name": "python3"
    },
    "language_info": {
      "name": "python"
    },
    "widgets": {
      "application/vnd.jupyter.widget-state+json": {
        "cc9b9ec71e3b45baa5c0b9c3c0ebf29f": {
          "model_module": "@jupyter-widgets/controls",
          "model_name": "HBoxModel",
          "model_module_version": "1.5.0",
          "state": {
            "_view_name": "HBoxView",
            "_dom_classes": [],
            "_model_name": "HBoxModel",
            "_view_module": "@jupyter-widgets/controls",
            "_model_module_version": "1.5.0",
            "_view_count": null,
            "_view_module_version": "1.5.0",
            "box_style": "",
            "layout": "IPY_MODEL_ca952c2c01cd4479aae6cfa82f69bcd2",
            "_model_module": "@jupyter-widgets/controls",
            "children": [
              "IPY_MODEL_9196c4873eb64e06ba43db9a15b54501",
              "IPY_MODEL_ef4c05c88a024b8088e56a0297281bf7",
              "IPY_MODEL_0e8ef192d539488cab39594398367dfd"
            ]
          }
        },
        "ca952c2c01cd4479aae6cfa82f69bcd2": {
          "model_module": "@jupyter-widgets/base",
          "model_name": "LayoutModel",
          "model_module_version": "1.2.0",
          "state": {
            "_view_name": "LayoutView",
            "grid_template_rows": null,
            "right": null,
            "justify_content": null,
            "_view_module": "@jupyter-widgets/base",
            "overflow": null,
            "_model_module_version": "1.2.0",
            "_view_count": null,
            "flex_flow": null,
            "width": null,
            "min_width": null,
            "border": null,
            "align_items": null,
            "bottom": null,
            "_model_module": "@jupyter-widgets/base",
            "top": null,
            "grid_column": null,
            "overflow_y": null,
            "overflow_x": null,
            "grid_auto_flow": null,
            "grid_area": null,
            "grid_template_columns": null,
            "flex": null,
            "_model_name": "LayoutModel",
            "justify_items": null,
            "grid_row": null,
            "max_height": null,
            "align_content": null,
            "visibility": null,
            "align_self": null,
            "height": null,
            "min_height": null,
            "padding": null,
            "grid_auto_rows": null,
            "grid_gap": null,
            "max_width": null,
            "order": null,
            "_view_module_version": "1.2.0",
            "grid_template_areas": null,
            "object_position": null,
            "object_fit": null,
            "grid_auto_columns": null,
            "margin": null,
            "display": null,
            "left": null
          }
        },
        "9196c4873eb64e06ba43db9a15b54501": {
          "model_module": "@jupyter-widgets/controls",
          "model_name": "HTMLModel",
          "model_module_version": "1.5.0",
          "state": {
            "_view_name": "HTMLView",
            "style": "IPY_MODEL_cd6229911bb7438daada4097b35a1597",
            "_dom_classes": [],
            "description": "",
            "_model_name": "HTMLModel",
            "placeholder": "​",
            "_view_module": "@jupyter-widgets/controls",
            "_model_module_version": "1.5.0",
            "value": "Downloading: 100%",
            "_view_count": null,
            "_view_module_version": "1.5.0",
            "description_tooltip": null,
            "_model_module": "@jupyter-widgets/controls",
            "layout": "IPY_MODEL_ef419702ebd943c0a7935c0b1ab446aa"
          }
        },
        "ef4c05c88a024b8088e56a0297281bf7": {
          "model_module": "@jupyter-widgets/controls",
          "model_name": "FloatProgressModel",
          "model_module_version": "1.5.0",
          "state": {
            "_view_name": "ProgressView",
            "style": "IPY_MODEL_8b6aedd0f4604e9fa1918652bb099f61",
            "_dom_classes": [],
            "description": "",
            "_model_name": "FloatProgressModel",
            "bar_style": "success",
            "max": 25,
            "_view_module": "@jupyter-widgets/controls",
            "_model_module_version": "1.5.0",
            "value": 25,
            "_view_count": null,
            "_view_module_version": "1.5.0",
            "orientation": "horizontal",
            "min": 0,
            "description_tooltip": null,
            "_model_module": "@jupyter-widgets/controls",
            "layout": "IPY_MODEL_92959f9d0303491ca130bd0dd9f10f23"
          }
        },
        "0e8ef192d539488cab39594398367dfd": {
          "model_module": "@jupyter-widgets/controls",
          "model_name": "HTMLModel",
          "model_module_version": "1.5.0",
          "state": {
            "_view_name": "HTMLView",
            "style": "IPY_MODEL_792842f7e4a841ec8189f0005bccdab9",
            "_dom_classes": [],
            "description": "",
            "_model_name": "HTMLModel",
            "placeholder": "​",
            "_view_module": "@jupyter-widgets/controls",
            "_model_module_version": "1.5.0",
            "value": " 25.0/25.0 [00:00&lt;00:00, 581B/s]",
            "_view_count": null,
            "_view_module_version": "1.5.0",
            "description_tooltip": null,
            "_model_module": "@jupyter-widgets/controls",
            "layout": "IPY_MODEL_ec5512b803354f64acb825d8872c991f"
          }
        },
        "cd6229911bb7438daada4097b35a1597": {
          "model_module": "@jupyter-widgets/controls",
          "model_name": "DescriptionStyleModel",
          "model_module_version": "1.5.0",
          "state": {
            "_view_name": "StyleView",
            "_model_name": "DescriptionStyleModel",
            "description_width": "",
            "_view_module": "@jupyter-widgets/base",
            "_model_module_version": "1.5.0",
            "_view_count": null,
            "_view_module_version": "1.2.0",
            "_model_module": "@jupyter-widgets/controls"
          }
        },
        "ef419702ebd943c0a7935c0b1ab446aa": {
          "model_module": "@jupyter-widgets/base",
          "model_name": "LayoutModel",
          "model_module_version": "1.2.0",
          "state": {
            "_view_name": "LayoutView",
            "grid_template_rows": null,
            "right": null,
            "justify_content": null,
            "_view_module": "@jupyter-widgets/base",
            "overflow": null,
            "_model_module_version": "1.2.0",
            "_view_count": null,
            "flex_flow": null,
            "width": null,
            "min_width": null,
            "border": null,
            "align_items": null,
            "bottom": null,
            "_model_module": "@jupyter-widgets/base",
            "top": null,
            "grid_column": null,
            "overflow_y": null,
            "overflow_x": null,
            "grid_auto_flow": null,
            "grid_area": null,
            "grid_template_columns": null,
            "flex": null,
            "_model_name": "LayoutModel",
            "justify_items": null,
            "grid_row": null,
            "max_height": null,
            "align_content": null,
            "visibility": null,
            "align_self": null,
            "height": null,
            "min_height": null,
            "padding": null,
            "grid_auto_rows": null,
            "grid_gap": null,
            "max_width": null,
            "order": null,
            "_view_module_version": "1.2.0",
            "grid_template_areas": null,
            "object_position": null,
            "object_fit": null,
            "grid_auto_columns": null,
            "margin": null,
            "display": null,
            "left": null
          }
        },
        "8b6aedd0f4604e9fa1918652bb099f61": {
          "model_module": "@jupyter-widgets/controls",
          "model_name": "ProgressStyleModel",
          "model_module_version": "1.5.0",
          "state": {
            "_view_name": "StyleView",
            "_model_name": "ProgressStyleModel",
            "description_width": "",
            "_view_module": "@jupyter-widgets/base",
            "_model_module_version": "1.5.0",
            "_view_count": null,
            "_view_module_version": "1.2.0",
            "bar_color": null,
            "_model_module": "@jupyter-widgets/controls"
          }
        },
        "92959f9d0303491ca130bd0dd9f10f23": {
          "model_module": "@jupyter-widgets/base",
          "model_name": "LayoutModel",
          "model_module_version": "1.2.0",
          "state": {
            "_view_name": "LayoutView",
            "grid_template_rows": null,
            "right": null,
            "justify_content": null,
            "_view_module": "@jupyter-widgets/base",
            "overflow": null,
            "_model_module_version": "1.2.0",
            "_view_count": null,
            "flex_flow": null,
            "width": null,
            "min_width": null,
            "border": null,
            "align_items": null,
            "bottom": null,
            "_model_module": "@jupyter-widgets/base",
            "top": null,
            "grid_column": null,
            "overflow_y": null,
            "overflow_x": null,
            "grid_auto_flow": null,
            "grid_area": null,
            "grid_template_columns": null,
            "flex": null,
            "_model_name": "LayoutModel",
            "justify_items": null,
            "grid_row": null,
            "max_height": null,
            "align_content": null,
            "visibility": null,
            "align_self": null,
            "height": null,
            "min_height": null,
            "padding": null,
            "grid_auto_rows": null,
            "grid_gap": null,
            "max_width": null,
            "order": null,
            "_view_module_version": "1.2.0",
            "grid_template_areas": null,
            "object_position": null,
            "object_fit": null,
            "grid_auto_columns": null,
            "margin": null,
            "display": null,
            "left": null
          }
        },
        "792842f7e4a841ec8189f0005bccdab9": {
          "model_module": "@jupyter-widgets/controls",
          "model_name": "DescriptionStyleModel",
          "model_module_version": "1.5.0",
          "state": {
            "_view_name": "StyleView",
            "_model_name": "DescriptionStyleModel",
            "description_width": "",
            "_view_module": "@jupyter-widgets/base",
            "_model_module_version": "1.5.0",
            "_view_count": null,
            "_view_module_version": "1.2.0",
            "_model_module": "@jupyter-widgets/controls"
          }
        },
        "ec5512b803354f64acb825d8872c991f": {
          "model_module": "@jupyter-widgets/base",
          "model_name": "LayoutModel",
          "model_module_version": "1.2.0",
          "state": {
            "_view_name": "LayoutView",
            "grid_template_rows": null,
            "right": null,
            "justify_content": null,
            "_view_module": "@jupyter-widgets/base",
            "overflow": null,
            "_model_module_version": "1.2.0",
            "_view_count": null,
            "flex_flow": null,
            "width": null,
            "min_width": null,
            "border": null,
            "align_items": null,
            "bottom": null,
            "_model_module": "@jupyter-widgets/base",
            "top": null,
            "grid_column": null,
            "overflow_y": null,
            "overflow_x": null,
            "grid_auto_flow": null,
            "grid_area": null,
            "grid_template_columns": null,
            "flex": null,
            "_model_name": "LayoutModel",
            "justify_items": null,
            "grid_row": null,
            "max_height": null,
            "align_content": null,
            "visibility": null,
            "align_self": null,
            "height": null,
            "min_height": null,
            "padding": null,
            "grid_auto_rows": null,
            "grid_gap": null,
            "max_width": null,
            "order": null,
            "_view_module_version": "1.2.0",
            "grid_template_areas": null,
            "object_position": null,
            "object_fit": null,
            "grid_auto_columns": null,
            "margin": null,
            "display": null,
            "left": null
          }
        },
        "f18e637c75cf4b47a12ccea982881282": {
          "model_module": "@jupyter-widgets/controls",
          "model_name": "HBoxModel",
          "model_module_version": "1.5.0",
          "state": {
            "_view_name": "HBoxView",
            "_dom_classes": [],
            "_model_name": "HBoxModel",
            "_view_module": "@jupyter-widgets/controls",
            "_model_module_version": "1.5.0",
            "_view_count": null,
            "_view_module_version": "1.5.0",
            "box_style": "",
            "layout": "IPY_MODEL_9061ff1104c446e2b11f1a28c2f417c1",
            "_model_module": "@jupyter-widgets/controls",
            "children": [
              "IPY_MODEL_f61f5d0e503c49509dff64cf107caad6",
              "IPY_MODEL_d1533c70c3884555ad3aaf3f00227646",
              "IPY_MODEL_d3e317f9565741d39481720cdd48d489"
            ]
          }
        },
        "9061ff1104c446e2b11f1a28c2f417c1": {
          "model_module": "@jupyter-widgets/base",
          "model_name": "LayoutModel",
          "model_module_version": "1.2.0",
          "state": {
            "_view_name": "LayoutView",
            "grid_template_rows": null,
            "right": null,
            "justify_content": null,
            "_view_module": "@jupyter-widgets/base",
            "overflow": null,
            "_model_module_version": "1.2.0",
            "_view_count": null,
            "flex_flow": null,
            "width": null,
            "min_width": null,
            "border": null,
            "align_items": null,
            "bottom": null,
            "_model_module": "@jupyter-widgets/base",
            "top": null,
            "grid_column": null,
            "overflow_y": null,
            "overflow_x": null,
            "grid_auto_flow": null,
            "grid_area": null,
            "grid_template_columns": null,
            "flex": null,
            "_model_name": "LayoutModel",
            "justify_items": null,
            "grid_row": null,
            "max_height": null,
            "align_content": null,
            "visibility": null,
            "align_self": null,
            "height": null,
            "min_height": null,
            "padding": null,
            "grid_auto_rows": null,
            "grid_gap": null,
            "max_width": null,
            "order": null,
            "_view_module_version": "1.2.0",
            "grid_template_areas": null,
            "object_position": null,
            "object_fit": null,
            "grid_auto_columns": null,
            "margin": null,
            "display": null,
            "left": null
          }
        },
        "f61f5d0e503c49509dff64cf107caad6": {
          "model_module": "@jupyter-widgets/controls",
          "model_name": "HTMLModel",
          "model_module_version": "1.5.0",
          "state": {
            "_view_name": "HTMLView",
            "style": "IPY_MODEL_5bb6bc26a0f342fe8e2973c678ac144a",
            "_dom_classes": [],
            "description": "",
            "_model_name": "HTMLModel",
            "placeholder": "​",
            "_view_module": "@jupyter-widgets/controls",
            "_model_module_version": "1.5.0",
            "value": "Downloading: 100%",
            "_view_count": null,
            "_view_module_version": "1.5.0",
            "description_tooltip": null,
            "_model_module": "@jupyter-widgets/controls",
            "layout": "IPY_MODEL_3975f47b5f134abc90da108c73559116"
          }
        },
        "d1533c70c3884555ad3aaf3f00227646": {
          "model_module": "@jupyter-widgets/controls",
          "model_name": "FloatProgressModel",
          "model_module_version": "1.5.0",
          "state": {
            "_view_name": "ProgressView",
            "style": "IPY_MODEL_16feea1767a545e09ce8c7a5f5357ed3",
            "_dom_classes": [],
            "description": "",
            "_model_name": "FloatProgressModel",
            "bar_style": "success",
            "max": 798293,
            "_view_module": "@jupyter-widgets/controls",
            "_model_module_version": "1.5.0",
            "value": 798293,
            "_view_count": null,
            "_view_module_version": "1.5.0",
            "orientation": "horizontal",
            "min": 0,
            "description_tooltip": null,
            "_model_module": "@jupyter-widgets/controls",
            "layout": "IPY_MODEL_ebefa51cfd35432ebd4ceb82bfdc4f7d"
          }
        },
        "d3e317f9565741d39481720cdd48d489": {
          "model_module": "@jupyter-widgets/controls",
          "model_name": "HTMLModel",
          "model_module_version": "1.5.0",
          "state": {
            "_view_name": "HTMLView",
            "style": "IPY_MODEL_d68c515217614f018e01e97fdaa4a5fe",
            "_dom_classes": [],
            "description": "",
            "_model_name": "HTMLModel",
            "placeholder": "​",
            "_view_module": "@jupyter-widgets/controls",
            "_model_module_version": "1.5.0",
            "value": " 780k/780k [00:00&lt;00:00, 3.04MB/s]",
            "_view_count": null,
            "_view_module_version": "1.5.0",
            "description_tooltip": null,
            "_model_module": "@jupyter-widgets/controls",
            "layout": "IPY_MODEL_07e758d9c4974d4baf99261f58a9bff7"
          }
        },
        "5bb6bc26a0f342fe8e2973c678ac144a": {
          "model_module": "@jupyter-widgets/controls",
          "model_name": "DescriptionStyleModel",
          "model_module_version": "1.5.0",
          "state": {
            "_view_name": "StyleView",
            "_model_name": "DescriptionStyleModel",
            "description_width": "",
            "_view_module": "@jupyter-widgets/base",
            "_model_module_version": "1.5.0",
            "_view_count": null,
            "_view_module_version": "1.2.0",
            "_model_module": "@jupyter-widgets/controls"
          }
        },
        "3975f47b5f134abc90da108c73559116": {
          "model_module": "@jupyter-widgets/base",
          "model_name": "LayoutModel",
          "model_module_version": "1.2.0",
          "state": {
            "_view_name": "LayoutView",
            "grid_template_rows": null,
            "right": null,
            "justify_content": null,
            "_view_module": "@jupyter-widgets/base",
            "overflow": null,
            "_model_module_version": "1.2.0",
            "_view_count": null,
            "flex_flow": null,
            "width": null,
            "min_width": null,
            "border": null,
            "align_items": null,
            "bottom": null,
            "_model_module": "@jupyter-widgets/base",
            "top": null,
            "grid_column": null,
            "overflow_y": null,
            "overflow_x": null,
            "grid_auto_flow": null,
            "grid_area": null,
            "grid_template_columns": null,
            "flex": null,
            "_model_name": "LayoutModel",
            "justify_items": null,
            "grid_row": null,
            "max_height": null,
            "align_content": null,
            "visibility": null,
            "align_self": null,
            "height": null,
            "min_height": null,
            "padding": null,
            "grid_auto_rows": null,
            "grid_gap": null,
            "max_width": null,
            "order": null,
            "_view_module_version": "1.2.0",
            "grid_template_areas": null,
            "object_position": null,
            "object_fit": null,
            "grid_auto_columns": null,
            "margin": null,
            "display": null,
            "left": null
          }
        },
        "16feea1767a545e09ce8c7a5f5357ed3": {
          "model_module": "@jupyter-widgets/controls",
          "model_name": "ProgressStyleModel",
          "model_module_version": "1.5.0",
          "state": {
            "_view_name": "StyleView",
            "_model_name": "ProgressStyleModel",
            "description_width": "",
            "_view_module": "@jupyter-widgets/base",
            "_model_module_version": "1.5.0",
            "_view_count": null,
            "_view_module_version": "1.2.0",
            "bar_color": null,
            "_model_module": "@jupyter-widgets/controls"
          }
        },
        "ebefa51cfd35432ebd4ceb82bfdc4f7d": {
          "model_module": "@jupyter-widgets/base",
          "model_name": "LayoutModel",
          "model_module_version": "1.2.0",
          "state": {
            "_view_name": "LayoutView",
            "grid_template_rows": null,
            "right": null,
            "justify_content": null,
            "_view_module": "@jupyter-widgets/base",
            "overflow": null,
            "_model_module_version": "1.2.0",
            "_view_count": null,
            "flex_flow": null,
            "width": null,
            "min_width": null,
            "border": null,
            "align_items": null,
            "bottom": null,
            "_model_module": "@jupyter-widgets/base",
            "top": null,
            "grid_column": null,
            "overflow_y": null,
            "overflow_x": null,
            "grid_auto_flow": null,
            "grid_area": null,
            "grid_template_columns": null,
            "flex": null,
            "_model_name": "LayoutModel",
            "justify_items": null,
            "grid_row": null,
            "max_height": null,
            "align_content": null,
            "visibility": null,
            "align_self": null,
            "height": null,
            "min_height": null,
            "padding": null,
            "grid_auto_rows": null,
            "grid_gap": null,
            "max_width": null,
            "order": null,
            "_view_module_version": "1.2.0",
            "grid_template_areas": null,
            "object_position": null,
            "object_fit": null,
            "grid_auto_columns": null,
            "margin": null,
            "display": null,
            "left": null
          }
        },
        "d68c515217614f018e01e97fdaa4a5fe": {
          "model_module": "@jupyter-widgets/controls",
          "model_name": "DescriptionStyleModel",
          "model_module_version": "1.5.0",
          "state": {
            "_view_name": "StyleView",
            "_model_name": "DescriptionStyleModel",
            "description_width": "",
            "_view_module": "@jupyter-widgets/base",
            "_model_module_version": "1.5.0",
            "_view_count": null,
            "_view_module_version": "1.2.0",
            "_model_module": "@jupyter-widgets/controls"
          }
        },
        "07e758d9c4974d4baf99261f58a9bff7": {
          "model_module": "@jupyter-widgets/base",
          "model_name": "LayoutModel",
          "model_module_version": "1.2.0",
          "state": {
            "_view_name": "LayoutView",
            "grid_template_rows": null,
            "right": null,
            "justify_content": null,
            "_view_module": "@jupyter-widgets/base",
            "overflow": null,
            "_model_module_version": "1.2.0",
            "_view_count": null,
            "flex_flow": null,
            "width": null,
            "min_width": null,
            "border": null,
            "align_items": null,
            "bottom": null,
            "_model_module": "@jupyter-widgets/base",
            "top": null,
            "grid_column": null,
            "overflow_y": null,
            "overflow_x": null,
            "grid_auto_flow": null,
            "grid_area": null,
            "grid_template_columns": null,
            "flex": null,
            "_model_name": "LayoutModel",
            "justify_items": null,
            "grid_row": null,
            "max_height": null,
            "align_content": null,
            "visibility": null,
            "align_self": null,
            "height": null,
            "min_height": null,
            "padding": null,
            "grid_auto_rows": null,
            "grid_gap": null,
            "max_width": null,
            "order": null,
            "_view_module_version": "1.2.0",
            "grid_template_areas": null,
            "object_position": null,
            "object_fit": null,
            "grid_auto_columns": null,
            "margin": null,
            "display": null,
            "left": null
          }
        },
        "4df2232244a34fa68c2e3fce95afe85a": {
          "model_module": "@jupyter-widgets/controls",
          "model_name": "HBoxModel",
          "model_module_version": "1.5.0",
          "state": {
            "_view_name": "HBoxView",
            "_dom_classes": [],
            "_model_name": "HBoxModel",
            "_view_module": "@jupyter-widgets/controls",
            "_model_module_version": "1.5.0",
            "_view_count": null,
            "_view_module_version": "1.5.0",
            "box_style": "",
            "layout": "IPY_MODEL_291a802006dd4c359ad2524ad5d53d50",
            "_model_module": "@jupyter-widgets/controls",
            "children": [
              "IPY_MODEL_dd91acbca65f4a248032b10ca23b49c5",
              "IPY_MODEL_b1edf4d7137d49fdbfea2abc84595775",
              "IPY_MODEL_71884e3380db489399893e6920ca6efa"
            ]
          }
        },
        "291a802006dd4c359ad2524ad5d53d50": {
          "model_module": "@jupyter-widgets/base",
          "model_name": "LayoutModel",
          "model_module_version": "1.2.0",
          "state": {
            "_view_name": "LayoutView",
            "grid_template_rows": null,
            "right": null,
            "justify_content": null,
            "_view_module": "@jupyter-widgets/base",
            "overflow": null,
            "_model_module_version": "1.2.0",
            "_view_count": null,
            "flex_flow": null,
            "width": null,
            "min_width": null,
            "border": null,
            "align_items": null,
            "bottom": null,
            "_model_module": "@jupyter-widgets/base",
            "top": null,
            "grid_column": null,
            "overflow_y": null,
            "overflow_x": null,
            "grid_auto_flow": null,
            "grid_area": null,
            "grid_template_columns": null,
            "flex": null,
            "_model_name": "LayoutModel",
            "justify_items": null,
            "grid_row": null,
            "max_height": null,
            "align_content": null,
            "visibility": null,
            "align_self": null,
            "height": null,
            "min_height": null,
            "padding": null,
            "grid_auto_rows": null,
            "grid_gap": null,
            "max_width": null,
            "order": null,
            "_view_module_version": "1.2.0",
            "grid_template_areas": null,
            "object_position": null,
            "object_fit": null,
            "grid_auto_columns": null,
            "margin": null,
            "display": null,
            "left": null
          }
        },
        "dd91acbca65f4a248032b10ca23b49c5": {
          "model_module": "@jupyter-widgets/controls",
          "model_name": "HTMLModel",
          "model_module_version": "1.5.0",
          "state": {
            "_view_name": "HTMLView",
            "style": "IPY_MODEL_6eea12d2ef6640379de678748798b48d",
            "_dom_classes": [],
            "description": "",
            "_model_name": "HTMLModel",
            "placeholder": "​",
            "_view_module": "@jupyter-widgets/controls",
            "_model_module_version": "1.5.0",
            "value": "Downloading: 100%",
            "_view_count": null,
            "_view_module_version": "1.5.0",
            "description_tooltip": null,
            "_model_module": "@jupyter-widgets/controls",
            "layout": "IPY_MODEL_80d750a31ce64493a4d7451380d8bf83"
          }
        },
        "b1edf4d7137d49fdbfea2abc84595775": {
          "model_module": "@jupyter-widgets/controls",
          "model_name": "FloatProgressModel",
          "model_module_version": "1.5.0",
          "state": {
            "_view_name": "ProgressView",
            "style": "IPY_MODEL_3c6e9c06c92b4e058d8a775c772b97bd",
            "_dom_classes": [],
            "description": "",
            "_model_name": "FloatProgressModel",
            "bar_style": "success",
            "max": 456356,
            "_view_module": "@jupyter-widgets/controls",
            "_model_module_version": "1.5.0",
            "value": 456356,
            "_view_count": null,
            "_view_module_version": "1.5.0",
            "orientation": "horizontal",
            "min": 0,
            "description_tooltip": null,
            "_model_module": "@jupyter-widgets/controls",
            "layout": "IPY_MODEL_d251f67e2f054c6c830c2a2c778e187c"
          }
        },
        "71884e3380db489399893e6920ca6efa": {
          "model_module": "@jupyter-widgets/controls",
          "model_name": "HTMLModel",
          "model_module_version": "1.5.0",
          "state": {
            "_view_name": "HTMLView",
            "style": "IPY_MODEL_43c5971cd9804550bc9acf4e26f8d33d",
            "_dom_classes": [],
            "description": "",
            "_model_name": "HTMLModel",
            "placeholder": "​",
            "_view_module": "@jupyter-widgets/controls",
            "_model_module_version": "1.5.0",
            "value": " 446k/446k [00:00&lt;00:00, 3.01MB/s]",
            "_view_count": null,
            "_view_module_version": "1.5.0",
            "description_tooltip": null,
            "_model_module": "@jupyter-widgets/controls",
            "layout": "IPY_MODEL_98cc67c8ad1a4c49ad284050db2b99a5"
          }
        },
        "6eea12d2ef6640379de678748798b48d": {
          "model_module": "@jupyter-widgets/controls",
          "model_name": "DescriptionStyleModel",
          "model_module_version": "1.5.0",
          "state": {
            "_view_name": "StyleView",
            "_model_name": "DescriptionStyleModel",
            "description_width": "",
            "_view_module": "@jupyter-widgets/base",
            "_model_module_version": "1.5.0",
            "_view_count": null,
            "_view_module_version": "1.2.0",
            "_model_module": "@jupyter-widgets/controls"
          }
        },
        "80d750a31ce64493a4d7451380d8bf83": {
          "model_module": "@jupyter-widgets/base",
          "model_name": "LayoutModel",
          "model_module_version": "1.2.0",
          "state": {
            "_view_name": "LayoutView",
            "grid_template_rows": null,
            "right": null,
            "justify_content": null,
            "_view_module": "@jupyter-widgets/base",
            "overflow": null,
            "_model_module_version": "1.2.0",
            "_view_count": null,
            "flex_flow": null,
            "width": null,
            "min_width": null,
            "border": null,
            "align_items": null,
            "bottom": null,
            "_model_module": "@jupyter-widgets/base",
            "top": null,
            "grid_column": null,
            "overflow_y": null,
            "overflow_x": null,
            "grid_auto_flow": null,
            "grid_area": null,
            "grid_template_columns": null,
            "flex": null,
            "_model_name": "LayoutModel",
            "justify_items": null,
            "grid_row": null,
            "max_height": null,
            "align_content": null,
            "visibility": null,
            "align_self": null,
            "height": null,
            "min_height": null,
            "padding": null,
            "grid_auto_rows": null,
            "grid_gap": null,
            "max_width": null,
            "order": null,
            "_view_module_version": "1.2.0",
            "grid_template_areas": null,
            "object_position": null,
            "object_fit": null,
            "grid_auto_columns": null,
            "margin": null,
            "display": null,
            "left": null
          }
        },
        "3c6e9c06c92b4e058d8a775c772b97bd": {
          "model_module": "@jupyter-widgets/controls",
          "model_name": "ProgressStyleModel",
          "model_module_version": "1.5.0",
          "state": {
            "_view_name": "StyleView",
            "_model_name": "ProgressStyleModel",
            "description_width": "",
            "_view_module": "@jupyter-widgets/base",
            "_model_module_version": "1.5.0",
            "_view_count": null,
            "_view_module_version": "1.2.0",
            "bar_color": null,
            "_model_module": "@jupyter-widgets/controls"
          }
        },
        "d251f67e2f054c6c830c2a2c778e187c": {
          "model_module": "@jupyter-widgets/base",
          "model_name": "LayoutModel",
          "model_module_version": "1.2.0",
          "state": {
            "_view_name": "LayoutView",
            "grid_template_rows": null,
            "right": null,
            "justify_content": null,
            "_view_module": "@jupyter-widgets/base",
            "overflow": null,
            "_model_module_version": "1.2.0",
            "_view_count": null,
            "flex_flow": null,
            "width": null,
            "min_width": null,
            "border": null,
            "align_items": null,
            "bottom": null,
            "_model_module": "@jupyter-widgets/base",
            "top": null,
            "grid_column": null,
            "overflow_y": null,
            "overflow_x": null,
            "grid_auto_flow": null,
            "grid_area": null,
            "grid_template_columns": null,
            "flex": null,
            "_model_name": "LayoutModel",
            "justify_items": null,
            "grid_row": null,
            "max_height": null,
            "align_content": null,
            "visibility": null,
            "align_self": null,
            "height": null,
            "min_height": null,
            "padding": null,
            "grid_auto_rows": null,
            "grid_gap": null,
            "max_width": null,
            "order": null,
            "_view_module_version": "1.2.0",
            "grid_template_areas": null,
            "object_position": null,
            "object_fit": null,
            "grid_auto_columns": null,
            "margin": null,
            "display": null,
            "left": null
          }
        },
        "43c5971cd9804550bc9acf4e26f8d33d": {
          "model_module": "@jupyter-widgets/controls",
          "model_name": "DescriptionStyleModel",
          "model_module_version": "1.5.0",
          "state": {
            "_view_name": "StyleView",
            "_model_name": "DescriptionStyleModel",
            "description_width": "",
            "_view_module": "@jupyter-widgets/base",
            "_model_module_version": "1.5.0",
            "_view_count": null,
            "_view_module_version": "1.2.0",
            "_model_module": "@jupyter-widgets/controls"
          }
        },
        "98cc67c8ad1a4c49ad284050db2b99a5": {
          "model_module": "@jupyter-widgets/base",
          "model_name": "LayoutModel",
          "model_module_version": "1.2.0",
          "state": {
            "_view_name": "LayoutView",
            "grid_template_rows": null,
            "right": null,
            "justify_content": null,
            "_view_module": "@jupyter-widgets/base",
            "overflow": null,
            "_model_module_version": "1.2.0",
            "_view_count": null,
            "flex_flow": null,
            "width": null,
            "min_width": null,
            "border": null,
            "align_items": null,
            "bottom": null,
            "_model_module": "@jupyter-widgets/base",
            "top": null,
            "grid_column": null,
            "overflow_y": null,
            "overflow_x": null,
            "grid_auto_flow": null,
            "grid_area": null,
            "grid_template_columns": null,
            "flex": null,
            "_model_name": "LayoutModel",
            "justify_items": null,
            "grid_row": null,
            "max_height": null,
            "align_content": null,
            "visibility": null,
            "align_self": null,
            "height": null,
            "min_height": null,
            "padding": null,
            "grid_auto_rows": null,
            "grid_gap": null,
            "max_width": null,
            "order": null,
            "_view_module_version": "1.2.0",
            "grid_template_areas": null,
            "object_position": null,
            "object_fit": null,
            "grid_auto_columns": null,
            "margin": null,
            "display": null,
            "left": null
          }
        },
        "f33a989ec7f74a24ab7fc1779f554ff2": {
          "model_module": "@jupyter-widgets/controls",
          "model_name": "HBoxModel",
          "model_module_version": "1.5.0",
          "state": {
            "_view_name": "HBoxView",
            "_dom_classes": [],
            "_model_name": "HBoxModel",
            "_view_module": "@jupyter-widgets/controls",
            "_model_module_version": "1.5.0",
            "_view_count": null,
            "_view_module_version": "1.5.0",
            "box_style": "",
            "layout": "IPY_MODEL_de18e05ea72c445fb156e5a5828aeff4",
            "_model_module": "@jupyter-widgets/controls",
            "children": [
              "IPY_MODEL_29caa4cfa04446fca4cfdd7659c63647",
              "IPY_MODEL_4128ace60f8e4d39bf867df4dce30b3c",
              "IPY_MODEL_0675393e3b2b45ce9a219e087fc99919"
            ]
          }
        },
        "de18e05ea72c445fb156e5a5828aeff4": {
          "model_module": "@jupyter-widgets/base",
          "model_name": "LayoutModel",
          "model_module_version": "1.2.0",
          "state": {
            "_view_name": "LayoutView",
            "grid_template_rows": null,
            "right": null,
            "justify_content": null,
            "_view_module": "@jupyter-widgets/base",
            "overflow": null,
            "_model_module_version": "1.2.0",
            "_view_count": null,
            "flex_flow": null,
            "width": null,
            "min_width": null,
            "border": null,
            "align_items": null,
            "bottom": null,
            "_model_module": "@jupyter-widgets/base",
            "top": null,
            "grid_column": null,
            "overflow_y": null,
            "overflow_x": null,
            "grid_auto_flow": null,
            "grid_area": null,
            "grid_template_columns": null,
            "flex": null,
            "_model_name": "LayoutModel",
            "justify_items": null,
            "grid_row": null,
            "max_height": null,
            "align_content": null,
            "visibility": null,
            "align_self": null,
            "height": null,
            "min_height": null,
            "padding": null,
            "grid_auto_rows": null,
            "grid_gap": null,
            "max_width": null,
            "order": null,
            "_view_module_version": "1.2.0",
            "grid_template_areas": null,
            "object_position": null,
            "object_fit": null,
            "grid_auto_columns": null,
            "margin": null,
            "display": null,
            "left": null
          }
        },
        "29caa4cfa04446fca4cfdd7659c63647": {
          "model_module": "@jupyter-widgets/controls",
          "model_name": "HTMLModel",
          "model_module_version": "1.5.0",
          "state": {
            "_view_name": "HTMLView",
            "style": "IPY_MODEL_c5c1d6f74d364906a77fb1f679e4ed85",
            "_dom_classes": [],
            "description": "",
            "_model_name": "HTMLModel",
            "placeholder": "​",
            "_view_module": "@jupyter-widgets/controls",
            "_model_module_version": "1.5.0",
            "value": "Downloading: 100%",
            "_view_count": null,
            "_view_module_version": "1.5.0",
            "description_tooltip": null,
            "_model_module": "@jupyter-widgets/controls",
            "layout": "IPY_MODEL_caf260c9a68e41dab49e05f4f39e26e9"
          }
        },
        "4128ace60f8e4d39bf867df4dce30b3c": {
          "model_module": "@jupyter-widgets/controls",
          "model_name": "FloatProgressModel",
          "model_module_version": "1.5.0",
          "state": {
            "_view_name": "ProgressView",
            "style": "IPY_MODEL_4c371f1311634bb58f42e64f51230120",
            "_dom_classes": [],
            "description": "",
            "_model_name": "FloatProgressModel",
            "bar_style": "success",
            "max": 239,
            "_view_module": "@jupyter-widgets/controls",
            "_model_module_version": "1.5.0",
            "value": 239,
            "_view_count": null,
            "_view_module_version": "1.5.0",
            "orientation": "horizontal",
            "min": 0,
            "description_tooltip": null,
            "_model_module": "@jupyter-widgets/controls",
            "layout": "IPY_MODEL_ce31325d21d94f65b816b3aa7113766f"
          }
        },
        "0675393e3b2b45ce9a219e087fc99919": {
          "model_module": "@jupyter-widgets/controls",
          "model_name": "HTMLModel",
          "model_module_version": "1.5.0",
          "state": {
            "_view_name": "HTMLView",
            "style": "IPY_MODEL_1b5bfab98b7942109c36ffdbf71b5e61",
            "_dom_classes": [],
            "description": "",
            "_model_name": "HTMLModel",
            "placeholder": "​",
            "_view_module": "@jupyter-widgets/controls",
            "_model_module_version": "1.5.0",
            "value": " 239/239 [00:00&lt;00:00, 9.64kB/s]",
            "_view_count": null,
            "_view_module_version": "1.5.0",
            "description_tooltip": null,
            "_model_module": "@jupyter-widgets/controls",
            "layout": "IPY_MODEL_17f3a2bba3934785bded822fe9b7943b"
          }
        },
        "c5c1d6f74d364906a77fb1f679e4ed85": {
          "model_module": "@jupyter-widgets/controls",
          "model_name": "DescriptionStyleModel",
          "model_module_version": "1.5.0",
          "state": {
            "_view_name": "StyleView",
            "_model_name": "DescriptionStyleModel",
            "description_width": "",
            "_view_module": "@jupyter-widgets/base",
            "_model_module_version": "1.5.0",
            "_view_count": null,
            "_view_module_version": "1.2.0",
            "_model_module": "@jupyter-widgets/controls"
          }
        },
        "caf260c9a68e41dab49e05f4f39e26e9": {
          "model_module": "@jupyter-widgets/base",
          "model_name": "LayoutModel",
          "model_module_version": "1.2.0",
          "state": {
            "_view_name": "LayoutView",
            "grid_template_rows": null,
            "right": null,
            "justify_content": null,
            "_view_module": "@jupyter-widgets/base",
            "overflow": null,
            "_model_module_version": "1.2.0",
            "_view_count": null,
            "flex_flow": null,
            "width": null,
            "min_width": null,
            "border": null,
            "align_items": null,
            "bottom": null,
            "_model_module": "@jupyter-widgets/base",
            "top": null,
            "grid_column": null,
            "overflow_y": null,
            "overflow_x": null,
            "grid_auto_flow": null,
            "grid_area": null,
            "grid_template_columns": null,
            "flex": null,
            "_model_name": "LayoutModel",
            "justify_items": null,
            "grid_row": null,
            "max_height": null,
            "align_content": null,
            "visibility": null,
            "align_self": null,
            "height": null,
            "min_height": null,
            "padding": null,
            "grid_auto_rows": null,
            "grid_gap": null,
            "max_width": null,
            "order": null,
            "_view_module_version": "1.2.0",
            "grid_template_areas": null,
            "object_position": null,
            "object_fit": null,
            "grid_auto_columns": null,
            "margin": null,
            "display": null,
            "left": null
          }
        },
        "4c371f1311634bb58f42e64f51230120": {
          "model_module": "@jupyter-widgets/controls",
          "model_name": "ProgressStyleModel",
          "model_module_version": "1.5.0",
          "state": {
            "_view_name": "StyleView",
            "_model_name": "ProgressStyleModel",
            "description_width": "",
            "_view_module": "@jupyter-widgets/base",
            "_model_module_version": "1.5.0",
            "_view_count": null,
            "_view_module_version": "1.2.0",
            "bar_color": null,
            "_model_module": "@jupyter-widgets/controls"
          }
        },
        "ce31325d21d94f65b816b3aa7113766f": {
          "model_module": "@jupyter-widgets/base",
          "model_name": "LayoutModel",
          "model_module_version": "1.2.0",
          "state": {
            "_view_name": "LayoutView",
            "grid_template_rows": null,
            "right": null,
            "justify_content": null,
            "_view_module": "@jupyter-widgets/base",
            "overflow": null,
            "_model_module_version": "1.2.0",
            "_view_count": null,
            "flex_flow": null,
            "width": null,
            "min_width": null,
            "border": null,
            "align_items": null,
            "bottom": null,
            "_model_module": "@jupyter-widgets/base",
            "top": null,
            "grid_column": null,
            "overflow_y": null,
            "overflow_x": null,
            "grid_auto_flow": null,
            "grid_area": null,
            "grid_template_columns": null,
            "flex": null,
            "_model_name": "LayoutModel",
            "justify_items": null,
            "grid_row": null,
            "max_height": null,
            "align_content": null,
            "visibility": null,
            "align_self": null,
            "height": null,
            "min_height": null,
            "padding": null,
            "grid_auto_rows": null,
            "grid_gap": null,
            "max_width": null,
            "order": null,
            "_view_module_version": "1.2.0",
            "grid_template_areas": null,
            "object_position": null,
            "object_fit": null,
            "grid_auto_columns": null,
            "margin": null,
            "display": null,
            "left": null
          }
        },
        "1b5bfab98b7942109c36ffdbf71b5e61": {
          "model_module": "@jupyter-widgets/controls",
          "model_name": "DescriptionStyleModel",
          "model_module_version": "1.5.0",
          "state": {
            "_view_name": "StyleView",
            "_model_name": "DescriptionStyleModel",
            "description_width": "",
            "_view_module": "@jupyter-widgets/base",
            "_model_module_version": "1.5.0",
            "_view_count": null,
            "_view_module_version": "1.2.0",
            "_model_module": "@jupyter-widgets/controls"
          }
        },
        "17f3a2bba3934785bded822fe9b7943b": {
          "model_module": "@jupyter-widgets/base",
          "model_name": "LayoutModel",
          "model_module_version": "1.2.0",
          "state": {
            "_view_name": "LayoutView",
            "grid_template_rows": null,
            "right": null,
            "justify_content": null,
            "_view_module": "@jupyter-widgets/base",
            "overflow": null,
            "_model_module_version": "1.2.0",
            "_view_count": null,
            "flex_flow": null,
            "width": null,
            "min_width": null,
            "border": null,
            "align_items": null,
            "bottom": null,
            "_model_module": "@jupyter-widgets/base",
            "top": null,
            "grid_column": null,
            "overflow_y": null,
            "overflow_x": null,
            "grid_auto_flow": null,
            "grid_area": null,
            "grid_template_columns": null,
            "flex": null,
            "_model_name": "LayoutModel",
            "justify_items": null,
            "grid_row": null,
            "max_height": null,
            "align_content": null,
            "visibility": null,
            "align_self": null,
            "height": null,
            "min_height": null,
            "padding": null,
            "grid_auto_rows": null,
            "grid_gap": null,
            "max_width": null,
            "order": null,
            "_view_module_version": "1.2.0",
            "grid_template_areas": null,
            "object_position": null,
            "object_fit": null,
            "grid_auto_columns": null,
            "margin": null,
            "display": null,
            "left": null
          }
        },
        "e0c9c57d44f64fa3a1229d4af5c57e9f": {
          "model_module": "@jupyter-widgets/controls",
          "model_name": "HBoxModel",
          "model_module_version": "1.5.0",
          "state": {
            "_view_name": "HBoxView",
            "_dom_classes": [],
            "_model_name": "HBoxModel",
            "_view_module": "@jupyter-widgets/controls",
            "_model_module_version": "1.5.0",
            "_view_count": null,
            "_view_module_version": "1.5.0",
            "box_style": "",
            "layout": "IPY_MODEL_9f812236a2ed44c6b7014368c07f2599",
            "_model_module": "@jupyter-widgets/controls",
            "children": [
              "IPY_MODEL_6c3d55653be646508dc33cb04d6dbe21",
              "IPY_MODEL_9009e87861864262becb4233f3009a6f",
              "IPY_MODEL_c1fef16d217d4dae95e0b722496b6bf3"
            ]
          }
        },
        "9f812236a2ed44c6b7014368c07f2599": {
          "model_module": "@jupyter-widgets/base",
          "model_name": "LayoutModel",
          "model_module_version": "1.2.0",
          "state": {
            "_view_name": "LayoutView",
            "grid_template_rows": null,
            "right": null,
            "justify_content": null,
            "_view_module": "@jupyter-widgets/base",
            "overflow": null,
            "_model_module_version": "1.2.0",
            "_view_count": null,
            "flex_flow": null,
            "width": null,
            "min_width": null,
            "border": null,
            "align_items": null,
            "bottom": null,
            "_model_module": "@jupyter-widgets/base",
            "top": null,
            "grid_column": null,
            "overflow_y": null,
            "overflow_x": null,
            "grid_auto_flow": null,
            "grid_area": null,
            "grid_template_columns": null,
            "flex": null,
            "_model_name": "LayoutModel",
            "justify_items": null,
            "grid_row": null,
            "max_height": null,
            "align_content": null,
            "visibility": null,
            "align_self": null,
            "height": null,
            "min_height": null,
            "padding": null,
            "grid_auto_rows": null,
            "grid_gap": null,
            "max_width": null,
            "order": null,
            "_view_module_version": "1.2.0",
            "grid_template_areas": null,
            "object_position": null,
            "object_fit": null,
            "grid_auto_columns": null,
            "margin": null,
            "display": null,
            "left": null
          }
        },
        "6c3d55653be646508dc33cb04d6dbe21": {
          "model_module": "@jupyter-widgets/controls",
          "model_name": "HTMLModel",
          "model_module_version": "1.5.0",
          "state": {
            "_view_name": "HTMLView",
            "style": "IPY_MODEL_dcf61fad80ad43bcad4b29c016e9351a",
            "_dom_classes": [],
            "description": "",
            "_model_name": "HTMLModel",
            "placeholder": "​",
            "_view_module": "@jupyter-widgets/controls",
            "_model_module_version": "1.5.0",
            "value": "Downloading: 100%",
            "_view_count": null,
            "_view_module_version": "1.5.0",
            "description_tooltip": null,
            "_model_module": "@jupyter-widgets/controls",
            "layout": "IPY_MODEL_c3d18778dd394bfe814d33890ae51e98"
          }
        },
        "9009e87861864262becb4233f3009a6f": {
          "model_module": "@jupyter-widgets/controls",
          "model_name": "FloatProgressModel",
          "model_module_version": "1.5.0",
          "state": {
            "_view_name": "ProgressView",
            "style": "IPY_MODEL_f6e512f87d2448dc82165c5fe63dd638",
            "_dom_classes": [],
            "description": "",
            "_model_name": "FloatProgressModel",
            "bar_style": "success",
            "max": 1720,
            "_view_module": "@jupyter-widgets/controls",
            "_model_module_version": "1.5.0",
            "value": 1720,
            "_view_count": null,
            "_view_module_version": "1.5.0",
            "orientation": "horizontal",
            "min": 0,
            "description_tooltip": null,
            "_model_module": "@jupyter-widgets/controls",
            "layout": "IPY_MODEL_49852b89a9794b2aa46df96330a4fc1f"
          }
        },
        "c1fef16d217d4dae95e0b722496b6bf3": {
          "model_module": "@jupyter-widgets/controls",
          "model_name": "HTMLModel",
          "model_module_version": "1.5.0",
          "state": {
            "_view_name": "HTMLView",
            "style": "IPY_MODEL_e251ca83f260475598ef59b4bd3f917f",
            "_dom_classes": [],
            "description": "",
            "_model_name": "HTMLModel",
            "placeholder": "​",
            "_view_module": "@jupyter-widgets/controls",
            "_model_module_version": "1.5.0",
            "value": " 1.68k/1.68k [00:00&lt;00:00, 46.9kB/s]",
            "_view_count": null,
            "_view_module_version": "1.5.0",
            "description_tooltip": null,
            "_model_module": "@jupyter-widgets/controls",
            "layout": "IPY_MODEL_b035ff7528a04a748f36e62ea1274ff9"
          }
        },
        "dcf61fad80ad43bcad4b29c016e9351a": {
          "model_module": "@jupyter-widgets/controls",
          "model_name": "DescriptionStyleModel",
          "model_module_version": "1.5.0",
          "state": {
            "_view_name": "StyleView",
            "_model_name": "DescriptionStyleModel",
            "description_width": "",
            "_view_module": "@jupyter-widgets/base",
            "_model_module_version": "1.5.0",
            "_view_count": null,
            "_view_module_version": "1.2.0",
            "_model_module": "@jupyter-widgets/controls"
          }
        },
        "c3d18778dd394bfe814d33890ae51e98": {
          "model_module": "@jupyter-widgets/base",
          "model_name": "LayoutModel",
          "model_module_version": "1.2.0",
          "state": {
            "_view_name": "LayoutView",
            "grid_template_rows": null,
            "right": null,
            "justify_content": null,
            "_view_module": "@jupyter-widgets/base",
            "overflow": null,
            "_model_module_version": "1.2.0",
            "_view_count": null,
            "flex_flow": null,
            "width": null,
            "min_width": null,
            "border": null,
            "align_items": null,
            "bottom": null,
            "_model_module": "@jupyter-widgets/base",
            "top": null,
            "grid_column": null,
            "overflow_y": null,
            "overflow_x": null,
            "grid_auto_flow": null,
            "grid_area": null,
            "grid_template_columns": null,
            "flex": null,
            "_model_name": "LayoutModel",
            "justify_items": null,
            "grid_row": null,
            "max_height": null,
            "align_content": null,
            "visibility": null,
            "align_self": null,
            "height": null,
            "min_height": null,
            "padding": null,
            "grid_auto_rows": null,
            "grid_gap": null,
            "max_width": null,
            "order": null,
            "_view_module_version": "1.2.0",
            "grid_template_areas": null,
            "object_position": null,
            "object_fit": null,
            "grid_auto_columns": null,
            "margin": null,
            "display": null,
            "left": null
          }
        },
        "f6e512f87d2448dc82165c5fe63dd638": {
          "model_module": "@jupyter-widgets/controls",
          "model_name": "ProgressStyleModel",
          "model_module_version": "1.5.0",
          "state": {
            "_view_name": "StyleView",
            "_model_name": "ProgressStyleModel",
            "description_width": "",
            "_view_module": "@jupyter-widgets/base",
            "_model_module_version": "1.5.0",
            "_view_count": null,
            "_view_module_version": "1.2.0",
            "bar_color": null,
            "_model_module": "@jupyter-widgets/controls"
          }
        },
        "49852b89a9794b2aa46df96330a4fc1f": {
          "model_module": "@jupyter-widgets/base",
          "model_name": "LayoutModel",
          "model_module_version": "1.2.0",
          "state": {
            "_view_name": "LayoutView",
            "grid_template_rows": null,
            "right": null,
            "justify_content": null,
            "_view_module": "@jupyter-widgets/base",
            "overflow": null,
            "_model_module_version": "1.2.0",
            "_view_count": null,
            "flex_flow": null,
            "width": null,
            "min_width": null,
            "border": null,
            "align_items": null,
            "bottom": null,
            "_model_module": "@jupyter-widgets/base",
            "top": null,
            "grid_column": null,
            "overflow_y": null,
            "overflow_x": null,
            "grid_auto_flow": null,
            "grid_area": null,
            "grid_template_columns": null,
            "flex": null,
            "_model_name": "LayoutModel",
            "justify_items": null,
            "grid_row": null,
            "max_height": null,
            "align_content": null,
            "visibility": null,
            "align_self": null,
            "height": null,
            "min_height": null,
            "padding": null,
            "grid_auto_rows": null,
            "grid_gap": null,
            "max_width": null,
            "order": null,
            "_view_module_version": "1.2.0",
            "grid_template_areas": null,
            "object_position": null,
            "object_fit": null,
            "grid_auto_columns": null,
            "margin": null,
            "display": null,
            "left": null
          }
        },
        "e251ca83f260475598ef59b4bd3f917f": {
          "model_module": "@jupyter-widgets/controls",
          "model_name": "DescriptionStyleModel",
          "model_module_version": "1.5.0",
          "state": {
            "_view_name": "StyleView",
            "_model_name": "DescriptionStyleModel",
            "description_width": "",
            "_view_module": "@jupyter-widgets/base",
            "_model_module_version": "1.5.0",
            "_view_count": null,
            "_view_module_version": "1.2.0",
            "_model_module": "@jupyter-widgets/controls"
          }
        },
        "b035ff7528a04a748f36e62ea1274ff9": {
          "model_module": "@jupyter-widgets/base",
          "model_name": "LayoutModel",
          "model_module_version": "1.2.0",
          "state": {
            "_view_name": "LayoutView",
            "grid_template_rows": null,
            "right": null,
            "justify_content": null,
            "_view_module": "@jupyter-widgets/base",
            "overflow": null,
            "_model_module_version": "1.2.0",
            "_view_count": null,
            "flex_flow": null,
            "width": null,
            "min_width": null,
            "border": null,
            "align_items": null,
            "bottom": null,
            "_model_module": "@jupyter-widgets/base",
            "top": null,
            "grid_column": null,
            "overflow_y": null,
            "overflow_x": null,
            "grid_auto_flow": null,
            "grid_area": null,
            "grid_template_columns": null,
            "flex": null,
            "_model_name": "LayoutModel",
            "justify_items": null,
            "grid_row": null,
            "max_height": null,
            "align_content": null,
            "visibility": null,
            "align_self": null,
            "height": null,
            "min_height": null,
            "padding": null,
            "grid_auto_rows": null,
            "grid_gap": null,
            "max_width": null,
            "order": null,
            "_view_module_version": "1.2.0",
            "grid_template_areas": null,
            "object_position": null,
            "object_fit": null,
            "grid_auto_columns": null,
            "margin": null,
            "display": null,
            "left": null
          }
        }
      }
    }
  },
  "nbformat": 4,
  "nbformat_minor": 0
}